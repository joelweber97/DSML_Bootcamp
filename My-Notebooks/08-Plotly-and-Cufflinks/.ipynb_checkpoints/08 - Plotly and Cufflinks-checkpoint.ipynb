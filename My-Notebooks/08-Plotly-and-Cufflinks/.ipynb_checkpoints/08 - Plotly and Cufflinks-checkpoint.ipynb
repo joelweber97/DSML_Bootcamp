{
 "cells": [
  {
   "cell_type": "code",
   "execution_count": 5,
   "metadata": {},
   "outputs": [],
   "source": [
    "import plotly\n",
    "import cufflinks as cf\n",
    "import chart_studio.plotly as py\n",
    "import pandas as pd\n",
    "import numpy as np\n",
    "%matplotlib inline\n",
    "from plotly.offline import download_plotlyjs, init_notebook_mode, plot, iplot\n"
   ]
  },
  {
   "cell_type": "code",
   "execution_count": 6,
   "metadata": {},
   "outputs": [
    {
     "data": {
      "text/html": [
       "        <script type=\"text/javascript\">\n",
       "        window.PlotlyConfig = {MathJaxConfig: 'local'};\n",
       "        if (window.MathJax) {MathJax.Hub.Config({SVG: {font: \"STIX-Web\"}});}\n",
       "        if (typeof require !== 'undefined') {\n",
       "        require.undef(\"plotly\");\n",
       "        requirejs.config({\n",
       "            paths: {\n",
       "                'plotly': ['https://cdn.plot.ly/plotly-latest.min']\n",
       "            }\n",
       "        });\n",
       "        require(['plotly'], function(Plotly) {\n",
       "            window._Plotly = Plotly;\n",
       "        });\n",
       "        }\n",
       "        </script>\n",
       "        "
      ]
     },
     "metadata": {},
     "output_type": "display_data"
    }
   ],
   "source": [
    "init_notebook_mode(connected = True)"
   ]
  },
  {
   "cell_type": "code",
   "execution_count": 7,
   "metadata": {},
   "outputs": [
    {
     "data": {
      "text/html": [
       "        <script type=\"text/javascript\">\n",
       "        window.PlotlyConfig = {MathJaxConfig: 'local'};\n",
       "        if (window.MathJax) {MathJax.Hub.Config({SVG: {font: \"STIX-Web\"}});}\n",
       "        if (typeof require !== 'undefined') {\n",
       "        require.undef(\"plotly\");\n",
       "        requirejs.config({\n",
       "            paths: {\n",
       "                'plotly': ['https://cdn.plot.ly/plotly-latest.min']\n",
       "            }\n",
       "        });\n",
       "        require(['plotly'], function(Plotly) {\n",
       "            window._Plotly = Plotly;\n",
       "        });\n",
       "        }\n",
       "        </script>\n",
       "        "
      ]
     },
     "metadata": {},
     "output_type": "display_data"
    }
   ],
   "source": [
    "cf.go_offline()"
   ]
  },
  {
   "cell_type": "code",
   "execution_count": 9,
   "metadata": {},
   "outputs": [
    {
     "data": {
      "text/html": [
       "<div>\n",
       "<style scoped>\n",
       "    .dataframe tbody tr th:only-of-type {\n",
       "        vertical-align: middle;\n",
       "    }\n",
       "\n",
       "    .dataframe tbody tr th {\n",
       "        vertical-align: top;\n",
       "    }\n",
       "\n",
       "    .dataframe thead th {\n",
       "        text-align: right;\n",
       "    }\n",
       "</style>\n",
       "<table border=\"1\" class=\"dataframe\">\n",
       "  <thead>\n",
       "    <tr style=\"text-align: right;\">\n",
       "      <th></th>\n",
       "      <th>A</th>\n",
       "      <th>B</th>\n",
       "      <th>C</th>\n",
       "      <th>D</th>\n",
       "    </tr>\n",
       "  </thead>\n",
       "  <tbody>\n",
       "    <tr>\n",
       "      <th>0</th>\n",
       "      <td>0.632613</td>\n",
       "      <td>0.472875</td>\n",
       "      <td>0.133621</td>\n",
       "      <td>-1.214314</td>\n",
       "    </tr>\n",
       "    <tr>\n",
       "      <th>1</th>\n",
       "      <td>-0.145486</td>\n",
       "      <td>1.493402</td>\n",
       "      <td>-0.499237</td>\n",
       "      <td>0.734155</td>\n",
       "    </tr>\n",
       "    <tr>\n",
       "      <th>2</th>\n",
       "      <td>-0.343939</td>\n",
       "      <td>1.376969</td>\n",
       "      <td>-0.165123</td>\n",
       "      <td>-2.187886</td>\n",
       "    </tr>\n",
       "    <tr>\n",
       "      <th>3</th>\n",
       "      <td>0.351919</td>\n",
       "      <td>-1.082806</td>\n",
       "      <td>-0.129538</td>\n",
       "      <td>1.523497</td>\n",
       "    </tr>\n",
       "    <tr>\n",
       "      <th>4</th>\n",
       "      <td>0.710714</td>\n",
       "      <td>1.415384</td>\n",
       "      <td>-0.078748</td>\n",
       "      <td>-0.879056</td>\n",
       "    </tr>\n",
       "  </tbody>\n",
       "</table>\n",
       "</div>"
      ],
      "text/plain": [
       "          A         B         C         D\n",
       "0  0.632613  0.472875  0.133621 -1.214314\n",
       "1 -0.145486  1.493402 -0.499237  0.734155\n",
       "2 -0.343939  1.376969 -0.165123 -2.187886\n",
       "3  0.351919 -1.082806 -0.129538  1.523497\n",
       "4  0.710714  1.415384 -0.078748 -0.879056"
      ]
     },
     "execution_count": 9,
     "metadata": {},
     "output_type": "execute_result"
    }
   ],
   "source": [
    "#create some data\n",
    "df=pd.DataFrame(np.random.randn(100,4), columns = ['A', 'B', 'C', 'D'])\n",
    "df.head()"
   ]
  },
  {
   "cell_type": "code",
   "execution_count": 10,
   "metadata": {},
   "outputs": [
    {
     "data": {
      "text/html": [
       "<div>\n",
       "<style scoped>\n",
       "    .dataframe tbody tr th:only-of-type {\n",
       "        vertical-align: middle;\n",
       "    }\n",
       "\n",
       "    .dataframe tbody tr th {\n",
       "        vertical-align: top;\n",
       "    }\n",
       "\n",
       "    .dataframe thead th {\n",
       "        text-align: right;\n",
       "    }\n",
       "</style>\n",
       "<table border=\"1\" class=\"dataframe\">\n",
       "  <thead>\n",
       "    <tr style=\"text-align: right;\">\n",
       "      <th></th>\n",
       "      <th>Category</th>\n",
       "      <th>Values</th>\n",
       "    </tr>\n",
       "  </thead>\n",
       "  <tbody>\n",
       "    <tr>\n",
       "      <th>0</th>\n",
       "      <td>A</td>\n",
       "      <td>32</td>\n",
       "    </tr>\n",
       "    <tr>\n",
       "      <th>1</th>\n",
       "      <td>B</td>\n",
       "      <td>43</td>\n",
       "    </tr>\n",
       "    <tr>\n",
       "      <th>2</th>\n",
       "      <td>C</td>\n",
       "      <td>50</td>\n",
       "    </tr>\n",
       "  </tbody>\n",
       "</table>\n",
       "</div>"
      ],
      "text/plain": [
       "  Category  Values\n",
       "0        A      32\n",
       "1        B      43\n",
       "2        C      50"
      ]
     },
     "execution_count": 10,
     "metadata": {},
     "output_type": "execute_result"
    }
   ],
   "source": [
    "df2 = pd.DataFrame({'Category':['A', 'B', 'C'], 'Values':[32,43,50]})\n",
    "df2.head()"
   ]
  },
  {
   "cell_type": "code",
   "execution_count": 12,
   "metadata": {},
   "outputs": [
    {
     "data": {
      "text/plain": [
       "<matplotlib.axes._subplots.AxesSubplot at 0x1e01b2ce5c0>"
      ]
     },
     "execution_count": 12,
     "metadata": {},
     "output_type": "execute_result"
    },
    {
     "data": {
      "image/png": "[encoded data removed]",
      "text/plain": [
       "<Figure size 432x288 with 1 Axes>"
      ]
     },
     "metadata": {
      "needs_background": "light"
     },
     "output_type": "display_data"
    }
   ],
   "source": [
    "df.plot()"
   ]
  },
  {
   "cell_type": "code",
   "execution_count": 13,
   "metadata": {},
   "outputs": [
    {
     "data": {
      "application/vnd.plotly.v1+json": {
       "config": {
        "linkText": "Export to plot.ly",
        "plotlyServerURL": "https://plot.ly",
        "showLink": true
       },
       "data": [
        {
         "line": {
          "color": "rgba(255, 153, 51, 1.0)",
          "dash": "solid",
          "shape": "linear",
          "width": 1.3
         },
         "mode": "lines",
         "name": "A",
         "text": "",
         "type": "scatter",
         "x": [
          0,
          1,
          2,
          3,
          4,
          5,
          6,
          7,
          8,
          9,
          10,
          11,
          12,
          13,
          14,
          15,
          16,
          17,
          18,
          19,
          20,
          21,
          22,
          23,
          24,
          25,
          26,
          27,
          28,
          29,
          30,
          31,
          32,
          33,
          34,
          35,
          36,
          37,
          38,
          39,
          40,
          41,
          42,
          43,
          44,
          45,
          46,
          47,
          48,
          49,
          50,
          51,
          52,
          53,
          54,
          55,
          56,
          57,
          58,
          59,
          60,
          61,
          62,
          63,
          64,
          65,
          66,
          67,
          68,
          69,
          70,
          71,
          72,
          73,
          74,
          75,
          76,
          77,
          78,
          79,
          80,
          81,
          82,
          83,
          84,
          85,
          86,
          87,
          88,
          89,
          90,
          91,
          92,
          93,
          94,
          95,
          96,
          97,
          98,
          99
         ],
         "y": [
          0.6326127038985268,
          -0.14548579553446406,
          -0.34393948885963876,
          0.3519190014943898,
          0.7107141402638056,
          0.054448005118226145,
          0.31478965626513306,
          1.9337649291692833,
          -2.4104902799178225,
          -1.2453604990808071,
          1.098206494038972,
          -0.4728839209634316,
          1.01350221056353,
          -1.2005069730171412,
          2.2182955208107384,
          -0.5776216990016312,
          -1.4108161826851844,
          -0.7196052814859598,
          -0.8521024791986744,
          -2.395667214325212,
          0.6135391862466687,
          -0.5459430342243888,
          -1.5060792667559042,
          0.8667742499584937,
          -1.1701546987241738,
          -0.08603577043546688,
          -1.4225646891991002,
          1.5097413246515126,
          -0.866990537216288,
          0.36179214184957503,
          -0.045414828943426265,
          -1.1565623260261002,
          -0.3142975279995353,
          0.27781931010361094,
          0.13924531458794118,
          0.5592464910210235,
          1.4967131118300432,
          -1.2053072838699337,
          0.9797694054889248,
          -0.8849615612000583,
          -0.3811985872358258,
          1.2480856601545274,
          0.21658187897293008,
          -0.6983120986704753,
          -0.4513805948645634,
          0.5580842538719136,
          1.7496795737545083,
          -0.9879645518593242,
          -0.06721474521065876,
          0.5035528575835836,
          0.6186851606665685,
          0.0653038262993778,
          -2.3426270634798825,
          0.647611947402595,
          0.219685903854224,
          0.9076116925247123,
          0.27528312732947663,
          0.8846370584865045,
          -0.4307631060841758,
          1.6065913463104657,
          -0.3435107836865878,
          -1.2569208272167436,
          1.1982153725983713,
          -0.5624178050751879,
          -1.7559287574848392,
          -0.774560168600139,
          0.49075843422998716,
          0.19013438750868822,
          -0.10736136841934604,
          -0.7563320343420211,
          -0.912488191626346,
          0.47780470406373887,
          0.46123054750740644,
          -1.170008389278726,
          0.8208488063070032,
          2.0708134558500015,
          1.196023145719842,
          1.0866936558250455,
          2.174827703635172,
          0.9464513781289309,
          -0.3847720587664325,
          0.677896901070159,
          0.3789629295966409,
          -0.40453211598778244,
          -1.4214106677209226,
          -2.000151170771465,
          0.03448335811311445,
          -1.0288832751039005,
          -0.7060820996009419,
          -0.3984065438825475,
          1.3183550006020213,
          2.3746996644956346,
          0.17237217908045094,
          -0.5356615988531053,
          -1.8134160233906358,
          0.19096701764943314,
          -0.628185005053714,
          -1.8878773692036663,
          -0.4900468240812979,
          0.48428326873581173
         ]
        },
        {
         "line": {
          "color": "rgba(55, 128, 191, 1.0)",
          "dash": "solid",
          "shape": "linear",
          "width": 1.3
         },
         "mode": "lines",
         "name": "B",
         "text": "",
         "type": "scatter",
         "x": [
          0,
          1,
          2,
          3,
          4,
          5,
          6,
          7,
          8,
          9,
          10,
          11,
          12,
          13,
          14,
          15,
          16,
          17,
          18,
          19,
          20,
          21,
          22,
          23,
          24,
          25,
          26,
          27,
          28,
          29,
          30,
          31,
          32,
          33,
          34,
          35,
          36,
          37,
          38,
          39,
          40,
          41,
          42,
          43,
          44,
          45,
          46,
          47,
          48,
          49,
          50,
          51,
          52,
          53,
          54,
          55,
          56,
          57,
          58,
          59,
          60,
          61,
          62,
          63,
          64,
          65,
          66,
          67,
          68,
          69,
          70,
          71,
          72,
          73,
          74,
          75,
          76,
          77,
          78,
          79,
          80,
          81,
          82,
          83,
          84,
          85,
          86,
          87,
          88,
          89,
          90,
          91,
          92,
          93,
          94,
          95,
          96,
          97,
          98,
          99
         ],
         "y": [
          0.47287525328590935,
          1.4934017303137272,
          1.3769689561121239,
          -1.082806198805133,
          1.415383993887731,
          -0.3630025087659517,
          -1.2350824003044616,
          -0.9575111668958346,
          2.231227192416702,
          -1.6084623988472704,
          0.7913364725124696,
          0.12465098765323646,
          0.10894918249881126,
          0.4188292865253416,
          -0.3759546225061773,
          1.6154242647998716,
          0.007024986301866887,
          0.48872387432220804,
          -0.8369659719094297,
          -0.4903552585235138,
          0.3177430027248012,
          -1.055949329045058,
          0.7360791030638381,
          0.44231956568828446,
          1.379551114438425,
          -0.7040578920221393,
          -1.9764410307063434,
          -0.015693146946839435,
          -1.5263965880053936,
          -1.4117553120848472,
          -0.1577338525083378,
          -0.8517611323488851,
          -1.4980204859517279,
          -0.7702057758987122,
          1.755599357290906,
          1.5094512735227397,
          1.533884269318763,
          -1.1810472462391852,
          0.9382757897220223,
          -0.5151257903588647,
          -0.4392957343101481,
          -1.153578173417106,
          2.4347154417229437,
          0.6034691497870166,
          -0.7231130664783035,
          -0.8297448803780897,
          -1.1631465870895914,
          1.5428997633806876,
          -1.0191242175698105,
          0.8268133547092912,
          0.8083868251389659,
          -0.3854591282744667,
          -0.14082691997477623,
          -0.22909359854768352,
          -1.2365501886677792,
          0.4703021455822461,
          -0.5822269077491736,
          -0.6650515548694265,
          2.1279524291773266,
          0.6061821909283301,
          1.494572989724752,
          0.25232777878631363,
          -0.1231269099302736,
          0.11394495935586213,
          -0.023669955254320904,
          -0.5176659477577575,
          -1.0857603251337256,
          1.737308717738109,
          -1.0436899628847465,
          -0.6879722964306229,
          1.0126343170065157,
          1.2876047306599359,
          0.21953780998443767,
          -1.2162680038144835,
          -1.0502292677821456,
          0.29802020348819896,
          -0.08428480318130187,
          1.1728931965510887,
          0.09332553992905697,
          -1.5339657786541547,
          0.5951725873193169,
          -1.0839064503073481,
          -0.15618747206624964,
          2.670724273386493,
          2.4178549773596645,
          -0.14076461292691836,
          -0.6143424139578396,
          -0.9776404663225262,
          1.0063305123692763,
          -1.273882015570184,
          0.37265711485326986,
          0.37368948059456725,
          0.3574924474090997,
          -0.14176054038778046,
          0.04841555690054582,
          -0.11047329298795354,
          1.346533423863622,
          1.8677528397271093,
          -0.026572813425914166,
          0.4409097288987755
         ]
        },
        {
         "line": {
          "color": "rgba(50, 171, 96, 1.0)",
          "dash": "solid",
          "shape": "linear",
          "width": 1.3
         },
         "mode": "lines",
         "name": "C",
         "text": "",
         "type": "scatter",
         "x": [
          0,
          1,
          2,
          3,
          4,
          5,
          6,
          7,
          8,
          9,
          10,
          11,
          12,
          13,
          14,
          15,
          16,
          17,
          18,
          19,
          20,
          21,
          22,
          23,
          24,
          25,
          26,
          27,
          28,
          29,
          30,
          31,
          32,
          33,
          34,
          35,
          36,
          37,
          38,
          39,
          40,
          41,
          42,
          43,
          44,
          45,
          46,
          47,
          48,
          49,
          50,
          51,
          52,
          53,
          54,
          55,
          56,
          57,
          58,
          59,
          60,
          61,
          62,
          63,
          64,
          65,
          66,
          67,
          68,
          69,
          70,
          71,
          72,
          73,
          74,
          75,
          76,
          77,
          78,
          79,
          80,
          81,
          82,
          83,
          84,
          85,
          86,
          87,
          88,
          89,
          90,
          91,
          92,
          93,
          94,
          95,
          96,
          97,
          98,
          99
         ],
         "y": [
          0.1336209897126937,
          -0.4992371267880662,
          -0.16512310908818667,
          -0.1295384702581782,
          -0.07874797887224155,
          0.07875858094324113,
          0.28811971423413435,
          -2.2079018232129743,
          -1.0146574398707233,
          -0.3814968238916311,
          0.3414756460122754,
          0.408650279460541,
          0.8598922725047933,
          -0.20456262918962018,
          0.4269611660152145,
          0.06053627104709375,
          -0.17112284284919663,
          -0.03278813861822154,
          0.2964757692789343,
          -1.209610713025771,
          1.065900461743466,
          0.48484112110928695,
          -0.16522346354835155,
          0.8342104652569393,
          0.7378533369870373,
          0.7381985329826927,
          0.46270552251841596,
          -0.1290553079442758,
          -1.135822076599649,
          2.5684353595070957,
          -2.1363512996225693,
          0.7803326723102629,
          0.5884926871116007,
          0.2937806281485098,
          -0.3098944958212543,
          1.7843829555701411,
          -2.7607141977076526,
          -0.7830869659191346,
          -0.1122573811119825,
          0.1635382375667902,
          1.1997795798187878,
          -0.5391302273292823,
          1.6138354162384465,
          2.8471656578452813,
          -0.2682656551450211,
          0.2648442673225874,
          -1.128823767002499,
          -0.4791039027939159,
          0.567986191017442,
          -0.3796912825703141,
          0.9249146766825751,
          1.1239087088143331,
          0.5999003321458324,
          -0.658380738103747,
          -0.636079522958394,
          -0.7690187225387971,
          -0.1285569524323624,
          0.42586814414867546,
          1.970619872164675,
          0.2687360684661637,
          -0.6535751187902171,
          -0.41052495675928347,
          0.38656321015609985,
          -0.0329975125153401,
          0.21986643801387779,
          -0.8862105560862736,
          -1.1472581491296907,
          1.6876120880730845,
          0.6739344840810829,
          0.7527058130176251,
          -0.04770321882381908,
          -0.5046901458645002,
          -0.9704135809546783,
          0.6192540593692433,
          -1.5970410896097227,
          1.7424207967184293,
          0.9417272380573213,
          -0.3421442085643456,
          1.3629727213807563,
          0.19608528683183574,
          0.6179829214720435,
          -0.6342908072086635,
          0.16485176829765466,
          0.11259865657129008,
          1.474878606696174,
          -0.6200093152528071,
          1.023883374307354,
          1.2312315215022325,
          0.6837691534450063,
          0.37710794268652054,
          -0.2674498995213668,
          0.7252941939647042,
          -0.7212671495065622,
          -0.6570103158468624,
          1.4713878944189351,
          0.7803245805628188,
          -1.5015408621607405,
          -2.530041751262662,
          2.913959469897591,
          1.1162770114184026
         ]
        },
        {
         "line": {
          "color": "rgba(128, 0, 128, 1.0)",
          "dash": "solid",
          "shape": "linear",
          "width": 1.3
         },
         "mode": "lines",
         "name": "D",
         "text": "",
         "type": "scatter",
         "x": [
          0,
          1,
          2,
          3,
          4,
          5,
          6,
          7,
          8,
          9,
          10,
          11,
          12,
          13,
          14,
          15,
          16,
          17,
          18,
          19,
          20,
          21,
          22,
          23,
          24,
          25,
          26,
          27,
          28,
          29,
          30,
          31,
          32,
          33,
          34,
          35,
          36,
          37,
          38,
          39,
          40,
          41,
          42,
          43,
          44,
          45,
          46,
          47,
          48,
          49,
          50,
          51,
          52,
          53,
          54,
          55,
          56,
          57,
          58,
          59,
          60,
          61,
          62,
          63,
          64,
          65,
          66,
          67,
          68,
          69,
          70,
          71,
          72,
          73,
          74,
          75,
          76,
          77,
          78,
          79,
          80,
          81,
          82,
          83,
          84,
          85,
          86,
          87,
          88,
          89,
          90,
          91,
          92,
          93,
          94,
          95,
          96,
          97,
          98,
          99
         ],
         "y": [
          -1.2143142774051094,
          0.7341549688863328,
          -2.1878860019623114,
          1.523497432194452,
          -0.8790555211989877,
          -0.13506651057964153,
          -0.7681521734240057,
          1.9566987634853001,
          -0.5200154811389064,
          -1.5304730933671777,
          -0.49828564798699326,
          0.6555190761224613,
          2.154278261242067,
          -0.6121998740137635,
          -0.7998663651392912,
          -0.6592866329179047,
          -0.05618872584561294,
          0.21659171674869485,
          -0.7723385025920696,
          -0.7664120512191052,
          -0.04706943950371657,
          -0.4804600175743437,
          0.5477687172501202,
          0.11974272875042269,
          2.0478235234709428,
          0.015801574609873074,
          0.8911940632671225,
          0.14138456809723465,
          0.3751822146140036,
          0.6604816124276893,
          1.133297507272824,
          0.03105811424544611,
          -0.3939010668393583,
          -0.5289250695258874,
          -0.0030741456840287333,
          -0.942428136817906,
          0.7491177760914999,
          -0.7214531918806584,
          1.3257182761338224,
          0.43951512568561735,
          0.06119399446360383,
          1.5578142553938126,
          -1.7714458517215954,
          0.6176215419004208,
          0.8904488135986418,
          0.4319773298830599,
          -1.1975350025652733,
          0.10311510696201422,
          -0.45288522791520414,
          -1.3661216067944606,
          1.9115685665069386,
          -1.9059862517401787,
          -1.5732033902448326,
          0.9175075197051212,
          -0.1750872676091157,
          0.7069954284479054,
          1.6151957774432233,
          1.3123132791091583,
          -0.6070514781704491,
          -0.24024848311517136,
          2.020264416172281,
          0.5372984098235004,
          0.2872075418166681,
          1.0305317214040148,
          -0.031030337080439823,
          1.5736152240788512,
          0.7521392808876696,
          -1.6781286566903064,
          0.5056996327690947,
          -1.2002173110227408,
          -0.035267135484268027,
          2.5627525331980126,
          1.0299169286597165,
          -0.6417056912234721,
          -0.2022261648578561,
          -2.1438334840823114,
          0.714635768571562,
          -0.8747588880778938,
          -0.5215663836892511,
          1.344368978552044,
          -0.43947621697304984,
          0.3163194487806835,
          0.37871829012773384,
          1.2232752732144858,
          0.6203334619816994,
          1.2884684026888376,
          -1.524978471243551,
          -0.11514969237394722,
          0.8485650951801219,
          1.363267079181013,
          0.11956931273787397,
          0.3139763044387687,
          1.3100935940672593,
          0.16354448905637342,
          1.1544048734978776,
          0.167518011825185,
          -0.03485812012422281,
          0.20946433907831946,
          -0.8703639971561202,
          -1.6433341968767228
         ]
        }
       ],
       "layout": {
        "legend": {
         "bgcolor": "#F5F6F9",
         "font": {
          "color": "#4D5663"
         }
        },
        "paper_bgcolor": "#F5F6F9",
        "plot_bgcolor": "#F5F6F9",
        "template": {
         "data": {
          "bar": [
           {
            "error_x": {
             "color": "#2a3f5f"
            },
            "error_y": {
             "color": "#2a3f5f"
            },
            "marker": {
             "line": {
              "color": "#E5ECF6",
              "width": 0.5
             }
            },
            "type": "bar"
           }
          ],
          "barpolar": [
           {
            "marker": {
             "line": {
              "color": "#E5ECF6",
              "width": 0.5
             }
            },
            "type": "barpolar"
           }
          ],
          "carpet": [
           {
            "aaxis": {
             "endlinecolor": "#2a3f5f",
             "gridcolor": "white",
             "linecolor": "white",
             "minorgridcolor": "white",
             "startlinecolor": "#2a3f5f"
            },
            "baxis": {
             "endlinecolor": "#2a3f5f",
             "gridcolor": "white",
             "linecolor": "white",
             "minorgridcolor": "white",
             "startlinecolor": "#2a3f5f"
            },
            "type": "carpet"
           }
          ],
          "choropleth": [
           {
            "colorbar": {
             "outlinewidth": 0,
             "ticks": ""
            },
            "type": "choropleth"
           }
          ],
          "contour": [
           {
            "colorbar": {
             "outlinewidth": 0,
             "ticks": ""
            },
            "colorscale": [
             [
              0,
              "#0d0887"
             ],
             [
              0.1111111111111111,
              "#46039f"
             ],
             [
              0.2222222222222222,
              "#7201a8"
             ],
             [
              0.3333333333333333,
              "#9c179e"
             ],
             [
              0.4444444444444444,
              "#bd3786"
             ],
             [
              0.5555555555555556,
              "#d8576b"
             ],
             [
              0.6666666666666666,
              "#ed7953"
             ],
             [
              0.7777777777777778,
              "#fb9f3a"
             ],
             [
              0.8888888888888888,
              "#fdca26"
             ],
             [
              1,
              "#f0f921"
             ]
            ],
            "type": "contour"
           }
          ],
          "contourcarpet": [
           {
            "colorbar": {
             "outlinewidth": 0,
             "ticks": ""
            },
            "type": "contourcarpet"
           }
          ],
          "heatmap": [
           {
            "colorbar": {
             "outlinewidth": 0,
             "ticks": ""
            },
            "colorscale": [
             [
              0,
              "#0d0887"
             ],
             [
              0.1111111111111111,
              "#46039f"
             ],
             [
              0.2222222222222222,
              "#7201a8"
             ],
             [
              0.3333333333333333,
              "#9c179e"
             ],
             [
              0.4444444444444444,
              "#bd3786"
             ],
             [
              0.5555555555555556,
              "#d8576b"
             ],
             [
              0.6666666666666666,
              "#ed7953"
             ],
             [
              0.7777777777777778,
              "#fb9f3a"
             ],
             [
              0.8888888888888888,
              "#fdca26"
             ],
             [
              1,
              "#f0f921"
             ]
            ],
            "type": "heatmap"
           }
          ],
          "heatmapgl": [
           {
            "colorbar": {
             "outlinewidth": 0,
             "ticks": ""
            },
            "colorscale": [
             [
              0,
              "#0d0887"
             ],
             [
              0.1111111111111111,
              "#46039f"
             ],
             [
              0.2222222222222222,
              "#7201a8"
             ],
             [
              0.3333333333333333,
              "#9c179e"
             ],
             [
              0.4444444444444444,
              "#bd3786"
             ],
             [
              0.5555555555555556,
              "#d8576b"
             ],
             [
              0.6666666666666666,
              "#ed7953"
             ],
             [
              0.7777777777777778,
              "#fb9f3a"
             ],
             [
              0.8888888888888888,
              "#fdca26"
             ],
             [
              1,
              "#f0f921"
             ]
            ],
            "type": "heatmapgl"
           }
          ],
          "histogram": [
           {
            "marker": {
             "colorbar": {
              "outlinewidth": 0,
              "ticks": ""
             }
            },
            "type": "histogram"
           }
          ],
          "histogram2d": [
           {
            "colorbar": {
             "outlinewidth": 0,
             "ticks": ""
            },
            "colorscale": [
             [
              0,
              "#0d0887"
             ],
             [
              0.1111111111111111,
              "#46039f"
             ],
             [
              0.2222222222222222,
              "#7201a8"
             ],
             [
              0.3333333333333333,
              "#9c179e"
             ],
             [
              0.4444444444444444,
              "#bd3786"
             ],
             [
              0.5555555555555556,
              "#d8576b"
             ],
             [
              0.6666666666666666,
              "#ed7953"
             ],
             [
              0.7777777777777778,
              "#fb9f3a"
             ],
             [
              0.8888888888888888,
              "#fdca26"
             ],
             [
              1,
              "#f0f921"
             ]
            ],
            "type": "histogram2d"
           }
          ],
          "histogram2dcontour": [
           {
            "colorbar": {
             "outlinewidth": 0,
             "ticks": ""
            },
            "colorscale": [
             [
              0,
              "#0d0887"
             ],
             [
              0.1111111111111111,
              "#46039f"
             ],
             [
              0.2222222222222222,
              "#7201a8"
             ],
             [
              0.3333333333333333,
              "#9c179e"
             ],
             [
              0.4444444444444444,
              "#bd3786"
             ],
             [
              0.5555555555555556,
              "#d8576b"
             ],
             [
              0.6666666666666666,
              "#ed7953"
             ],
             [
              0.7777777777777778,
              "#fb9f3a"
             ],
             [
              0.8888888888888888,
              "#fdca26"
             ],
             [
              1,
              "#f0f921"
             ]
            ],
            "type": "histogram2dcontour"
           }
          ],
          "mesh3d": [
           {
            "colorbar": {
             "outlinewidth": 0,
             "ticks": ""
            },
            "type": "mesh3d"
           }
          ],
          "parcoords": [
           {
            "line": {
             "colorbar": {
              "outlinewidth": 0,
              "ticks": ""
             }
            },
            "type": "parcoords"
           }
          ],
          "pie": [
           {
            "automargin": true,
            "type": "pie"
           }
          ],
          "scatter": [
           {
            "marker": {
             "colorbar": {
              "outlinewidth": 0,
              "ticks": ""
             }
            },
            "type": "scatter"
           }
          ],
          "scatter3d": [
           {
            "line": {
             "colorbar": {
              "outlinewidth": 0,
              "ticks": ""
             }
            },
            "marker": {
             "colorbar": {
              "outlinewidth": 0,
              "ticks": ""
             }
            },
            "type": "scatter3d"
           }
          ],
          "scattercarpet": [
           {
            "marker": {
             "colorbar": {
              "outlinewidth": 0,
              "ticks": ""
             }
            },
            "type": "scattercarpet"
           }
          ],
          "scattergeo": [
           {
            "marker": {
             "colorbar": {
              "outlinewidth": 0,
              "ticks": ""
             }
            },
            "type": "scattergeo"
           }
          ],
          "scattergl": [
           {
            "marker": {
             "colorbar": {
              "outlinewidth": 0,
              "ticks": ""
             }
            },
            "type": "scattergl"
           }
          ],
          "scattermapbox": [
           {
            "marker": {
             "colorbar": {
              "outlinewidth": 0,
              "ticks": ""
             }
            },
            "type": "scattermapbox"
           }
          ],
          "scatterpolar": [
           {
            "marker": {
             "colorbar": {
              "outlinewidth": 0,
              "ticks": ""
             }
            },
            "type": "scatterpolar"
           }
          ],
          "scatterpolargl": [
           {
            "marker": {
             "colorbar": {
              "outlinewidth": 0,
              "ticks": ""
             }
            },
            "type": "scatterpolargl"
           }
          ],
          "scatterternary": [
           {
            "marker": {
             "colorbar": {
              "outlinewidth": 0,
              "ticks": ""
             }
            },
            "type": "scatterternary"
           }
          ],
          "surface": [
           {
            "colorbar": {
             "outlinewidth": 0,
             "ticks": ""
            },
            "colorscale": [
             [
              0,
              "#0d0887"
             ],
             [
              0.1111111111111111,
              "#46039f"
             ],
             [
              0.2222222222222222,
              "#7201a8"
             ],
             [
              0.3333333333333333,
              "#9c179e"
             ],
             [
              0.4444444444444444,
              "#bd3786"
             ],
             [
              0.5555555555555556,
              "#d8576b"
             ],
             [
              0.6666666666666666,
              "#ed7953"
             ],
             [
              0.7777777777777778,
              "#fb9f3a"
             ],
             [
              0.8888888888888888,
              "#fdca26"
             ],
             [
              1,
              "#f0f921"
             ]
            ],
            "type": "surface"
           }
          ],
          "table": [
           {
            "cells": {
             "fill": {
              "color": "#EBF0F8"
             },
             "line": {
              "color": "white"
             }
            },
            "header": {
             "fill": {
              "color": "#C8D4E3"
             },
             "line": {
              "color": "white"
             }
            },
            "type": "table"
           }
          ]
         },
         "layout": {
          "annotationdefaults": {
           "arrowcolor": "#2a3f5f",
           "arrowhead": 0,
           "arrowwidth": 1
          },
          "coloraxis": {
           "colorbar": {
            "outlinewidth": 0,
            "ticks": ""
           }
          },
          "colorscale": {
           "diverging": [
            [
             0,
             "#8e0152"
            ],
            [
             0.1,
             "#c51b7d"
            ],
            [
             0.2,
             "#de77ae"
            ],
            [
             0.3,
             "#f1b6da"
            ],
            [
             0.4,
             "#fde0ef"
            ],
            [
             0.5,
             "#f7f7f7"
            ],
            [
             0.6,
             "#e6f5d0"
            ],
            [
             0.7,
             "#b8e186"
            ],
            [
             0.8,
             "#7fbc41"
            ],
            [
             0.9,
             "#4d9221"
            ],
            [
             1,
             "#276419"
            ]
           ],
           "sequential": [
            [
             0,
             "#0d0887"
            ],
            [
             0.1111111111111111,
             "#46039f"
            ],
            [
             0.2222222222222222,
             "#7201a8"
            ],
            [
             0.3333333333333333,
             "#9c179e"
            ],
            [
             0.4444444444444444,
             "#bd3786"
            ],
            [
             0.5555555555555556,
             "#d8576b"
            ],
            [
             0.6666666666666666,
             "#ed7953"
            ],
            [
             0.7777777777777778,
             "#fb9f3a"
            ],
            [
             0.8888888888888888,
             "#fdca26"
            ],
            [
             1,
             "#f0f921"
            ]
           ],
           "sequentialminus": [
            [
             0,
             "#0d0887"
            ],
            [
             0.1111111111111111,
             "#46039f"
            ],
            [
             0.2222222222222222,
             "#7201a8"
            ],
            [
             0.3333333333333333,
             "#9c179e"
            ],
            [
             0.4444444444444444,
             "#bd3786"
            ],
            [
             0.5555555555555556,
             "#d8576b"
            ],
            [
             0.6666666666666666,
             "#ed7953"
            ],
            [
             0.7777777777777778,
             "#fb9f3a"
            ],
            [
             0.8888888888888888,
             "#fdca26"
            ],
            [
             1,
             "#f0f921"
            ]
           ]
          },
          "colorway": [
           "#636efa",
           "#EF553B",
           "#00cc96",
           "#ab63fa",
           "#FFA15A",
           "#19d3f3",
           "#FF6692",
           "#B6E880",
           "#FF97FF",
           "#FECB52"
          ],
          "font": {
           "color": "#2a3f5f"
          },
          "geo": {
           "bgcolor": "white",
           "lakecolor": "white",
           "landcolor": "#E5ECF6",
           "showlakes": true,
           "showland": true,
           "subunitcolor": "white"
          },
          "hoverlabel": {
           "align": "left"
          },
          "hovermode": "closest",
          "mapbox": {
           "style": "light"
          },
          "paper_bgcolor": "white",
          "plot_bgcolor": "#E5ECF6",
          "polar": {
           "angularaxis": {
            "gridcolor": "white",
            "linecolor": "white",
            "ticks": ""
           },
           "bgcolor": "#E5ECF6",
           "radialaxis": {
            "gridcolor": "white",
            "linecolor": "white",
            "ticks": ""
           }
          },
          "scene": {
           "xaxis": {
            "backgroundcolor": "#E5ECF6",
            "gridcolor": "white",
            "gridwidth": 2,
            "linecolor": "white",
            "showbackground": true,
            "ticks": "",
            "zerolinecolor": "white"
           },
           "yaxis": {
            "backgroundcolor": "#E5ECF6",
            "gridcolor": "white",
            "gridwidth": 2,
            "linecolor": "white",
            "showbackground": true,
            "ticks": "",
            "zerolinecolor": "white"
           },
           "zaxis": {
            "backgroundcolor": "#E5ECF6",
            "gridcolor": "white",
            "gridwidth": 2,
            "linecolor": "white",
            "showbackground": true,
            "ticks": "",
            "zerolinecolor": "white"
           }
          },
          "shapedefaults": {
           "line": {
            "color": "#2a3f5f"
           }
          },
          "ternary": {
           "aaxis": {
            "gridcolor": "white",
            "linecolor": "white",
            "ticks": ""
           },
           "baxis": {
            "gridcolor": "white",
            "linecolor": "white",
            "ticks": ""
           },
           "bgcolor": "#E5ECF6",
           "caxis": {
            "gridcolor": "white",
            "linecolor": "white",
            "ticks": ""
           }
          },
          "title": {
           "x": 0.05
          },
          "xaxis": {
           "automargin": true,
           "gridcolor": "white",
           "linecolor": "white",
           "ticks": "",
           "title": {
            "standoff": 15
           },
           "zerolinecolor": "white",
           "zerolinewidth": 2
          },
          "yaxis": {
           "automargin": true,
           "gridcolor": "white",
           "linecolor": "white",
           "ticks": "",
           "title": {
            "standoff": 15
           },
           "zerolinecolor": "white",
           "zerolinewidth": 2
          }
         }
        },
        "title": {
         "font": {
          "color": "#4D5663"
         }
        },
        "xaxis": {
         "gridcolor": "#E1E5ED",
         "showgrid": true,
         "tickfont": {
          "color": "#4D5663"
         },
         "title": {
          "font": {
           "color": "#4D5663"
          },
          "text": ""
         },
         "zerolinecolor": "#E1E5ED"
        },
        "yaxis": {
         "gridcolor": "#E1E5ED",
         "showgrid": true,
         "tickfont": {
          "color": "#4D5663"
         },
         "title": {
          "font": {
           "color": "#4D5663"
          },
          "text": ""
         },
         "zerolinecolor": "#E1E5ED"
        }
       }
      },
      "text/html": [
       "<div>\n",
       "        \n",
       "        \n",
       "            <div id=\"705bb338-e3da-4aa6-9174-fee0301c29a8\" class=\"plotly-graph-div\" style=\"height:525px; width:100%;\"></div>\n",
       "            <script type=\"text/javascript\">\n",
       "                require([\"plotly\"], function(Plotly) {\n",
       "                    window.PLOTLYENV=window.PLOTLYENV || {};\n",
       "                    window.PLOTLYENV.BASE_URL='https://plot.ly';\n",
       "                    \n",
       "                if (document.getElementById(\"705bb338-e3da-4aa6-9174-fee0301c29a8\")) {\n",
       "                    Plotly.newPlot(\n",
       "                        '705bb338-e3da-4aa6-9174-fee0301c29a8',\n",
       "                        [{\"line\": {\"color\": \"rgba(255, 153, 51, 1.0)\", \"dash\": \"solid\", \"shape\": \"linear\", \"width\": 1.3}, \"mode\": \"lines\", \"name\": \"A\", \"text\": \"\", \"type\": \"scatter\", \"x\": [0, 1, 2, 3, 4, 5, 6, 7, 8, 9, 10, 11, 12, 13, 14, 15, 16, 17, 18, 19, 20, 21, 22, 23, 24, 25, 26, 27, 28, 29, 30, 31, 32, 33, 34, 35, 36, 37, 38, 39, 40, 41, 42, 43, 44, 45, 46, 47, 48, 49, 50, 51, 52, 53, 54, 55, 56, 57, 58, 59, 60, 61, 62, 63, 64, 65, 66, 67, 68, 69, 70, 71, 72, 73, 74, 75, 76, 77, 78, 79, 80, 81, 82, 83, 84, 85, 86, 87, 88, 89, 90, 91, 92, 93, 94, 95, 96, 97, 98, 99], \"y\": [0.6326127038985268, -0.14548579553446406, -0.34393948885963876, 0.3519190014943898, 0.7107141402638056, 0.054448005118226145, 0.31478965626513306, 1.9337649291692833, -2.4104902799178225, -1.2453604990808071, 1.098206494038972, -0.4728839209634316, 1.01350221056353, -1.2005069730171412, 2.2182955208107384, -0.5776216990016312, -1.4108161826851844, -0.7196052814859598, -0.8521024791986744, -2.395667214325212, 0.6135391862466687, -0.5459430342243888, -1.5060792667559042, 0.8667742499584937, -1.1701546987241738, -0.08603577043546688, -1.4225646891991002, 1.5097413246515126, -0.866990537216288, 0.36179214184957503, -0.045414828943426265, -1.1565623260261002, -0.3142975279995353, 0.27781931010361094, 0.13924531458794118, 0.5592464910210235, 1.4967131118300432, -1.2053072838699337, 0.9797694054889248, -0.8849615612000583, -0.3811985872358258, 1.2480856601545274, 0.21658187897293008, -0.6983120986704753, -0.4513805948645634, 0.5580842538719136, 1.7496795737545083, -0.9879645518593242, -0.06721474521065876, 0.5035528575835836, 0.6186851606665685, 0.0653038262993778, -2.3426270634798825, 0.647611947402595, 0.219685903854224, 0.9076116925247123, 0.27528312732947663, 0.8846370584865045, -0.4307631060841758, 1.6065913463104657, -0.3435107836865878, -1.2569208272167436, 1.1982153725983713, -0.5624178050751879, -1.7559287574848392, -0.774560168600139, 0.49075843422998716, 0.19013438750868822, -0.10736136841934604, -0.7563320343420211, -0.912488191626346, 0.47780470406373887, 0.46123054750740644, -1.170008389278726, 0.8208488063070032, 2.0708134558500015, 1.196023145719842, 1.0866936558250455, 2.174827703635172, 0.9464513781289309, -0.3847720587664325, 0.677896901070159, 0.3789629295966409, -0.40453211598778244, -1.4214106677209226, -2.000151170771465, 0.03448335811311445, -1.0288832751039005, -0.7060820996009419, -0.3984065438825475, 1.3183550006020213, 2.3746996644956346, 0.17237217908045094, -0.5356615988531053, -1.8134160233906358, 0.19096701764943314, -0.628185005053714, -1.8878773692036663, -0.4900468240812979, 0.48428326873581173]}, {\"line\": {\"color\": \"rgba(55, 128, 191, 1.0)\", \"dash\": \"solid\", \"shape\": \"linear\", \"width\": 1.3}, \"mode\": \"lines\", \"name\": \"B\", \"text\": \"\", \"type\": \"scatter\", \"x\": [0, 1, 2, 3, 4, 5, 6, 7, 8, 9, 10, 11, 12, 13, 14, 15, 16, 17, 18, 19, 20, 21, 22, 23, 24, 25, 26, 27, 28, 29, 30, 31, 32, 33, 34, 35, 36, 37, 38, 39, 40, 41, 42, 43, 44, 45, 46, 47, 48, 49, 50, 51, 52, 53, 54, 55, 56, 57, 58, 59, 60, 61, 62, 63, 64, 65, 66, 67, 68, 69, 70, 71, 72, 73, 74, 75, 76, 77, 78, 79, 80, 81, 82, 83, 84, 85, 86, 87, 88, 89, 90, 91, 92, 93, 94, 95, 96, 97, 98, 99], \"y\": [0.47287525328590935, 1.4934017303137272, 1.3769689561121239, -1.082806198805133, 1.415383993887731, -0.3630025087659517, -1.2350824003044616, -0.9575111668958346, 2.231227192416702, -1.6084623988472704, 0.7913364725124696, 0.12465098765323646, 0.10894918249881126, 0.4188292865253416, -0.3759546225061773, 1.6154242647998716, 0.007024986301866887, 0.48872387432220804, -0.8369659719094297, -0.4903552585235138, 0.3177430027248012, -1.055949329045058, 0.7360791030638381, 0.44231956568828446, 1.379551114438425, -0.7040578920221393, -1.9764410307063434, -0.015693146946839435, -1.5263965880053936, -1.4117553120848472, -0.1577338525083378, -0.8517611323488851, -1.4980204859517279, -0.7702057758987122, 1.755599357290906, 1.5094512735227397, 1.533884269318763, -1.1810472462391852, 0.9382757897220223, -0.5151257903588647, -0.4392957343101481, -1.153578173417106, 2.4347154417229437, 0.6034691497870166, -0.7231130664783035, -0.8297448803780897, -1.1631465870895914, 1.5428997633806876, -1.0191242175698105, 0.8268133547092912, 0.8083868251389659, -0.3854591282744667, -0.14082691997477623, -0.22909359854768352, -1.2365501886677792, 0.4703021455822461, -0.5822269077491736, -0.6650515548694265, 2.1279524291773266, 0.6061821909283301, 1.494572989724752, 0.25232777878631363, -0.1231269099302736, 0.11394495935586213, -0.023669955254320904, -0.5176659477577575, -1.0857603251337256, 1.737308717738109, -1.0436899628847465, -0.6879722964306229, 1.0126343170065157, 1.2876047306599359, 0.21953780998443767, -1.2162680038144835, -1.0502292677821456, 0.29802020348819896, -0.08428480318130187, 1.1728931965510887, 0.09332553992905697, -1.5339657786541547, 0.5951725873193169, -1.0839064503073481, -0.15618747206624964, 2.670724273386493, 2.4178549773596645, -0.14076461292691836, -0.6143424139578396, -0.9776404663225262, 1.0063305123692763, -1.273882015570184, 0.37265711485326986, 0.37368948059456725, 0.3574924474090997, -0.14176054038778046, 0.04841555690054582, -0.11047329298795354, 1.346533423863622, 1.8677528397271093, -0.026572813425914166, 0.4409097288987755]}, {\"line\": {\"color\": \"rgba(50, 171, 96, 1.0)\", \"dash\": \"solid\", \"shape\": \"linear\", \"width\": 1.3}, \"mode\": \"lines\", \"name\": \"C\", \"text\": \"\", \"type\": \"scatter\", \"x\": [0, 1, 2, 3, 4, 5, 6, 7, 8, 9, 10, 11, 12, 13, 14, 15, 16, 17, 18, 19, 20, 21, 22, 23, 24, 25, 26, 27, 28, 29, 30, 31, 32, 33, 34, 35, 36, 37, 38, 39, 40, 41, 42, 43, 44, 45, 46, 47, 48, 49, 50, 51, 52, 53, 54, 55, 56, 57, 58, 59, 60, 61, 62, 63, 64, 65, 66, 67, 68, 69, 70, 71, 72, 73, 74, 75, 76, 77, 78, 79, 80, 81, 82, 83, 84, 85, 86, 87, 88, 89, 90, 91, 92, 93, 94, 95, 96, 97, 98, 99], \"y\": [0.1336209897126937, -0.4992371267880662, -0.16512310908818667, -0.1295384702581782, -0.07874797887224155, 0.07875858094324113, 0.28811971423413435, -2.2079018232129743, -1.0146574398707233, -0.3814968238916311, 0.3414756460122754, 0.408650279460541, 0.8598922725047933, -0.20456262918962018, 0.4269611660152145, 0.06053627104709375, -0.17112284284919663, -0.03278813861822154, 0.2964757692789343, -1.209610713025771, 1.065900461743466, 0.48484112110928695, -0.16522346354835155, 0.8342104652569393, 0.7378533369870373, 0.7381985329826927, 0.46270552251841596, -0.1290553079442758, -1.135822076599649, 2.5684353595070957, -2.1363512996225693, 0.7803326723102629, 0.5884926871116007, 0.2937806281485098, -0.3098944958212543, 1.7843829555701411, -2.7607141977076526, -0.7830869659191346, -0.1122573811119825, 0.1635382375667902, 1.1997795798187878, -0.5391302273292823, 1.6138354162384465, 2.8471656578452813, -0.2682656551450211, 0.2648442673225874, -1.128823767002499, -0.4791039027939159, 0.567986191017442, -0.3796912825703141, 0.9249146766825751, 1.1239087088143331, 0.5999003321458324, -0.658380738103747, -0.636079522958394, -0.7690187225387971, -0.1285569524323624, 0.42586814414867546, 1.970619872164675, 0.2687360684661637, -0.6535751187902171, -0.41052495675928347, 0.38656321015609985, -0.0329975125153401, 0.21986643801387779, -0.8862105560862736, -1.1472581491296907, 1.6876120880730845, 0.6739344840810829, 0.7527058130176251, -0.04770321882381908, -0.5046901458645002, -0.9704135809546783, 0.6192540593692433, -1.5970410896097227, 1.7424207967184293, 0.9417272380573213, -0.3421442085643456, 1.3629727213807563, 0.19608528683183574, 0.6179829214720435, -0.6342908072086635, 0.16485176829765466, 0.11259865657129008, 1.474878606696174, -0.6200093152528071, 1.023883374307354, 1.2312315215022325, 0.6837691534450063, 0.37710794268652054, -0.2674498995213668, 0.7252941939647042, -0.7212671495065622, -0.6570103158468624, 1.4713878944189351, 0.7803245805628188, -1.5015408621607405, -2.530041751262662, 2.913959469897591, 1.1162770114184026]}, {\"line\": {\"color\": \"rgba(128, 0, 128, 1.0)\", \"dash\": \"solid\", \"shape\": \"linear\", \"width\": 1.3}, \"mode\": \"lines\", \"name\": \"D\", \"text\": \"\", \"type\": \"scatter\", \"x\": [0, 1, 2, 3, 4, 5, 6, 7, 8, 9, 10, 11, 12, 13, 14, 15, 16, 17, 18, 19, 20, 21, 22, 23, 24, 25, 26, 27, 28, 29, 30, 31, 32, 33, 34, 35, 36, 37, 38, 39, 40, 41, 42, 43, 44, 45, 46, 47, 48, 49, 50, 51, 52, 53, 54, 55, 56, 57, 58, 59, 60, 61, 62, 63, 64, 65, 66, 67, 68, 69, 70, 71, 72, 73, 74, 75, 76, 77, 78, 79, 80, 81, 82, 83, 84, 85, 86, 87, 88, 89, 90, 91, 92, 93, 94, 95, 96, 97, 98, 99], \"y\": [-1.2143142774051094, 0.7341549688863328, -2.1878860019623114, 1.523497432194452, -0.8790555211989877, -0.13506651057964153, -0.7681521734240057, 1.9566987634853001, -0.5200154811389064, -1.5304730933671777, -0.49828564798699326, 0.6555190761224613, 2.154278261242067, -0.6121998740137635, -0.7998663651392912, -0.6592866329179047, -0.05618872584561294, 0.21659171674869485, -0.7723385025920696, -0.7664120512191052, -0.04706943950371657, -0.4804600175743437, 0.5477687172501202, 0.11974272875042269, 2.0478235234709428, 0.015801574609873074, 0.8911940632671225, 0.14138456809723465, 0.3751822146140036, 0.6604816124276893, 1.133297507272824, 0.03105811424544611, -0.3939010668393583, -0.5289250695258874, -0.0030741456840287333, -0.942428136817906, 0.7491177760914999, -0.7214531918806584, 1.3257182761338224, 0.43951512568561735, 0.06119399446360383, 1.5578142553938126, -1.7714458517215954, 0.6176215419004208, 0.8904488135986418, 0.4319773298830599, -1.1975350025652733, 0.10311510696201422, -0.45288522791520414, -1.3661216067944606, 1.9115685665069386, -1.9059862517401787, -1.5732033902448326, 0.9175075197051212, -0.1750872676091157, 0.7069954284479054, 1.6151957774432233, 1.3123132791091583, -0.6070514781704491, -0.24024848311517136, 2.020264416172281, 0.5372984098235004, 0.2872075418166681, 1.0305317214040148, -0.031030337080439823, 1.5736152240788512, 0.7521392808876696, -1.6781286566903064, 0.5056996327690947, -1.2002173110227408, -0.035267135484268027, 2.5627525331980126, 1.0299169286597165, -0.6417056912234721, -0.2022261648578561, -2.1438334840823114, 0.714635768571562, -0.8747588880778938, -0.5215663836892511, 1.344368978552044, -0.43947621697304984, 0.3163194487806835, 0.37871829012773384, 1.2232752732144858, 0.6203334619816994, 1.2884684026888376, -1.524978471243551, -0.11514969237394722, 0.8485650951801219, 1.363267079181013, 0.11956931273787397, 0.3139763044387687, 1.3100935940672593, 0.16354448905637342, 1.1544048734978776, 0.167518011825185, -0.03485812012422281, 0.20946433907831946, -0.8703639971561202, -1.6433341968767228]}],\n",
       "                        {\"legend\": {\"bgcolor\": \"#F5F6F9\", \"font\": {\"color\": \"#4D5663\"}}, \"paper_bgcolor\": \"#F5F6F9\", \"plot_bgcolor\": \"#F5F6F9\", \"template\": {\"data\": {\"bar\": [{\"error_x\": {\"color\": \"#2a3f5f\"}, \"error_y\": {\"color\": \"#2a3f5f\"}, \"marker\": {\"line\": {\"color\": \"#E5ECF6\", \"width\": 0.5}}, \"type\": \"bar\"}], \"barpolar\": [{\"marker\": {\"line\": {\"color\": \"#E5ECF6\", \"width\": 0.5}}, \"type\": \"barpolar\"}], \"carpet\": [{\"aaxis\": {\"endlinecolor\": \"#2a3f5f\", \"gridcolor\": \"white\", \"linecolor\": \"white\", \"minorgridcolor\": \"white\", \"startlinecolor\": \"#2a3f5f\"}, \"baxis\": {\"endlinecolor\": \"#2a3f5f\", \"gridcolor\": \"white\", \"linecolor\": \"white\", \"minorgridcolor\": \"white\", \"startlinecolor\": \"#2a3f5f\"}, \"type\": \"carpet\"}], \"choropleth\": [{\"colorbar\": {\"outlinewidth\": 0, \"ticks\": \"\"}, \"type\": \"choropleth\"}], \"contour\": [{\"colorbar\": {\"outlinewidth\": 0, \"ticks\": \"\"}, \"colorscale\": [[0.0, \"#0d0887\"], [0.1111111111111111, \"#46039f\"], [0.2222222222222222, \"#7201a8\"], [0.3333333333333333, \"#9c179e\"], [0.4444444444444444, \"#bd3786\"], [0.5555555555555556, \"#d8576b\"], [0.6666666666666666, \"#ed7953\"], [0.7777777777777778, \"#fb9f3a\"], [0.8888888888888888, \"#fdca26\"], [1.0, \"#f0f921\"]], \"type\": \"contour\"}], \"contourcarpet\": [{\"colorbar\": {\"outlinewidth\": 0, \"ticks\": \"\"}, \"type\": \"contourcarpet\"}], \"heatmap\": [{\"colorbar\": {\"outlinewidth\": 0, \"ticks\": \"\"}, \"colorscale\": [[0.0, \"#0d0887\"], [0.1111111111111111, \"#46039f\"], [0.2222222222222222, \"#7201a8\"], [0.3333333333333333, \"#9c179e\"], [0.4444444444444444, \"#bd3786\"], [0.5555555555555556, \"#d8576b\"], [0.6666666666666666, \"#ed7953\"], [0.7777777777777778, \"#fb9f3a\"], [0.8888888888888888, \"#fdca26\"], [1.0, \"#f0f921\"]], \"type\": \"heatmap\"}], \"heatmapgl\": [{\"colorbar\": {\"outlinewidth\": 0, \"ticks\": \"\"}, \"colorscale\": [[0.0, \"#0d0887\"], [0.1111111111111111, \"#46039f\"], [0.2222222222222222, \"#7201a8\"], [0.3333333333333333, \"#9c179e\"], [0.4444444444444444, \"#bd3786\"], [0.5555555555555556, \"#d8576b\"], [0.6666666666666666, \"#ed7953\"], [0.7777777777777778, \"#fb9f3a\"], [0.8888888888888888, \"#fdca26\"], [1.0, \"#f0f921\"]], \"type\": \"heatmapgl\"}], \"histogram\": [{\"marker\": {\"colorbar\": {\"outlinewidth\": 0, \"ticks\": \"\"}}, \"type\": \"histogram\"}], \"histogram2d\": [{\"colorbar\": {\"outlinewidth\": 0, \"ticks\": \"\"}, \"colorscale\": [[0.0, \"#0d0887\"], [0.1111111111111111, \"#46039f\"], [0.2222222222222222, \"#7201a8\"], [0.3333333333333333, \"#9c179e\"], [0.4444444444444444, \"#bd3786\"], [0.5555555555555556, \"#d8576b\"], [0.6666666666666666, \"#ed7953\"], [0.7777777777777778, \"#fb9f3a\"], [0.8888888888888888, \"#fdca26\"], [1.0, \"#f0f921\"]], \"type\": \"histogram2d\"}], \"histogram2dcontour\": [{\"colorbar\": {\"outlinewidth\": 0, \"ticks\": \"\"}, \"colorscale\": [[0.0, \"#0d0887\"], [0.1111111111111111, \"#46039f\"], [0.2222222222222222, \"#7201a8\"], [0.3333333333333333, \"#9c179e\"], [0.4444444444444444, \"#bd3786\"], [0.5555555555555556, \"#d8576b\"], [0.6666666666666666, \"#ed7953\"], [0.7777777777777778, \"#fb9f3a\"], [0.8888888888888888, \"#fdca26\"], [1.0, \"#f0f921\"]], \"type\": \"histogram2dcontour\"}], \"mesh3d\": [{\"colorbar\": {\"outlinewidth\": 0, \"ticks\": \"\"}, \"type\": \"mesh3d\"}], \"parcoords\": [{\"line\": {\"colorbar\": {\"outlinewidth\": 0, \"ticks\": \"\"}}, \"type\": \"parcoords\"}], \"pie\": [{\"automargin\": true, \"type\": \"pie\"}], \"scatter\": [{\"marker\": {\"colorbar\": {\"outlinewidth\": 0, \"ticks\": \"\"}}, \"type\": \"scatter\"}], \"scatter3d\": [{\"line\": {\"colorbar\": {\"outlinewidth\": 0, \"ticks\": \"\"}}, \"marker\": {\"colorbar\": {\"outlinewidth\": 0, \"ticks\": \"\"}}, \"type\": \"scatter3d\"}], \"scattercarpet\": [{\"marker\": {\"colorbar\": {\"outlinewidth\": 0, \"ticks\": \"\"}}, \"type\": \"scattercarpet\"}], \"scattergeo\": [{\"marker\": {\"colorbar\": {\"outlinewidth\": 0, \"ticks\": \"\"}}, \"type\": \"scattergeo\"}], \"scattergl\": [{\"marker\": {\"colorbar\": {\"outlinewidth\": 0, \"ticks\": \"\"}}, \"type\": \"scattergl\"}], \"scattermapbox\": [{\"marker\": {\"colorbar\": {\"outlinewidth\": 0, \"ticks\": \"\"}}, \"type\": \"scattermapbox\"}], \"scatterpolar\": [{\"marker\": {\"colorbar\": {\"outlinewidth\": 0, \"ticks\": \"\"}}, \"type\": \"scatterpolar\"}], \"scatterpolargl\": [{\"marker\": {\"colorbar\": {\"outlinewidth\": 0, \"ticks\": \"\"}}, \"type\": \"scatterpolargl\"}], \"scatterternary\": [{\"marker\": {\"colorbar\": {\"outlinewidth\": 0, \"ticks\": \"\"}}, \"type\": \"scatterternary\"}], \"surface\": [{\"colorbar\": {\"outlinewidth\": 0, \"ticks\": \"\"}, \"colorscale\": [[0.0, \"#0d0887\"], [0.1111111111111111, \"#46039f\"], [0.2222222222222222, \"#7201a8\"], [0.3333333333333333, \"#9c179e\"], [0.4444444444444444, \"#bd3786\"], [0.5555555555555556, \"#d8576b\"], [0.6666666666666666, \"#ed7953\"], [0.7777777777777778, \"#fb9f3a\"], [0.8888888888888888, \"#fdca26\"], [1.0, \"#f0f921\"]], \"type\": \"surface\"}], \"table\": [{\"cells\": {\"fill\": {\"color\": \"#EBF0F8\"}, \"line\": {\"color\": \"white\"}}, \"header\": {\"fill\": {\"color\": \"#C8D4E3\"}, \"line\": {\"color\": \"white\"}}, \"type\": \"table\"}]}, \"layout\": {\"annotationdefaults\": {\"arrowcolor\": \"#2a3f5f\", \"arrowhead\": 0, \"arrowwidth\": 1}, \"coloraxis\": {\"colorbar\": {\"outlinewidth\": 0, \"ticks\": \"\"}}, \"colorscale\": {\"diverging\": [[0, \"#8e0152\"], [0.1, \"#c51b7d\"], [0.2, \"#de77ae\"], [0.3, \"#f1b6da\"], [0.4, \"#fde0ef\"], [0.5, \"#f7f7f7\"], [0.6, \"#e6f5d0\"], [0.7, \"#b8e186\"], [0.8, \"#7fbc41\"], [0.9, \"#4d9221\"], [1, \"#276419\"]], \"sequential\": [[0.0, \"#0d0887\"], [0.1111111111111111, \"#46039f\"], [0.2222222222222222, \"#7201a8\"], [0.3333333333333333, \"#9c179e\"], [0.4444444444444444, \"#bd3786\"], [0.5555555555555556, \"#d8576b\"], [0.6666666666666666, \"#ed7953\"], [0.7777777777777778, \"#fb9f3a\"], [0.8888888888888888, \"#fdca26\"], [1.0, \"#f0f921\"]], \"sequentialminus\": [[0.0, \"#0d0887\"], [0.1111111111111111, \"#46039f\"], [0.2222222222222222, \"#7201a8\"], [0.3333333333333333, \"#9c179e\"], [0.4444444444444444, \"#bd3786\"], [0.5555555555555556, \"#d8576b\"], [0.6666666666666666, \"#ed7953\"], [0.7777777777777778, \"#fb9f3a\"], [0.8888888888888888, \"#fdca26\"], [1.0, \"#f0f921\"]]}, \"colorway\": [\"#636efa\", \"#EF553B\", \"#00cc96\", \"#ab63fa\", \"#FFA15A\", \"#19d3f3\", \"#FF6692\", \"#B6E880\", \"#FF97FF\", \"#FECB52\"], \"font\": {\"color\": \"#2a3f5f\"}, \"geo\": {\"bgcolor\": \"white\", \"lakecolor\": \"white\", \"landcolor\": \"#E5ECF6\", \"showlakes\": true, \"showland\": true, \"subunitcolor\": \"white\"}, \"hoverlabel\": {\"align\": \"left\"}, \"hovermode\": \"closest\", \"mapbox\": {\"style\": \"light\"}, \"paper_bgcolor\": \"white\", \"plot_bgcolor\": \"#E5ECF6\", \"polar\": {\"angularaxis\": {\"gridcolor\": \"white\", \"linecolor\": \"white\", \"ticks\": \"\"}, \"bgcolor\": \"#E5ECF6\", \"radialaxis\": {\"gridcolor\": \"white\", \"linecolor\": \"white\", \"ticks\": \"\"}}, \"scene\": {\"xaxis\": {\"backgroundcolor\": \"#E5ECF6\", \"gridcolor\": \"white\", \"gridwidth\": 2, \"linecolor\": \"white\", \"showbackground\": true, \"ticks\": \"\", \"zerolinecolor\": \"white\"}, \"yaxis\": {\"backgroundcolor\": \"#E5ECF6\", \"gridcolor\": \"white\", \"gridwidth\": 2, \"linecolor\": \"white\", \"showbackground\": true, \"ticks\": \"\", \"zerolinecolor\": \"white\"}, \"zaxis\": {\"backgroundcolor\": \"#E5ECF6\", \"gridcolor\": \"white\", \"gridwidth\": 2, \"linecolor\": \"white\", \"showbackground\": true, \"ticks\": \"\", \"zerolinecolor\": \"white\"}}, \"shapedefaults\": {\"line\": {\"color\": \"#2a3f5f\"}}, \"ternary\": {\"aaxis\": {\"gridcolor\": \"white\", \"linecolor\": \"white\", \"ticks\": \"\"}, \"baxis\": {\"gridcolor\": \"white\", \"linecolor\": \"white\", \"ticks\": \"\"}, \"bgcolor\": \"#E5ECF6\", \"caxis\": {\"gridcolor\": \"white\", \"linecolor\": \"white\", \"ticks\": \"\"}}, \"title\": {\"x\": 0.05}, \"xaxis\": {\"automargin\": true, \"gridcolor\": \"white\", \"linecolor\": \"white\", \"ticks\": \"\", \"title\": {\"standoff\": 15}, \"zerolinecolor\": \"white\", \"zerolinewidth\": 2}, \"yaxis\": {\"automargin\": true, \"gridcolor\": \"white\", \"linecolor\": \"white\", \"ticks\": \"\", \"title\": {\"standoff\": 15}, \"zerolinecolor\": \"white\", \"zerolinewidth\": 2}}}, \"title\": {\"font\": {\"color\": \"#4D5663\"}}, \"xaxis\": {\"gridcolor\": \"#E1E5ED\", \"showgrid\": true, \"tickfont\": {\"color\": \"#4D5663\"}, \"title\": {\"font\": {\"color\": \"#4D5663\"}, \"text\": \"\"}, \"zerolinecolor\": \"#E1E5ED\"}, \"yaxis\": {\"gridcolor\": \"#E1E5ED\", \"showgrid\": true, \"tickfont\": {\"color\": \"#4D5663\"}, \"title\": {\"font\": {\"color\": \"#4D5663\"}, \"text\": \"\"}, \"zerolinecolor\": \"#E1E5ED\"}},\n",
       "                        {\"showLink\": true, \"linkText\": \"Export to plot.ly\", \"plotlyServerURL\": \"https://plot.ly\", \"responsive\": true}\n",
       "                    ).then(function(){\n",
       "                            \n",
       "var gd = document.getElementById('705bb338-e3da-4aa6-9174-fee0301c29a8');\n",
       "var x = new MutationObserver(function (mutations, observer) {{\n",
       "        var display = window.getComputedStyle(gd).display;\n",
       "        if (!display || display === 'none') {{\n",
       "            console.log([gd, 'removed!']);\n",
       "            Plotly.purge(gd);\n",
       "            observer.disconnect();\n",
       "        }}\n",
       "}});\n",
       "\n",
       "// Listen for the removal of the full notebook cells\n",
       "var notebookContainer = gd.closest('#notebook-container');\n",
       "if (notebookContainer) {{\n",
       "    x.observe(notebookContainer, {childList: true});\n",
       "}}\n",
       "\n",
       "// Listen for the clearing of the current output cell\n",
       "var outputEl = gd.closest('.output');\n",
       "if (outputEl) {{\n",
       "    x.observe(outputEl, {childList: true});\n",
       "}}\n",
       "\n",
       "                        })\n",
       "                };\n",
       "                });\n",
       "            </script>\n",
       "        </div>"
      ]
     },
     "metadata": {},
     "output_type": "display_data"
    }
   ],
   "source": [
    "df.iplot()\n",
    "#crates an interactive plot gives you info when you hover.\n",
    "#also lets you zoom in, and save image subset to a file."
   ]
  },
  {
   "cell_type": "code",
   "execution_count": 16,
   "metadata": {},
   "outputs": [
    {
     "data": {
      "application/vnd.plotly.v1+json": {
       "config": {
        "linkText": "Export to plot.ly",
        "plotlyServerURL": "https://plot.ly",
        "showLink": true
       },
       "data": [
        {
         "line": {
          "color": "rgba(255, 153, 51, 1.0)",
          "dash": "solid",
          "shape": "linear",
          "width": 1.3
         },
         "marker": {
          "size": 3,
          "symbol": "circle"
         },
         "mode": "markers",
         "name": "B",
         "text": "",
         "type": "scatter",
         "x": [
          0.6326127038985268,
          -0.14548579553446406,
          -0.34393948885963876,
          0.3519190014943898,
          0.7107141402638056,
          0.054448005118226145,
          0.31478965626513306,
          1.9337649291692833,
          -2.4104902799178225,
          -1.2453604990808071,
          1.098206494038972,
          -0.4728839209634316,
          1.01350221056353,
          -1.2005069730171412,
          2.2182955208107384,
          -0.5776216990016312,
          -1.4108161826851844,
          -0.7196052814859598,
          -0.8521024791986744,
          -2.395667214325212,
          0.6135391862466687,
          -0.5459430342243888,
          -1.5060792667559042,
          0.8667742499584937,
          -1.1701546987241738,
          -0.08603577043546688,
          -1.4225646891991002,
          1.5097413246515126,
          -0.866990537216288,
          0.36179214184957503,
          -0.045414828943426265,
          -1.1565623260261002,
          -0.3142975279995353,
          0.27781931010361094,
          0.13924531458794118,
          0.5592464910210235,
          1.4967131118300432,
          -1.2053072838699337,
          0.9797694054889248,
          -0.8849615612000583,
          -0.3811985872358258,
          1.2480856601545274,
          0.21658187897293008,
          -0.6983120986704753,
          -0.4513805948645634,
          0.5580842538719136,
          1.7496795737545083,
          -0.9879645518593242,
          -0.06721474521065876,
          0.5035528575835836,
          0.6186851606665685,
          0.0653038262993778,
          -2.3426270634798825,
          0.647611947402595,
          0.219685903854224,
          0.9076116925247123,
          0.27528312732947663,
          0.8846370584865045,
          -0.4307631060841758,
          1.6065913463104657,
          -0.3435107836865878,
          -1.2569208272167436,
          1.1982153725983713,
          -0.5624178050751879,
          -1.7559287574848392,
          -0.774560168600139,
          0.49075843422998716,
          0.19013438750868822,
          -0.10736136841934604,
          -0.7563320343420211,
          -0.912488191626346,
          0.47780470406373887,
          0.46123054750740644,
          -1.170008389278726,
          0.8208488063070032,
          2.0708134558500015,
          1.196023145719842,
          1.0866936558250455,
          2.174827703635172,
          0.9464513781289309,
          -0.3847720587664325,
          0.677896901070159,
          0.3789629295966409,
          -0.40453211598778244,
          -1.4214106677209226,
          -2.000151170771465,
          0.03448335811311445,
          -1.0288832751039005,
          -0.7060820996009419,
          -0.3984065438825475,
          1.3183550006020213,
          2.3746996644956346,
          0.17237217908045094,
          -0.5356615988531053,
          -1.8134160233906358,
          0.19096701764943314,
          -0.628185005053714,
          -1.8878773692036663,
          -0.4900468240812979,
          0.48428326873581173
         ],
         "y": [
          0.47287525328590935,
          1.4934017303137272,
          1.3769689561121239,
          -1.082806198805133,
          1.415383993887731,
          -0.3630025087659517,
          -1.2350824003044616,
          -0.9575111668958346,
          2.231227192416702,
          -1.6084623988472704,
          0.7913364725124696,
          0.12465098765323646,
          0.10894918249881126,
          0.4188292865253416,
          -0.3759546225061773,
          1.6154242647998716,
          0.007024986301866887,
          0.48872387432220804,
          -0.8369659719094297,
          -0.4903552585235138,
          0.3177430027248012,
          -1.055949329045058,
          0.7360791030638381,
          0.44231956568828446,
          1.379551114438425,
          -0.7040578920221393,
          -1.9764410307063434,
          -0.015693146946839435,
          -1.5263965880053936,
          -1.4117553120848472,
          -0.1577338525083378,
          -0.8517611323488851,
          -1.4980204859517279,
          -0.7702057758987122,
          1.755599357290906,
          1.5094512735227397,
          1.533884269318763,
          -1.1810472462391852,
          0.9382757897220223,
          -0.5151257903588647,
          -0.4392957343101481,
          -1.153578173417106,
          2.4347154417229437,
          0.6034691497870166,
          -0.7231130664783035,
          -0.8297448803780897,
          -1.1631465870895914,
          1.5428997633806876,
          -1.0191242175698105,
          0.8268133547092912,
          0.8083868251389659,
          -0.3854591282744667,
          -0.14082691997477623,
          -0.22909359854768352,
          -1.2365501886677792,
          0.4703021455822461,
          -0.5822269077491736,
          -0.6650515548694265,
          2.1279524291773266,
          0.6061821909283301,
          1.494572989724752,
          0.25232777878631363,
          -0.1231269099302736,
          0.11394495935586213,
          -0.023669955254320904,
          -0.5176659477577575,
          -1.0857603251337256,
          1.737308717738109,
          -1.0436899628847465,
          -0.6879722964306229,
          1.0126343170065157,
          1.2876047306599359,
          0.21953780998443767,
          -1.2162680038144835,
          -1.0502292677821456,
          0.29802020348819896,
          -0.08428480318130187,
          1.1728931965510887,
          0.09332553992905697,
          -1.5339657786541547,
          0.5951725873193169,
          -1.0839064503073481,
          -0.15618747206624964,
          2.670724273386493,
          2.4178549773596645,
          -0.14076461292691836,
          -0.6143424139578396,
          -0.9776404663225262,
          1.0063305123692763,
          -1.273882015570184,
          0.37265711485326986,
          0.37368948059456725,
          0.3574924474090997,
          -0.14176054038778046,
          0.04841555690054582,
          -0.11047329298795354,
          1.346533423863622,
          1.8677528397271093,
          -0.026572813425914166,
          0.4409097288987755
         ]
        }
       ],
       "layout": {
        "legend": {
         "bgcolor": "#F5F6F9",
         "font": {
          "color": "#4D5663"
         }
        },
        "paper_bgcolor": "#F5F6F9",
        "plot_bgcolor": "#F5F6F9",
        "template": {
         "data": {
          "bar": [
           {
            "error_x": {
             "color": "#2a3f5f"
            },
            "error_y": {
             "color": "#2a3f5f"
            },
            "marker": {
             "line": {
              "color": "#E5ECF6",
              "width": 0.5
             }
            },
            "type": "bar"
           }
          ],
          "barpolar": [
           {
            "marker": {
             "line": {
              "color": "#E5ECF6",
              "width": 0.5
             }
            },
            "type": "barpolar"
           }
          ],
          "carpet": [
           {
            "aaxis": {
             "endlinecolor": "#2a3f5f",
             "gridcolor": "white",
             "linecolor": "white",
             "minorgridcolor": "white",
             "startlinecolor": "#2a3f5f"
            },
            "baxis": {
             "endlinecolor": "#2a3f5f",
             "gridcolor": "white",
             "linecolor": "white",
             "minorgridcolor": "white",
             "startlinecolor": "#2a3f5f"
            },
            "type": "carpet"
           }
          ],
          "choropleth": [
           {
            "colorbar": {
             "outlinewidth": 0,
             "ticks": ""
            },
            "type": "choropleth"
           }
          ],
          "contour": [
           {
            "colorbar": {
             "outlinewidth": 0,
             "ticks": ""
            },
            "colorscale": [
             [
              0,
              "#0d0887"
             ],
             [
              0.1111111111111111,
              "#46039f"
             ],
             [
              0.2222222222222222,
              "#7201a8"
             ],
             [
              0.3333333333333333,
              "#9c179e"
             ],
             [
              0.4444444444444444,
              "#bd3786"
             ],
             [
              0.5555555555555556,
              "#d8576b"
             ],
             [
              0.6666666666666666,
              "#ed7953"
             ],
             [
              0.7777777777777778,
              "#fb9f3a"
             ],
             [
              0.8888888888888888,
              "#fdca26"
             ],
             [
              1,
              "#f0f921"
             ]
            ],
            "type": "contour"
           }
          ],
          "contourcarpet": [
           {
            "colorbar": {
             "outlinewidth": 0,
             "ticks": ""
            },
            "type": "contourcarpet"
           }
          ],
          "heatmap": [
           {
            "colorbar": {
             "outlinewidth": 0,
             "ticks": ""
            },
            "colorscale": [
             [
              0,
              "#0d0887"
             ],
             [
              0.1111111111111111,
              "#46039f"
             ],
             [
              0.2222222222222222,
              "#7201a8"
             ],
             [
              0.3333333333333333,
              "#9c179e"
             ],
             [
              0.4444444444444444,
              "#bd3786"
             ],
             [
              0.5555555555555556,
              "#d8576b"
             ],
             [
              0.6666666666666666,
              "#ed7953"
             ],
             [
              0.7777777777777778,
              "#fb9f3a"
             ],
             [
              0.8888888888888888,
              "#fdca26"
             ],
             [
              1,
              "#f0f921"
             ]
            ],
            "type": "heatmap"
           }
          ],
          "heatmapgl": [
           {
            "colorbar": {
             "outlinewidth": 0,
             "ticks": ""
            },
            "colorscale": [
             [
              0,
              "#0d0887"
             ],
             [
              0.1111111111111111,
              "#46039f"
             ],
             [
              0.2222222222222222,
              "#7201a8"
             ],
             [
              0.3333333333333333,
              "#9c179e"
             ],
             [
              0.4444444444444444,
              "#bd3786"
             ],
             [
              0.5555555555555556,
              "#d8576b"
             ],
             [
              0.6666666666666666,
              "#ed7953"
             ],
             [
              0.7777777777777778,
              "#fb9f3a"
             ],
             [
              0.8888888888888888,
              "#fdca26"
             ],
             [
              1,
              "#f0f921"
             ]
            ],
            "type": "heatmapgl"
           }
          ],
          "histogram": [
           {
            "marker": {
             "colorbar": {
              "outlinewidth": 0,
              "ticks": ""
             }
            },
            "type": "histogram"
           }
          ],
          "histogram2d": [
           {
            "colorbar": {
             "outlinewidth": 0,
             "ticks": ""
            },
            "colorscale": [
             [
              0,
              "#0d0887"
             ],
             [
              0.1111111111111111,
              "#46039f"
             ],
             [
              0.2222222222222222,
              "#7201a8"
             ],
             [
              0.3333333333333333,
              "#9c179e"
             ],
             [
              0.4444444444444444,
              "#bd3786"
             ],
             [
              0.5555555555555556,
              "#d8576b"
             ],
             [
              0.6666666666666666,
              "#ed7953"
             ],
             [
              0.7777777777777778,
              "#fb9f3a"
             ],
             [
              0.8888888888888888,
              "#fdca26"
             ],
             [
              1,
              "#f0f921"
             ]
            ],
            "type": "histogram2d"
           }
          ],
          "histogram2dcontour": [
           {
            "colorbar": {
             "outlinewidth": 0,
             "ticks": ""
            },
            "colorscale": [
             [
              0,
              "#0d0887"
             ],
             [
              0.1111111111111111,
              "#46039f"
             ],
             [
              0.2222222222222222,
              "#7201a8"
             ],
             [
              0.3333333333333333,
              "#9c179e"
             ],
             [
              0.4444444444444444,
              "#bd3786"
             ],
             [
              0.5555555555555556,
              "#d8576b"
             ],
             [
              0.6666666666666666,
              "#ed7953"
             ],
             [
              0.7777777777777778,
              "#fb9f3a"
             ],
             [
              0.8888888888888888,
              "#fdca26"
             ],
             [
              1,
              "#f0f921"
             ]
            ],
            "type": "histogram2dcontour"
           }
          ],
          "mesh3d": [
           {
            "colorbar": {
             "outlinewidth": 0,
             "ticks": ""
            },
            "type": "mesh3d"
           }
          ],
          "parcoords": [
           {
            "line": {
             "colorbar": {
              "outlinewidth": 0,
              "ticks": ""
             }
            },
            "type": "parcoords"
           }
          ],
          "pie": [
           {
            "automargin": true,
            "type": "pie"
           }
          ],
          "scatter": [
           {
            "marker": {
             "colorbar": {
              "outlinewidth": 0,
              "ticks": ""
             }
            },
            "type": "scatter"
           }
          ],
          "scatter3d": [
           {
            "line": {
             "colorbar": {
              "outlinewidth": 0,
              "ticks": ""
             }
            },
            "marker": {
             "colorbar": {
              "outlinewidth": 0,
              "ticks": ""
             }
            },
            "type": "scatter3d"
           }
          ],
          "scattercarpet": [
           {
            "marker": {
             "colorbar": {
              "outlinewidth": 0,
              "ticks": ""
             }
            },
            "type": "scattercarpet"
           }
          ],
          "scattergeo": [
           {
            "marker": {
             "colorbar": {
              "outlinewidth": 0,
              "ticks": ""
             }
            },
            "type": "scattergeo"
           }
          ],
          "scattergl": [
           {
            "marker": {
             "colorbar": {
              "outlinewidth": 0,
              "ticks": ""
             }
            },
            "type": "scattergl"
           }
          ],
          "scattermapbox": [
           {
            "marker": {
             "colorbar": {
              "outlinewidth": 0,
              "ticks": ""
             }
            },
            "type": "scattermapbox"
           }
          ],
          "scatterpolar": [
           {
            "marker": {
             "colorbar": {
              "outlinewidth": 0,
              "ticks": ""
             }
            },
            "type": "scatterpolar"
           }
          ],
          "scatterpolargl": [
           {
            "marker": {
             "colorbar": {
              "outlinewidth": 0,
              "ticks": ""
             }
            },
            "type": "scatterpolargl"
           }
          ],
          "scatterternary": [
           {
            "marker": {
             "colorbar": {
              "outlinewidth": 0,
              "ticks": ""
             }
            },
            "type": "scatterternary"
           }
          ],
          "surface": [
           {
            "colorbar": {
             "outlinewidth": 0,
             "ticks": ""
            },
            "colorscale": [
             [
              0,
              "#0d0887"
             ],
             [
              0.1111111111111111,
              "#46039f"
             ],
             [
              0.2222222222222222,
              "#7201a8"
             ],
             [
              0.3333333333333333,
              "#9c179e"
             ],
             [
              0.4444444444444444,
              "#bd3786"
             ],
             [
              0.5555555555555556,
              "#d8576b"
             ],
             [
              0.6666666666666666,
              "#ed7953"
             ],
             [
              0.7777777777777778,
              "#fb9f3a"
             ],
             [
              0.8888888888888888,
              "#fdca26"
             ],
             [
              1,
              "#f0f921"
             ]
            ],
            "type": "surface"
           }
          ],
          "table": [
           {
            "cells": {
             "fill": {
              "color": "#EBF0F8"
             },
             "line": {
              "color": "white"
             }
            },
            "header": {
             "fill": {
              "color": "#C8D4E3"
             },
             "line": {
              "color": "white"
             }
            },
            "type": "table"
           }
          ]
         },
         "layout": {
          "annotationdefaults": {
           "arrowcolor": "#2a3f5f",
           "arrowhead": 0,
           "arrowwidth": 1
          },
          "coloraxis": {
           "colorbar": {
            "outlinewidth": 0,
            "ticks": ""
           }
          },
          "colorscale": {
           "diverging": [
            [
             0,
             "#8e0152"
            ],
            [
             0.1,
             "#c51b7d"
            ],
            [
             0.2,
             "#de77ae"
            ],
            [
             0.3,
             "#f1b6da"
            ],
            [
             0.4,
             "#fde0ef"
            ],
            [
             0.5,
             "#f7f7f7"
            ],
            [
             0.6,
             "#e6f5d0"
            ],
            [
             0.7,
             "#b8e186"
            ],
            [
             0.8,
             "#7fbc41"
            ],
            [
             0.9,
             "#4d9221"
            ],
            [
             1,
             "#276419"
            ]
           ],
           "sequential": [
            [
             0,
             "#0d0887"
            ],
            [
             0.1111111111111111,
             "#46039f"
            ],
            [
             0.2222222222222222,
             "#7201a8"
            ],
            [
             0.3333333333333333,
             "#9c179e"
            ],
            [
             0.4444444444444444,
             "#bd3786"
            ],
            [
             0.5555555555555556,
             "#d8576b"
            ],
            [
             0.6666666666666666,
             "#ed7953"
            ],
            [
             0.7777777777777778,
             "#fb9f3a"
            ],
            [
             0.8888888888888888,
             "#fdca26"
            ],
            [
             1,
             "#f0f921"
            ]
           ],
           "sequentialminus": [
            [
             0,
             "#0d0887"
            ],
            [
             0.1111111111111111,
             "#46039f"
            ],
            [
             0.2222222222222222,
             "#7201a8"
            ],
            [
             0.3333333333333333,
             "#9c179e"
            ],
            [
             0.4444444444444444,
             "#bd3786"
            ],
            [
             0.5555555555555556,
             "#d8576b"
            ],
            [
             0.6666666666666666,
             "#ed7953"
            ],
            [
             0.7777777777777778,
             "#fb9f3a"
            ],
            [
             0.8888888888888888,
             "#fdca26"
            ],
            [
             1,
             "#f0f921"
            ]
           ]
          },
          "colorway": [
           "#636efa",
           "#EF553B",
           "#00cc96",
           "#ab63fa",
           "#FFA15A",
           "#19d3f3",
           "#FF6692",
           "#B6E880",
           "#FF97FF",
           "#FECB52"
          ],
          "font": {
           "color": "#2a3f5f"
          },
          "geo": {
           "bgcolor": "white",
           "lakecolor": "white",
           "landcolor": "#E5ECF6",
           "showlakes": true,
           "showland": true,
           "subunitcolor": "white"
          },
          "hoverlabel": {
           "align": "left"
          },
          "hovermode": "closest",
          "mapbox": {
           "style": "light"
          },
          "paper_bgcolor": "white",
          "plot_bgcolor": "#E5ECF6",
          "polar": {
           "angularaxis": {
            "gridcolor": "white",
            "linecolor": "white",
            "ticks": ""
           },
           "bgcolor": "#E5ECF6",
           "radialaxis": {
            "gridcolor": "white",
            "linecolor": "white",
            "ticks": ""
           }
          },
          "scene": {
           "xaxis": {
            "backgroundcolor": "#E5ECF6",
            "gridcolor": "white",
            "gridwidth": 2,
            "linecolor": "white",
            "showbackground": true,
            "ticks": "",
            "zerolinecolor": "white"
           },
           "yaxis": {
            "backgroundcolor": "#E5ECF6",
            "gridcolor": "white",
            "gridwidth": 2,
            "linecolor": "white",
            "showbackground": true,
            "ticks": "",
            "zerolinecolor": "white"
           },
           "zaxis": {
            "backgroundcolor": "#E5ECF6",
            "gridcolor": "white",
            "gridwidth": 2,
            "linecolor": "white",
            "showbackground": true,
            "ticks": "",
            "zerolinecolor": "white"
           }
          },
          "shapedefaults": {
           "line": {
            "color": "#2a3f5f"
           }
          },
          "ternary": {
           "aaxis": {
            "gridcolor": "white",
            "linecolor": "white",
            "ticks": ""
           },
           "baxis": {
            "gridcolor": "white",
            "linecolor": "white",
            "ticks": ""
           },
           "bgcolor": "#E5ECF6",
           "caxis": {
            "gridcolor": "white",
            "linecolor": "white",
            "ticks": ""
           }
          },
          "title": {
           "x": 0.05
          },
          "xaxis": {
           "automargin": true,
           "gridcolor": "white",
           "linecolor": "white",
           "ticks": "",
           "title": {
            "standoff": 15
           },
           "zerolinecolor": "white",
           "zerolinewidth": 2
          },
          "yaxis": {
           "automargin": true,
           "gridcolor": "white",
           "linecolor": "white",
           "ticks": "",
           "title": {
            "standoff": 15
           },
           "zerolinecolor": "white",
           "zerolinewidth": 2
          }
         }
        },
        "title": {
         "font": {
          "color": "#4D5663"
         }
        },
        "xaxis": {
         "gridcolor": "#E1E5ED",
         "showgrid": true,
         "tickfont": {
          "color": "#4D5663"
         },
         "title": {
          "font": {
           "color": "#4D5663"
          },
          "text": ""
         },
         "zerolinecolor": "#E1E5ED"
        },
        "yaxis": {
         "gridcolor": "#E1E5ED",
         "showgrid": true,
         "tickfont": {
          "color": "#4D5663"
         },
         "title": {
          "font": {
           "color": "#4D5663"
          },
          "text": ""
         },
         "zerolinecolor": "#E1E5ED"
        }
       }
      },
      "text/html": [
       "<div>\n",
       "        \n",
       "        \n",
       "            <div id=\"3a890540-f71f-46cf-89d0-6c3504c729e9\" class=\"plotly-graph-div\" style=\"height:525px; width:100%;\"></div>\n",
       "            <script type=\"text/javascript\">\n",
       "                require([\"plotly\"], function(Plotly) {\n",
       "                    window.PLOTLYENV=window.PLOTLYENV || {};\n",
       "                    window.PLOTLYENV.BASE_URL='https://plot.ly';\n",
       "                    \n",
       "                if (document.getElementById(\"3a890540-f71f-46cf-89d0-6c3504c729e9\")) {\n",
       "                    Plotly.newPlot(\n",
       "                        '3a890540-f71f-46cf-89d0-6c3504c729e9',\n",
       "                        [{\"line\": {\"color\": \"rgba(255, 153, 51, 1.0)\", \"dash\": \"solid\", \"shape\": \"linear\", \"width\": 1.3}, \"marker\": {\"size\": 3, \"symbol\": \"circle\"}, \"mode\": \"markers\", \"name\": \"B\", \"text\": \"\", \"type\": \"scatter\", \"x\": [0.6326127038985268, -0.14548579553446406, -0.34393948885963876, 0.3519190014943898, 0.7107141402638056, 0.054448005118226145, 0.31478965626513306, 1.9337649291692833, -2.4104902799178225, -1.2453604990808071, 1.098206494038972, -0.4728839209634316, 1.01350221056353, -1.2005069730171412, 2.2182955208107384, -0.5776216990016312, -1.4108161826851844, -0.7196052814859598, -0.8521024791986744, -2.395667214325212, 0.6135391862466687, -0.5459430342243888, -1.5060792667559042, 0.8667742499584937, -1.1701546987241738, -0.08603577043546688, -1.4225646891991002, 1.5097413246515126, -0.866990537216288, 0.36179214184957503, -0.045414828943426265, -1.1565623260261002, -0.3142975279995353, 0.27781931010361094, 0.13924531458794118, 0.5592464910210235, 1.4967131118300432, -1.2053072838699337, 0.9797694054889248, -0.8849615612000583, -0.3811985872358258, 1.2480856601545274, 0.21658187897293008, -0.6983120986704753, -0.4513805948645634, 0.5580842538719136, 1.7496795737545083, -0.9879645518593242, -0.06721474521065876, 0.5035528575835836, 0.6186851606665685, 0.0653038262993778, -2.3426270634798825, 0.647611947402595, 0.219685903854224, 0.9076116925247123, 0.27528312732947663, 0.8846370584865045, -0.4307631060841758, 1.6065913463104657, -0.3435107836865878, -1.2569208272167436, 1.1982153725983713, -0.5624178050751879, -1.7559287574848392, -0.774560168600139, 0.49075843422998716, 0.19013438750868822, -0.10736136841934604, -0.7563320343420211, -0.912488191626346, 0.47780470406373887, 0.46123054750740644, -1.170008389278726, 0.8208488063070032, 2.0708134558500015, 1.196023145719842, 1.0866936558250455, 2.174827703635172, 0.9464513781289309, -0.3847720587664325, 0.677896901070159, 0.3789629295966409, -0.40453211598778244, -1.4214106677209226, -2.000151170771465, 0.03448335811311445, -1.0288832751039005, -0.7060820996009419, -0.3984065438825475, 1.3183550006020213, 2.3746996644956346, 0.17237217908045094, -0.5356615988531053, -1.8134160233906358, 0.19096701764943314, -0.628185005053714, -1.8878773692036663, -0.4900468240812979, 0.48428326873581173], \"y\": [0.47287525328590935, 1.4934017303137272, 1.3769689561121239, -1.082806198805133, 1.415383993887731, -0.3630025087659517, -1.2350824003044616, -0.9575111668958346, 2.231227192416702, -1.6084623988472704, 0.7913364725124696, 0.12465098765323646, 0.10894918249881126, 0.4188292865253416, -0.3759546225061773, 1.6154242647998716, 0.007024986301866887, 0.48872387432220804, -0.8369659719094297, -0.4903552585235138, 0.3177430027248012, -1.055949329045058, 0.7360791030638381, 0.44231956568828446, 1.379551114438425, -0.7040578920221393, -1.9764410307063434, -0.015693146946839435, -1.5263965880053936, -1.4117553120848472, -0.1577338525083378, -0.8517611323488851, -1.4980204859517279, -0.7702057758987122, 1.755599357290906, 1.5094512735227397, 1.533884269318763, -1.1810472462391852, 0.9382757897220223, -0.5151257903588647, -0.4392957343101481, -1.153578173417106, 2.4347154417229437, 0.6034691497870166, -0.7231130664783035, -0.8297448803780897, -1.1631465870895914, 1.5428997633806876, -1.0191242175698105, 0.8268133547092912, 0.8083868251389659, -0.3854591282744667, -0.14082691997477623, -0.22909359854768352, -1.2365501886677792, 0.4703021455822461, -0.5822269077491736, -0.6650515548694265, 2.1279524291773266, 0.6061821909283301, 1.494572989724752, 0.25232777878631363, -0.1231269099302736, 0.11394495935586213, -0.023669955254320904, -0.5176659477577575, -1.0857603251337256, 1.737308717738109, -1.0436899628847465, -0.6879722964306229, 1.0126343170065157, 1.2876047306599359, 0.21953780998443767, -1.2162680038144835, -1.0502292677821456, 0.29802020348819896, -0.08428480318130187, 1.1728931965510887, 0.09332553992905697, -1.5339657786541547, 0.5951725873193169, -1.0839064503073481, -0.15618747206624964, 2.670724273386493, 2.4178549773596645, -0.14076461292691836, -0.6143424139578396, -0.9776404663225262, 1.0063305123692763, -1.273882015570184, 0.37265711485326986, 0.37368948059456725, 0.3574924474090997, -0.14176054038778046, 0.04841555690054582, -0.11047329298795354, 1.346533423863622, 1.8677528397271093, -0.026572813425914166, 0.4409097288987755]}],\n",
       "                        {\"legend\": {\"bgcolor\": \"#F5F6F9\", \"font\": {\"color\": \"#4D5663\"}}, \"paper_bgcolor\": \"#F5F6F9\", \"plot_bgcolor\": \"#F5F6F9\", \"template\": {\"data\": {\"bar\": [{\"error_x\": {\"color\": \"#2a3f5f\"}, \"error_y\": {\"color\": \"#2a3f5f\"}, \"marker\": {\"line\": {\"color\": \"#E5ECF6\", \"width\": 0.5}}, \"type\": \"bar\"}], \"barpolar\": [{\"marker\": {\"line\": {\"color\": \"#E5ECF6\", \"width\": 0.5}}, \"type\": \"barpolar\"}], \"carpet\": [{\"aaxis\": {\"endlinecolor\": \"#2a3f5f\", \"gridcolor\": \"white\", \"linecolor\": \"white\", \"minorgridcolor\": \"white\", \"startlinecolor\": \"#2a3f5f\"}, \"baxis\": {\"endlinecolor\": \"#2a3f5f\", \"gridcolor\": \"white\", \"linecolor\": \"white\", \"minorgridcolor\": \"white\", \"startlinecolor\": \"#2a3f5f\"}, \"type\": \"carpet\"}], \"choropleth\": [{\"colorbar\": {\"outlinewidth\": 0, \"ticks\": \"\"}, \"type\": \"choropleth\"}], \"contour\": [{\"colorbar\": {\"outlinewidth\": 0, \"ticks\": \"\"}, \"colorscale\": [[0.0, \"#0d0887\"], [0.1111111111111111, \"#46039f\"], [0.2222222222222222, \"#7201a8\"], [0.3333333333333333, \"#9c179e\"], [0.4444444444444444, \"#bd3786\"], [0.5555555555555556, \"#d8576b\"], [0.6666666666666666, \"#ed7953\"], [0.7777777777777778, \"#fb9f3a\"], [0.8888888888888888, \"#fdca26\"], [1.0, \"#f0f921\"]], \"type\": \"contour\"}], \"contourcarpet\": [{\"colorbar\": {\"outlinewidth\": 0, \"ticks\": \"\"}, \"type\": \"contourcarpet\"}], \"heatmap\": [{\"colorbar\": {\"outlinewidth\": 0, \"ticks\": \"\"}, \"colorscale\": [[0.0, \"#0d0887\"], [0.1111111111111111, \"#46039f\"], [0.2222222222222222, \"#7201a8\"], [0.3333333333333333, \"#9c179e\"], [0.4444444444444444, \"#bd3786\"], [0.5555555555555556, \"#d8576b\"], [0.6666666666666666, \"#ed7953\"], [0.7777777777777778, \"#fb9f3a\"], [0.8888888888888888, \"#fdca26\"], [1.0, \"#f0f921\"]], \"type\": \"heatmap\"}], \"heatmapgl\": [{\"colorbar\": {\"outlinewidth\": 0, \"ticks\": \"\"}, \"colorscale\": [[0.0, \"#0d0887\"], [0.1111111111111111, \"#46039f\"], [0.2222222222222222, \"#7201a8\"], [0.3333333333333333, \"#9c179e\"], [0.4444444444444444, \"#bd3786\"], [0.5555555555555556, \"#d8576b\"], [0.6666666666666666, \"#ed7953\"], [0.7777777777777778, \"#fb9f3a\"], [0.8888888888888888, \"#fdca26\"], [1.0, \"#f0f921\"]], \"type\": \"heatmapgl\"}], \"histogram\": [{\"marker\": {\"colorbar\": {\"outlinewidth\": 0, \"ticks\": \"\"}}, \"type\": \"histogram\"}], \"histogram2d\": [{\"colorbar\": {\"outlinewidth\": 0, \"ticks\": \"\"}, \"colorscale\": [[0.0, \"#0d0887\"], [0.1111111111111111, \"#46039f\"], [0.2222222222222222, \"#7201a8\"], [0.3333333333333333, \"#9c179e\"], [0.4444444444444444, \"#bd3786\"], [0.5555555555555556, \"#d8576b\"], [0.6666666666666666, \"#ed7953\"], [0.7777777777777778, \"#fb9f3a\"], [0.8888888888888888, \"#fdca26\"], [1.0, \"#f0f921\"]], \"type\": \"histogram2d\"}], \"histogram2dcontour\": [{\"colorbar\": {\"outlinewidth\": 0, \"ticks\": \"\"}, \"colorscale\": [[0.0, \"#0d0887\"], [0.1111111111111111, \"#46039f\"], [0.2222222222222222, \"#7201a8\"], [0.3333333333333333, \"#9c179e\"], [0.4444444444444444, \"#bd3786\"], [0.5555555555555556, \"#d8576b\"], [0.6666666666666666, \"#ed7953\"], [0.7777777777777778, \"#fb9f3a\"], [0.8888888888888888, \"#fdca26\"], [1.0, \"#f0f921\"]], \"type\": \"histogram2dcontour\"}], \"mesh3d\": [{\"colorbar\": {\"outlinewidth\": 0, \"ticks\": \"\"}, \"type\": \"mesh3d\"}], \"parcoords\": [{\"line\": {\"colorbar\": {\"outlinewidth\": 0, \"ticks\": \"\"}}, \"type\": \"parcoords\"}], \"pie\": [{\"automargin\": true, \"type\": \"pie\"}], \"scatter\": [{\"marker\": {\"colorbar\": {\"outlinewidth\": 0, \"ticks\": \"\"}}, \"type\": \"scatter\"}], \"scatter3d\": [{\"line\": {\"colorbar\": {\"outlinewidth\": 0, \"ticks\": \"\"}}, \"marker\": {\"colorbar\": {\"outlinewidth\": 0, \"ticks\": \"\"}}, \"type\": \"scatter3d\"}], \"scattercarpet\": [{\"marker\": {\"colorbar\": {\"outlinewidth\": 0, \"ticks\": \"\"}}, \"type\": \"scattercarpet\"}], \"scattergeo\": [{\"marker\": {\"colorbar\": {\"outlinewidth\": 0, \"ticks\": \"\"}}, \"type\": \"scattergeo\"}], \"scattergl\": [{\"marker\": {\"colorbar\": {\"outlinewidth\": 0, \"ticks\": \"\"}}, \"type\": \"scattergl\"}], \"scattermapbox\": [{\"marker\": {\"colorbar\": {\"outlinewidth\": 0, \"ticks\": \"\"}}, \"type\": \"scattermapbox\"}], \"scatterpolar\": [{\"marker\": {\"colorbar\": {\"outlinewidth\": 0, \"ticks\": \"\"}}, \"type\": \"scatterpolar\"}], \"scatterpolargl\": [{\"marker\": {\"colorbar\": {\"outlinewidth\": 0, \"ticks\": \"\"}}, \"type\": \"scatterpolargl\"}], \"scatterternary\": [{\"marker\": {\"colorbar\": {\"outlinewidth\": 0, \"ticks\": \"\"}}, \"type\": \"scatterternary\"}], \"surface\": [{\"colorbar\": {\"outlinewidth\": 0, \"ticks\": \"\"}, \"colorscale\": [[0.0, \"#0d0887\"], [0.1111111111111111, \"#46039f\"], [0.2222222222222222, \"#7201a8\"], [0.3333333333333333, \"#9c179e\"], [0.4444444444444444, \"#bd3786\"], [0.5555555555555556, \"#d8576b\"], [0.6666666666666666, \"#ed7953\"], [0.7777777777777778, \"#fb9f3a\"], [0.8888888888888888, \"#fdca26\"], [1.0, \"#f0f921\"]], \"type\": \"surface\"}], \"table\": [{\"cells\": {\"fill\": {\"color\": \"#EBF0F8\"}, \"line\": {\"color\": \"white\"}}, \"header\": {\"fill\": {\"color\": \"#C8D4E3\"}, \"line\": {\"color\": \"white\"}}, \"type\": \"table\"}]}, \"layout\": {\"annotationdefaults\": {\"arrowcolor\": \"#2a3f5f\", \"arrowhead\": 0, \"arrowwidth\": 1}, \"coloraxis\": {\"colorbar\": {\"outlinewidth\": 0, \"ticks\": \"\"}}, \"colorscale\": {\"diverging\": [[0, \"#8e0152\"], [0.1, \"#c51b7d\"], [0.2, \"#de77ae\"], [0.3, \"#f1b6da\"], [0.4, \"#fde0ef\"], [0.5, \"#f7f7f7\"], [0.6, \"#e6f5d0\"], [0.7, \"#b8e186\"], [0.8, \"#7fbc41\"], [0.9, \"#4d9221\"], [1, \"#276419\"]], \"sequential\": [[0.0, \"#0d0887\"], [0.1111111111111111, \"#46039f\"], [0.2222222222222222, \"#7201a8\"], [0.3333333333333333, \"#9c179e\"], [0.4444444444444444, \"#bd3786\"], [0.5555555555555556, \"#d8576b\"], [0.6666666666666666, \"#ed7953\"], [0.7777777777777778, \"#fb9f3a\"], [0.8888888888888888, \"#fdca26\"], [1.0, \"#f0f921\"]], \"sequentialminus\": [[0.0, \"#0d0887\"], [0.1111111111111111, \"#46039f\"], [0.2222222222222222, \"#7201a8\"], [0.3333333333333333, \"#9c179e\"], [0.4444444444444444, \"#bd3786\"], [0.5555555555555556, \"#d8576b\"], [0.6666666666666666, \"#ed7953\"], [0.7777777777777778, \"#fb9f3a\"], [0.8888888888888888, \"#fdca26\"], [1.0, \"#f0f921\"]]}, \"colorway\": [\"#636efa\", \"#EF553B\", \"#00cc96\", \"#ab63fa\", \"#FFA15A\", \"#19d3f3\", \"#FF6692\", \"#B6E880\", \"#FF97FF\", \"#FECB52\"], \"font\": {\"color\": \"#2a3f5f\"}, \"geo\": {\"bgcolor\": \"white\", \"lakecolor\": \"white\", \"landcolor\": \"#E5ECF6\", \"showlakes\": true, \"showland\": true, \"subunitcolor\": \"white\"}, \"hoverlabel\": {\"align\": \"left\"}, \"hovermode\": \"closest\", \"mapbox\": {\"style\": \"light\"}, \"paper_bgcolor\": \"white\", \"plot_bgcolor\": \"#E5ECF6\", \"polar\": {\"angularaxis\": {\"gridcolor\": \"white\", \"linecolor\": \"white\", \"ticks\": \"\"}, \"bgcolor\": \"#E5ECF6\", \"radialaxis\": {\"gridcolor\": \"white\", \"linecolor\": \"white\", \"ticks\": \"\"}}, \"scene\": {\"xaxis\": {\"backgroundcolor\": \"#E5ECF6\", \"gridcolor\": \"white\", \"gridwidth\": 2, \"linecolor\": \"white\", \"showbackground\": true, \"ticks\": \"\", \"zerolinecolor\": \"white\"}, \"yaxis\": {\"backgroundcolor\": \"#E5ECF6\", \"gridcolor\": \"white\", \"gridwidth\": 2, \"linecolor\": \"white\", \"showbackground\": true, \"ticks\": \"\", \"zerolinecolor\": \"white\"}, \"zaxis\": {\"backgroundcolor\": \"#E5ECF6\", \"gridcolor\": \"white\", \"gridwidth\": 2, \"linecolor\": \"white\", \"showbackground\": true, \"ticks\": \"\", \"zerolinecolor\": \"white\"}}, \"shapedefaults\": {\"line\": {\"color\": \"#2a3f5f\"}}, \"ternary\": {\"aaxis\": {\"gridcolor\": \"white\", \"linecolor\": \"white\", \"ticks\": \"\"}, \"baxis\": {\"gridcolor\": \"white\", \"linecolor\": \"white\", \"ticks\": \"\"}, \"bgcolor\": \"#E5ECF6\", \"caxis\": {\"gridcolor\": \"white\", \"linecolor\": \"white\", \"ticks\": \"\"}}, \"title\": {\"x\": 0.05}, \"xaxis\": {\"automargin\": true, \"gridcolor\": \"white\", \"linecolor\": \"white\", \"ticks\": \"\", \"title\": {\"standoff\": 15}, \"zerolinecolor\": \"white\", \"zerolinewidth\": 2}, \"yaxis\": {\"automargin\": true, \"gridcolor\": \"white\", \"linecolor\": \"white\", \"ticks\": \"\", \"title\": {\"standoff\": 15}, \"zerolinecolor\": \"white\", \"zerolinewidth\": 2}}}, \"title\": {\"font\": {\"color\": \"#4D5663\"}}, \"xaxis\": {\"gridcolor\": \"#E1E5ED\", \"showgrid\": true, \"tickfont\": {\"color\": \"#4D5663\"}, \"title\": {\"font\": {\"color\": \"#4D5663\"}, \"text\": \"\"}, \"zerolinecolor\": \"#E1E5ED\"}, \"yaxis\": {\"gridcolor\": \"#E1E5ED\", \"showgrid\": true, \"tickfont\": {\"color\": \"#4D5663\"}, \"title\": {\"font\": {\"color\": \"#4D5663\"}, \"text\": \"\"}, \"zerolinecolor\": \"#E1E5ED\"}},\n",
       "                        {\"showLink\": true, \"linkText\": \"Export to plot.ly\", \"plotlyServerURL\": \"https://plot.ly\", \"responsive\": true}\n",
       "                    ).then(function(){\n",
       "                            \n",
       "var gd = document.getElementById('3a890540-f71f-46cf-89d0-6c3504c729e9');\n",
       "var x = new MutationObserver(function (mutations, observer) {{\n",
       "        var display = window.getComputedStyle(gd).display;\n",
       "        if (!display || display === 'none') {{\n",
       "            console.log([gd, 'removed!']);\n",
       "            Plotly.purge(gd);\n",
       "            observer.disconnect();\n",
       "        }}\n",
       "}});\n",
       "\n",
       "// Listen for the removal of the full notebook cells\n",
       "var notebookContainer = gd.closest('#notebook-container');\n",
       "if (notebookContainer) {{\n",
       "    x.observe(notebookContainer, {childList: true});\n",
       "}}\n",
       "\n",
       "// Listen for the clearing of the current output cell\n",
       "var outputEl = gd.closest('.output');\n",
       "if (outputEl) {{\n",
       "    x.observe(outputEl, {childList: true});\n",
       "}}\n",
       "\n",
       "                        })\n",
       "                };\n",
       "                });\n",
       "            </script>\n",
       "        </div>"
      ]
     },
     "metadata": {},
     "output_type": "display_data"
    }
   ],
   "source": [
    "df.iplot(kind = 'scatter', x = 'A', y = 'B', mode = 'markers', size = 3)"
   ]
  },
  {
   "cell_type": "code",
   "execution_count": 17,
   "metadata": {},
   "outputs": [
    {
     "data": {
      "application/vnd.plotly.v1+json": {
       "config": {
        "linkText": "Export to plot.ly",
        "plotlyServerURL": "https://plot.ly",
        "showLink": true
       },
       "data": [
        {
         "marker": {
          "color": "rgba(255, 153, 51, 0.6)",
          "line": {
           "color": "rgba(255, 153, 51, 1.0)",
           "width": 1
          }
         },
         "name": "Values",
         "orientation": "v",
         "text": "",
         "type": "bar",
         "x": [
          "A",
          "B",
          "C"
         ],
         "y": [
          32,
          43,
          50
         ]
        }
       ],
       "layout": {
        "legend": {
         "bgcolor": "#F5F6F9",
         "font": {
          "color": "#4D5663"
         }
        },
        "paper_bgcolor": "#F5F6F9",
        "plot_bgcolor": "#F5F6F9",
        "template": {
         "data": {
          "bar": [
           {
            "error_x": {
             "color": "#2a3f5f"
            },
            "error_y": {
             "color": "#2a3f5f"
            },
            "marker": {
             "line": {
              "color": "#E5ECF6",
              "width": 0.5
             }
            },
            "type": "bar"
           }
          ],
          "barpolar": [
           {
            "marker": {
             "line": {
              "color": "#E5ECF6",
              "width": 0.5
             }
            },
            "type": "barpolar"
           }
          ],
          "carpet": [
           {
            "aaxis": {
             "endlinecolor": "#2a3f5f",
             "gridcolor": "white",
             "linecolor": "white",
             "minorgridcolor": "white",
             "startlinecolor": "#2a3f5f"
            },
            "baxis": {
             "endlinecolor": "#2a3f5f",
             "gridcolor": "white",
             "linecolor": "white",
             "minorgridcolor": "white",
             "startlinecolor": "#2a3f5f"
            },
            "type": "carpet"
           }
          ],
          "choropleth": [
           {
            "colorbar": {
             "outlinewidth": 0,
             "ticks": ""
            },
            "type": "choropleth"
           }
          ],
          "contour": [
           {
            "colorbar": {
             "outlinewidth": 0,
             "ticks": ""
            },
            "colorscale": [
             [
              0,
              "#0d0887"
             ],
             [
              0.1111111111111111,
              "#46039f"
             ],
             [
              0.2222222222222222,
              "#7201a8"
             ],
             [
              0.3333333333333333,
              "#9c179e"
             ],
             [
              0.4444444444444444,
              "#bd3786"
             ],
             [
              0.5555555555555556,
              "#d8576b"
             ],
             [
              0.6666666666666666,
              "#ed7953"
             ],
             [
              0.7777777777777778,
              "#fb9f3a"
             ],
             [
              0.8888888888888888,
              "#fdca26"
             ],
             [
              1,
              "#f0f921"
             ]
            ],
            "type": "contour"
           }
          ],
          "contourcarpet": [
           {
            "colorbar": {
             "outlinewidth": 0,
             "ticks": ""
            },
            "type": "contourcarpet"
           }
          ],
          "heatmap": [
           {
            "colorbar": {
             "outlinewidth": 0,
             "ticks": ""
            },
            "colorscale": [
             [
              0,
              "#0d0887"
             ],
             [
              0.1111111111111111,
              "#46039f"
             ],
             [
              0.2222222222222222,
              "#7201a8"
             ],
             [
              0.3333333333333333,
              "#9c179e"
             ],
             [
              0.4444444444444444,
              "#bd3786"
             ],
             [
              0.5555555555555556,
              "#d8576b"
             ],
             [
              0.6666666666666666,
              "#ed7953"
             ],
             [
              0.7777777777777778,
              "#fb9f3a"
             ],
             [
              0.8888888888888888,
              "#fdca26"
             ],
             [
              1,
              "#f0f921"
             ]
            ],
            "type": "heatmap"
           }
          ],
          "heatmapgl": [
           {
            "colorbar": {
             "outlinewidth": 0,
             "ticks": ""
            },
            "colorscale": [
             [
              0,
              "#0d0887"
             ],
             [
              0.1111111111111111,
              "#46039f"
             ],
             [
              0.2222222222222222,
              "#7201a8"
             ],
             [
              0.3333333333333333,
              "#9c179e"
             ],
             [
              0.4444444444444444,
              "#bd3786"
             ],
             [
              0.5555555555555556,
              "#d8576b"
             ],
             [
              0.6666666666666666,
              "#ed7953"
             ],
             [
              0.7777777777777778,
              "#fb9f3a"
             ],
             [
              0.8888888888888888,
              "#fdca26"
             ],
             [
              1,
              "#f0f921"
             ]
            ],
            "type": "heatmapgl"
           }
          ],
          "histogram": [
           {
            "marker": {
             "colorbar": {
              "outlinewidth": 0,
              "ticks": ""
             }
            },
            "type": "histogram"
           }
          ],
          "histogram2d": [
           {
            "colorbar": {
             "outlinewidth": 0,
             "ticks": ""
            },
            "colorscale": [
             [
              0,
              "#0d0887"
             ],
             [
              0.1111111111111111,
              "#46039f"
             ],
             [
              0.2222222222222222,
              "#7201a8"
             ],
             [
              0.3333333333333333,
              "#9c179e"
             ],
             [
              0.4444444444444444,
              "#bd3786"
             ],
             [
              0.5555555555555556,
              "#d8576b"
             ],
             [
              0.6666666666666666,
              "#ed7953"
             ],
             [
              0.7777777777777778,
              "#fb9f3a"
             ],
             [
              0.8888888888888888,
              "#fdca26"
             ],
             [
              1,
              "#f0f921"
             ]
            ],
            "type": "histogram2d"
           }
          ],
          "histogram2dcontour": [
           {
            "colorbar": {
             "outlinewidth": 0,
             "ticks": ""
            },
            "colorscale": [
             [
              0,
              "#0d0887"
             ],
             [
              0.1111111111111111,
              "#46039f"
             ],
             [
              0.2222222222222222,
              "#7201a8"
             ],
             [
              0.3333333333333333,
              "#9c179e"
             ],
             [
              0.4444444444444444,
              "#bd3786"
             ],
             [
              0.5555555555555556,
              "#d8576b"
             ],
             [
              0.6666666666666666,
              "#ed7953"
             ],
             [
              0.7777777777777778,
              "#fb9f3a"
             ],
             [
              0.8888888888888888,
              "#fdca26"
             ],
             [
              1,
              "#f0f921"
             ]
            ],
            "type": "histogram2dcontour"
           }
          ],
          "mesh3d": [
           {
            "colorbar": {
             "outlinewidth": 0,
             "ticks": ""
            },
            "type": "mesh3d"
           }
          ],
          "parcoords": [
           {
            "line": {
             "colorbar": {
              "outlinewidth": 0,
              "ticks": ""
             }
            },
            "type": "parcoords"
           }
          ],
          "pie": [
           {
            "automargin": true,
            "type": "pie"
           }
          ],
          "scatter": [
           {
            "marker": {
             "colorbar": {
              "outlinewidth": 0,
              "ticks": ""
             }
            },
            "type": "scatter"
           }
          ],
          "scatter3d": [
           {
            "line": {
             "colorbar": {
              "outlinewidth": 0,
              "ticks": ""
             }
            },
            "marker": {
             "colorbar": {
              "outlinewidth": 0,
              "ticks": ""
             }
            },
            "type": "scatter3d"
           }
          ],
          "scattercarpet": [
           {
            "marker": {
             "colorbar": {
              "outlinewidth": 0,
              "ticks": ""
             }
            },
            "type": "scattercarpet"
           }
          ],
          "scattergeo": [
           {
            "marker": {
             "colorbar": {
              "outlinewidth": 0,
              "ticks": ""
             }
            },
            "type": "scattergeo"
           }
          ],
          "scattergl": [
           {
            "marker": {
             "colorbar": {
              "outlinewidth": 0,
              "ticks": ""
             }
            },
            "type": "scattergl"
           }
          ],
          "scattermapbox": [
           {
            "marker": {
             "colorbar": {
              "outlinewidth": 0,
              "ticks": ""
             }
            },
            "type": "scattermapbox"
           }
          ],
          "scatterpolar": [
           {
            "marker": {
             "colorbar": {
              "outlinewidth": 0,
              "ticks": ""
             }
            },
            "type": "scatterpolar"
           }
          ],
          "scatterpolargl": [
           {
            "marker": {
             "colorbar": {
              "outlinewidth": 0,
              "ticks": ""
             }
            },
            "type": "scatterpolargl"
           }
          ],
          "scatterternary": [
           {
            "marker": {
             "colorbar": {
              "outlinewidth": 0,
              "ticks": ""
             }
            },
            "type": "scatterternary"
           }
          ],
          "surface": [
           {
            "colorbar": {
             "outlinewidth": 0,
             "ticks": ""
            },
            "colorscale": [
             [
              0,
              "#0d0887"
             ],
             [
              0.1111111111111111,
              "#46039f"
             ],
             [
              0.2222222222222222,
              "#7201a8"
             ],
             [
              0.3333333333333333,
              "#9c179e"
             ],
             [
              0.4444444444444444,
              "#bd3786"
             ],
             [
              0.5555555555555556,
              "#d8576b"
             ],
             [
              0.6666666666666666,
              "#ed7953"
             ],
             [
              0.7777777777777778,
              "#fb9f3a"
             ],
             [
              0.8888888888888888,
              "#fdca26"
             ],
             [
              1,
              "#f0f921"
             ]
            ],
            "type": "surface"
           }
          ],
          "table": [
           {
            "cells": {
             "fill": {
              "color": "#EBF0F8"
             },
             "line": {
              "color": "white"
             }
            },
            "header": {
             "fill": {
              "color": "#C8D4E3"
             },
             "line": {
              "color": "white"
             }
            },
            "type": "table"
           }
          ]
         },
         "layout": {
          "annotationdefaults": {
           "arrowcolor": "#2a3f5f",
           "arrowhead": 0,
           "arrowwidth": 1
          },
          "coloraxis": {
           "colorbar": {
            "outlinewidth": 0,
            "ticks": ""
           }
          },
          "colorscale": {
           "diverging": [
            [
             0,
             "#8e0152"
            ],
            [
             0.1,
             "#c51b7d"
            ],
            [
             0.2,
             "#de77ae"
            ],
            [
             0.3,
             "#f1b6da"
            ],
            [
             0.4,
             "#fde0ef"
            ],
            [
             0.5,
             "#f7f7f7"
            ],
            [
             0.6,
             "#e6f5d0"
            ],
            [
             0.7,
             "#b8e186"
            ],
            [
             0.8,
             "#7fbc41"
            ],
            [
             0.9,
             "#4d9221"
            ],
            [
             1,
             "#276419"
            ]
           ],
           "sequential": [
            [
             0,
             "#0d0887"
            ],
            [
             0.1111111111111111,
             "#46039f"
            ],
            [
             0.2222222222222222,
             "#7201a8"
            ],
            [
             0.3333333333333333,
             "#9c179e"
            ],
            [
             0.4444444444444444,
             "#bd3786"
            ],
            [
             0.5555555555555556,
             "#d8576b"
            ],
            [
             0.6666666666666666,
             "#ed7953"
            ],
            [
             0.7777777777777778,
             "#fb9f3a"
            ],
            [
             0.8888888888888888,
             "#fdca26"
            ],
            [
             1,
             "#f0f921"
            ]
           ],
           "sequentialminus": [
            [
             0,
             "#0d0887"
            ],
            [
             0.1111111111111111,
             "#46039f"
            ],
            [
             0.2222222222222222,
             "#7201a8"
            ],
            [
             0.3333333333333333,
             "#9c179e"
            ],
            [
             0.4444444444444444,
             "#bd3786"
            ],
            [
             0.5555555555555556,
             "#d8576b"
            ],
            [
             0.6666666666666666,
             "#ed7953"
            ],
            [
             0.7777777777777778,
             "#fb9f3a"
            ],
            [
             0.8888888888888888,
             "#fdca26"
            ],
            [
             1,
             "#f0f921"
            ]
           ]
          },
          "colorway": [
           "#636efa",
           "#EF553B",
           "#00cc96",
           "#ab63fa",
           "#FFA15A",
           "#19d3f3",
           "#FF6692",
           "#B6E880",
           "#FF97FF",
           "#FECB52"
          ],
          "font": {
           "color": "#2a3f5f"
          },
          "geo": {
           "bgcolor": "white",
           "lakecolor": "white",
           "landcolor": "#E5ECF6",
           "showlakes": true,
           "showland": true,
           "subunitcolor": "white"
          },
          "hoverlabel": {
           "align": "left"
          },
          "hovermode": "closest",
          "mapbox": {
           "style": "light"
          },
          "paper_bgcolor": "white",
          "plot_bgcolor": "#E5ECF6",
          "polar": {
           "angularaxis": {
            "gridcolor": "white",
            "linecolor": "white",
            "ticks": ""
           },
           "bgcolor": "#E5ECF6",
           "radialaxis": {
            "gridcolor": "white",
            "linecolor": "white",
            "ticks": ""
           }
          },
          "scene": {
           "xaxis": {
            "backgroundcolor": "#E5ECF6",
            "gridcolor": "white",
            "gridwidth": 2,
            "linecolor": "white",
            "showbackground": true,
            "ticks": "",
            "zerolinecolor": "white"
           },
           "yaxis": {
            "backgroundcolor": "#E5ECF6",
            "gridcolor": "white",
            "gridwidth": 2,
            "linecolor": "white",
            "showbackground": true,
            "ticks": "",
            "zerolinecolor": "white"
           },
           "zaxis": {
            "backgroundcolor": "#E5ECF6",
            "gridcolor": "white",
            "gridwidth": 2,
            "linecolor": "white",
            "showbackground": true,
            "ticks": "",
            "zerolinecolor": "white"
           }
          },
          "shapedefaults": {
           "line": {
            "color": "#2a3f5f"
           }
          },
          "ternary": {
           "aaxis": {
            "gridcolor": "white",
            "linecolor": "white",
            "ticks": ""
           },
           "baxis": {
            "gridcolor": "white",
            "linecolor": "white",
            "ticks": ""
           },
           "bgcolor": "#E5ECF6",
           "caxis": {
            "gridcolor": "white",
            "linecolor": "white",
            "ticks": ""
           }
          },
          "title": {
           "x": 0.05
          },
          "xaxis": {
           "automargin": true,
           "gridcolor": "white",
           "linecolor": "white",
           "ticks": "",
           "title": {
            "standoff": 15
           },
           "zerolinecolor": "white",
           "zerolinewidth": 2
          },
          "yaxis": {
           "automargin": true,
           "gridcolor": "white",
           "linecolor": "white",
           "ticks": "",
           "title": {
            "standoff": 15
           },
           "zerolinecolor": "white",
           "zerolinewidth": 2
          }
         }
        },
        "title": {
         "font": {
          "color": "#4D5663"
         }
        },
        "xaxis": {
         "gridcolor": "#E1E5ED",
         "showgrid": true,
         "tickfont": {
          "color": "#4D5663"
         },
         "title": {
          "font": {
           "color": "#4D5663"
          },
          "text": ""
         },
         "zerolinecolor": "#E1E5ED"
        },
        "yaxis": {
         "gridcolor": "#E1E5ED",
         "showgrid": true,
         "tickfont": {
          "color": "#4D5663"
         },
         "title": {
          "font": {
           "color": "#4D5663"
          },
          "text": ""
         },
         "zerolinecolor": "#E1E5ED"
        }
       }
      },
      "text/html": [
       "<div>\n",
       "        \n",
       "        \n",
       "            <div id=\"04c4590f-6767-4a64-a422-ff614df3d980\" class=\"plotly-graph-div\" style=\"height:525px; width:100%;\"></div>\n",
       "            <script type=\"text/javascript\">\n",
       "                require([\"plotly\"], function(Plotly) {\n",
       "                    window.PLOTLYENV=window.PLOTLYENV || {};\n",
       "                    window.PLOTLYENV.BASE_URL='https://plot.ly';\n",
       "                    \n",
       "                if (document.getElementById(\"04c4590f-6767-4a64-a422-ff614df3d980\")) {\n",
       "                    Plotly.newPlot(\n",
       "                        '04c4590f-6767-4a64-a422-ff614df3d980',\n",
       "                        [{\"marker\": {\"color\": \"rgba(255, 153, 51, 0.6)\", \"line\": {\"color\": \"rgba(255, 153, 51, 1.0)\", \"width\": 1}}, \"name\": \"Values\", \"orientation\": \"v\", \"text\": \"\", \"type\": \"bar\", \"x\": [\"A\", \"B\", \"C\"], \"y\": [32, 43, 50]}],\n",
       "                        {\"legend\": {\"bgcolor\": \"#F5F6F9\", \"font\": {\"color\": \"#4D5663\"}}, \"paper_bgcolor\": \"#F5F6F9\", \"plot_bgcolor\": \"#F5F6F9\", \"template\": {\"data\": {\"bar\": [{\"error_x\": {\"color\": \"#2a3f5f\"}, \"error_y\": {\"color\": \"#2a3f5f\"}, \"marker\": {\"line\": {\"color\": \"#E5ECF6\", \"width\": 0.5}}, \"type\": \"bar\"}], \"barpolar\": [{\"marker\": {\"line\": {\"color\": \"#E5ECF6\", \"width\": 0.5}}, \"type\": \"barpolar\"}], \"carpet\": [{\"aaxis\": {\"endlinecolor\": \"#2a3f5f\", \"gridcolor\": \"white\", \"linecolor\": \"white\", \"minorgridcolor\": \"white\", \"startlinecolor\": \"#2a3f5f\"}, \"baxis\": {\"endlinecolor\": \"#2a3f5f\", \"gridcolor\": \"white\", \"linecolor\": \"white\", \"minorgridcolor\": \"white\", \"startlinecolor\": \"#2a3f5f\"}, \"type\": \"carpet\"}], \"choropleth\": [{\"colorbar\": {\"outlinewidth\": 0, \"ticks\": \"\"}, \"type\": \"choropleth\"}], \"contour\": [{\"colorbar\": {\"outlinewidth\": 0, \"ticks\": \"\"}, \"colorscale\": [[0.0, \"#0d0887\"], [0.1111111111111111, \"#46039f\"], [0.2222222222222222, \"#7201a8\"], [0.3333333333333333, \"#9c179e\"], [0.4444444444444444, \"#bd3786\"], [0.5555555555555556, \"#d8576b\"], [0.6666666666666666, \"#ed7953\"], [0.7777777777777778, \"#fb9f3a\"], [0.8888888888888888, \"#fdca26\"], [1.0, \"#f0f921\"]], \"type\": \"contour\"}], \"contourcarpet\": [{\"colorbar\": {\"outlinewidth\": 0, \"ticks\": \"\"}, \"type\": \"contourcarpet\"}], \"heatmap\": [{\"colorbar\": {\"outlinewidth\": 0, \"ticks\": \"\"}, \"colorscale\": [[0.0, \"#0d0887\"], [0.1111111111111111, \"#46039f\"], [0.2222222222222222, \"#7201a8\"], [0.3333333333333333, \"#9c179e\"], [0.4444444444444444, \"#bd3786\"], [0.5555555555555556, \"#d8576b\"], [0.6666666666666666, \"#ed7953\"], [0.7777777777777778, \"#fb9f3a\"], [0.8888888888888888, \"#fdca26\"], [1.0, \"#f0f921\"]], \"type\": \"heatmap\"}], \"heatmapgl\": [{\"colorbar\": {\"outlinewidth\": 0, \"ticks\": \"\"}, \"colorscale\": [[0.0, \"#0d0887\"], [0.1111111111111111, \"#46039f\"], [0.2222222222222222, \"#7201a8\"], [0.3333333333333333, \"#9c179e\"], [0.4444444444444444, \"#bd3786\"], [0.5555555555555556, \"#d8576b\"], [0.6666666666666666, \"#ed7953\"], [0.7777777777777778, \"#fb9f3a\"], [0.8888888888888888, \"#fdca26\"], [1.0, \"#f0f921\"]], \"type\": \"heatmapgl\"}], \"histogram\": [{\"marker\": {\"colorbar\": {\"outlinewidth\": 0, \"ticks\": \"\"}}, \"type\": \"histogram\"}], \"histogram2d\": [{\"colorbar\": {\"outlinewidth\": 0, \"ticks\": \"\"}, \"colorscale\": [[0.0, \"#0d0887\"], [0.1111111111111111, \"#46039f\"], [0.2222222222222222, \"#7201a8\"], [0.3333333333333333, \"#9c179e\"], [0.4444444444444444, \"#bd3786\"], [0.5555555555555556, \"#d8576b\"], [0.6666666666666666, \"#ed7953\"], [0.7777777777777778, \"#fb9f3a\"], [0.8888888888888888, \"#fdca26\"], [1.0, \"#f0f921\"]], \"type\": \"histogram2d\"}], \"histogram2dcontour\": [{\"colorbar\": {\"outlinewidth\": 0, \"ticks\": \"\"}, \"colorscale\": [[0.0, \"#0d0887\"], [0.1111111111111111, \"#46039f\"], [0.2222222222222222, \"#7201a8\"], [0.3333333333333333, \"#9c179e\"], [0.4444444444444444, \"#bd3786\"], [0.5555555555555556, \"#d8576b\"], [0.6666666666666666, \"#ed7953\"], [0.7777777777777778, \"#fb9f3a\"], [0.8888888888888888, \"#fdca26\"], [1.0, \"#f0f921\"]], \"type\": \"histogram2dcontour\"}], \"mesh3d\": [{\"colorbar\": {\"outlinewidth\": 0, \"ticks\": \"\"}, \"type\": \"mesh3d\"}], \"parcoords\": [{\"line\": {\"colorbar\": {\"outlinewidth\": 0, \"ticks\": \"\"}}, \"type\": \"parcoords\"}], \"pie\": [{\"automargin\": true, \"type\": \"pie\"}], \"scatter\": [{\"marker\": {\"colorbar\": {\"outlinewidth\": 0, \"ticks\": \"\"}}, \"type\": \"scatter\"}], \"scatter3d\": [{\"line\": {\"colorbar\": {\"outlinewidth\": 0, \"ticks\": \"\"}}, \"marker\": {\"colorbar\": {\"outlinewidth\": 0, \"ticks\": \"\"}}, \"type\": \"scatter3d\"}], \"scattercarpet\": [{\"marker\": {\"colorbar\": {\"outlinewidth\": 0, \"ticks\": \"\"}}, \"type\": \"scattercarpet\"}], \"scattergeo\": [{\"marker\": {\"colorbar\": {\"outlinewidth\": 0, \"ticks\": \"\"}}, \"type\": \"scattergeo\"}], \"scattergl\": [{\"marker\": {\"colorbar\": {\"outlinewidth\": 0, \"ticks\": \"\"}}, \"type\": \"scattergl\"}], \"scattermapbox\": [{\"marker\": {\"colorbar\": {\"outlinewidth\": 0, \"ticks\": \"\"}}, \"type\": \"scattermapbox\"}], \"scatterpolar\": [{\"marker\": {\"colorbar\": {\"outlinewidth\": 0, \"ticks\": \"\"}}, \"type\": \"scatterpolar\"}], \"scatterpolargl\": [{\"marker\": {\"colorbar\": {\"outlinewidth\": 0, \"ticks\": \"\"}}, \"type\": \"scatterpolargl\"}], \"scatterternary\": [{\"marker\": {\"colorbar\": {\"outlinewidth\": 0, \"ticks\": \"\"}}, \"type\": \"scatterternary\"}], \"surface\": [{\"colorbar\": {\"outlinewidth\": 0, \"ticks\": \"\"}, \"colorscale\": [[0.0, \"#0d0887\"], [0.1111111111111111, \"#46039f\"], [0.2222222222222222, \"#7201a8\"], [0.3333333333333333, \"#9c179e\"], [0.4444444444444444, \"#bd3786\"], [0.5555555555555556, \"#d8576b\"], [0.6666666666666666, \"#ed7953\"], [0.7777777777777778, \"#fb9f3a\"], [0.8888888888888888, \"#fdca26\"], [1.0, \"#f0f921\"]], \"type\": \"surface\"}], \"table\": [{\"cells\": {\"fill\": {\"color\": \"#EBF0F8\"}, \"line\": {\"color\": \"white\"}}, \"header\": {\"fill\": {\"color\": \"#C8D4E3\"}, \"line\": {\"color\": \"white\"}}, \"type\": \"table\"}]}, \"layout\": {\"annotationdefaults\": {\"arrowcolor\": \"#2a3f5f\", \"arrowhead\": 0, \"arrowwidth\": 1}, \"coloraxis\": {\"colorbar\": {\"outlinewidth\": 0, \"ticks\": \"\"}}, \"colorscale\": {\"diverging\": [[0, \"#8e0152\"], [0.1, \"#c51b7d\"], [0.2, \"#de77ae\"], [0.3, \"#f1b6da\"], [0.4, \"#fde0ef\"], [0.5, \"#f7f7f7\"], [0.6, \"#e6f5d0\"], [0.7, \"#b8e186\"], [0.8, \"#7fbc41\"], [0.9, \"#4d9221\"], [1, \"#276419\"]], \"sequential\": [[0.0, \"#0d0887\"], [0.1111111111111111, \"#46039f\"], [0.2222222222222222, \"#7201a8\"], [0.3333333333333333, \"#9c179e\"], [0.4444444444444444, \"#bd3786\"], [0.5555555555555556, \"#d8576b\"], [0.6666666666666666, \"#ed7953\"], [0.7777777777777778, \"#fb9f3a\"], [0.8888888888888888, \"#fdca26\"], [1.0, \"#f0f921\"]], \"sequentialminus\": [[0.0, \"#0d0887\"], [0.1111111111111111, \"#46039f\"], [0.2222222222222222, \"#7201a8\"], [0.3333333333333333, \"#9c179e\"], [0.4444444444444444, \"#bd3786\"], [0.5555555555555556, \"#d8576b\"], [0.6666666666666666, \"#ed7953\"], [0.7777777777777778, \"#fb9f3a\"], [0.8888888888888888, \"#fdca26\"], [1.0, \"#f0f921\"]]}, \"colorway\": [\"#636efa\", \"#EF553B\", \"#00cc96\", \"#ab63fa\", \"#FFA15A\", \"#19d3f3\", \"#FF6692\", \"#B6E880\", \"#FF97FF\", \"#FECB52\"], \"font\": {\"color\": \"#2a3f5f\"}, \"geo\": {\"bgcolor\": \"white\", \"lakecolor\": \"white\", \"landcolor\": \"#E5ECF6\", \"showlakes\": true, \"showland\": true, \"subunitcolor\": \"white\"}, \"hoverlabel\": {\"align\": \"left\"}, \"hovermode\": \"closest\", \"mapbox\": {\"style\": \"light\"}, \"paper_bgcolor\": \"white\", \"plot_bgcolor\": \"#E5ECF6\", \"polar\": {\"angularaxis\": {\"gridcolor\": \"white\", \"linecolor\": \"white\", \"ticks\": \"\"}, \"bgcolor\": \"#E5ECF6\", \"radialaxis\": {\"gridcolor\": \"white\", \"linecolor\": \"white\", \"ticks\": \"\"}}, \"scene\": {\"xaxis\": {\"backgroundcolor\": \"#E5ECF6\", \"gridcolor\": \"white\", \"gridwidth\": 2, \"linecolor\": \"white\", \"showbackground\": true, \"ticks\": \"\", \"zerolinecolor\": \"white\"}, \"yaxis\": {\"backgroundcolor\": \"#E5ECF6\", \"gridcolor\": \"white\", \"gridwidth\": 2, \"linecolor\": \"white\", \"showbackground\": true, \"ticks\": \"\", \"zerolinecolor\": \"white\"}, \"zaxis\": {\"backgroundcolor\": \"#E5ECF6\", \"gridcolor\": \"white\", \"gridwidth\": 2, \"linecolor\": \"white\", \"showbackground\": true, \"ticks\": \"\", \"zerolinecolor\": \"white\"}}, \"shapedefaults\": {\"line\": {\"color\": \"#2a3f5f\"}}, \"ternary\": {\"aaxis\": {\"gridcolor\": \"white\", \"linecolor\": \"white\", \"ticks\": \"\"}, \"baxis\": {\"gridcolor\": \"white\", \"linecolor\": \"white\", \"ticks\": \"\"}, \"bgcolor\": \"#E5ECF6\", \"caxis\": {\"gridcolor\": \"white\", \"linecolor\": \"white\", \"ticks\": \"\"}}, \"title\": {\"x\": 0.05}, \"xaxis\": {\"automargin\": true, \"gridcolor\": \"white\", \"linecolor\": \"white\", \"ticks\": \"\", \"title\": {\"standoff\": 15}, \"zerolinecolor\": \"white\", \"zerolinewidth\": 2}, \"yaxis\": {\"automargin\": true, \"gridcolor\": \"white\", \"linecolor\": \"white\", \"ticks\": \"\", \"title\": {\"standoff\": 15}, \"zerolinecolor\": \"white\", \"zerolinewidth\": 2}}}, \"title\": {\"font\": {\"color\": \"#4D5663\"}}, \"xaxis\": {\"gridcolor\": \"#E1E5ED\", \"showgrid\": true, \"tickfont\": {\"color\": \"#4D5663\"}, \"title\": {\"font\": {\"color\": \"#4D5663\"}, \"text\": \"\"}, \"zerolinecolor\": \"#E1E5ED\"}, \"yaxis\": {\"gridcolor\": \"#E1E5ED\", \"showgrid\": true, \"tickfont\": {\"color\": \"#4D5663\"}, \"title\": {\"font\": {\"color\": \"#4D5663\"}, \"text\": \"\"}, \"zerolinecolor\": \"#E1E5ED\"}},\n",
       "                        {\"showLink\": true, \"linkText\": \"Export to plot.ly\", \"plotlyServerURL\": \"https://plot.ly\", \"responsive\": true}\n",
       "                    ).then(function(){\n",
       "                            \n",
       "var gd = document.getElementById('04c4590f-6767-4a64-a422-ff614df3d980');\n",
       "var x = new MutationObserver(function (mutations, observer) {{\n",
       "        var display = window.getComputedStyle(gd).display;\n",
       "        if (!display || display === 'none') {{\n",
       "            console.log([gd, 'removed!']);\n",
       "            Plotly.purge(gd);\n",
       "            observer.disconnect();\n",
       "        }}\n",
       "}});\n",
       "\n",
       "// Listen for the removal of the full notebook cells\n",
       "var notebookContainer = gd.closest('#notebook-container');\n",
       "if (notebookContainer) {{\n",
       "    x.observe(notebookContainer, {childList: true});\n",
       "}}\n",
       "\n",
       "// Listen for the clearing of the current output cell\n",
       "var outputEl = gd.closest('.output');\n",
       "if (outputEl) {{\n",
       "    x.observe(outputEl, {childList: true});\n",
       "}}\n",
       "\n",
       "                        })\n",
       "                };\n",
       "                });\n",
       "            </script>\n",
       "        </div>"
      ]
     },
     "metadata": {},
     "output_type": "display_data"
    }
   ],
   "source": [
    "df2.iplot(kind = 'bar', x = 'Category', y = 'Values')"
   ]
  },
  {
   "cell_type": "code",
   "execution_count": 18,
   "metadata": {},
   "outputs": [
    {
     "data": {
      "application/vnd.plotly.v1+json": {
       "config": {
        "linkText": "Export to plot.ly",
        "plotlyServerURL": "https://plot.ly",
        "showLink": true
       },
       "data": [
        {
         "marker": {
          "color": "rgba(255, 153, 51, 0.6)",
          "line": {
           "color": "rgba(255, 153, 51, 1.0)",
           "width": 1
          }
         },
         "name": "None",
         "orientation": "v",
         "text": "",
         "type": "bar",
         "x": [
          "A",
          "B",
          "C",
          "D"
         ],
         "y": [
          -4.297095768926356,
          8.68442174795589,
          14.3429991229545,
          11.917214812350261
         ]
        }
       ],
       "layout": {
        "legend": {
         "bgcolor": "#F5F6F9",
         "font": {
          "color": "#4D5663"
         }
        },
        "paper_bgcolor": "#F5F6F9",
        "plot_bgcolor": "#F5F6F9",
        "template": {
         "data": {
          "bar": [
           {
            "error_x": {
             "color": "#2a3f5f"
            },
            "error_y": {
             "color": "#2a3f5f"
            },
            "marker": {
             "line": {
              "color": "#E5ECF6",
              "width": 0.5
             }
            },
            "type": "bar"
           }
          ],
          "barpolar": [
           {
            "marker": {
             "line": {
              "color": "#E5ECF6",
              "width": 0.5
             }
            },
            "type": "barpolar"
           }
          ],
          "carpet": [
           {
            "aaxis": {
             "endlinecolor": "#2a3f5f",
             "gridcolor": "white",
             "linecolor": "white",
             "minorgridcolor": "white",
             "startlinecolor": "#2a3f5f"
            },
            "baxis": {
             "endlinecolor": "#2a3f5f",
             "gridcolor": "white",
             "linecolor": "white",
             "minorgridcolor": "white",
             "startlinecolor": "#2a3f5f"
            },
            "type": "carpet"
           }
          ],
          "choropleth": [
           {
            "colorbar": {
             "outlinewidth": 0,
             "ticks": ""
            },
            "type": "choropleth"
           }
          ],
          "contour": [
           {
            "colorbar": {
             "outlinewidth": 0,
             "ticks": ""
            },
            "colorscale": [
             [
              0,
              "#0d0887"
             ],
             [
              0.1111111111111111,
              "#46039f"
             ],
             [
              0.2222222222222222,
              "#7201a8"
             ],
             [
              0.3333333333333333,
              "#9c179e"
             ],
             [
              0.4444444444444444,
              "#bd3786"
             ],
             [
              0.5555555555555556,
              "#d8576b"
             ],
             [
              0.6666666666666666,
              "#ed7953"
             ],
             [
              0.7777777777777778,
              "#fb9f3a"
             ],
             [
              0.8888888888888888,
              "#fdca26"
             ],
             [
              1,
              "#f0f921"
             ]
            ],
            "type": "contour"
           }
          ],
          "contourcarpet": [
           {
            "colorbar": {
             "outlinewidth": 0,
             "ticks": ""
            },
            "type": "contourcarpet"
           }
          ],
          "heatmap": [
           {
            "colorbar": {
             "outlinewidth": 0,
             "ticks": ""
            },
            "colorscale": [
             [
              0,
              "#0d0887"
             ],
             [
              0.1111111111111111,
              "#46039f"
             ],
             [
              0.2222222222222222,
              "#7201a8"
             ],
             [
              0.3333333333333333,
              "#9c179e"
             ],
             [
              0.4444444444444444,
              "#bd3786"
             ],
             [
              0.5555555555555556,
              "#d8576b"
             ],
             [
              0.6666666666666666,
              "#ed7953"
             ],
             [
              0.7777777777777778,
              "#fb9f3a"
             ],
             [
              0.8888888888888888,
              "#fdca26"
             ],
             [
              1,
              "#f0f921"
             ]
            ],
            "type": "heatmap"
           }
          ],
          "heatmapgl": [
           {
            "colorbar": {
             "outlinewidth": 0,
             "ticks": ""
            },
            "colorscale": [
             [
              0,
              "#0d0887"
             ],
             [
              0.1111111111111111,
              "#46039f"
             ],
             [
              0.2222222222222222,
              "#7201a8"
             ],
             [
              0.3333333333333333,
              "#9c179e"
             ],
             [
              0.4444444444444444,
              "#bd3786"
             ],
             [
              0.5555555555555556,
              "#d8576b"
             ],
             [
              0.6666666666666666,
              "#ed7953"
             ],
             [
              0.7777777777777778,
              "#fb9f3a"
             ],
             [
              0.8888888888888888,
              "#fdca26"
             ],
             [
              1,
              "#f0f921"
             ]
            ],
            "type": "heatmapgl"
           }
          ],
          "histogram": [
           {
            "marker": {
             "colorbar": {
              "outlinewidth": 0,
              "ticks": ""
             }
            },
            "type": "histogram"
           }
          ],
          "histogram2d": [
           {
            "colorbar": {
             "outlinewidth": 0,
             "ticks": ""
            },
            "colorscale": [
             [
              0,
              "#0d0887"
             ],
             [
              0.1111111111111111,
              "#46039f"
             ],
             [
              0.2222222222222222,
              "#7201a8"
             ],
             [
              0.3333333333333333,
              "#9c179e"
             ],
             [
              0.4444444444444444,
              "#bd3786"
             ],
             [
              0.5555555555555556,
              "#d8576b"
             ],
             [
              0.6666666666666666,
              "#ed7953"
             ],
             [
              0.7777777777777778,
              "#fb9f3a"
             ],
             [
              0.8888888888888888,
              "#fdca26"
             ],
             [
              1,
              "#f0f921"
             ]
            ],
            "type": "histogram2d"
           }
          ],
          "histogram2dcontour": [
           {
            "colorbar": {
             "outlinewidth": 0,
             "ticks": ""
            },
            "colorscale": [
             [
              0,
              "#0d0887"
             ],
             [
              0.1111111111111111,
              "#46039f"
             ],
             [
              0.2222222222222222,
              "#7201a8"
             ],
             [
              0.3333333333333333,
              "#9c179e"
             ],
             [
              0.4444444444444444,
              "#bd3786"
             ],
             [
              0.5555555555555556,
              "#d8576b"
             ],
             [
              0.6666666666666666,
              "#ed7953"
             ],
             [
              0.7777777777777778,
              "#fb9f3a"
             ],
             [
              0.8888888888888888,
              "#fdca26"
             ],
             [
              1,
              "#f0f921"
             ]
            ],
            "type": "histogram2dcontour"
           }
          ],
          "mesh3d": [
           {
            "colorbar": {
             "outlinewidth": 0,
             "ticks": ""
            },
            "type": "mesh3d"
           }
          ],
          "parcoords": [
           {
            "line": {
             "colorbar": {
              "outlinewidth": 0,
              "ticks": ""
             }
            },
            "type": "parcoords"
           }
          ],
          "pie": [
           {
            "automargin": true,
            "type": "pie"
           }
          ],
          "scatter": [
           {
            "marker": {
             "colorbar": {
              "outlinewidth": 0,
              "ticks": ""
             }
            },
            "type": "scatter"
           }
          ],
          "scatter3d": [
           {
            "line": {
             "colorbar": {
              "outlinewidth": 0,
              "ticks": ""
             }
            },
            "marker": {
             "colorbar": {
              "outlinewidth": 0,
              "ticks": ""
             }
            },
            "type": "scatter3d"
           }
          ],
          "scattercarpet": [
           {
            "marker": {
             "colorbar": {
              "outlinewidth": 0,
              "ticks": ""
             }
            },
            "type": "scattercarpet"
           }
          ],
          "scattergeo": [
           {
            "marker": {
             "colorbar": {
              "outlinewidth": 0,
              "ticks": ""
             }
            },
            "type": "scattergeo"
           }
          ],
          "scattergl": [
           {
            "marker": {
             "colorbar": {
              "outlinewidth": 0,
              "ticks": ""
             }
            },
            "type": "scattergl"
           }
          ],
          "scattermapbox": [
           {
            "marker": {
             "colorbar": {
              "outlinewidth": 0,
              "ticks": ""
             }
            },
            "type": "scattermapbox"
           }
          ],
          "scatterpolar": [
           {
            "marker": {
             "colorbar": {
              "outlinewidth": 0,
              "ticks": ""
             }
            },
            "type": "scatterpolar"
           }
          ],
          "scatterpolargl": [
           {
            "marker": {
             "colorbar": {
              "outlinewidth": 0,
              "ticks": ""
             }
            },
            "type": "scatterpolargl"
           }
          ],
          "scatterternary": [
           {
            "marker": {
             "colorbar": {
              "outlinewidth": 0,
              "ticks": ""
             }
            },
            "type": "scatterternary"
           }
          ],
          "surface": [
           {
            "colorbar": {
             "outlinewidth": 0,
             "ticks": ""
            },
            "colorscale": [
             [
              0,
              "#0d0887"
             ],
             [
              0.1111111111111111,
              "#46039f"
             ],
             [
              0.2222222222222222,
              "#7201a8"
             ],
             [
              0.3333333333333333,
              "#9c179e"
             ],
             [
              0.4444444444444444,
              "#bd3786"
             ],
             [
              0.5555555555555556,
              "#d8576b"
             ],
             [
              0.6666666666666666,
              "#ed7953"
             ],
             [
              0.7777777777777778,
              "#fb9f3a"
             ],
             [
              0.8888888888888888,
              "#fdca26"
             ],
             [
              1,
              "#f0f921"
             ]
            ],
            "type": "surface"
           }
          ],
          "table": [
           {
            "cells": {
             "fill": {
              "color": "#EBF0F8"
             },
             "line": {
              "color": "white"
             }
            },
            "header": {
             "fill": {
              "color": "#C8D4E3"
             },
             "line": {
              "color": "white"
             }
            },
            "type": "table"
           }
          ]
         },
         "layout": {
          "annotationdefaults": {
           "arrowcolor": "#2a3f5f",
           "arrowhead": 0,
           "arrowwidth": 1
          },
          "coloraxis": {
           "colorbar": {
            "outlinewidth": 0,
            "ticks": ""
           }
          },
          "colorscale": {
           "diverging": [
            [
             0,
             "#8e0152"
            ],
            [
             0.1,
             "#c51b7d"
            ],
            [
             0.2,
             "#de77ae"
            ],
            [
             0.3,
             "#f1b6da"
            ],
            [
             0.4,
             "#fde0ef"
            ],
            [
             0.5,
             "#f7f7f7"
            ],
            [
             0.6,
             "#e6f5d0"
            ],
            [
             0.7,
             "#b8e186"
            ],
            [
             0.8,
             "#7fbc41"
            ],
            [
             0.9,
             "#4d9221"
            ],
            [
             1,
             "#276419"
            ]
           ],
           "sequential": [
            [
             0,
             "#0d0887"
            ],
            [
             0.1111111111111111,
             "#46039f"
            ],
            [
             0.2222222222222222,
             "#7201a8"
            ],
            [
             0.3333333333333333,
             "#9c179e"
            ],
            [
             0.4444444444444444,
             "#bd3786"
            ],
            [
             0.5555555555555556,
             "#d8576b"
            ],
            [
             0.6666666666666666,
             "#ed7953"
            ],
            [
             0.7777777777777778,
             "#fb9f3a"
            ],
            [
             0.8888888888888888,
             "#fdca26"
            ],
            [
             1,
             "#f0f921"
            ]
           ],
           "sequentialminus": [
            [
             0,
             "#0d0887"
            ],
            [
             0.1111111111111111,
             "#46039f"
            ],
            [
             0.2222222222222222,
             "#7201a8"
            ],
            [
             0.3333333333333333,
             "#9c179e"
            ],
            [
             0.4444444444444444,
             "#bd3786"
            ],
            [
             0.5555555555555556,
             "#d8576b"
            ],
            [
             0.6666666666666666,
             "#ed7953"
            ],
            [
             0.7777777777777778,
             "#fb9f3a"
            ],
            [
             0.8888888888888888,
             "#fdca26"
            ],
            [
             1,
             "#f0f921"
            ]
           ]
          },
          "colorway": [
           "#636efa",
           "#EF553B",
           "#00cc96",
           "#ab63fa",
           "#FFA15A",
           "#19d3f3",
           "#FF6692",
           "#B6E880",
           "#FF97FF",
           "#FECB52"
          ],
          "font": {
           "color": "#2a3f5f"
          },
          "geo": {
           "bgcolor": "white",
           "lakecolor": "white",
           "landcolor": "#E5ECF6",
           "showlakes": true,
           "showland": true,
           "subunitcolor": "white"
          },
          "hoverlabel": {
           "align": "left"
          },
          "hovermode": "closest",
          "mapbox": {
           "style": "light"
          },
          "paper_bgcolor": "white",
          "plot_bgcolor": "#E5ECF6",
          "polar": {
           "angularaxis": {
            "gridcolor": "white",
            "linecolor": "white",
            "ticks": ""
           },
           "bgcolor": "#E5ECF6",
           "radialaxis": {
            "gridcolor": "white",
            "linecolor": "white",
            "ticks": ""
           }
          },
          "scene": {
           "xaxis": {
            "backgroundcolor": "#E5ECF6",
            "gridcolor": "white",
            "gridwidth": 2,
            "linecolor": "white",
            "showbackground": true,
            "ticks": "",
            "zerolinecolor": "white"
           },
           "yaxis": {
            "backgroundcolor": "#E5ECF6",
            "gridcolor": "white",
            "gridwidth": 2,
            "linecolor": "white",
            "showbackground": true,
            "ticks": "",
            "zerolinecolor": "white"
           },
           "zaxis": {
            "backgroundcolor": "#E5ECF6",
            "gridcolor": "white",
            "gridwidth": 2,
            "linecolor": "white",
            "showbackground": true,
            "ticks": "",
            "zerolinecolor": "white"
           }
          },
          "shapedefaults": {
           "line": {
            "color": "#2a3f5f"
           }
          },
          "ternary": {
           "aaxis": {
            "gridcolor": "white",
            "linecolor": "white",
            "ticks": ""
           },
           "baxis": {
            "gridcolor": "white",
            "linecolor": "white",
            "ticks": ""
           },
           "bgcolor": "#E5ECF6",
           "caxis": {
            "gridcolor": "white",
            "linecolor": "white",
            "ticks": ""
           }
          },
          "title": {
           "x": 0.05
          },
          "xaxis": {
           "automargin": true,
           "gridcolor": "white",
           "linecolor": "white",
           "ticks": "",
           "title": {
            "standoff": 15
           },
           "zerolinecolor": "white",
           "zerolinewidth": 2
          },
          "yaxis": {
           "automargin": true,
           "gridcolor": "white",
           "linecolor": "white",
           "ticks": "",
           "title": {
            "standoff": 15
           },
           "zerolinecolor": "white",
           "zerolinewidth": 2
          }
         }
        },
        "title": {
         "font": {
          "color": "#4D5663"
         }
        },
        "xaxis": {
         "gridcolor": "#E1E5ED",
         "showgrid": true,
         "tickfont": {
          "color": "#4D5663"
         },
         "title": {
          "font": {
           "color": "#4D5663"
          },
          "text": ""
         },
         "zerolinecolor": "#E1E5ED"
        },
        "yaxis": {
         "gridcolor": "#E1E5ED",
         "showgrid": true,
         "tickfont": {
          "color": "#4D5663"
         },
         "title": {
          "font": {
           "color": "#4D5663"
          },
          "text": ""
         },
         "zerolinecolor": "#E1E5ED"
        }
       }
      },
      "text/html": [
       "<div>\n",
       "        \n",
       "        \n",
       "            <div id=\"5015dd2f-ff7c-4d10-8140-dc52a08c9cc5\" class=\"plotly-graph-div\" style=\"height:525px; width:100%;\"></div>\n",
       "            <script type=\"text/javascript\">\n",
       "                require([\"plotly\"], function(Plotly) {\n",
       "                    window.PLOTLYENV=window.PLOTLYENV || {};\n",
       "                    window.PLOTLYENV.BASE_URL='https://plot.ly';\n",
       "                    \n",
       "                if (document.getElementById(\"5015dd2f-ff7c-4d10-8140-dc52a08c9cc5\")) {\n",
       "                    Plotly.newPlot(\n",
       "                        '5015dd2f-ff7c-4d10-8140-dc52a08c9cc5',\n",
       "                        [{\"marker\": {\"color\": \"rgba(255, 153, 51, 0.6)\", \"line\": {\"color\": \"rgba(255, 153, 51, 1.0)\", \"width\": 1}}, \"name\": \"None\", \"orientation\": \"v\", \"text\": \"\", \"type\": \"bar\", \"x\": [\"A\", \"B\", \"C\", \"D\"], \"y\": [-4.297095768926356, 8.68442174795589, 14.3429991229545, 11.917214812350261]}],\n",
       "                        {\"legend\": {\"bgcolor\": \"#F5F6F9\", \"font\": {\"color\": \"#4D5663\"}}, \"paper_bgcolor\": \"#F5F6F9\", \"plot_bgcolor\": \"#F5F6F9\", \"template\": {\"data\": {\"bar\": [{\"error_x\": {\"color\": \"#2a3f5f\"}, \"error_y\": {\"color\": \"#2a3f5f\"}, \"marker\": {\"line\": {\"color\": \"#E5ECF6\", \"width\": 0.5}}, \"type\": \"bar\"}], \"barpolar\": [{\"marker\": {\"line\": {\"color\": \"#E5ECF6\", \"width\": 0.5}}, \"type\": \"barpolar\"}], \"carpet\": [{\"aaxis\": {\"endlinecolor\": \"#2a3f5f\", \"gridcolor\": \"white\", \"linecolor\": \"white\", \"minorgridcolor\": \"white\", \"startlinecolor\": \"#2a3f5f\"}, \"baxis\": {\"endlinecolor\": \"#2a3f5f\", \"gridcolor\": \"white\", \"linecolor\": \"white\", \"minorgridcolor\": \"white\", \"startlinecolor\": \"#2a3f5f\"}, \"type\": \"carpet\"}], \"choropleth\": [{\"colorbar\": {\"outlinewidth\": 0, \"ticks\": \"\"}, \"type\": \"choropleth\"}], \"contour\": [{\"colorbar\": {\"outlinewidth\": 0, \"ticks\": \"\"}, \"colorscale\": [[0.0, \"#0d0887\"], [0.1111111111111111, \"#46039f\"], [0.2222222222222222, \"#7201a8\"], [0.3333333333333333, \"#9c179e\"], [0.4444444444444444, \"#bd3786\"], [0.5555555555555556, \"#d8576b\"], [0.6666666666666666, \"#ed7953\"], [0.7777777777777778, \"#fb9f3a\"], [0.8888888888888888, \"#fdca26\"], [1.0, \"#f0f921\"]], \"type\": \"contour\"}], \"contourcarpet\": [{\"colorbar\": {\"outlinewidth\": 0, \"ticks\": \"\"}, \"type\": \"contourcarpet\"}], \"heatmap\": [{\"colorbar\": {\"outlinewidth\": 0, \"ticks\": \"\"}, \"colorscale\": [[0.0, \"#0d0887\"], [0.1111111111111111, \"#46039f\"], [0.2222222222222222, \"#7201a8\"], [0.3333333333333333, \"#9c179e\"], [0.4444444444444444, \"#bd3786\"], [0.5555555555555556, \"#d8576b\"], [0.6666666666666666, \"#ed7953\"], [0.7777777777777778, \"#fb9f3a\"], [0.8888888888888888, \"#fdca26\"], [1.0, \"#f0f921\"]], \"type\": \"heatmap\"}], \"heatmapgl\": [{\"colorbar\": {\"outlinewidth\": 0, \"ticks\": \"\"}, \"colorscale\": [[0.0, \"#0d0887\"], [0.1111111111111111, \"#46039f\"], [0.2222222222222222, \"#7201a8\"], [0.3333333333333333, \"#9c179e\"], [0.4444444444444444, \"#bd3786\"], [0.5555555555555556, \"#d8576b\"], [0.6666666666666666, \"#ed7953\"], [0.7777777777777778, \"#fb9f3a\"], [0.8888888888888888, \"#fdca26\"], [1.0, \"#f0f921\"]], \"type\": \"heatmapgl\"}], \"histogram\": [{\"marker\": {\"colorbar\": {\"outlinewidth\": 0, \"ticks\": \"\"}}, \"type\": \"histogram\"}], \"histogram2d\": [{\"colorbar\": {\"outlinewidth\": 0, \"ticks\": \"\"}, \"colorscale\": [[0.0, \"#0d0887\"], [0.1111111111111111, \"#46039f\"], [0.2222222222222222, \"#7201a8\"], [0.3333333333333333, \"#9c179e\"], [0.4444444444444444, \"#bd3786\"], [0.5555555555555556, \"#d8576b\"], [0.6666666666666666, \"#ed7953\"], [0.7777777777777778, \"#fb9f3a\"], [0.8888888888888888, \"#fdca26\"], [1.0, \"#f0f921\"]], \"type\": \"histogram2d\"}], \"histogram2dcontour\": [{\"colorbar\": {\"outlinewidth\": 0, \"ticks\": \"\"}, \"colorscale\": [[0.0, \"#0d0887\"], [0.1111111111111111, \"#46039f\"], [0.2222222222222222, \"#7201a8\"], [0.3333333333333333, \"#9c179e\"], [0.4444444444444444, \"#bd3786\"], [0.5555555555555556, \"#d8576b\"], [0.6666666666666666, \"#ed7953\"], [0.7777777777777778, \"#fb9f3a\"], [0.8888888888888888, \"#fdca26\"], [1.0, \"#f0f921\"]], \"type\": \"histogram2dcontour\"}], \"mesh3d\": [{\"colorbar\": {\"outlinewidth\": 0, \"ticks\": \"\"}, \"type\": \"mesh3d\"}], \"parcoords\": [{\"line\": {\"colorbar\": {\"outlinewidth\": 0, \"ticks\": \"\"}}, \"type\": \"parcoords\"}], \"pie\": [{\"automargin\": true, \"type\": \"pie\"}], \"scatter\": [{\"marker\": {\"colorbar\": {\"outlinewidth\": 0, \"ticks\": \"\"}}, \"type\": \"scatter\"}], \"scatter3d\": [{\"line\": {\"colorbar\": {\"outlinewidth\": 0, \"ticks\": \"\"}}, \"marker\": {\"colorbar\": {\"outlinewidth\": 0, \"ticks\": \"\"}}, \"type\": \"scatter3d\"}], \"scattercarpet\": [{\"marker\": {\"colorbar\": {\"outlinewidth\": 0, \"ticks\": \"\"}}, \"type\": \"scattercarpet\"}], \"scattergeo\": [{\"marker\": {\"colorbar\": {\"outlinewidth\": 0, \"ticks\": \"\"}}, \"type\": \"scattergeo\"}], \"scattergl\": [{\"marker\": {\"colorbar\": {\"outlinewidth\": 0, \"ticks\": \"\"}}, \"type\": \"scattergl\"}], \"scattermapbox\": [{\"marker\": {\"colorbar\": {\"outlinewidth\": 0, \"ticks\": \"\"}}, \"type\": \"scattermapbox\"}], \"scatterpolar\": [{\"marker\": {\"colorbar\": {\"outlinewidth\": 0, \"ticks\": \"\"}}, \"type\": \"scatterpolar\"}], \"scatterpolargl\": [{\"marker\": {\"colorbar\": {\"outlinewidth\": 0, \"ticks\": \"\"}}, \"type\": \"scatterpolargl\"}], \"scatterternary\": [{\"marker\": {\"colorbar\": {\"outlinewidth\": 0, \"ticks\": \"\"}}, \"type\": \"scatterternary\"}], \"surface\": [{\"colorbar\": {\"outlinewidth\": 0, \"ticks\": \"\"}, \"colorscale\": [[0.0, \"#0d0887\"], [0.1111111111111111, \"#46039f\"], [0.2222222222222222, \"#7201a8\"], [0.3333333333333333, \"#9c179e\"], [0.4444444444444444, \"#bd3786\"], [0.5555555555555556, \"#d8576b\"], [0.6666666666666666, \"#ed7953\"], [0.7777777777777778, \"#fb9f3a\"], [0.8888888888888888, \"#fdca26\"], [1.0, \"#f0f921\"]], \"type\": \"surface\"}], \"table\": [{\"cells\": {\"fill\": {\"color\": \"#EBF0F8\"}, \"line\": {\"color\": \"white\"}}, \"header\": {\"fill\": {\"color\": \"#C8D4E3\"}, \"line\": {\"color\": \"white\"}}, \"type\": \"table\"}]}, \"layout\": {\"annotationdefaults\": {\"arrowcolor\": \"#2a3f5f\", \"arrowhead\": 0, \"arrowwidth\": 1}, \"coloraxis\": {\"colorbar\": {\"outlinewidth\": 0, \"ticks\": \"\"}}, \"colorscale\": {\"diverging\": [[0, \"#8e0152\"], [0.1, \"#c51b7d\"], [0.2, \"#de77ae\"], [0.3, \"#f1b6da\"], [0.4, \"#fde0ef\"], [0.5, \"#f7f7f7\"], [0.6, \"#e6f5d0\"], [0.7, \"#b8e186\"], [0.8, \"#7fbc41\"], [0.9, \"#4d9221\"], [1, \"#276419\"]], \"sequential\": [[0.0, \"#0d0887\"], [0.1111111111111111, \"#46039f\"], [0.2222222222222222, \"#7201a8\"], [0.3333333333333333, \"#9c179e\"], [0.4444444444444444, \"#bd3786\"], [0.5555555555555556, \"#d8576b\"], [0.6666666666666666, \"#ed7953\"], [0.7777777777777778, \"#fb9f3a\"], [0.8888888888888888, \"#fdca26\"], [1.0, \"#f0f921\"]], \"sequentialminus\": [[0.0, \"#0d0887\"], [0.1111111111111111, \"#46039f\"], [0.2222222222222222, \"#7201a8\"], [0.3333333333333333, \"#9c179e\"], [0.4444444444444444, \"#bd3786\"], [0.5555555555555556, \"#d8576b\"], [0.6666666666666666, \"#ed7953\"], [0.7777777777777778, \"#fb9f3a\"], [0.8888888888888888, \"#fdca26\"], [1.0, \"#f0f921\"]]}, \"colorway\": [\"#636efa\", \"#EF553B\", \"#00cc96\", \"#ab63fa\", \"#FFA15A\", \"#19d3f3\", \"#FF6692\", \"#B6E880\", \"#FF97FF\", \"#FECB52\"], \"font\": {\"color\": \"#2a3f5f\"}, \"geo\": {\"bgcolor\": \"white\", \"lakecolor\": \"white\", \"landcolor\": \"#E5ECF6\", \"showlakes\": true, \"showland\": true, \"subunitcolor\": \"white\"}, \"hoverlabel\": {\"align\": \"left\"}, \"hovermode\": \"closest\", \"mapbox\": {\"style\": \"light\"}, \"paper_bgcolor\": \"white\", \"plot_bgcolor\": \"#E5ECF6\", \"polar\": {\"angularaxis\": {\"gridcolor\": \"white\", \"linecolor\": \"white\", \"ticks\": \"\"}, \"bgcolor\": \"#E5ECF6\", \"radialaxis\": {\"gridcolor\": \"white\", \"linecolor\": \"white\", \"ticks\": \"\"}}, \"scene\": {\"xaxis\": {\"backgroundcolor\": \"#E5ECF6\", \"gridcolor\": \"white\", \"gridwidth\": 2, \"linecolor\": \"white\", \"showbackground\": true, \"ticks\": \"\", \"zerolinecolor\": \"white\"}, \"yaxis\": {\"backgroundcolor\": \"#E5ECF6\", \"gridcolor\": \"white\", \"gridwidth\": 2, \"linecolor\": \"white\", \"showbackground\": true, \"ticks\": \"\", \"zerolinecolor\": \"white\"}, \"zaxis\": {\"backgroundcolor\": \"#E5ECF6\", \"gridcolor\": \"white\", \"gridwidth\": 2, \"linecolor\": \"white\", \"showbackground\": true, \"ticks\": \"\", \"zerolinecolor\": \"white\"}}, \"shapedefaults\": {\"line\": {\"color\": \"#2a3f5f\"}}, \"ternary\": {\"aaxis\": {\"gridcolor\": \"white\", \"linecolor\": \"white\", \"ticks\": \"\"}, \"baxis\": {\"gridcolor\": \"white\", \"linecolor\": \"white\", \"ticks\": \"\"}, \"bgcolor\": \"#E5ECF6\", \"caxis\": {\"gridcolor\": \"white\", \"linecolor\": \"white\", \"ticks\": \"\"}}, \"title\": {\"x\": 0.05}, \"xaxis\": {\"automargin\": true, \"gridcolor\": \"white\", \"linecolor\": \"white\", \"ticks\": \"\", \"title\": {\"standoff\": 15}, \"zerolinecolor\": \"white\", \"zerolinewidth\": 2}, \"yaxis\": {\"automargin\": true, \"gridcolor\": \"white\", \"linecolor\": \"white\", \"ticks\": \"\", \"title\": {\"standoff\": 15}, \"zerolinecolor\": \"white\", \"zerolinewidth\": 2}}}, \"title\": {\"font\": {\"color\": \"#4D5663\"}}, \"xaxis\": {\"gridcolor\": \"#E1E5ED\", \"showgrid\": true, \"tickfont\": {\"color\": \"#4D5663\"}, \"title\": {\"font\": {\"color\": \"#4D5663\"}, \"text\": \"\"}, \"zerolinecolor\": \"#E1E5ED\"}, \"yaxis\": {\"gridcolor\": \"#E1E5ED\", \"showgrid\": true, \"tickfont\": {\"color\": \"#4D5663\"}, \"title\": {\"font\": {\"color\": \"#4D5663\"}, \"text\": \"\"}, \"zerolinecolor\": \"#E1E5ED\"}},\n",
       "                        {\"showLink\": true, \"linkText\": \"Export to plot.ly\", \"plotlyServerURL\": \"https://plot.ly\", \"responsive\": true}\n",
       "                    ).then(function(){\n",
       "                            \n",
       "var gd = document.getElementById('5015dd2f-ff7c-4d10-8140-dc52a08c9cc5');\n",
       "var x = new MutationObserver(function (mutations, observer) {{\n",
       "        var display = window.getComputedStyle(gd).display;\n",
       "        if (!display || display === 'none') {{\n",
       "            console.log([gd, 'removed!']);\n",
       "            Plotly.purge(gd);\n",
       "            observer.disconnect();\n",
       "        }}\n",
       "}});\n",
       "\n",
       "// Listen for the removal of the full notebook cells\n",
       "var notebookContainer = gd.closest('#notebook-container');\n",
       "if (notebookContainer) {{\n",
       "    x.observe(notebookContainer, {childList: true});\n",
       "}}\n",
       "\n",
       "// Listen for the clearing of the current output cell\n",
       "var outputEl = gd.closest('.output');\n",
       "if (outputEl) {{\n",
       "    x.observe(outputEl, {childList: true});\n",
       "}}\n",
       "\n",
       "                        })\n",
       "                };\n",
       "                });\n",
       "            </script>\n",
       "        </div>"
      ]
     },
     "metadata": {},
     "output_type": "display_data"
    }
   ],
   "source": [
    "#we can use groupby to get the data in a format that makes sense to plot as a bar\n",
    "df.sum().iplot(kind = 'bar')"
   ]
  },
  {
   "cell_type": "code",
   "execution_count": 19,
   "metadata": {},
   "outputs": [
    {
     "data": {
      "application/vnd.plotly.v1+json": {
       "config": {
        "linkText": "Export to plot.ly",
        "plotlyServerURL": "https://plot.ly",
        "showLink": true
       },
       "data": [
        {
         "boxpoints": false,
         "line": {
          "width": 1.3
         },
         "marker": {
          "color": "rgba(255, 153, 51, 1.0)"
         },
         "name": "A",
         "orientation": "v",
         "type": "box",
         "y": [
          0.6326127038985268,
          -0.14548579553446406,
          -0.34393948885963876,
          0.3519190014943898,
          0.7107141402638056,
          0.054448005118226145,
          0.31478965626513306,
          1.9337649291692833,
          -2.4104902799178225,
          -1.2453604990808071,
          1.098206494038972,
          -0.4728839209634316,
          1.01350221056353,
          -1.2005069730171412,
          2.2182955208107384,
          -0.5776216990016312,
          -1.4108161826851844,
          -0.7196052814859598,
          -0.8521024791986744,
          -2.395667214325212,
          0.6135391862466687,
          -0.5459430342243888,
          -1.5060792667559042,
          0.8667742499584937,
          -1.1701546987241738,
          -0.08603577043546688,
          -1.4225646891991002,
          1.5097413246515126,
          -0.866990537216288,
          0.36179214184957503,
          -0.045414828943426265,
          -1.1565623260261002,
          -0.3142975279995353,
          0.27781931010361094,
          0.13924531458794118,
          0.5592464910210235,
          1.4967131118300432,
          -1.2053072838699337,
          0.9797694054889248,
          -0.8849615612000583,
          -0.3811985872358258,
          1.2480856601545274,
          0.21658187897293008,
          -0.6983120986704753,
          -0.4513805948645634,
          0.5580842538719136,
          1.7496795737545083,
          -0.9879645518593242,
          -0.06721474521065876,
          0.5035528575835836,
          0.6186851606665685,
          0.0653038262993778,
          -2.3426270634798825,
          0.647611947402595,
          0.219685903854224,
          0.9076116925247123,
          0.27528312732947663,
          0.8846370584865045,
          -0.4307631060841758,
          1.6065913463104657,
          -0.3435107836865878,
          -1.2569208272167436,
          1.1982153725983713,
          -0.5624178050751879,
          -1.7559287574848392,
          -0.774560168600139,
          0.49075843422998716,
          0.19013438750868822,
          -0.10736136841934604,
          -0.7563320343420211,
          -0.912488191626346,
          0.47780470406373887,
          0.46123054750740644,
          -1.170008389278726,
          0.8208488063070032,
          2.0708134558500015,
          1.196023145719842,
          1.0866936558250455,
          2.174827703635172,
          0.9464513781289309,
          -0.3847720587664325,
          0.677896901070159,
          0.3789629295966409,
          -0.40453211598778244,
          -1.4214106677209226,
          -2.000151170771465,
          0.03448335811311445,
          -1.0288832751039005,
          -0.7060820996009419,
          -0.3984065438825475,
          1.3183550006020213,
          2.3746996644956346,
          0.17237217908045094,
          -0.5356615988531053,
          -1.8134160233906358,
          0.19096701764943314,
          -0.628185005053714,
          -1.8878773692036663,
          -0.4900468240812979,
          0.48428326873581173
         ]
        },
        {
         "boxpoints": false,
         "line": {
          "width": 1.3
         },
         "marker": {
          "color": "rgba(55, 128, 191, 1.0)"
         },
         "name": "B",
         "orientation": "v",
         "type": "box",
         "y": [
          0.47287525328590935,
          1.4934017303137272,
          1.3769689561121239,
          -1.082806198805133,
          1.415383993887731,
          -0.3630025087659517,
          -1.2350824003044616,
          -0.9575111668958346,
          2.231227192416702,
          -1.6084623988472704,
          0.7913364725124696,
          0.12465098765323646,
          0.10894918249881126,
          0.4188292865253416,
          -0.3759546225061773,
          1.6154242647998716,
          0.007024986301866887,
          0.48872387432220804,
          -0.8369659719094297,
          -0.4903552585235138,
          0.3177430027248012,
          -1.055949329045058,
          0.7360791030638381,
          0.44231956568828446,
          1.379551114438425,
          -0.7040578920221393,
          -1.9764410307063434,
          -0.015693146946839435,
          -1.5263965880053936,
          -1.4117553120848472,
          -0.1577338525083378,
          -0.8517611323488851,
          -1.4980204859517279,
          -0.7702057758987122,
          1.755599357290906,
          1.5094512735227397,
          1.533884269318763,
          -1.1810472462391852,
          0.9382757897220223,
          -0.5151257903588647,
          -0.4392957343101481,
          -1.153578173417106,
          2.4347154417229437,
          0.6034691497870166,
          -0.7231130664783035,
          -0.8297448803780897,
          -1.1631465870895914,
          1.5428997633806876,
          -1.0191242175698105,
          0.8268133547092912,
          0.8083868251389659,
          -0.3854591282744667,
          -0.14082691997477623,
          -0.22909359854768352,
          -1.2365501886677792,
          0.4703021455822461,
          -0.5822269077491736,
          -0.6650515548694265,
          2.1279524291773266,
          0.6061821909283301,
          1.494572989724752,
          0.25232777878631363,
          -0.1231269099302736,
          0.11394495935586213,
          -0.023669955254320904,
          -0.5176659477577575,
          -1.0857603251337256,
          1.737308717738109,
          -1.0436899628847465,
          -0.6879722964306229,
          1.0126343170065157,
          1.2876047306599359,
          0.21953780998443767,
          -1.2162680038144835,
          -1.0502292677821456,
          0.29802020348819896,
          -0.08428480318130187,
          1.1728931965510887,
          0.09332553992905697,
          -1.5339657786541547,
          0.5951725873193169,
          -1.0839064503073481,
          -0.15618747206624964,
          2.670724273386493,
          2.4178549773596645,
          -0.14076461292691836,
          -0.6143424139578396,
          -0.9776404663225262,
          1.0063305123692763,
          -1.273882015570184,
          0.37265711485326986,
          0.37368948059456725,
          0.3574924474090997,
          -0.14176054038778046,
          0.04841555690054582,
          -0.11047329298795354,
          1.346533423863622,
          1.8677528397271093,
          -0.026572813425914166,
          0.4409097288987755
         ]
        },
        {
         "boxpoints": false,
         "line": {
          "width": 1.3
         },
         "marker": {
          "color": "rgba(50, 171, 96, 1.0)"
         },
         "name": "C",
         "orientation": "v",
         "type": "box",
         "y": [
          0.1336209897126937,
          -0.4992371267880662,
          -0.16512310908818667,
          -0.1295384702581782,
          -0.07874797887224155,
          0.07875858094324113,
          0.28811971423413435,
          -2.2079018232129743,
          -1.0146574398707233,
          -0.3814968238916311,
          0.3414756460122754,
          0.408650279460541,
          0.8598922725047933,
          -0.20456262918962018,
          0.4269611660152145,
          0.06053627104709375,
          -0.17112284284919663,
          -0.03278813861822154,
          0.2964757692789343,
          -1.209610713025771,
          1.065900461743466,
          0.48484112110928695,
          -0.16522346354835155,
          0.8342104652569393,
          0.7378533369870373,
          0.7381985329826927,
          0.46270552251841596,
          -0.1290553079442758,
          -1.135822076599649,
          2.5684353595070957,
          -2.1363512996225693,
          0.7803326723102629,
          0.5884926871116007,
          0.2937806281485098,
          -0.3098944958212543,
          1.7843829555701411,
          -2.7607141977076526,
          -0.7830869659191346,
          -0.1122573811119825,
          0.1635382375667902,
          1.1997795798187878,
          -0.5391302273292823,
          1.6138354162384465,
          2.8471656578452813,
          -0.2682656551450211,
          0.2648442673225874,
          -1.128823767002499,
          -0.4791039027939159,
          0.567986191017442,
          -0.3796912825703141,
          0.9249146766825751,
          1.1239087088143331,
          0.5999003321458324,
          -0.658380738103747,
          -0.636079522958394,
          -0.7690187225387971,
          -0.1285569524323624,
          0.42586814414867546,
          1.970619872164675,
          0.2687360684661637,
          -0.6535751187902171,
          -0.41052495675928347,
          0.38656321015609985,
          -0.0329975125153401,
          0.21986643801387779,
          -0.8862105560862736,
          -1.1472581491296907,
          1.6876120880730845,
          0.6739344840810829,
          0.7527058130176251,
          -0.04770321882381908,
          -0.5046901458645002,
          -0.9704135809546783,
          0.6192540593692433,
          -1.5970410896097227,
          1.7424207967184293,
          0.9417272380573213,
          -0.3421442085643456,
          1.3629727213807563,
          0.19608528683183574,
          0.6179829214720435,
          -0.6342908072086635,
          0.16485176829765466,
          0.11259865657129008,
          1.474878606696174,
          -0.6200093152528071,
          1.023883374307354,
          1.2312315215022325,
          0.6837691534450063,
          0.37710794268652054,
          -0.2674498995213668,
          0.7252941939647042,
          -0.7212671495065622,
          -0.6570103158468624,
          1.4713878944189351,
          0.7803245805628188,
          -1.5015408621607405,
          -2.530041751262662,
          2.913959469897591,
          1.1162770114184026
         ]
        },
        {
         "boxpoints": false,
         "line": {
          "width": 1.3
         },
         "marker": {
          "color": "rgba(128, 0, 128, 1.0)"
         },
         "name": "D",
         "orientation": "v",
         "type": "box",
         "y": [
          -1.2143142774051094,
          0.7341549688863328,
          -2.1878860019623114,
          1.523497432194452,
          -0.8790555211989877,
          -0.13506651057964153,
          -0.7681521734240057,
          1.9566987634853001,
          -0.5200154811389064,
          -1.5304730933671777,
          -0.49828564798699326,
          0.6555190761224613,
          2.154278261242067,
          -0.6121998740137635,
          -0.7998663651392912,
          -0.6592866329179047,
          -0.05618872584561294,
          0.21659171674869485,
          -0.7723385025920696,
          -0.7664120512191052,
          -0.04706943950371657,
          -0.4804600175743437,
          0.5477687172501202,
          0.11974272875042269,
          2.0478235234709428,
          0.015801574609873074,
          0.8911940632671225,
          0.14138456809723465,
          0.3751822146140036,
          0.6604816124276893,
          1.133297507272824,
          0.03105811424544611,
          -0.3939010668393583,
          -0.5289250695258874,
          -0.0030741456840287333,
          -0.942428136817906,
          0.7491177760914999,
          -0.7214531918806584,
          1.3257182761338224,
          0.43951512568561735,
          0.06119399446360383,
          1.5578142553938126,
          -1.7714458517215954,
          0.6176215419004208,
          0.8904488135986418,
          0.4319773298830599,
          -1.1975350025652733,
          0.10311510696201422,
          -0.45288522791520414,
          -1.3661216067944606,
          1.9115685665069386,
          -1.9059862517401787,
          -1.5732033902448326,
          0.9175075197051212,
          -0.1750872676091157,
          0.7069954284479054,
          1.6151957774432233,
          1.3123132791091583,
          -0.6070514781704491,
          -0.24024848311517136,
          2.020264416172281,
          0.5372984098235004,
          0.2872075418166681,
          1.0305317214040148,
          -0.031030337080439823,
          1.5736152240788512,
          0.7521392808876696,
          -1.6781286566903064,
          0.5056996327690947,
          -1.2002173110227408,
          -0.035267135484268027,
          2.5627525331980126,
          1.0299169286597165,
          -0.6417056912234721,
          -0.2022261648578561,
          -2.1438334840823114,
          0.714635768571562,
          -0.8747588880778938,
          -0.5215663836892511,
          1.344368978552044,
          -0.43947621697304984,
          0.3163194487806835,
          0.37871829012773384,
          1.2232752732144858,
          0.6203334619816994,
          1.2884684026888376,
          -1.524978471243551,
          -0.11514969237394722,
          0.8485650951801219,
          1.363267079181013,
          0.11956931273787397,
          0.3139763044387687,
          1.3100935940672593,
          0.16354448905637342,
          1.1544048734978776,
          0.167518011825185,
          -0.03485812012422281,
          0.20946433907831946,
          -0.8703639971561202,
          -1.6433341968767228
         ]
        }
       ],
       "layout": {
        "legend": {
         "bgcolor": "#F5F6F9",
         "font": {
          "color": "#4D5663"
         }
        },
        "paper_bgcolor": "#F5F6F9",
        "plot_bgcolor": "#F5F6F9",
        "template": {
         "data": {
          "bar": [
           {
            "error_x": {
             "color": "#2a3f5f"
            },
            "error_y": {
             "color": "#2a3f5f"
            },
            "marker": {
             "line": {
              "color": "#E5ECF6",
              "width": 0.5
             }
            },
            "type": "bar"
           }
          ],
          "barpolar": [
           {
            "marker": {
             "line": {
              "color": "#E5ECF6",
              "width": 0.5
             }
            },
            "type": "barpolar"
           }
          ],
          "carpet": [
           {
            "aaxis": {
             "endlinecolor": "#2a3f5f",
             "gridcolor": "white",
             "linecolor": "white",
             "minorgridcolor": "white",
             "startlinecolor": "#2a3f5f"
            },
            "baxis": {
             "endlinecolor": "#2a3f5f",
             "gridcolor": "white",
             "linecolor": "white",
             "minorgridcolor": "white",
             "startlinecolor": "#2a3f5f"
            },
            "type": "carpet"
           }
          ],
          "choropleth": [
           {
            "colorbar": {
             "outlinewidth": 0,
             "ticks": ""
            },
            "type": "choropleth"
           }
          ],
          "contour": [
           {
            "colorbar": {
             "outlinewidth": 0,
             "ticks": ""
            },
            "colorscale": [
             [
              0,
              "#0d0887"
             ],
             [
              0.1111111111111111,
              "#46039f"
             ],
             [
              0.2222222222222222,
              "#7201a8"
             ],
             [
              0.3333333333333333,
              "#9c179e"
             ],
             [
              0.4444444444444444,
              "#bd3786"
             ],
             [
              0.5555555555555556,
              "#d8576b"
             ],
             [
              0.6666666666666666,
              "#ed7953"
             ],
             [
              0.7777777777777778,
              "#fb9f3a"
             ],
             [
              0.8888888888888888,
              "#fdca26"
             ],
             [
              1,
              "#f0f921"
             ]
            ],
            "type": "contour"
           }
          ],
          "contourcarpet": [
           {
            "colorbar": {
             "outlinewidth": 0,
             "ticks": ""
            },
            "type": "contourcarpet"
           }
          ],
          "heatmap": [
           {
            "colorbar": {
             "outlinewidth": 0,
             "ticks": ""
            },
            "colorscale": [
             [
              0,
              "#0d0887"
             ],
             [
              0.1111111111111111,
              "#46039f"
             ],
             [
              0.2222222222222222,
              "#7201a8"
             ],
             [
              0.3333333333333333,
              "#9c179e"
             ],
             [
              0.4444444444444444,
              "#bd3786"
             ],
             [
              0.5555555555555556,
              "#d8576b"
             ],
             [
              0.6666666666666666,
              "#ed7953"
             ],
             [
              0.7777777777777778,
              "#fb9f3a"
             ],
             [
              0.8888888888888888,
              "#fdca26"
             ],
             [
              1,
              "#f0f921"
             ]
            ],
            "type": "heatmap"
           }
          ],
          "heatmapgl": [
           {
            "colorbar": {
             "outlinewidth": 0,
             "ticks": ""
            },
            "colorscale": [
             [
              0,
              "#0d0887"
             ],
             [
              0.1111111111111111,
              "#46039f"
             ],
             [
              0.2222222222222222,
              "#7201a8"
             ],
             [
              0.3333333333333333,
              "#9c179e"
             ],
             [
              0.4444444444444444,
              "#bd3786"
             ],
             [
              0.5555555555555556,
              "#d8576b"
             ],
             [
              0.6666666666666666,
              "#ed7953"
             ],
             [
              0.7777777777777778,
              "#fb9f3a"
             ],
             [
              0.8888888888888888,
              "#fdca26"
             ],
             [
              1,
              "#f0f921"
             ]
            ],
            "type": "heatmapgl"
           }
          ],
          "histogram": [
           {
            "marker": {
             "colorbar": {
              "outlinewidth": 0,
              "ticks": ""
             }
            },
            "type": "histogram"
           }
          ],
          "histogram2d": [
           {
            "colorbar": {
             "outlinewidth": 0,
             "ticks": ""
            },
            "colorscale": [
             [
              0,
              "#0d0887"
             ],
             [
              0.1111111111111111,
              "#46039f"
             ],
             [
              0.2222222222222222,
              "#7201a8"
             ],
             [
              0.3333333333333333,
              "#9c179e"
             ],
             [
              0.4444444444444444,
              "#bd3786"
             ],
             [
              0.5555555555555556,
              "#d8576b"
             ],
             [
              0.6666666666666666,
              "#ed7953"
             ],
             [
              0.7777777777777778,
              "#fb9f3a"
             ],
             [
              0.8888888888888888,
              "#fdca26"
             ],
             [
              1,
              "#f0f921"
             ]
            ],
            "type": "histogram2d"
           }
          ],
          "histogram2dcontour": [
           {
            "colorbar": {
             "outlinewidth": 0,
             "ticks": ""
            },
            "colorscale": [
             [
              0,
              "#0d0887"
             ],
             [
              0.1111111111111111,
              "#46039f"
             ],
             [
              0.2222222222222222,
              "#7201a8"
             ],
             [
              0.3333333333333333,
              "#9c179e"
             ],
             [
              0.4444444444444444,
              "#bd3786"
             ],
             [
              0.5555555555555556,
              "#d8576b"
             ],
             [
              0.6666666666666666,
              "#ed7953"
             ],
             [
              0.7777777777777778,
              "#fb9f3a"
             ],
             [
              0.8888888888888888,
              "#fdca26"
             ],
             [
              1,
              "#f0f921"
             ]
            ],
            "type": "histogram2dcontour"
           }
          ],
          "mesh3d": [
           {
            "colorbar": {
             "outlinewidth": 0,
             "ticks": ""
            },
            "type": "mesh3d"
           }
          ],
          "parcoords": [
           {
            "line": {
             "colorbar": {
              "outlinewidth": 0,
              "ticks": ""
             }
            },
            "type": "parcoords"
           }
          ],
          "pie": [
           {
            "automargin": true,
            "type": "pie"
           }
          ],
          "scatter": [
           {
            "marker": {
             "colorbar": {
              "outlinewidth": 0,
              "ticks": ""
             }
            },
            "type": "scatter"
           }
          ],
          "scatter3d": [
           {
            "line": {
             "colorbar": {
              "outlinewidth": 0,
              "ticks": ""
             }
            },
            "marker": {
             "colorbar": {
              "outlinewidth": 0,
              "ticks": ""
             }
            },
            "type": "scatter3d"
           }
          ],
          "scattercarpet": [
           {
            "marker": {
             "colorbar": {
              "outlinewidth": 0,
              "ticks": ""
             }
            },
            "type": "scattercarpet"
           }
          ],
          "scattergeo": [
           {
            "marker": {
             "colorbar": {
              "outlinewidth": 0,
              "ticks": ""
             }
            },
            "type": "scattergeo"
           }
          ],
          "scattergl": [
           {
            "marker": {
             "colorbar": {
              "outlinewidth": 0,
              "ticks": ""
             }
            },
            "type": "scattergl"
           }
          ],
          "scattermapbox": [
           {
            "marker": {
             "colorbar": {
              "outlinewidth": 0,
              "ticks": ""
             }
            },
            "type": "scattermapbox"
           }
          ],
          "scatterpolar": [
           {
            "marker": {
             "colorbar": {
              "outlinewidth": 0,
              "ticks": ""
             }
            },
            "type": "scatterpolar"
           }
          ],
          "scatterpolargl": [
           {
            "marker": {
             "colorbar": {
              "outlinewidth": 0,
              "ticks": ""
             }
            },
            "type": "scatterpolargl"
           }
          ],
          "scatterternary": [
           {
            "marker": {
             "colorbar": {
              "outlinewidth": 0,
              "ticks": ""
             }
            },
            "type": "scatterternary"
           }
          ],
          "surface": [
           {
            "colorbar": {
             "outlinewidth": 0,
             "ticks": ""
            },
            "colorscale": [
             [
              0,
              "#0d0887"
             ],
             [
              0.1111111111111111,
              "#46039f"
             ],
             [
              0.2222222222222222,
              "#7201a8"
             ],
             [
              0.3333333333333333,
              "#9c179e"
             ],
             [
              0.4444444444444444,
              "#bd3786"
             ],
             [
              0.5555555555555556,
              "#d8576b"
             ],
             [
              0.6666666666666666,
              "#ed7953"
             ],
             [
              0.7777777777777778,
              "#fb9f3a"
             ],
             [
              0.8888888888888888,
              "#fdca26"
             ],
             [
              1,
              "#f0f921"
             ]
            ],
            "type": "surface"
           }
          ],
          "table": [
           {
            "cells": {
             "fill": {
              "color": "#EBF0F8"
             },
             "line": {
              "color": "white"
             }
            },
            "header": {
             "fill": {
              "color": "#C8D4E3"
             },
             "line": {
              "color": "white"
             }
            },
            "type": "table"
           }
          ]
         },
         "layout": {
          "annotationdefaults": {
           "arrowcolor": "#2a3f5f",
           "arrowhead": 0,
           "arrowwidth": 1
          },
          "coloraxis": {
           "colorbar": {
            "outlinewidth": 0,
            "ticks": ""
           }
          },
          "colorscale": {
           "diverging": [
            [
             0,
             "#8e0152"
            ],
            [
             0.1,
             "#c51b7d"
            ],
            [
             0.2,
             "#de77ae"
            ],
            [
             0.3,
             "#f1b6da"
            ],
            [
             0.4,
             "#fde0ef"
            ],
            [
             0.5,
             "#f7f7f7"
            ],
            [
             0.6,
             "#e6f5d0"
            ],
            [
             0.7,
             "#b8e186"
            ],
            [
             0.8,
             "#7fbc41"
            ],
            [
             0.9,
             "#4d9221"
            ],
            [
             1,
             "#276419"
            ]
           ],
           "sequential": [
            [
             0,
             "#0d0887"
            ],
            [
             0.1111111111111111,
             "#46039f"
            ],
            [
             0.2222222222222222,
             "#7201a8"
            ],
            [
             0.3333333333333333,
             "#9c179e"
            ],
            [
             0.4444444444444444,
             "#bd3786"
            ],
            [
             0.5555555555555556,
             "#d8576b"
            ],
            [
             0.6666666666666666,
             "#ed7953"
            ],
            [
             0.7777777777777778,
             "#fb9f3a"
            ],
            [
             0.8888888888888888,
             "#fdca26"
            ],
            [
             1,
             "#f0f921"
            ]
           ],
           "sequentialminus": [
            [
             0,
             "#0d0887"
            ],
            [
             0.1111111111111111,
             "#46039f"
            ],
            [
             0.2222222222222222,
             "#7201a8"
            ],
            [
             0.3333333333333333,
             "#9c179e"
            ],
            [
             0.4444444444444444,
             "#bd3786"
            ],
            [
             0.5555555555555556,
             "#d8576b"
            ],
            [
             0.6666666666666666,
             "#ed7953"
            ],
            [
             0.7777777777777778,
             "#fb9f3a"
            ],
            [
             0.8888888888888888,
             "#fdca26"
            ],
            [
             1,
             "#f0f921"
            ]
           ]
          },
          "colorway": [
           "#636efa",
           "#EF553B",
           "#00cc96",
           "#ab63fa",
           "#FFA15A",
           "#19d3f3",
           "#FF6692",
           "#B6E880",
           "#FF97FF",
           "#FECB52"
          ],
          "font": {
           "color": "#2a3f5f"
          },
          "geo": {
           "bgcolor": "white",
           "lakecolor": "white",
           "landcolor": "#E5ECF6",
           "showlakes": true,
           "showland": true,
           "subunitcolor": "white"
          },
          "hoverlabel": {
           "align": "left"
          },
          "hovermode": "closest",
          "mapbox": {
           "style": "light"
          },
          "paper_bgcolor": "white",
          "plot_bgcolor": "#E5ECF6",
          "polar": {
           "angularaxis": {
            "gridcolor": "white",
            "linecolor": "white",
            "ticks": ""
           },
           "bgcolor": "#E5ECF6",
           "radialaxis": {
            "gridcolor": "white",
            "linecolor": "white",
            "ticks": ""
           }
          },
          "scene": {
           "xaxis": {
            "backgroundcolor": "#E5ECF6",
            "gridcolor": "white",
            "gridwidth": 2,
            "linecolor": "white",
            "showbackground": true,
            "ticks": "",
            "zerolinecolor": "white"
           },
           "yaxis": {
            "backgroundcolor": "#E5ECF6",
            "gridcolor": "white",
            "gridwidth": 2,
            "linecolor": "white",
            "showbackground": true,
            "ticks": "",
            "zerolinecolor": "white"
           },
           "zaxis": {
            "backgroundcolor": "#E5ECF6",
            "gridcolor": "white",
            "gridwidth": 2,
            "linecolor": "white",
            "showbackground": true,
            "ticks": "",
            "zerolinecolor": "white"
           }
          },
          "shapedefaults": {
           "line": {
            "color": "#2a3f5f"
           }
          },
          "ternary": {
           "aaxis": {
            "gridcolor": "white",
            "linecolor": "white",
            "ticks": ""
           },
           "baxis": {
            "gridcolor": "white",
            "linecolor": "white",
            "ticks": ""
           },
           "bgcolor": "#E5ECF6",
           "caxis": {
            "gridcolor": "white",
            "linecolor": "white",
            "ticks": ""
           }
          },
          "title": {
           "x": 0.05
          },
          "xaxis": {
           "automargin": true,
           "gridcolor": "white",
           "linecolor": "white",
           "ticks": "",
           "title": {
            "standoff": 15
           },
           "zerolinecolor": "white",
           "zerolinewidth": 2
          },
          "yaxis": {
           "automargin": true,
           "gridcolor": "white",
           "linecolor": "white",
           "ticks": "",
           "title": {
            "standoff": 15
           },
           "zerolinecolor": "white",
           "zerolinewidth": 2
          }
         }
        },
        "title": {
         "font": {
          "color": "#4D5663"
         }
        },
        "xaxis": {
         "gridcolor": "#E1E5ED",
         "showgrid": true,
         "tickfont": {
          "color": "#4D5663"
         },
         "title": {
          "font": {
           "color": "#4D5663"
          },
          "text": ""
         },
         "zerolinecolor": "#E1E5ED"
        },
        "yaxis": {
         "gridcolor": "#E1E5ED",
         "showgrid": true,
         "tickfont": {
          "color": "#4D5663"
         },
         "title": {
          "font": {
           "color": "#4D5663"
          },
          "text": ""
         },
         "zerolinecolor": "#E1E5ED"
        }
       }
      },
      "text/html": [
       "<div>\n",
       "        \n",
       "        \n",
       "            <div id=\"582a638b-754e-4b4b-8e5c-ff5b061a9421\" class=\"plotly-graph-div\" style=\"height:525px; width:100%;\"></div>\n",
       "            <script type=\"text/javascript\">\n",
       "                require([\"plotly\"], function(Plotly) {\n",
       "                    window.PLOTLYENV=window.PLOTLYENV || {};\n",
       "                    window.PLOTLYENV.BASE_URL='https://plot.ly';\n",
       "                    \n",
       "                if (document.getElementById(\"582a638b-754e-4b4b-8e5c-ff5b061a9421\")) {\n",
       "                    Plotly.newPlot(\n",
       "                        '582a638b-754e-4b4b-8e5c-ff5b061a9421',\n",
       "                        [{\"boxpoints\": false, \"line\": {\"width\": 1.3}, \"marker\": {\"color\": \"rgba(255, 153, 51, 1.0)\"}, \"name\": \"A\", \"orientation\": \"v\", \"type\": \"box\", \"y\": [0.6326127038985268, -0.14548579553446406, -0.34393948885963876, 0.3519190014943898, 0.7107141402638056, 0.054448005118226145, 0.31478965626513306, 1.9337649291692833, -2.4104902799178225, -1.2453604990808071, 1.098206494038972, -0.4728839209634316, 1.01350221056353, -1.2005069730171412, 2.2182955208107384, -0.5776216990016312, -1.4108161826851844, -0.7196052814859598, -0.8521024791986744, -2.395667214325212, 0.6135391862466687, -0.5459430342243888, -1.5060792667559042, 0.8667742499584937, -1.1701546987241738, -0.08603577043546688, -1.4225646891991002, 1.5097413246515126, -0.866990537216288, 0.36179214184957503, -0.045414828943426265, -1.1565623260261002, -0.3142975279995353, 0.27781931010361094, 0.13924531458794118, 0.5592464910210235, 1.4967131118300432, -1.2053072838699337, 0.9797694054889248, -0.8849615612000583, -0.3811985872358258, 1.2480856601545274, 0.21658187897293008, -0.6983120986704753, -0.4513805948645634, 0.5580842538719136, 1.7496795737545083, -0.9879645518593242, -0.06721474521065876, 0.5035528575835836, 0.6186851606665685, 0.0653038262993778, -2.3426270634798825, 0.647611947402595, 0.219685903854224, 0.9076116925247123, 0.27528312732947663, 0.8846370584865045, -0.4307631060841758, 1.6065913463104657, -0.3435107836865878, -1.2569208272167436, 1.1982153725983713, -0.5624178050751879, -1.7559287574848392, -0.774560168600139, 0.49075843422998716, 0.19013438750868822, -0.10736136841934604, -0.7563320343420211, -0.912488191626346, 0.47780470406373887, 0.46123054750740644, -1.170008389278726, 0.8208488063070032, 2.0708134558500015, 1.196023145719842, 1.0866936558250455, 2.174827703635172, 0.9464513781289309, -0.3847720587664325, 0.677896901070159, 0.3789629295966409, -0.40453211598778244, -1.4214106677209226, -2.000151170771465, 0.03448335811311445, -1.0288832751039005, -0.7060820996009419, -0.3984065438825475, 1.3183550006020213, 2.3746996644956346, 0.17237217908045094, -0.5356615988531053, -1.8134160233906358, 0.19096701764943314, -0.628185005053714, -1.8878773692036663, -0.4900468240812979, 0.48428326873581173]}, {\"boxpoints\": false, \"line\": {\"width\": 1.3}, \"marker\": {\"color\": \"rgba(55, 128, 191, 1.0)\"}, \"name\": \"B\", \"orientation\": \"v\", \"type\": \"box\", \"y\": [0.47287525328590935, 1.4934017303137272, 1.3769689561121239, -1.082806198805133, 1.415383993887731, -0.3630025087659517, -1.2350824003044616, -0.9575111668958346, 2.231227192416702, -1.6084623988472704, 0.7913364725124696, 0.12465098765323646, 0.10894918249881126, 0.4188292865253416, -0.3759546225061773, 1.6154242647998716, 0.007024986301866887, 0.48872387432220804, -0.8369659719094297, -0.4903552585235138, 0.3177430027248012, -1.055949329045058, 0.7360791030638381, 0.44231956568828446, 1.379551114438425, -0.7040578920221393, -1.9764410307063434, -0.015693146946839435, -1.5263965880053936, -1.4117553120848472, -0.1577338525083378, -0.8517611323488851, -1.4980204859517279, -0.7702057758987122, 1.755599357290906, 1.5094512735227397, 1.533884269318763, -1.1810472462391852, 0.9382757897220223, -0.5151257903588647, -0.4392957343101481, -1.153578173417106, 2.4347154417229437, 0.6034691497870166, -0.7231130664783035, -0.8297448803780897, -1.1631465870895914, 1.5428997633806876, -1.0191242175698105, 0.8268133547092912, 0.8083868251389659, -0.3854591282744667, -0.14082691997477623, -0.22909359854768352, -1.2365501886677792, 0.4703021455822461, -0.5822269077491736, -0.6650515548694265, 2.1279524291773266, 0.6061821909283301, 1.494572989724752, 0.25232777878631363, -0.1231269099302736, 0.11394495935586213, -0.023669955254320904, -0.5176659477577575, -1.0857603251337256, 1.737308717738109, -1.0436899628847465, -0.6879722964306229, 1.0126343170065157, 1.2876047306599359, 0.21953780998443767, -1.2162680038144835, -1.0502292677821456, 0.29802020348819896, -0.08428480318130187, 1.1728931965510887, 0.09332553992905697, -1.5339657786541547, 0.5951725873193169, -1.0839064503073481, -0.15618747206624964, 2.670724273386493, 2.4178549773596645, -0.14076461292691836, -0.6143424139578396, -0.9776404663225262, 1.0063305123692763, -1.273882015570184, 0.37265711485326986, 0.37368948059456725, 0.3574924474090997, -0.14176054038778046, 0.04841555690054582, -0.11047329298795354, 1.346533423863622, 1.8677528397271093, -0.026572813425914166, 0.4409097288987755]}, {\"boxpoints\": false, \"line\": {\"width\": 1.3}, \"marker\": {\"color\": \"rgba(50, 171, 96, 1.0)\"}, \"name\": \"C\", \"orientation\": \"v\", \"type\": \"box\", \"y\": [0.1336209897126937, -0.4992371267880662, -0.16512310908818667, -0.1295384702581782, -0.07874797887224155, 0.07875858094324113, 0.28811971423413435, -2.2079018232129743, -1.0146574398707233, -0.3814968238916311, 0.3414756460122754, 0.408650279460541, 0.8598922725047933, -0.20456262918962018, 0.4269611660152145, 0.06053627104709375, -0.17112284284919663, -0.03278813861822154, 0.2964757692789343, -1.209610713025771, 1.065900461743466, 0.48484112110928695, -0.16522346354835155, 0.8342104652569393, 0.7378533369870373, 0.7381985329826927, 0.46270552251841596, -0.1290553079442758, -1.135822076599649, 2.5684353595070957, -2.1363512996225693, 0.7803326723102629, 0.5884926871116007, 0.2937806281485098, -0.3098944958212543, 1.7843829555701411, -2.7607141977076526, -0.7830869659191346, -0.1122573811119825, 0.1635382375667902, 1.1997795798187878, -0.5391302273292823, 1.6138354162384465, 2.8471656578452813, -0.2682656551450211, 0.2648442673225874, -1.128823767002499, -0.4791039027939159, 0.567986191017442, -0.3796912825703141, 0.9249146766825751, 1.1239087088143331, 0.5999003321458324, -0.658380738103747, -0.636079522958394, -0.7690187225387971, -0.1285569524323624, 0.42586814414867546, 1.970619872164675, 0.2687360684661637, -0.6535751187902171, -0.41052495675928347, 0.38656321015609985, -0.0329975125153401, 0.21986643801387779, -0.8862105560862736, -1.1472581491296907, 1.6876120880730845, 0.6739344840810829, 0.7527058130176251, -0.04770321882381908, -0.5046901458645002, -0.9704135809546783, 0.6192540593692433, -1.5970410896097227, 1.7424207967184293, 0.9417272380573213, -0.3421442085643456, 1.3629727213807563, 0.19608528683183574, 0.6179829214720435, -0.6342908072086635, 0.16485176829765466, 0.11259865657129008, 1.474878606696174, -0.6200093152528071, 1.023883374307354, 1.2312315215022325, 0.6837691534450063, 0.37710794268652054, -0.2674498995213668, 0.7252941939647042, -0.7212671495065622, -0.6570103158468624, 1.4713878944189351, 0.7803245805628188, -1.5015408621607405, -2.530041751262662, 2.913959469897591, 1.1162770114184026]}, {\"boxpoints\": false, \"line\": {\"width\": 1.3}, \"marker\": {\"color\": \"rgba(128, 0, 128, 1.0)\"}, \"name\": \"D\", \"orientation\": \"v\", \"type\": \"box\", \"y\": [-1.2143142774051094, 0.7341549688863328, -2.1878860019623114, 1.523497432194452, -0.8790555211989877, -0.13506651057964153, -0.7681521734240057, 1.9566987634853001, -0.5200154811389064, -1.5304730933671777, -0.49828564798699326, 0.6555190761224613, 2.154278261242067, -0.6121998740137635, -0.7998663651392912, -0.6592866329179047, -0.05618872584561294, 0.21659171674869485, -0.7723385025920696, -0.7664120512191052, -0.04706943950371657, -0.4804600175743437, 0.5477687172501202, 0.11974272875042269, 2.0478235234709428, 0.015801574609873074, 0.8911940632671225, 0.14138456809723465, 0.3751822146140036, 0.6604816124276893, 1.133297507272824, 0.03105811424544611, -0.3939010668393583, -0.5289250695258874, -0.0030741456840287333, -0.942428136817906, 0.7491177760914999, -0.7214531918806584, 1.3257182761338224, 0.43951512568561735, 0.06119399446360383, 1.5578142553938126, -1.7714458517215954, 0.6176215419004208, 0.8904488135986418, 0.4319773298830599, -1.1975350025652733, 0.10311510696201422, -0.45288522791520414, -1.3661216067944606, 1.9115685665069386, -1.9059862517401787, -1.5732033902448326, 0.9175075197051212, -0.1750872676091157, 0.7069954284479054, 1.6151957774432233, 1.3123132791091583, -0.6070514781704491, -0.24024848311517136, 2.020264416172281, 0.5372984098235004, 0.2872075418166681, 1.0305317214040148, -0.031030337080439823, 1.5736152240788512, 0.7521392808876696, -1.6781286566903064, 0.5056996327690947, -1.2002173110227408, -0.035267135484268027, 2.5627525331980126, 1.0299169286597165, -0.6417056912234721, -0.2022261648578561, -2.1438334840823114, 0.714635768571562, -0.8747588880778938, -0.5215663836892511, 1.344368978552044, -0.43947621697304984, 0.3163194487806835, 0.37871829012773384, 1.2232752732144858, 0.6203334619816994, 1.2884684026888376, -1.524978471243551, -0.11514969237394722, 0.8485650951801219, 1.363267079181013, 0.11956931273787397, 0.3139763044387687, 1.3100935940672593, 0.16354448905637342, 1.1544048734978776, 0.167518011825185, -0.03485812012422281, 0.20946433907831946, -0.8703639971561202, -1.6433341968767228]}],\n",
       "                        {\"legend\": {\"bgcolor\": \"#F5F6F9\", \"font\": {\"color\": \"#4D5663\"}}, \"paper_bgcolor\": \"#F5F6F9\", \"plot_bgcolor\": \"#F5F6F9\", \"template\": {\"data\": {\"bar\": [{\"error_x\": {\"color\": \"#2a3f5f\"}, \"error_y\": {\"color\": \"#2a3f5f\"}, \"marker\": {\"line\": {\"color\": \"#E5ECF6\", \"width\": 0.5}}, \"type\": \"bar\"}], \"barpolar\": [{\"marker\": {\"line\": {\"color\": \"#E5ECF6\", \"width\": 0.5}}, \"type\": \"barpolar\"}], \"carpet\": [{\"aaxis\": {\"endlinecolor\": \"#2a3f5f\", \"gridcolor\": \"white\", \"linecolor\": \"white\", \"minorgridcolor\": \"white\", \"startlinecolor\": \"#2a3f5f\"}, \"baxis\": {\"endlinecolor\": \"#2a3f5f\", \"gridcolor\": \"white\", \"linecolor\": \"white\", \"minorgridcolor\": \"white\", \"startlinecolor\": \"#2a3f5f\"}, \"type\": \"carpet\"}], \"choropleth\": [{\"colorbar\": {\"outlinewidth\": 0, \"ticks\": \"\"}, \"type\": \"choropleth\"}], \"contour\": [{\"colorbar\": {\"outlinewidth\": 0, \"ticks\": \"\"}, \"colorscale\": [[0.0, \"#0d0887\"], [0.1111111111111111, \"#46039f\"], [0.2222222222222222, \"#7201a8\"], [0.3333333333333333, \"#9c179e\"], [0.4444444444444444, \"#bd3786\"], [0.5555555555555556, \"#d8576b\"], [0.6666666666666666, \"#ed7953\"], [0.7777777777777778, \"#fb9f3a\"], [0.8888888888888888, \"#fdca26\"], [1.0, \"#f0f921\"]], \"type\": \"contour\"}], \"contourcarpet\": [{\"colorbar\": {\"outlinewidth\": 0, \"ticks\": \"\"}, \"type\": \"contourcarpet\"}], \"heatmap\": [{\"colorbar\": {\"outlinewidth\": 0, \"ticks\": \"\"}, \"colorscale\": [[0.0, \"#0d0887\"], [0.1111111111111111, \"#46039f\"], [0.2222222222222222, \"#7201a8\"], [0.3333333333333333, \"#9c179e\"], [0.4444444444444444, \"#bd3786\"], [0.5555555555555556, \"#d8576b\"], [0.6666666666666666, \"#ed7953\"], [0.7777777777777778, \"#fb9f3a\"], [0.8888888888888888, \"#fdca26\"], [1.0, \"#f0f921\"]], \"type\": \"heatmap\"}], \"heatmapgl\": [{\"colorbar\": {\"outlinewidth\": 0, \"ticks\": \"\"}, \"colorscale\": [[0.0, \"#0d0887\"], [0.1111111111111111, \"#46039f\"], [0.2222222222222222, \"#7201a8\"], [0.3333333333333333, \"#9c179e\"], [0.4444444444444444, \"#bd3786\"], [0.5555555555555556, \"#d8576b\"], [0.6666666666666666, \"#ed7953\"], [0.7777777777777778, \"#fb9f3a\"], [0.8888888888888888, \"#fdca26\"], [1.0, \"#f0f921\"]], \"type\": \"heatmapgl\"}], \"histogram\": [{\"marker\": {\"colorbar\": {\"outlinewidth\": 0, \"ticks\": \"\"}}, \"type\": \"histogram\"}], \"histogram2d\": [{\"colorbar\": {\"outlinewidth\": 0, \"ticks\": \"\"}, \"colorscale\": [[0.0, \"#0d0887\"], [0.1111111111111111, \"#46039f\"], [0.2222222222222222, \"#7201a8\"], [0.3333333333333333, \"#9c179e\"], [0.4444444444444444, \"#bd3786\"], [0.5555555555555556, \"#d8576b\"], [0.6666666666666666, \"#ed7953\"], [0.7777777777777778, \"#fb9f3a\"], [0.8888888888888888, \"#fdca26\"], [1.0, \"#f0f921\"]], \"type\": \"histogram2d\"}], \"histogram2dcontour\": [{\"colorbar\": {\"outlinewidth\": 0, \"ticks\": \"\"}, \"colorscale\": [[0.0, \"#0d0887\"], [0.1111111111111111, \"#46039f\"], [0.2222222222222222, \"#7201a8\"], [0.3333333333333333, \"#9c179e\"], [0.4444444444444444, \"#bd3786\"], [0.5555555555555556, \"#d8576b\"], [0.6666666666666666, \"#ed7953\"], [0.7777777777777778, \"#fb9f3a\"], [0.8888888888888888, \"#fdca26\"], [1.0, \"#f0f921\"]], \"type\": \"histogram2dcontour\"}], \"mesh3d\": [{\"colorbar\": {\"outlinewidth\": 0, \"ticks\": \"\"}, \"type\": \"mesh3d\"}], \"parcoords\": [{\"line\": {\"colorbar\": {\"outlinewidth\": 0, \"ticks\": \"\"}}, \"type\": \"parcoords\"}], \"pie\": [{\"automargin\": true, \"type\": \"pie\"}], \"scatter\": [{\"marker\": {\"colorbar\": {\"outlinewidth\": 0, \"ticks\": \"\"}}, \"type\": \"scatter\"}], \"scatter3d\": [{\"line\": {\"colorbar\": {\"outlinewidth\": 0, \"ticks\": \"\"}}, \"marker\": {\"colorbar\": {\"outlinewidth\": 0, \"ticks\": \"\"}}, \"type\": \"scatter3d\"}], \"scattercarpet\": [{\"marker\": {\"colorbar\": {\"outlinewidth\": 0, \"ticks\": \"\"}}, \"type\": \"scattercarpet\"}], \"scattergeo\": [{\"marker\": {\"colorbar\": {\"outlinewidth\": 0, \"ticks\": \"\"}}, \"type\": \"scattergeo\"}], \"scattergl\": [{\"marker\": {\"colorbar\": {\"outlinewidth\": 0, \"ticks\": \"\"}}, \"type\": \"scattergl\"}], \"scattermapbox\": [{\"marker\": {\"colorbar\": {\"outlinewidth\": 0, \"ticks\": \"\"}}, \"type\": \"scattermapbox\"}], \"scatterpolar\": [{\"marker\": {\"colorbar\": {\"outlinewidth\": 0, \"ticks\": \"\"}}, \"type\": \"scatterpolar\"}], \"scatterpolargl\": [{\"marker\": {\"colorbar\": {\"outlinewidth\": 0, \"ticks\": \"\"}}, \"type\": \"scatterpolargl\"}], \"scatterternary\": [{\"marker\": {\"colorbar\": {\"outlinewidth\": 0, \"ticks\": \"\"}}, \"type\": \"scatterternary\"}], \"surface\": [{\"colorbar\": {\"outlinewidth\": 0, \"ticks\": \"\"}, \"colorscale\": [[0.0, \"#0d0887\"], [0.1111111111111111, \"#46039f\"], [0.2222222222222222, \"#7201a8\"], [0.3333333333333333, \"#9c179e\"], [0.4444444444444444, \"#bd3786\"], [0.5555555555555556, \"#d8576b\"], [0.6666666666666666, \"#ed7953\"], [0.7777777777777778, \"#fb9f3a\"], [0.8888888888888888, \"#fdca26\"], [1.0, \"#f0f921\"]], \"type\": \"surface\"}], \"table\": [{\"cells\": {\"fill\": {\"color\": \"#EBF0F8\"}, \"line\": {\"color\": \"white\"}}, \"header\": {\"fill\": {\"color\": \"#C8D4E3\"}, \"line\": {\"color\": \"white\"}}, \"type\": \"table\"}]}, \"layout\": {\"annotationdefaults\": {\"arrowcolor\": \"#2a3f5f\", \"arrowhead\": 0, \"arrowwidth\": 1}, \"coloraxis\": {\"colorbar\": {\"outlinewidth\": 0, \"ticks\": \"\"}}, \"colorscale\": {\"diverging\": [[0, \"#8e0152\"], [0.1, \"#c51b7d\"], [0.2, \"#de77ae\"], [0.3, \"#f1b6da\"], [0.4, \"#fde0ef\"], [0.5, \"#f7f7f7\"], [0.6, \"#e6f5d0\"], [0.7, \"#b8e186\"], [0.8, \"#7fbc41\"], [0.9, \"#4d9221\"], [1, \"#276419\"]], \"sequential\": [[0.0, \"#0d0887\"], [0.1111111111111111, \"#46039f\"], [0.2222222222222222, \"#7201a8\"], [0.3333333333333333, \"#9c179e\"], [0.4444444444444444, \"#bd3786\"], [0.5555555555555556, \"#d8576b\"], [0.6666666666666666, \"#ed7953\"], [0.7777777777777778, \"#fb9f3a\"], [0.8888888888888888, \"#fdca26\"], [1.0, \"#f0f921\"]], \"sequentialminus\": [[0.0, \"#0d0887\"], [0.1111111111111111, \"#46039f\"], [0.2222222222222222, \"#7201a8\"], [0.3333333333333333, \"#9c179e\"], [0.4444444444444444, \"#bd3786\"], [0.5555555555555556, \"#d8576b\"], [0.6666666666666666, \"#ed7953\"], [0.7777777777777778, \"#fb9f3a\"], [0.8888888888888888, \"#fdca26\"], [1.0, \"#f0f921\"]]}, \"colorway\": [\"#636efa\", \"#EF553B\", \"#00cc96\", \"#ab63fa\", \"#FFA15A\", \"#19d3f3\", \"#FF6692\", \"#B6E880\", \"#FF97FF\", \"#FECB52\"], \"font\": {\"color\": \"#2a3f5f\"}, \"geo\": {\"bgcolor\": \"white\", \"lakecolor\": \"white\", \"landcolor\": \"#E5ECF6\", \"showlakes\": true, \"showland\": true, \"subunitcolor\": \"white\"}, \"hoverlabel\": {\"align\": \"left\"}, \"hovermode\": \"closest\", \"mapbox\": {\"style\": \"light\"}, \"paper_bgcolor\": \"white\", \"plot_bgcolor\": \"#E5ECF6\", \"polar\": {\"angularaxis\": {\"gridcolor\": \"white\", \"linecolor\": \"white\", \"ticks\": \"\"}, \"bgcolor\": \"#E5ECF6\", \"radialaxis\": {\"gridcolor\": \"white\", \"linecolor\": \"white\", \"ticks\": \"\"}}, \"scene\": {\"xaxis\": {\"backgroundcolor\": \"#E5ECF6\", \"gridcolor\": \"white\", \"gridwidth\": 2, \"linecolor\": \"white\", \"showbackground\": true, \"ticks\": \"\", \"zerolinecolor\": \"white\"}, \"yaxis\": {\"backgroundcolor\": \"#E5ECF6\", \"gridcolor\": \"white\", \"gridwidth\": 2, \"linecolor\": \"white\", \"showbackground\": true, \"ticks\": \"\", \"zerolinecolor\": \"white\"}, \"zaxis\": {\"backgroundcolor\": \"#E5ECF6\", \"gridcolor\": \"white\", \"gridwidth\": 2, \"linecolor\": \"white\", \"showbackground\": true, \"ticks\": \"\", \"zerolinecolor\": \"white\"}}, \"shapedefaults\": {\"line\": {\"color\": \"#2a3f5f\"}}, \"ternary\": {\"aaxis\": {\"gridcolor\": \"white\", \"linecolor\": \"white\", \"ticks\": \"\"}, \"baxis\": {\"gridcolor\": \"white\", \"linecolor\": \"white\", \"ticks\": \"\"}, \"bgcolor\": \"#E5ECF6\", \"caxis\": {\"gridcolor\": \"white\", \"linecolor\": \"white\", \"ticks\": \"\"}}, \"title\": {\"x\": 0.05}, \"xaxis\": {\"automargin\": true, \"gridcolor\": \"white\", \"linecolor\": \"white\", \"ticks\": \"\", \"title\": {\"standoff\": 15}, \"zerolinecolor\": \"white\", \"zerolinewidth\": 2}, \"yaxis\": {\"automargin\": true, \"gridcolor\": \"white\", \"linecolor\": \"white\", \"ticks\": \"\", \"title\": {\"standoff\": 15}, \"zerolinecolor\": \"white\", \"zerolinewidth\": 2}}}, \"title\": {\"font\": {\"color\": \"#4D5663\"}}, \"xaxis\": {\"gridcolor\": \"#E1E5ED\", \"showgrid\": true, \"tickfont\": {\"color\": \"#4D5663\"}, \"title\": {\"font\": {\"color\": \"#4D5663\"}, \"text\": \"\"}, \"zerolinecolor\": \"#E1E5ED\"}, \"yaxis\": {\"gridcolor\": \"#E1E5ED\", \"showgrid\": true, \"tickfont\": {\"color\": \"#4D5663\"}, \"title\": {\"font\": {\"color\": \"#4D5663\"}, \"text\": \"\"}, \"zerolinecolor\": \"#E1E5ED\"}},\n",
       "                        {\"showLink\": true, \"linkText\": \"Export to plot.ly\", \"plotlyServerURL\": \"https://plot.ly\", \"responsive\": true}\n",
       "                    ).then(function(){\n",
       "                            \n",
       "var gd = document.getElementById('582a638b-754e-4b4b-8e5c-ff5b061a9421');\n",
       "var x = new MutationObserver(function (mutations, observer) {{\n",
       "        var display = window.getComputedStyle(gd).display;\n",
       "        if (!display || display === 'none') {{\n",
       "            console.log([gd, 'removed!']);\n",
       "            Plotly.purge(gd);\n",
       "            observer.disconnect();\n",
       "        }}\n",
       "}});\n",
       "\n",
       "// Listen for the removal of the full notebook cells\n",
       "var notebookContainer = gd.closest('#notebook-container');\n",
       "if (notebookContainer) {{\n",
       "    x.observe(notebookContainer, {childList: true});\n",
       "}}\n",
       "\n",
       "// Listen for the clearing of the current output cell\n",
       "var outputEl = gd.closest('.output');\n",
       "if (outputEl) {{\n",
       "    x.observe(outputEl, {childList: true});\n",
       "}}\n",
       "\n",
       "                        })\n",
       "                };\n",
       "                });\n",
       "            </script>\n",
       "        </div>"
      ]
     },
     "metadata": {},
     "output_type": "display_data"
    }
   ],
   "source": [
    "df.iplot(kind = 'box')\n",
    "#hoverign gives you the value of max, q3, median, q1, and min values"
   ]
  },
  {
   "cell_type": "markdown",
   "metadata": {},
   "source": [
    "#### 3d surface plot"
   ]
  },
  {
   "cell_type": "code",
   "execution_count": 24,
   "metadata": {},
   "outputs": [
    {
     "data": {
      "text/html": [
       "<div>\n",
       "<style scoped>\n",
       "    .dataframe tbody tr th:only-of-type {\n",
       "        vertical-align: middle;\n",
       "    }\n",
       "\n",
       "    .dataframe tbody tr th {\n",
       "        vertical-align: top;\n",
       "    }\n",
       "\n",
       "    .dataframe thead th {\n",
       "        text-align: right;\n",
       "    }\n",
       "</style>\n",
       "<table border=\"1\" class=\"dataframe\">\n",
       "  <thead>\n",
       "    <tr style=\"text-align: right;\">\n",
       "      <th></th>\n",
       "      <th>x</th>\n",
       "      <th>y</th>\n",
       "      <th>z</th>\n",
       "    </tr>\n",
       "  </thead>\n",
       "  <tbody>\n",
       "    <tr>\n",
       "      <th>0</th>\n",
       "      <td>1</td>\n",
       "      <td>10</td>\n",
       "      <td>5</td>\n",
       "    </tr>\n",
       "    <tr>\n",
       "      <th>1</th>\n",
       "      <td>2</td>\n",
       "      <td>20</td>\n",
       "      <td>4</td>\n",
       "    </tr>\n",
       "    <tr>\n",
       "      <th>2</th>\n",
       "      <td>3</td>\n",
       "      <td>30</td>\n",
       "      <td>3</td>\n",
       "    </tr>\n",
       "    <tr>\n",
       "      <th>3</th>\n",
       "      <td>4</td>\n",
       "      <td>20</td>\n",
       "      <td>2</td>\n",
       "    </tr>\n",
       "    <tr>\n",
       "      <th>4</th>\n",
       "      <td>5</td>\n",
       "      <td>10</td>\n",
       "      <td>1</td>\n",
       "    </tr>\n",
       "  </tbody>\n",
       "</table>\n",
       "</div>"
      ],
      "text/plain": [
       "   x   y  z\n",
       "0  1  10  5\n",
       "1  2  20  4\n",
       "2  3  30  3\n",
       "3  4  20  2\n",
       "4  5  10  1"
      ]
     },
     "execution_count": 24,
     "metadata": {},
     "output_type": "execute_result"
    }
   ],
   "source": [
    "df3 = pd.DataFrame({'x':[1,2,3,4,5],'y':[10,20,30,20,10], 'z':[5,4,3,2,1]})\n",
    "df3.head()"
   ]
  },
  {
   "cell_type": "code",
   "execution_count": 27,
   "metadata": {},
   "outputs": [
    {
     "data": {
      "application/vnd.plotly.v1+json": {
       "config": {
        "linkText": "Export to plot.ly",
        "plotlyServerURL": "https://plot.ly",
        "showLink": true
       },
       "data": [
        {
         "colorscale": [
          [
           0,
           "rgb(165,0,38)"
          ],
          [
           0.1,
           "rgb(215,48,39)"
          ],
          [
           0.2,
           "rgb(244,109,67)"
          ],
          [
           0.3,
           "rgb(253,174,97)"
          ],
          [
           0.4,
           "rgb(254,224,144)"
          ],
          [
           0.5,
           "rgb(255,255,191)"
          ],
          [
           0.6,
           "rgb(224,243,248)"
          ],
          [
           0.7,
           "rgb(171,217,233)"
          ],
          [
           0.8,
           "rgb(116,173,209)"
          ],
          [
           0.9,
           "rgb(69,117,180)"
          ],
          [
           1,
           "rgb(49,54,149)"
          ]
         ],
         "type": "surface",
         "x": [
          0,
          1,
          2,
          3,
          4
         ],
         "y": [
          "x",
          "y",
          "z"
         ],
         "z": [
          [
           1,
           2,
           3,
           4,
           5
          ],
          [
           10,
           20,
           30,
           20,
           10
          ],
          [
           5,
           4,
           3,
           2,
           1
          ]
         ]
        }
       ],
       "layout": {
        "legend": {
         "bgcolor": "#F5F6F9",
         "font": {
          "color": "#4D5663"
         }
        },
        "paper_bgcolor": "#F5F6F9",
        "plot_bgcolor": "#F5F6F9",
        "template": {
         "data": {
          "bar": [
           {
            "error_x": {
             "color": "#2a3f5f"
            },
            "error_y": {
             "color": "#2a3f5f"
            },
            "marker": {
             "line": {
              "color": "#E5ECF6",
              "width": 0.5
             }
            },
            "type": "bar"
           }
          ],
          "barpolar": [
           {
            "marker": {
             "line": {
              "color": "#E5ECF6",
              "width": 0.5
             }
            },
            "type": "barpolar"
           }
          ],
          "carpet": [
           {
            "aaxis": {
             "endlinecolor": "#2a3f5f",
             "gridcolor": "white",
             "linecolor": "white",
             "minorgridcolor": "white",
             "startlinecolor": "#2a3f5f"
            },
            "baxis": {
             "endlinecolor": "#2a3f5f",
             "gridcolor": "white",
             "linecolor": "white",
             "minorgridcolor": "white",
             "startlinecolor": "#2a3f5f"
            },
            "type": "carpet"
           }
          ],
          "choropleth": [
           {
            "colorbar": {
             "outlinewidth": 0,
             "ticks": ""
            },
            "type": "choropleth"
           }
          ],
          "contour": [
           {
            "colorbar": {
             "outlinewidth": 0,
             "ticks": ""
            },
            "colorscale": [
             [
              0,
              "#0d0887"
             ],
             [
              0.1111111111111111,
              "#46039f"
             ],
             [
              0.2222222222222222,
              "#7201a8"
             ],
             [
              0.3333333333333333,
              "#9c179e"
             ],
             [
              0.4444444444444444,
              "#bd3786"
             ],
             [
              0.5555555555555556,
              "#d8576b"
             ],
             [
              0.6666666666666666,
              "#ed7953"
             ],
             [
              0.7777777777777778,
              "#fb9f3a"
             ],
             [
              0.8888888888888888,
              "#fdca26"
             ],
             [
              1,
              "#f0f921"
             ]
            ],
            "type": "contour"
           }
          ],
          "contourcarpet": [
           {
            "colorbar": {
             "outlinewidth": 0,
             "ticks": ""
            },
            "type": "contourcarpet"
           }
          ],
          "heatmap": [
           {
            "colorbar": {
             "outlinewidth": 0,
             "ticks": ""
            },
            "colorscale": [
             [
              0,
              "#0d0887"
             ],
             [
              0.1111111111111111,
              "#46039f"
             ],
             [
              0.2222222222222222,
              "#7201a8"
             ],
             [
              0.3333333333333333,
              "#9c179e"
             ],
             [
              0.4444444444444444,
              "#bd3786"
             ],
             [
              0.5555555555555556,
              "#d8576b"
             ],
             [
              0.6666666666666666,
              "#ed7953"
             ],
             [
              0.7777777777777778,
              "#fb9f3a"
             ],
             [
              0.8888888888888888,
              "#fdca26"
             ],
             [
              1,
              "#f0f921"
             ]
            ],
            "type": "heatmap"
           }
          ],
          "heatmapgl": [
           {
            "colorbar": {
             "outlinewidth": 0,
             "ticks": ""
            },
            "colorscale": [
             [
              0,
              "#0d0887"
             ],
             [
              0.1111111111111111,
              "#46039f"
             ],
             [
              0.2222222222222222,
              "#7201a8"
             ],
             [
              0.3333333333333333,
              "#9c179e"
             ],
             [
              0.4444444444444444,
              "#bd3786"
             ],
             [
              0.5555555555555556,
              "#d8576b"
             ],
             [
              0.6666666666666666,
              "#ed7953"
             ],
             [
              0.7777777777777778,
              "#fb9f3a"
             ],
             [
              0.8888888888888888,
              "#fdca26"
             ],
             [
              1,
              "#f0f921"
             ]
            ],
            "type": "heatmapgl"
           }
          ],
          "histogram": [
           {
            "marker": {
             "colorbar": {
              "outlinewidth": 0,
              "ticks": ""
             }
            },
            "type": "histogram"
           }
          ],
          "histogram2d": [
           {
            "colorbar": {
             "outlinewidth": 0,
             "ticks": ""
            },
            "colorscale": [
             [
              0,
              "#0d0887"
             ],
             [
              0.1111111111111111,
              "#46039f"
             ],
             [
              0.2222222222222222,
              "#7201a8"
             ],
             [
              0.3333333333333333,
              "#9c179e"
             ],
             [
              0.4444444444444444,
              "#bd3786"
             ],
             [
              0.5555555555555556,
              "#d8576b"
             ],
             [
              0.6666666666666666,
              "#ed7953"
             ],
             [
              0.7777777777777778,
              "#fb9f3a"
             ],
             [
              0.8888888888888888,
              "#fdca26"
             ],
             [
              1,
              "#f0f921"
             ]
            ],
            "type": "histogram2d"
           }
          ],
          "histogram2dcontour": [
           {
            "colorbar": {
             "outlinewidth": 0,
             "ticks": ""
            },
            "colorscale": [
             [
              0,
              "#0d0887"
             ],
             [
              0.1111111111111111,
              "#46039f"
             ],
             [
              0.2222222222222222,
              "#7201a8"
             ],
             [
              0.3333333333333333,
              "#9c179e"
             ],
             [
              0.4444444444444444,
              "#bd3786"
             ],
             [
              0.5555555555555556,
              "#d8576b"
             ],
             [
              0.6666666666666666,
              "#ed7953"
             ],
             [
              0.7777777777777778,
              "#fb9f3a"
             ],
             [
              0.8888888888888888,
              "#fdca26"
             ],
             [
              1,
              "#f0f921"
             ]
            ],
            "type": "histogram2dcontour"
           }
          ],
          "mesh3d": [
           {
            "colorbar": {
             "outlinewidth": 0,
             "ticks": ""
            },
            "type": "mesh3d"
           }
          ],
          "parcoords": [
           {
            "line": {
             "colorbar": {
              "outlinewidth": 0,
              "ticks": ""
             }
            },
            "type": "parcoords"
           }
          ],
          "pie": [
           {
            "automargin": true,
            "type": "pie"
           }
          ],
          "scatter": [
           {
            "marker": {
             "colorbar": {
              "outlinewidth": 0,
              "ticks": ""
             }
            },
            "type": "scatter"
           }
          ],
          "scatter3d": [
           {
            "line": {
             "colorbar": {
              "outlinewidth": 0,
              "ticks": ""
             }
            },
            "marker": {
             "colorbar": {
              "outlinewidth": 0,
              "ticks": ""
             }
            },
            "type": "scatter3d"
           }
          ],
          "scattercarpet": [
           {
            "marker": {
             "colorbar": {
              "outlinewidth": 0,
              "ticks": ""
             }
            },
            "type": "scattercarpet"
           }
          ],
          "scattergeo": [
           {
            "marker": {
             "colorbar": {
              "outlinewidth": 0,
              "ticks": ""
             }
            },
            "type": "scattergeo"
           }
          ],
          "scattergl": [
           {
            "marker": {
             "colorbar": {
              "outlinewidth": 0,
              "ticks": ""
             }
            },
            "type": "scattergl"
           }
          ],
          "scattermapbox": [
           {
            "marker": {
             "colorbar": {
              "outlinewidth": 0,
              "ticks": ""
             }
            },
            "type": "scattermapbox"
           }
          ],
          "scatterpolar": [
           {
            "marker": {
             "colorbar": {
              "outlinewidth": 0,
              "ticks": ""
             }
            },
            "type": "scatterpolar"
           }
          ],
          "scatterpolargl": [
           {
            "marker": {
             "colorbar": {
              "outlinewidth": 0,
              "ticks": ""
             }
            },
            "type": "scatterpolargl"
           }
          ],
          "scatterternary": [
           {
            "marker": {
             "colorbar": {
              "outlinewidth": 0,
              "ticks": ""
             }
            },
            "type": "scatterternary"
           }
          ],
          "surface": [
           {
            "colorbar": {
             "outlinewidth": 0,
             "ticks": ""
            },
            "colorscale": [
             [
              0,
              "#0d0887"
             ],
             [
              0.1111111111111111,
              "#46039f"
             ],
             [
              0.2222222222222222,
              "#7201a8"
             ],
             [
              0.3333333333333333,
              "#9c179e"
             ],
             [
              0.4444444444444444,
              "#bd3786"
             ],
             [
              0.5555555555555556,
              "#d8576b"
             ],
             [
              0.6666666666666666,
              "#ed7953"
             ],
             [
              0.7777777777777778,
              "#fb9f3a"
             ],
             [
              0.8888888888888888,
              "#fdca26"
             ],
             [
              1,
              "#f0f921"
             ]
            ],
            "type": "surface"
           }
          ],
          "table": [
           {
            "cells": {
             "fill": {
              "color": "#EBF0F8"
             },
             "line": {
              "color": "white"
             }
            },
            "header": {
             "fill": {
              "color": "#C8D4E3"
             },
             "line": {
              "color": "white"
             }
            },
            "type": "table"
           }
          ]
         },
         "layout": {
          "annotationdefaults": {
           "arrowcolor": "#2a3f5f",
           "arrowhead": 0,
           "arrowwidth": 1
          },
          "coloraxis": {
           "colorbar": {
            "outlinewidth": 0,
            "ticks": ""
           }
          },
          "colorscale": {
           "diverging": [
            [
             0,
             "#8e0152"
            ],
            [
             0.1,
             "#c51b7d"
            ],
            [
             0.2,
             "#de77ae"
            ],
            [
             0.3,
             "#f1b6da"
            ],
            [
             0.4,
             "#fde0ef"
            ],
            [
             0.5,
             "#f7f7f7"
            ],
            [
             0.6,
             "#e6f5d0"
            ],
            [
             0.7,
             "#b8e186"
            ],
            [
             0.8,
             "#7fbc41"
            ],
            [
             0.9,
             "#4d9221"
            ],
            [
             1,
             "#276419"
            ]
           ],
           "sequential": [
            [
             0,
             "#0d0887"
            ],
            [
             0.1111111111111111,
             "#46039f"
            ],
            [
             0.2222222222222222,
             "#7201a8"
            ],
            [
             0.3333333333333333,
             "#9c179e"
            ],
            [
             0.4444444444444444,
             "#bd3786"
            ],
            [
             0.5555555555555556,
             "#d8576b"
            ],
            [
             0.6666666666666666,
             "#ed7953"
            ],
            [
             0.7777777777777778,
             "#fb9f3a"
            ],
            [
             0.8888888888888888,
             "#fdca26"
            ],
            [
             1,
             "#f0f921"
            ]
           ],
           "sequentialminus": [
            [
             0,
             "#0d0887"
            ],
            [
             0.1111111111111111,
             "#46039f"
            ],
            [
             0.2222222222222222,
             "#7201a8"
            ],
            [
             0.3333333333333333,
             "#9c179e"
            ],
            [
             0.4444444444444444,
             "#bd3786"
            ],
            [
             0.5555555555555556,
             "#d8576b"
            ],
            [
             0.6666666666666666,
             "#ed7953"
            ],
            [
             0.7777777777777778,
             "#fb9f3a"
            ],
            [
             0.8888888888888888,
             "#fdca26"
            ],
            [
             1,
             "#f0f921"
            ]
           ]
          },
          "colorway": [
           "#636efa",
           "#EF553B",
           "#00cc96",
           "#ab63fa",
           "#FFA15A",
           "#19d3f3",
           "#FF6692",
           "#B6E880",
           "#FF97FF",
           "#FECB52"
          ],
          "font": {
           "color": "#2a3f5f"
          },
          "geo": {
           "bgcolor": "white",
           "lakecolor": "white",
           "landcolor": "#E5ECF6",
           "showlakes": true,
           "showland": true,
           "subunitcolor": "white"
          },
          "hoverlabel": {
           "align": "left"
          },
          "hovermode": "closest",
          "mapbox": {
           "style": "light"
          },
          "paper_bgcolor": "white",
          "plot_bgcolor": "#E5ECF6",
          "polar": {
           "angularaxis": {
            "gridcolor": "white",
            "linecolor": "white",
            "ticks": ""
           },
           "bgcolor": "#E5ECF6",
           "radialaxis": {
            "gridcolor": "white",
            "linecolor": "white",
            "ticks": ""
           }
          },
          "scene": {
           "xaxis": {
            "backgroundcolor": "#E5ECF6",
            "gridcolor": "white",
            "gridwidth": 2,
            "linecolor": "white",
            "showbackground": true,
            "ticks": "",
            "zerolinecolor": "white"
           },
           "yaxis": {
            "backgroundcolor": "#E5ECF6",
            "gridcolor": "white",
            "gridwidth": 2,
            "linecolor": "white",
            "showbackground": true,
            "ticks": "",
            "zerolinecolor": "white"
           },
           "zaxis": {
            "backgroundcolor": "#E5ECF6",
            "gridcolor": "white",
            "gridwidth": 2,
            "linecolor": "white",
            "showbackground": true,
            "ticks": "",
            "zerolinecolor": "white"
           }
          },
          "shapedefaults": {
           "line": {
            "color": "#2a3f5f"
           }
          },
          "ternary": {
           "aaxis": {
            "gridcolor": "white",
            "linecolor": "white",
            "ticks": ""
           },
           "baxis": {
            "gridcolor": "white",
            "linecolor": "white",
            "ticks": ""
           },
           "bgcolor": "#E5ECF6",
           "caxis": {
            "gridcolor": "white",
            "linecolor": "white",
            "ticks": ""
           }
          },
          "title": {
           "x": 0.05
          },
          "xaxis": {
           "automargin": true,
           "gridcolor": "white",
           "linecolor": "white",
           "ticks": "",
           "title": {
            "standoff": 15
           },
           "zerolinecolor": "white",
           "zerolinewidth": 2
          },
          "yaxis": {
           "automargin": true,
           "gridcolor": "white",
           "linecolor": "white",
           "ticks": "",
           "title": {
            "standoff": 15
           },
           "zerolinecolor": "white",
           "zerolinewidth": 2
          }
         }
        },
        "title": {
         "font": {
          "color": "#4D5663"
         }
        },
        "xaxis": {
         "gridcolor": "#E1E5ED",
         "showgrid": true,
         "tickfont": {
          "color": "#4D5663"
         },
         "title": {
          "font": {
           "color": "#4D5663"
          },
          "text": ""
         },
         "zerolinecolor": "#E1E5ED"
        },
        "yaxis": {
         "gridcolor": "#E1E5ED",
         "showgrid": true,
         "tickfont": {
          "color": "#4D5663"
         },
         "title": {
          "font": {
           "color": "#4D5663"
          },
          "text": ""
         },
         "zerolinecolor": "#E1E5ED"
        }
       }
      },
      "text/html": [
       "<div>\n",
       "        \n",
       "        \n",
       "            <div id=\"2c20c1c6-636f-4396-9b83-1a1c60a2018d\" class=\"plotly-graph-div\" style=\"height:525px; width:100%;\"></div>\n",
       "            <script type=\"text/javascript\">\n",
       "                require([\"plotly\"], function(Plotly) {\n",
       "                    window.PLOTLYENV=window.PLOTLYENV || {};\n",
       "                    window.PLOTLYENV.BASE_URL='https://plot.ly';\n",
       "                    \n",
       "                if (document.getElementById(\"2c20c1c6-636f-4396-9b83-1a1c60a2018d\")) {\n",
       "                    Plotly.newPlot(\n",
       "                        '2c20c1c6-636f-4396-9b83-1a1c60a2018d',\n",
       "                        [{\"colorscale\": [[0.0, \"rgb(165,0,38)\"], [0.1, \"rgb(215,48,39)\"], [0.2, \"rgb(244,109,67)\"], [0.3, \"rgb(253,174,97)\"], [0.4, \"rgb(254,224,144)\"], [0.5, \"rgb(255,255,191)\"], [0.6, \"rgb(224,243,248)\"], [0.7, \"rgb(171,217,233)\"], [0.8, \"rgb(116,173,209)\"], [0.9, \"rgb(69,117,180)\"], [1.0, \"rgb(49,54,149)\"]], \"type\": \"surface\", \"x\": [0, 1, 2, 3, 4], \"y\": [\"x\", \"y\", \"z\"], \"z\": [[1, 2, 3, 4, 5], [10, 20, 30, 20, 10], [5, 4, 3, 2, 1]]}],\n",
       "                        {\"legend\": {\"bgcolor\": \"#F5F6F9\", \"font\": {\"color\": \"#4D5663\"}}, \"paper_bgcolor\": \"#F5F6F9\", \"plot_bgcolor\": \"#F5F6F9\", \"template\": {\"data\": {\"bar\": [{\"error_x\": {\"color\": \"#2a3f5f\"}, \"error_y\": {\"color\": \"#2a3f5f\"}, \"marker\": {\"line\": {\"color\": \"#E5ECF6\", \"width\": 0.5}}, \"type\": \"bar\"}], \"barpolar\": [{\"marker\": {\"line\": {\"color\": \"#E5ECF6\", \"width\": 0.5}}, \"type\": \"barpolar\"}], \"carpet\": [{\"aaxis\": {\"endlinecolor\": \"#2a3f5f\", \"gridcolor\": \"white\", \"linecolor\": \"white\", \"minorgridcolor\": \"white\", \"startlinecolor\": \"#2a3f5f\"}, \"baxis\": {\"endlinecolor\": \"#2a3f5f\", \"gridcolor\": \"white\", \"linecolor\": \"white\", \"minorgridcolor\": \"white\", \"startlinecolor\": \"#2a3f5f\"}, \"type\": \"carpet\"}], \"choropleth\": [{\"colorbar\": {\"outlinewidth\": 0, \"ticks\": \"\"}, \"type\": \"choropleth\"}], \"contour\": [{\"colorbar\": {\"outlinewidth\": 0, \"ticks\": \"\"}, \"colorscale\": [[0.0, \"#0d0887\"], [0.1111111111111111, \"#46039f\"], [0.2222222222222222, \"#7201a8\"], [0.3333333333333333, \"#9c179e\"], [0.4444444444444444, \"#bd3786\"], [0.5555555555555556, \"#d8576b\"], [0.6666666666666666, \"#ed7953\"], [0.7777777777777778, \"#fb9f3a\"], [0.8888888888888888, \"#fdca26\"], [1.0, \"#f0f921\"]], \"type\": \"contour\"}], \"contourcarpet\": [{\"colorbar\": {\"outlinewidth\": 0, \"ticks\": \"\"}, \"type\": \"contourcarpet\"}], \"heatmap\": [{\"colorbar\": {\"outlinewidth\": 0, \"ticks\": \"\"}, \"colorscale\": [[0.0, \"#0d0887\"], [0.1111111111111111, \"#46039f\"], [0.2222222222222222, \"#7201a8\"], [0.3333333333333333, \"#9c179e\"], [0.4444444444444444, \"#bd3786\"], [0.5555555555555556, \"#d8576b\"], [0.6666666666666666, \"#ed7953\"], [0.7777777777777778, \"#fb9f3a\"], [0.8888888888888888, \"#fdca26\"], [1.0, \"#f0f921\"]], \"type\": \"heatmap\"}], \"heatmapgl\": [{\"colorbar\": {\"outlinewidth\": 0, \"ticks\": \"\"}, \"colorscale\": [[0.0, \"#0d0887\"], [0.1111111111111111, \"#46039f\"], [0.2222222222222222, \"#7201a8\"], [0.3333333333333333, \"#9c179e\"], [0.4444444444444444, \"#bd3786\"], [0.5555555555555556, \"#d8576b\"], [0.6666666666666666, \"#ed7953\"], [0.7777777777777778, \"#fb9f3a\"], [0.8888888888888888, \"#fdca26\"], [1.0, \"#f0f921\"]], \"type\": \"heatmapgl\"}], \"histogram\": [{\"marker\": {\"colorbar\": {\"outlinewidth\": 0, \"ticks\": \"\"}}, \"type\": \"histogram\"}], \"histogram2d\": [{\"colorbar\": {\"outlinewidth\": 0, \"ticks\": \"\"}, \"colorscale\": [[0.0, \"#0d0887\"], [0.1111111111111111, \"#46039f\"], [0.2222222222222222, \"#7201a8\"], [0.3333333333333333, \"#9c179e\"], [0.4444444444444444, \"#bd3786\"], [0.5555555555555556, \"#d8576b\"], [0.6666666666666666, \"#ed7953\"], [0.7777777777777778, \"#fb9f3a\"], [0.8888888888888888, \"#fdca26\"], [1.0, \"#f0f921\"]], \"type\": \"histogram2d\"}], \"histogram2dcontour\": [{\"colorbar\": {\"outlinewidth\": 0, \"ticks\": \"\"}, \"colorscale\": [[0.0, \"#0d0887\"], [0.1111111111111111, \"#46039f\"], [0.2222222222222222, \"#7201a8\"], [0.3333333333333333, \"#9c179e\"], [0.4444444444444444, \"#bd3786\"], [0.5555555555555556, \"#d8576b\"], [0.6666666666666666, \"#ed7953\"], [0.7777777777777778, \"#fb9f3a\"], [0.8888888888888888, \"#fdca26\"], [1.0, \"#f0f921\"]], \"type\": \"histogram2dcontour\"}], \"mesh3d\": [{\"colorbar\": {\"outlinewidth\": 0, \"ticks\": \"\"}, \"type\": \"mesh3d\"}], \"parcoords\": [{\"line\": {\"colorbar\": {\"outlinewidth\": 0, \"ticks\": \"\"}}, \"type\": \"parcoords\"}], \"pie\": [{\"automargin\": true, \"type\": \"pie\"}], \"scatter\": [{\"marker\": {\"colorbar\": {\"outlinewidth\": 0, \"ticks\": \"\"}}, \"type\": \"scatter\"}], \"scatter3d\": [{\"line\": {\"colorbar\": {\"outlinewidth\": 0, \"ticks\": \"\"}}, \"marker\": {\"colorbar\": {\"outlinewidth\": 0, \"ticks\": \"\"}}, \"type\": \"scatter3d\"}], \"scattercarpet\": [{\"marker\": {\"colorbar\": {\"outlinewidth\": 0, \"ticks\": \"\"}}, \"type\": \"scattercarpet\"}], \"scattergeo\": [{\"marker\": {\"colorbar\": {\"outlinewidth\": 0, \"ticks\": \"\"}}, \"type\": \"scattergeo\"}], \"scattergl\": [{\"marker\": {\"colorbar\": {\"outlinewidth\": 0, \"ticks\": \"\"}}, \"type\": \"scattergl\"}], \"scattermapbox\": [{\"marker\": {\"colorbar\": {\"outlinewidth\": 0, \"ticks\": \"\"}}, \"type\": \"scattermapbox\"}], \"scatterpolar\": [{\"marker\": {\"colorbar\": {\"outlinewidth\": 0, \"ticks\": \"\"}}, \"type\": \"scatterpolar\"}], \"scatterpolargl\": [{\"marker\": {\"colorbar\": {\"outlinewidth\": 0, \"ticks\": \"\"}}, \"type\": \"scatterpolargl\"}], \"scatterternary\": [{\"marker\": {\"colorbar\": {\"outlinewidth\": 0, \"ticks\": \"\"}}, \"type\": \"scatterternary\"}], \"surface\": [{\"colorbar\": {\"outlinewidth\": 0, \"ticks\": \"\"}, \"colorscale\": [[0.0, \"#0d0887\"], [0.1111111111111111, \"#46039f\"], [0.2222222222222222, \"#7201a8\"], [0.3333333333333333, \"#9c179e\"], [0.4444444444444444, \"#bd3786\"], [0.5555555555555556, \"#d8576b\"], [0.6666666666666666, \"#ed7953\"], [0.7777777777777778, \"#fb9f3a\"], [0.8888888888888888, \"#fdca26\"], [1.0, \"#f0f921\"]], \"type\": \"surface\"}], \"table\": [{\"cells\": {\"fill\": {\"color\": \"#EBF0F8\"}, \"line\": {\"color\": \"white\"}}, \"header\": {\"fill\": {\"color\": \"#C8D4E3\"}, \"line\": {\"color\": \"white\"}}, \"type\": \"table\"}]}, \"layout\": {\"annotationdefaults\": {\"arrowcolor\": \"#2a3f5f\", \"arrowhead\": 0, \"arrowwidth\": 1}, \"coloraxis\": {\"colorbar\": {\"outlinewidth\": 0, \"ticks\": \"\"}}, \"colorscale\": {\"diverging\": [[0, \"#8e0152\"], [0.1, \"#c51b7d\"], [0.2, \"#de77ae\"], [0.3, \"#f1b6da\"], [0.4, \"#fde0ef\"], [0.5, \"#f7f7f7\"], [0.6, \"#e6f5d0\"], [0.7, \"#b8e186\"], [0.8, \"#7fbc41\"], [0.9, \"#4d9221\"], [1, \"#276419\"]], \"sequential\": [[0.0, \"#0d0887\"], [0.1111111111111111, \"#46039f\"], [0.2222222222222222, \"#7201a8\"], [0.3333333333333333, \"#9c179e\"], [0.4444444444444444, \"#bd3786\"], [0.5555555555555556, \"#d8576b\"], [0.6666666666666666, \"#ed7953\"], [0.7777777777777778, \"#fb9f3a\"], [0.8888888888888888, \"#fdca26\"], [1.0, \"#f0f921\"]], \"sequentialminus\": [[0.0, \"#0d0887\"], [0.1111111111111111, \"#46039f\"], [0.2222222222222222, \"#7201a8\"], [0.3333333333333333, \"#9c179e\"], [0.4444444444444444, \"#bd3786\"], [0.5555555555555556, \"#d8576b\"], [0.6666666666666666, \"#ed7953\"], [0.7777777777777778, \"#fb9f3a\"], [0.8888888888888888, \"#fdca26\"], [1.0, \"#f0f921\"]]}, \"colorway\": [\"#636efa\", \"#EF553B\", \"#00cc96\", \"#ab63fa\", \"#FFA15A\", \"#19d3f3\", \"#FF6692\", \"#B6E880\", \"#FF97FF\", \"#FECB52\"], \"font\": {\"color\": \"#2a3f5f\"}, \"geo\": {\"bgcolor\": \"white\", \"lakecolor\": \"white\", \"landcolor\": \"#E5ECF6\", \"showlakes\": true, \"showland\": true, \"subunitcolor\": \"white\"}, \"hoverlabel\": {\"align\": \"left\"}, \"hovermode\": \"closest\", \"mapbox\": {\"style\": \"light\"}, \"paper_bgcolor\": \"white\", \"plot_bgcolor\": \"#E5ECF6\", \"polar\": {\"angularaxis\": {\"gridcolor\": \"white\", \"linecolor\": \"white\", \"ticks\": \"\"}, \"bgcolor\": \"#E5ECF6\", \"radialaxis\": {\"gridcolor\": \"white\", \"linecolor\": \"white\", \"ticks\": \"\"}}, \"scene\": {\"xaxis\": {\"backgroundcolor\": \"#E5ECF6\", \"gridcolor\": \"white\", \"gridwidth\": 2, \"linecolor\": \"white\", \"showbackground\": true, \"ticks\": \"\", \"zerolinecolor\": \"white\"}, \"yaxis\": {\"backgroundcolor\": \"#E5ECF6\", \"gridcolor\": \"white\", \"gridwidth\": 2, \"linecolor\": \"white\", \"showbackground\": true, \"ticks\": \"\", \"zerolinecolor\": \"white\"}, \"zaxis\": {\"backgroundcolor\": \"#E5ECF6\", \"gridcolor\": \"white\", \"gridwidth\": 2, \"linecolor\": \"white\", \"showbackground\": true, \"ticks\": \"\", \"zerolinecolor\": \"white\"}}, \"shapedefaults\": {\"line\": {\"color\": \"#2a3f5f\"}}, \"ternary\": {\"aaxis\": {\"gridcolor\": \"white\", \"linecolor\": \"white\", \"ticks\": \"\"}, \"baxis\": {\"gridcolor\": \"white\", \"linecolor\": \"white\", \"ticks\": \"\"}, \"bgcolor\": \"#E5ECF6\", \"caxis\": {\"gridcolor\": \"white\", \"linecolor\": \"white\", \"ticks\": \"\"}}, \"title\": {\"x\": 0.05}, \"xaxis\": {\"automargin\": true, \"gridcolor\": \"white\", \"linecolor\": \"white\", \"ticks\": \"\", \"title\": {\"standoff\": 15}, \"zerolinecolor\": \"white\", \"zerolinewidth\": 2}, \"yaxis\": {\"automargin\": true, \"gridcolor\": \"white\", \"linecolor\": \"white\", \"ticks\": \"\", \"title\": {\"standoff\": 15}, \"zerolinecolor\": \"white\", \"zerolinewidth\": 2}}}, \"title\": {\"font\": {\"color\": \"#4D5663\"}}, \"xaxis\": {\"gridcolor\": \"#E1E5ED\", \"showgrid\": true, \"tickfont\": {\"color\": \"#4D5663\"}, \"title\": {\"font\": {\"color\": \"#4D5663\"}, \"text\": \"\"}, \"zerolinecolor\": \"#E1E5ED\"}, \"yaxis\": {\"gridcolor\": \"#E1E5ED\", \"showgrid\": true, \"tickfont\": {\"color\": \"#4D5663\"}, \"title\": {\"font\": {\"color\": \"#4D5663\"}, \"text\": \"\"}, \"zerolinecolor\": \"#E1E5ED\"}},\n",
       "                        {\"showLink\": true, \"linkText\": \"Export to plot.ly\", \"plotlyServerURL\": \"https://plot.ly\", \"responsive\": true}\n",
       "                    ).then(function(){\n",
       "                            \n",
       "var gd = document.getElementById('2c20c1c6-636f-4396-9b83-1a1c60a2018d');\n",
       "var x = new MutationObserver(function (mutations, observer) {{\n",
       "        var display = window.getComputedStyle(gd).display;\n",
       "        if (!display || display === 'none') {{\n",
       "            console.log([gd, 'removed!']);\n",
       "            Plotly.purge(gd);\n",
       "            observer.disconnect();\n",
       "        }}\n",
       "}});\n",
       "\n",
       "// Listen for the removal of the full notebook cells\n",
       "var notebookContainer = gd.closest('#notebook-container');\n",
       "if (notebookContainer) {{\n",
       "    x.observe(notebookContainer, {childList: true});\n",
       "}}\n",
       "\n",
       "// Listen for the clearing of the current output cell\n",
       "var outputEl = gd.closest('.output');\n",
       "if (outputEl) {{\n",
       "    x.observe(outputEl, {childList: true});\n",
       "}}\n",
       "\n",
       "                        })\n",
       "                };\n",
       "                });\n",
       "            </script>\n",
       "        </div>"
      ]
     },
     "metadata": {},
     "output_type": "display_data"
    }
   ],
   "source": [
    "df3.iplot(kind = 'surface', colorscale = 'rdylbu')"
   ]
  },
  {
   "cell_type": "code",
   "execution_count": 28,
   "metadata": {},
   "outputs": [
    {
     "data": {
      "application/vnd.plotly.v1+json": {
       "config": {
        "linkText": "Export to plot.ly",
        "plotlyServerURL": "https://plot.ly",
        "showLink": true
       },
       "data": [
        {
         "histfunc": "count",
         "histnorm": "",
         "marker": {
          "color": "rgba(255, 153, 51, 1.0)",
          "line": {
           "color": "#4D5663",
           "width": 1.3
          }
         },
         "name": "A",
         "opacity": 0.8,
         "orientation": "v",
         "type": "histogram",
         "x": [
          0.6326127038985268,
          -0.14548579553446406,
          -0.34393948885963876,
          0.3519190014943898,
          0.7107141402638056,
          0.054448005118226145,
          0.31478965626513306,
          1.9337649291692833,
          -2.4104902799178225,
          -1.2453604990808071,
          1.098206494038972,
          -0.4728839209634316,
          1.01350221056353,
          -1.2005069730171412,
          2.2182955208107384,
          -0.5776216990016312,
          -1.4108161826851844,
          -0.7196052814859598,
          -0.8521024791986744,
          -2.395667214325212,
          0.6135391862466687,
          -0.5459430342243888,
          -1.5060792667559042,
          0.8667742499584937,
          -1.1701546987241738,
          -0.08603577043546688,
          -1.4225646891991002,
          1.5097413246515126,
          -0.866990537216288,
          0.36179214184957503,
          -0.045414828943426265,
          -1.1565623260261002,
          -0.3142975279995353,
          0.27781931010361094,
          0.13924531458794118,
          0.5592464910210235,
          1.4967131118300432,
          -1.2053072838699337,
          0.9797694054889248,
          -0.8849615612000583,
          -0.3811985872358258,
          1.2480856601545274,
          0.21658187897293008,
          -0.6983120986704753,
          -0.4513805948645634,
          0.5580842538719136,
          1.7496795737545083,
          -0.9879645518593242,
          -0.06721474521065876,
          0.5035528575835836,
          0.6186851606665685,
          0.0653038262993778,
          -2.3426270634798825,
          0.647611947402595,
          0.219685903854224,
          0.9076116925247123,
          0.27528312732947663,
          0.8846370584865045,
          -0.4307631060841758,
          1.6065913463104657,
          -0.3435107836865878,
          -1.2569208272167436,
          1.1982153725983713,
          -0.5624178050751879,
          -1.7559287574848392,
          -0.774560168600139,
          0.49075843422998716,
          0.19013438750868822,
          -0.10736136841934604,
          -0.7563320343420211,
          -0.912488191626346,
          0.47780470406373887,
          0.46123054750740644,
          -1.170008389278726,
          0.8208488063070032,
          2.0708134558500015,
          1.196023145719842,
          1.0866936558250455,
          2.174827703635172,
          0.9464513781289309,
          -0.3847720587664325,
          0.677896901070159,
          0.3789629295966409,
          -0.40453211598778244,
          -1.4214106677209226,
          -2.000151170771465,
          0.03448335811311445,
          -1.0288832751039005,
          -0.7060820996009419,
          -0.3984065438825475,
          1.3183550006020213,
          2.3746996644956346,
          0.17237217908045094,
          -0.5356615988531053,
          -1.8134160233906358,
          0.19096701764943314,
          -0.628185005053714,
          -1.8878773692036663,
          -0.4900468240812979,
          0.48428326873581173
         ]
        }
       ],
       "layout": {
        "barmode": "overlay",
        "legend": {
         "bgcolor": "#F5F6F9",
         "font": {
          "color": "#4D5663"
         }
        },
        "paper_bgcolor": "#F5F6F9",
        "plot_bgcolor": "#F5F6F9",
        "template": {
         "data": {
          "bar": [
           {
            "error_x": {
             "color": "#2a3f5f"
            },
            "error_y": {
             "color": "#2a3f5f"
            },
            "marker": {
             "line": {
              "color": "#E5ECF6",
              "width": 0.5
             }
            },
            "type": "bar"
           }
          ],
          "barpolar": [
           {
            "marker": {
             "line": {
              "color": "#E5ECF6",
              "width": 0.5
             }
            },
            "type": "barpolar"
           }
          ],
          "carpet": [
           {
            "aaxis": {
             "endlinecolor": "#2a3f5f",
             "gridcolor": "white",
             "linecolor": "white",
             "minorgridcolor": "white",
             "startlinecolor": "#2a3f5f"
            },
            "baxis": {
             "endlinecolor": "#2a3f5f",
             "gridcolor": "white",
             "linecolor": "white",
             "minorgridcolor": "white",
             "startlinecolor": "#2a3f5f"
            },
            "type": "carpet"
           }
          ],
          "choropleth": [
           {
            "colorbar": {
             "outlinewidth": 0,
             "ticks": ""
            },
            "type": "choropleth"
           }
          ],
          "contour": [
           {
            "colorbar": {
             "outlinewidth": 0,
             "ticks": ""
            },
            "colorscale": [
             [
              0,
              "#0d0887"
             ],
             [
              0.1111111111111111,
              "#46039f"
             ],
             [
              0.2222222222222222,
              "#7201a8"
             ],
             [
              0.3333333333333333,
              "#9c179e"
             ],
             [
              0.4444444444444444,
              "#bd3786"
             ],
             [
              0.5555555555555556,
              "#d8576b"
             ],
             [
              0.6666666666666666,
              "#ed7953"
             ],
             [
              0.7777777777777778,
              "#fb9f3a"
             ],
             [
              0.8888888888888888,
              "#fdca26"
             ],
             [
              1,
              "#f0f921"
             ]
            ],
            "type": "contour"
           }
          ],
          "contourcarpet": [
           {
            "colorbar": {
             "outlinewidth": 0,
             "ticks": ""
            },
            "type": "contourcarpet"
           }
          ],
          "heatmap": [
           {
            "colorbar": {
             "outlinewidth": 0,
             "ticks": ""
            },
            "colorscale": [
             [
              0,
              "#0d0887"
             ],
             [
              0.1111111111111111,
              "#46039f"
             ],
             [
              0.2222222222222222,
              "#7201a8"
             ],
             [
              0.3333333333333333,
              "#9c179e"
             ],
             [
              0.4444444444444444,
              "#bd3786"
             ],
             [
              0.5555555555555556,
              "#d8576b"
             ],
             [
              0.6666666666666666,
              "#ed7953"
             ],
             [
              0.7777777777777778,
              "#fb9f3a"
             ],
             [
              0.8888888888888888,
              "#fdca26"
             ],
             [
              1,
              "#f0f921"
             ]
            ],
            "type": "heatmap"
           }
          ],
          "heatmapgl": [
           {
            "colorbar": {
             "outlinewidth": 0,
             "ticks": ""
            },
            "colorscale": [
             [
              0,
              "#0d0887"
             ],
             [
              0.1111111111111111,
              "#46039f"
             ],
             [
              0.2222222222222222,
              "#7201a8"
             ],
             [
              0.3333333333333333,
              "#9c179e"
             ],
             [
              0.4444444444444444,
              "#bd3786"
             ],
             [
              0.5555555555555556,
              "#d8576b"
             ],
             [
              0.6666666666666666,
              "#ed7953"
             ],
             [
              0.7777777777777778,
              "#fb9f3a"
             ],
             [
              0.8888888888888888,
              "#fdca26"
             ],
             [
              1,
              "#f0f921"
             ]
            ],
            "type": "heatmapgl"
           }
          ],
          "histogram": [
           {
            "marker": {
             "colorbar": {
              "outlinewidth": 0,
              "ticks": ""
             }
            },
            "type": "histogram"
           }
          ],
          "histogram2d": [
           {
            "colorbar": {
             "outlinewidth": 0,
             "ticks": ""
            },
            "colorscale": [
             [
              0,
              "#0d0887"
             ],
             [
              0.1111111111111111,
              "#46039f"
             ],
             [
              0.2222222222222222,
              "#7201a8"
             ],
             [
              0.3333333333333333,
              "#9c179e"
             ],
             [
              0.4444444444444444,
              "#bd3786"
             ],
             [
              0.5555555555555556,
              "#d8576b"
             ],
             [
              0.6666666666666666,
              "#ed7953"
             ],
             [
              0.7777777777777778,
              "#fb9f3a"
             ],
             [
              0.8888888888888888,
              "#fdca26"
             ],
             [
              1,
              "#f0f921"
             ]
            ],
            "type": "histogram2d"
           }
          ],
          "histogram2dcontour": [
           {
            "colorbar": {
             "outlinewidth": 0,
             "ticks": ""
            },
            "colorscale": [
             [
              0,
              "#0d0887"
             ],
             [
              0.1111111111111111,
              "#46039f"
             ],
             [
              0.2222222222222222,
              "#7201a8"
             ],
             [
              0.3333333333333333,
              "#9c179e"
             ],
             [
              0.4444444444444444,
              "#bd3786"
             ],
             [
              0.5555555555555556,
              "#d8576b"
             ],
             [
              0.6666666666666666,
              "#ed7953"
             ],
             [
              0.7777777777777778,
              "#fb9f3a"
             ],
             [
              0.8888888888888888,
              "#fdca26"
             ],
             [
              1,
              "#f0f921"
             ]
            ],
            "type": "histogram2dcontour"
           }
          ],
          "mesh3d": [
           {
            "colorbar": {
             "outlinewidth": 0,
             "ticks": ""
            },
            "type": "mesh3d"
           }
          ],
          "parcoords": [
           {
            "line": {
             "colorbar": {
              "outlinewidth": 0,
              "ticks": ""
             }
            },
            "type": "parcoords"
           }
          ],
          "pie": [
           {
            "automargin": true,
            "type": "pie"
           }
          ],
          "scatter": [
           {
            "marker": {
             "colorbar": {
              "outlinewidth": 0,
              "ticks": ""
             }
            },
            "type": "scatter"
           }
          ],
          "scatter3d": [
           {
            "line": {
             "colorbar": {
              "outlinewidth": 0,
              "ticks": ""
             }
            },
            "marker": {
             "colorbar": {
              "outlinewidth": 0,
              "ticks": ""
             }
            },
            "type": "scatter3d"
           }
          ],
          "scattercarpet": [
           {
            "marker": {
             "colorbar": {
              "outlinewidth": 0,
              "ticks": ""
             }
            },
            "type": "scattercarpet"
           }
          ],
          "scattergeo": [
           {
            "marker": {
             "colorbar": {
              "outlinewidth": 0,
              "ticks": ""
             }
            },
            "type": "scattergeo"
           }
          ],
          "scattergl": [
           {
            "marker": {
             "colorbar": {
              "outlinewidth": 0,
              "ticks": ""
             }
            },
            "type": "scattergl"
           }
          ],
          "scattermapbox": [
           {
            "marker": {
             "colorbar": {
              "outlinewidth": 0,
              "ticks": ""
             }
            },
            "type": "scattermapbox"
           }
          ],
          "scatterpolar": [
           {
            "marker": {
             "colorbar": {
              "outlinewidth": 0,
              "ticks": ""
             }
            },
            "type": "scatterpolar"
           }
          ],
          "scatterpolargl": [
           {
            "marker": {
             "colorbar": {
              "outlinewidth": 0,
              "ticks": ""
             }
            },
            "type": "scatterpolargl"
           }
          ],
          "scatterternary": [
           {
            "marker": {
             "colorbar": {
              "outlinewidth": 0,
              "ticks": ""
             }
            },
            "type": "scatterternary"
           }
          ],
          "surface": [
           {
            "colorbar": {
             "outlinewidth": 0,
             "ticks": ""
            },
            "colorscale": [
             [
              0,
              "#0d0887"
             ],
             [
              0.1111111111111111,
              "#46039f"
             ],
             [
              0.2222222222222222,
              "#7201a8"
             ],
             [
              0.3333333333333333,
              "#9c179e"
             ],
             [
              0.4444444444444444,
              "#bd3786"
             ],
             [
              0.5555555555555556,
              "#d8576b"
             ],
             [
              0.6666666666666666,
              "#ed7953"
             ],
             [
              0.7777777777777778,
              "#fb9f3a"
             ],
             [
              0.8888888888888888,
              "#fdca26"
             ],
             [
              1,
              "#f0f921"
             ]
            ],
            "type": "surface"
           }
          ],
          "table": [
           {
            "cells": {
             "fill": {
              "color": "#EBF0F8"
             },
             "line": {
              "color": "white"
             }
            },
            "header": {
             "fill": {
              "color": "#C8D4E3"
             },
             "line": {
              "color": "white"
             }
            },
            "type": "table"
           }
          ]
         },
         "layout": {
          "annotationdefaults": {
           "arrowcolor": "#2a3f5f",
           "arrowhead": 0,
           "arrowwidth": 1
          },
          "coloraxis": {
           "colorbar": {
            "outlinewidth": 0,
            "ticks": ""
           }
          },
          "colorscale": {
           "diverging": [
            [
             0,
             "#8e0152"
            ],
            [
             0.1,
             "#c51b7d"
            ],
            [
             0.2,
             "#de77ae"
            ],
            [
             0.3,
             "#f1b6da"
            ],
            [
             0.4,
             "#fde0ef"
            ],
            [
             0.5,
             "#f7f7f7"
            ],
            [
             0.6,
             "#e6f5d0"
            ],
            [
             0.7,
             "#b8e186"
            ],
            [
             0.8,
             "#7fbc41"
            ],
            [
             0.9,
             "#4d9221"
            ],
            [
             1,
             "#276419"
            ]
           ],
           "sequential": [
            [
             0,
             "#0d0887"
            ],
            [
             0.1111111111111111,
             "#46039f"
            ],
            [
             0.2222222222222222,
             "#7201a8"
            ],
            [
             0.3333333333333333,
             "#9c179e"
            ],
            [
             0.4444444444444444,
             "#bd3786"
            ],
            [
             0.5555555555555556,
             "#d8576b"
            ],
            [
             0.6666666666666666,
             "#ed7953"
            ],
            [
             0.7777777777777778,
             "#fb9f3a"
            ],
            [
             0.8888888888888888,
             "#fdca26"
            ],
            [
             1,
             "#f0f921"
            ]
           ],
           "sequentialminus": [
            [
             0,
             "#0d0887"
            ],
            [
             0.1111111111111111,
             "#46039f"
            ],
            [
             0.2222222222222222,
             "#7201a8"
            ],
            [
             0.3333333333333333,
             "#9c179e"
            ],
            [
             0.4444444444444444,
             "#bd3786"
            ],
            [
             0.5555555555555556,
             "#d8576b"
            ],
            [
             0.6666666666666666,
             "#ed7953"
            ],
            [
             0.7777777777777778,
             "#fb9f3a"
            ],
            [
             0.8888888888888888,
             "#fdca26"
            ],
            [
             1,
             "#f0f921"
            ]
           ]
          },
          "colorway": [
           "#636efa",
           "#EF553B",
           "#00cc96",
           "#ab63fa",
           "#FFA15A",
           "#19d3f3",
           "#FF6692",
           "#B6E880",
           "#FF97FF",
           "#FECB52"
          ],
          "font": {
           "color": "#2a3f5f"
          },
          "geo": {
           "bgcolor": "white",
           "lakecolor": "white",
           "landcolor": "#E5ECF6",
           "showlakes": true,
           "showland": true,
           "subunitcolor": "white"
          },
          "hoverlabel": {
           "align": "left"
          },
          "hovermode": "closest",
          "mapbox": {
           "style": "light"
          },
          "paper_bgcolor": "white",
          "plot_bgcolor": "#E5ECF6",
          "polar": {
           "angularaxis": {
            "gridcolor": "white",
            "linecolor": "white",
            "ticks": ""
           },
           "bgcolor": "#E5ECF6",
           "radialaxis": {
            "gridcolor": "white",
            "linecolor": "white",
            "ticks": ""
           }
          },
          "scene": {
           "xaxis": {
            "backgroundcolor": "#E5ECF6",
            "gridcolor": "white",
            "gridwidth": 2,
            "linecolor": "white",
            "showbackground": true,
            "ticks": "",
            "zerolinecolor": "white"
           },
           "yaxis": {
            "backgroundcolor": "#E5ECF6",
            "gridcolor": "white",
            "gridwidth": 2,
            "linecolor": "white",
            "showbackground": true,
            "ticks": "",
            "zerolinecolor": "white"
           },
           "zaxis": {
            "backgroundcolor": "#E5ECF6",
            "gridcolor": "white",
            "gridwidth": 2,
            "linecolor": "white",
            "showbackground": true,
            "ticks": "",
            "zerolinecolor": "white"
           }
          },
          "shapedefaults": {
           "line": {
            "color": "#2a3f5f"
           }
          },
          "ternary": {
           "aaxis": {
            "gridcolor": "white",
            "linecolor": "white",
            "ticks": ""
           },
           "baxis": {
            "gridcolor": "white",
            "linecolor": "white",
            "ticks": ""
           },
           "bgcolor": "#E5ECF6",
           "caxis": {
            "gridcolor": "white",
            "linecolor": "white",
            "ticks": ""
           }
          },
          "title": {
           "x": 0.05
          },
          "xaxis": {
           "automargin": true,
           "gridcolor": "white",
           "linecolor": "white",
           "ticks": "",
           "title": {
            "standoff": 15
           },
           "zerolinecolor": "white",
           "zerolinewidth": 2
          },
          "yaxis": {
           "automargin": true,
           "gridcolor": "white",
           "linecolor": "white",
           "ticks": "",
           "title": {
            "standoff": 15
           },
           "zerolinecolor": "white",
           "zerolinewidth": 2
          }
         }
        },
        "title": {
         "font": {
          "color": "#4D5663"
         }
        },
        "xaxis": {
         "gridcolor": "#E1E5ED",
         "showgrid": true,
         "tickfont": {
          "color": "#4D5663"
         },
         "title": {
          "font": {
           "color": "#4D5663"
          },
          "text": ""
         },
         "zerolinecolor": "#E1E5ED"
        },
        "yaxis": {
         "gridcolor": "#E1E5ED",
         "showgrid": true,
         "tickfont": {
          "color": "#4D5663"
         },
         "title": {
          "font": {
           "color": "#4D5663"
          },
          "text": ""
         },
         "zerolinecolor": "#E1E5ED"
        }
       }
      },
      "text/html": [
       "<div>\n",
       "        \n",
       "        \n",
       "            <div id=\"3d1406cc-baa3-4296-8ab5-80c8f91c06b6\" class=\"plotly-graph-div\" style=\"height:525px; width:100%;\"></div>\n",
       "            <script type=\"text/javascript\">\n",
       "                require([\"plotly\"], function(Plotly) {\n",
       "                    window.PLOTLYENV=window.PLOTLYENV || {};\n",
       "                    window.PLOTLYENV.BASE_URL='https://plot.ly';\n",
       "                    \n",
       "                if (document.getElementById(\"3d1406cc-baa3-4296-8ab5-80c8f91c06b6\")) {\n",
       "                    Plotly.newPlot(\n",
       "                        '3d1406cc-baa3-4296-8ab5-80c8f91c06b6',\n",
       "                        [{\"histfunc\": \"count\", \"histnorm\": \"\", \"marker\": {\"color\": \"rgba(255, 153, 51, 1.0)\", \"line\": {\"color\": \"#4D5663\", \"width\": 1.3}}, \"name\": \"A\", \"opacity\": 0.8, \"orientation\": \"v\", \"type\": \"histogram\", \"x\": [0.6326127038985268, -0.14548579553446406, -0.34393948885963876, 0.3519190014943898, 0.7107141402638056, 0.054448005118226145, 0.31478965626513306, 1.9337649291692833, -2.4104902799178225, -1.2453604990808071, 1.098206494038972, -0.4728839209634316, 1.01350221056353, -1.2005069730171412, 2.2182955208107384, -0.5776216990016312, -1.4108161826851844, -0.7196052814859598, -0.8521024791986744, -2.395667214325212, 0.6135391862466687, -0.5459430342243888, -1.5060792667559042, 0.8667742499584937, -1.1701546987241738, -0.08603577043546688, -1.4225646891991002, 1.5097413246515126, -0.866990537216288, 0.36179214184957503, -0.045414828943426265, -1.1565623260261002, -0.3142975279995353, 0.27781931010361094, 0.13924531458794118, 0.5592464910210235, 1.4967131118300432, -1.2053072838699337, 0.9797694054889248, -0.8849615612000583, -0.3811985872358258, 1.2480856601545274, 0.21658187897293008, -0.6983120986704753, -0.4513805948645634, 0.5580842538719136, 1.7496795737545083, -0.9879645518593242, -0.06721474521065876, 0.5035528575835836, 0.6186851606665685, 0.0653038262993778, -2.3426270634798825, 0.647611947402595, 0.219685903854224, 0.9076116925247123, 0.27528312732947663, 0.8846370584865045, -0.4307631060841758, 1.6065913463104657, -0.3435107836865878, -1.2569208272167436, 1.1982153725983713, -0.5624178050751879, -1.7559287574848392, -0.774560168600139, 0.49075843422998716, 0.19013438750868822, -0.10736136841934604, -0.7563320343420211, -0.912488191626346, 0.47780470406373887, 0.46123054750740644, -1.170008389278726, 0.8208488063070032, 2.0708134558500015, 1.196023145719842, 1.0866936558250455, 2.174827703635172, 0.9464513781289309, -0.3847720587664325, 0.677896901070159, 0.3789629295966409, -0.40453211598778244, -1.4214106677209226, -2.000151170771465, 0.03448335811311445, -1.0288832751039005, -0.7060820996009419, -0.3984065438825475, 1.3183550006020213, 2.3746996644956346, 0.17237217908045094, -0.5356615988531053, -1.8134160233906358, 0.19096701764943314, -0.628185005053714, -1.8878773692036663, -0.4900468240812979, 0.48428326873581173]}],\n",
       "                        {\"barmode\": \"overlay\", \"legend\": {\"bgcolor\": \"#F5F6F9\", \"font\": {\"color\": \"#4D5663\"}}, \"paper_bgcolor\": \"#F5F6F9\", \"plot_bgcolor\": \"#F5F6F9\", \"template\": {\"data\": {\"bar\": [{\"error_x\": {\"color\": \"#2a3f5f\"}, \"error_y\": {\"color\": \"#2a3f5f\"}, \"marker\": {\"line\": {\"color\": \"#E5ECF6\", \"width\": 0.5}}, \"type\": \"bar\"}], \"barpolar\": [{\"marker\": {\"line\": {\"color\": \"#E5ECF6\", \"width\": 0.5}}, \"type\": \"barpolar\"}], \"carpet\": [{\"aaxis\": {\"endlinecolor\": \"#2a3f5f\", \"gridcolor\": \"white\", \"linecolor\": \"white\", \"minorgridcolor\": \"white\", \"startlinecolor\": \"#2a3f5f\"}, \"baxis\": {\"endlinecolor\": \"#2a3f5f\", \"gridcolor\": \"white\", \"linecolor\": \"white\", \"minorgridcolor\": \"white\", \"startlinecolor\": \"#2a3f5f\"}, \"type\": \"carpet\"}], \"choropleth\": [{\"colorbar\": {\"outlinewidth\": 0, \"ticks\": \"\"}, \"type\": \"choropleth\"}], \"contour\": [{\"colorbar\": {\"outlinewidth\": 0, \"ticks\": \"\"}, \"colorscale\": [[0.0, \"#0d0887\"], [0.1111111111111111, \"#46039f\"], [0.2222222222222222, \"#7201a8\"], [0.3333333333333333, \"#9c179e\"], [0.4444444444444444, \"#bd3786\"], [0.5555555555555556, \"#d8576b\"], [0.6666666666666666, \"#ed7953\"], [0.7777777777777778, \"#fb9f3a\"], [0.8888888888888888, \"#fdca26\"], [1.0, \"#f0f921\"]], \"type\": \"contour\"}], \"contourcarpet\": [{\"colorbar\": {\"outlinewidth\": 0, \"ticks\": \"\"}, \"type\": \"contourcarpet\"}], \"heatmap\": [{\"colorbar\": {\"outlinewidth\": 0, \"ticks\": \"\"}, \"colorscale\": [[0.0, \"#0d0887\"], [0.1111111111111111, \"#46039f\"], [0.2222222222222222, \"#7201a8\"], [0.3333333333333333, \"#9c179e\"], [0.4444444444444444, \"#bd3786\"], [0.5555555555555556, \"#d8576b\"], [0.6666666666666666, \"#ed7953\"], [0.7777777777777778, \"#fb9f3a\"], [0.8888888888888888, \"#fdca26\"], [1.0, \"#f0f921\"]], \"type\": \"heatmap\"}], \"heatmapgl\": [{\"colorbar\": {\"outlinewidth\": 0, \"ticks\": \"\"}, \"colorscale\": [[0.0, \"#0d0887\"], [0.1111111111111111, \"#46039f\"], [0.2222222222222222, \"#7201a8\"], [0.3333333333333333, \"#9c179e\"], [0.4444444444444444, \"#bd3786\"], [0.5555555555555556, \"#d8576b\"], [0.6666666666666666, \"#ed7953\"], [0.7777777777777778, \"#fb9f3a\"], [0.8888888888888888, \"#fdca26\"], [1.0, \"#f0f921\"]], \"type\": \"heatmapgl\"}], \"histogram\": [{\"marker\": {\"colorbar\": {\"outlinewidth\": 0, \"ticks\": \"\"}}, \"type\": \"histogram\"}], \"histogram2d\": [{\"colorbar\": {\"outlinewidth\": 0, \"ticks\": \"\"}, \"colorscale\": [[0.0, \"#0d0887\"], [0.1111111111111111, \"#46039f\"], [0.2222222222222222, \"#7201a8\"], [0.3333333333333333, \"#9c179e\"], [0.4444444444444444, \"#bd3786\"], [0.5555555555555556, \"#d8576b\"], [0.6666666666666666, \"#ed7953\"], [0.7777777777777778, \"#fb9f3a\"], [0.8888888888888888, \"#fdca26\"], [1.0, \"#f0f921\"]], \"type\": \"histogram2d\"}], \"histogram2dcontour\": [{\"colorbar\": {\"outlinewidth\": 0, \"ticks\": \"\"}, \"colorscale\": [[0.0, \"#0d0887\"], [0.1111111111111111, \"#46039f\"], [0.2222222222222222, \"#7201a8\"], [0.3333333333333333, \"#9c179e\"], [0.4444444444444444, \"#bd3786\"], [0.5555555555555556, \"#d8576b\"], [0.6666666666666666, \"#ed7953\"], [0.7777777777777778, \"#fb9f3a\"], [0.8888888888888888, \"#fdca26\"], [1.0, \"#f0f921\"]], \"type\": \"histogram2dcontour\"}], \"mesh3d\": [{\"colorbar\": {\"outlinewidth\": 0, \"ticks\": \"\"}, \"type\": \"mesh3d\"}], \"parcoords\": [{\"line\": {\"colorbar\": {\"outlinewidth\": 0, \"ticks\": \"\"}}, \"type\": \"parcoords\"}], \"pie\": [{\"automargin\": true, \"type\": \"pie\"}], \"scatter\": [{\"marker\": {\"colorbar\": {\"outlinewidth\": 0, \"ticks\": \"\"}}, \"type\": \"scatter\"}], \"scatter3d\": [{\"line\": {\"colorbar\": {\"outlinewidth\": 0, \"ticks\": \"\"}}, \"marker\": {\"colorbar\": {\"outlinewidth\": 0, \"ticks\": \"\"}}, \"type\": \"scatter3d\"}], \"scattercarpet\": [{\"marker\": {\"colorbar\": {\"outlinewidth\": 0, \"ticks\": \"\"}}, \"type\": \"scattercarpet\"}], \"scattergeo\": [{\"marker\": {\"colorbar\": {\"outlinewidth\": 0, \"ticks\": \"\"}}, \"type\": \"scattergeo\"}], \"scattergl\": [{\"marker\": {\"colorbar\": {\"outlinewidth\": 0, \"ticks\": \"\"}}, \"type\": \"scattergl\"}], \"scattermapbox\": [{\"marker\": {\"colorbar\": {\"outlinewidth\": 0, \"ticks\": \"\"}}, \"type\": \"scattermapbox\"}], \"scatterpolar\": [{\"marker\": {\"colorbar\": {\"outlinewidth\": 0, \"ticks\": \"\"}}, \"type\": \"scatterpolar\"}], \"scatterpolargl\": [{\"marker\": {\"colorbar\": {\"outlinewidth\": 0, \"ticks\": \"\"}}, \"type\": \"scatterpolargl\"}], \"scatterternary\": [{\"marker\": {\"colorbar\": {\"outlinewidth\": 0, \"ticks\": \"\"}}, \"type\": \"scatterternary\"}], \"surface\": [{\"colorbar\": {\"outlinewidth\": 0, \"ticks\": \"\"}, \"colorscale\": [[0.0, \"#0d0887\"], [0.1111111111111111, \"#46039f\"], [0.2222222222222222, \"#7201a8\"], [0.3333333333333333, \"#9c179e\"], [0.4444444444444444, \"#bd3786\"], [0.5555555555555556, \"#d8576b\"], [0.6666666666666666, \"#ed7953\"], [0.7777777777777778, \"#fb9f3a\"], [0.8888888888888888, \"#fdca26\"], [1.0, \"#f0f921\"]], \"type\": \"surface\"}], \"table\": [{\"cells\": {\"fill\": {\"color\": \"#EBF0F8\"}, \"line\": {\"color\": \"white\"}}, \"header\": {\"fill\": {\"color\": \"#C8D4E3\"}, \"line\": {\"color\": \"white\"}}, \"type\": \"table\"}]}, \"layout\": {\"annotationdefaults\": {\"arrowcolor\": \"#2a3f5f\", \"arrowhead\": 0, \"arrowwidth\": 1}, \"coloraxis\": {\"colorbar\": {\"outlinewidth\": 0, \"ticks\": \"\"}}, \"colorscale\": {\"diverging\": [[0, \"#8e0152\"], [0.1, \"#c51b7d\"], [0.2, \"#de77ae\"], [0.3, \"#f1b6da\"], [0.4, \"#fde0ef\"], [0.5, \"#f7f7f7\"], [0.6, \"#e6f5d0\"], [0.7, \"#b8e186\"], [0.8, \"#7fbc41\"], [0.9, \"#4d9221\"], [1, \"#276419\"]], \"sequential\": [[0.0, \"#0d0887\"], [0.1111111111111111, \"#46039f\"], [0.2222222222222222, \"#7201a8\"], [0.3333333333333333, \"#9c179e\"], [0.4444444444444444, \"#bd3786\"], [0.5555555555555556, \"#d8576b\"], [0.6666666666666666, \"#ed7953\"], [0.7777777777777778, \"#fb9f3a\"], [0.8888888888888888, \"#fdca26\"], [1.0, \"#f0f921\"]], \"sequentialminus\": [[0.0, \"#0d0887\"], [0.1111111111111111, \"#46039f\"], [0.2222222222222222, \"#7201a8\"], [0.3333333333333333, \"#9c179e\"], [0.4444444444444444, \"#bd3786\"], [0.5555555555555556, \"#d8576b\"], [0.6666666666666666, \"#ed7953\"], [0.7777777777777778, \"#fb9f3a\"], [0.8888888888888888, \"#fdca26\"], [1.0, \"#f0f921\"]]}, \"colorway\": [\"#636efa\", \"#EF553B\", \"#00cc96\", \"#ab63fa\", \"#FFA15A\", \"#19d3f3\", \"#FF6692\", \"#B6E880\", \"#FF97FF\", \"#FECB52\"], \"font\": {\"color\": \"#2a3f5f\"}, \"geo\": {\"bgcolor\": \"white\", \"lakecolor\": \"white\", \"landcolor\": \"#E5ECF6\", \"showlakes\": true, \"showland\": true, \"subunitcolor\": \"white\"}, \"hoverlabel\": {\"align\": \"left\"}, \"hovermode\": \"closest\", \"mapbox\": {\"style\": \"light\"}, \"paper_bgcolor\": \"white\", \"plot_bgcolor\": \"#E5ECF6\", \"polar\": {\"angularaxis\": {\"gridcolor\": \"white\", \"linecolor\": \"white\", \"ticks\": \"\"}, \"bgcolor\": \"#E5ECF6\", \"radialaxis\": {\"gridcolor\": \"white\", \"linecolor\": \"white\", \"ticks\": \"\"}}, \"scene\": {\"xaxis\": {\"backgroundcolor\": \"#E5ECF6\", \"gridcolor\": \"white\", \"gridwidth\": 2, \"linecolor\": \"white\", \"showbackground\": true, \"ticks\": \"\", \"zerolinecolor\": \"white\"}, \"yaxis\": {\"backgroundcolor\": \"#E5ECF6\", \"gridcolor\": \"white\", \"gridwidth\": 2, \"linecolor\": \"white\", \"showbackground\": true, \"ticks\": \"\", \"zerolinecolor\": \"white\"}, \"zaxis\": {\"backgroundcolor\": \"#E5ECF6\", \"gridcolor\": \"white\", \"gridwidth\": 2, \"linecolor\": \"white\", \"showbackground\": true, \"ticks\": \"\", \"zerolinecolor\": \"white\"}}, \"shapedefaults\": {\"line\": {\"color\": \"#2a3f5f\"}}, \"ternary\": {\"aaxis\": {\"gridcolor\": \"white\", \"linecolor\": \"white\", \"ticks\": \"\"}, \"baxis\": {\"gridcolor\": \"white\", \"linecolor\": \"white\", \"ticks\": \"\"}, \"bgcolor\": \"#E5ECF6\", \"caxis\": {\"gridcolor\": \"white\", \"linecolor\": \"white\", \"ticks\": \"\"}}, \"title\": {\"x\": 0.05}, \"xaxis\": {\"automargin\": true, \"gridcolor\": \"white\", \"linecolor\": \"white\", \"ticks\": \"\", \"title\": {\"standoff\": 15}, \"zerolinecolor\": \"white\", \"zerolinewidth\": 2}, \"yaxis\": {\"automargin\": true, \"gridcolor\": \"white\", \"linecolor\": \"white\", \"ticks\": \"\", \"title\": {\"standoff\": 15}, \"zerolinecolor\": \"white\", \"zerolinewidth\": 2}}}, \"title\": {\"font\": {\"color\": \"#4D5663\"}}, \"xaxis\": {\"gridcolor\": \"#E1E5ED\", \"showgrid\": true, \"tickfont\": {\"color\": \"#4D5663\"}, \"title\": {\"font\": {\"color\": \"#4D5663\"}, \"text\": \"\"}, \"zerolinecolor\": \"#E1E5ED\"}, \"yaxis\": {\"gridcolor\": \"#E1E5ED\", \"showgrid\": true, \"tickfont\": {\"color\": \"#4D5663\"}, \"title\": {\"font\": {\"color\": \"#4D5663\"}, \"text\": \"\"}, \"zerolinecolor\": \"#E1E5ED\"}},\n",
       "                        {\"showLink\": true, \"linkText\": \"Export to plot.ly\", \"plotlyServerURL\": \"https://plot.ly\", \"responsive\": true}\n",
       "                    ).then(function(){\n",
       "                            \n",
       "var gd = document.getElementById('3d1406cc-baa3-4296-8ab5-80c8f91c06b6');\n",
       "var x = new MutationObserver(function (mutations, observer) {{\n",
       "        var display = window.getComputedStyle(gd).display;\n",
       "        if (!display || display === 'none') {{\n",
       "            console.log([gd, 'removed!']);\n",
       "            Plotly.purge(gd);\n",
       "            observer.disconnect();\n",
       "        }}\n",
       "}});\n",
       "\n",
       "// Listen for the removal of the full notebook cells\n",
       "var notebookContainer = gd.closest('#notebook-container');\n",
       "if (notebookContainer) {{\n",
       "    x.observe(notebookContainer, {childList: true});\n",
       "}}\n",
       "\n",
       "// Listen for the clearing of the current output cell\n",
       "var outputEl = gd.closest('.output');\n",
       "if (outputEl) {{\n",
       "    x.observe(outputEl, {childList: true});\n",
       "}}\n",
       "\n",
       "                        })\n",
       "                };\n",
       "                });\n",
       "            </script>\n",
       "        </div>"
      ]
     },
     "metadata": {},
     "output_type": "display_data"
    }
   ],
   "source": [
    "df['A'].iplot(kind = 'hist')"
   ]
  },
  {
   "cell_type": "code",
   "execution_count": 29,
   "metadata": {},
   "outputs": [
    {
     "data": {
      "application/vnd.plotly.v1+json": {
       "config": {
        "linkText": "Export to plot.ly",
        "plotlyServerURL": "https://plot.ly",
        "showLink": true
       },
       "data": [
        {
         "histfunc": "count",
         "histnorm": "",
         "marker": {
          "color": "rgba(255, 153, 51, 1.0)",
          "line": {
           "color": "#4D5663",
           "width": 1.3
          }
         },
         "name": "A",
         "opacity": 0.8,
         "orientation": "v",
         "type": "histogram",
         "x": [
          0.6326127038985268,
          -0.14548579553446406,
          -0.34393948885963876,
          0.3519190014943898,
          0.7107141402638056,
          0.054448005118226145,
          0.31478965626513306,
          1.9337649291692833,
          -2.4104902799178225,
          -1.2453604990808071,
          1.098206494038972,
          -0.4728839209634316,
          1.01350221056353,
          -1.2005069730171412,
          2.2182955208107384,
          -0.5776216990016312,
          -1.4108161826851844,
          -0.7196052814859598,
          -0.8521024791986744,
          -2.395667214325212,
          0.6135391862466687,
          -0.5459430342243888,
          -1.5060792667559042,
          0.8667742499584937,
          -1.1701546987241738,
          -0.08603577043546688,
          -1.4225646891991002,
          1.5097413246515126,
          -0.866990537216288,
          0.36179214184957503,
          -0.045414828943426265,
          -1.1565623260261002,
          -0.3142975279995353,
          0.27781931010361094,
          0.13924531458794118,
          0.5592464910210235,
          1.4967131118300432,
          -1.2053072838699337,
          0.9797694054889248,
          -0.8849615612000583,
          -0.3811985872358258,
          1.2480856601545274,
          0.21658187897293008,
          -0.6983120986704753,
          -0.4513805948645634,
          0.5580842538719136,
          1.7496795737545083,
          -0.9879645518593242,
          -0.06721474521065876,
          0.5035528575835836,
          0.6186851606665685,
          0.0653038262993778,
          -2.3426270634798825,
          0.647611947402595,
          0.219685903854224,
          0.9076116925247123,
          0.27528312732947663,
          0.8846370584865045,
          -0.4307631060841758,
          1.6065913463104657,
          -0.3435107836865878,
          -1.2569208272167436,
          1.1982153725983713,
          -0.5624178050751879,
          -1.7559287574848392,
          -0.774560168600139,
          0.49075843422998716,
          0.19013438750868822,
          -0.10736136841934604,
          -0.7563320343420211,
          -0.912488191626346,
          0.47780470406373887,
          0.46123054750740644,
          -1.170008389278726,
          0.8208488063070032,
          2.0708134558500015,
          1.196023145719842,
          1.0866936558250455,
          2.174827703635172,
          0.9464513781289309,
          -0.3847720587664325,
          0.677896901070159,
          0.3789629295966409,
          -0.40453211598778244,
          -1.4214106677209226,
          -2.000151170771465,
          0.03448335811311445,
          -1.0288832751039005,
          -0.7060820996009419,
          -0.3984065438825475,
          1.3183550006020213,
          2.3746996644956346,
          0.17237217908045094,
          -0.5356615988531053,
          -1.8134160233906358,
          0.19096701764943314,
          -0.628185005053714,
          -1.8878773692036663,
          -0.4900468240812979,
          0.48428326873581173
         ]
        },
        {
         "histfunc": "count",
         "histnorm": "",
         "marker": {
          "color": "rgba(55, 128, 191, 1.0)",
          "line": {
           "color": "#4D5663",
           "width": 1.3
          }
         },
         "name": "B",
         "opacity": 0.8,
         "orientation": "v",
         "type": "histogram",
         "x": [
          0.47287525328590935,
          1.4934017303137272,
          1.3769689561121239,
          -1.082806198805133,
          1.415383993887731,
          -0.3630025087659517,
          -1.2350824003044616,
          -0.9575111668958346,
          2.231227192416702,
          -1.6084623988472704,
          0.7913364725124696,
          0.12465098765323646,
          0.10894918249881126,
          0.4188292865253416,
          -0.3759546225061773,
          1.6154242647998716,
          0.007024986301866887,
          0.48872387432220804,
          -0.8369659719094297,
          -0.4903552585235138,
          0.3177430027248012,
          -1.055949329045058,
          0.7360791030638381,
          0.44231956568828446,
          1.379551114438425,
          -0.7040578920221393,
          -1.9764410307063434,
          -0.015693146946839435,
          -1.5263965880053936,
          -1.4117553120848472,
          -0.1577338525083378,
          -0.8517611323488851,
          -1.4980204859517279,
          -0.7702057758987122,
          1.755599357290906,
          1.5094512735227397,
          1.533884269318763,
          -1.1810472462391852,
          0.9382757897220223,
          -0.5151257903588647,
          -0.4392957343101481,
          -1.153578173417106,
          2.4347154417229437,
          0.6034691497870166,
          -0.7231130664783035,
          -0.8297448803780897,
          -1.1631465870895914,
          1.5428997633806876,
          -1.0191242175698105,
          0.8268133547092912,
          0.8083868251389659,
          -0.3854591282744667,
          -0.14082691997477623,
          -0.22909359854768352,
          -1.2365501886677792,
          0.4703021455822461,
          -0.5822269077491736,
          -0.6650515548694265,
          2.1279524291773266,
          0.6061821909283301,
          1.494572989724752,
          0.25232777878631363,
          -0.1231269099302736,
          0.11394495935586213,
          -0.023669955254320904,
          -0.5176659477577575,
          -1.0857603251337256,
          1.737308717738109,
          -1.0436899628847465,
          -0.6879722964306229,
          1.0126343170065157,
          1.2876047306599359,
          0.21953780998443767,
          -1.2162680038144835,
          -1.0502292677821456,
          0.29802020348819896,
          -0.08428480318130187,
          1.1728931965510887,
          0.09332553992905697,
          -1.5339657786541547,
          0.5951725873193169,
          -1.0839064503073481,
          -0.15618747206624964,
          2.670724273386493,
          2.4178549773596645,
          -0.14076461292691836,
          -0.6143424139578396,
          -0.9776404663225262,
          1.0063305123692763,
          -1.273882015570184,
          0.37265711485326986,
          0.37368948059456725,
          0.3574924474090997,
          -0.14176054038778046,
          0.04841555690054582,
          -0.11047329298795354,
          1.346533423863622,
          1.8677528397271093,
          -0.026572813425914166,
          0.4409097288987755
         ]
        },
        {
         "histfunc": "count",
         "histnorm": "",
         "marker": {
          "color": "rgba(50, 171, 96, 1.0)",
          "line": {
           "color": "#4D5663",
           "width": 1.3
          }
         },
         "name": "C",
         "opacity": 0.8,
         "orientation": "v",
         "type": "histogram",
         "x": [
          0.1336209897126937,
          -0.4992371267880662,
          -0.16512310908818667,
          -0.1295384702581782,
          -0.07874797887224155,
          0.07875858094324113,
          0.28811971423413435,
          -2.2079018232129743,
          -1.0146574398707233,
          -0.3814968238916311,
          0.3414756460122754,
          0.408650279460541,
          0.8598922725047933,
          -0.20456262918962018,
          0.4269611660152145,
          0.06053627104709375,
          -0.17112284284919663,
          -0.03278813861822154,
          0.2964757692789343,
          -1.209610713025771,
          1.065900461743466,
          0.48484112110928695,
          -0.16522346354835155,
          0.8342104652569393,
          0.7378533369870373,
          0.7381985329826927,
          0.46270552251841596,
          -0.1290553079442758,
          -1.135822076599649,
          2.5684353595070957,
          -2.1363512996225693,
          0.7803326723102629,
          0.5884926871116007,
          0.2937806281485098,
          -0.3098944958212543,
          1.7843829555701411,
          -2.7607141977076526,
          -0.7830869659191346,
          -0.1122573811119825,
          0.1635382375667902,
          1.1997795798187878,
          -0.5391302273292823,
          1.6138354162384465,
          2.8471656578452813,
          -0.2682656551450211,
          0.2648442673225874,
          -1.128823767002499,
          -0.4791039027939159,
          0.567986191017442,
          -0.3796912825703141,
          0.9249146766825751,
          1.1239087088143331,
          0.5999003321458324,
          -0.658380738103747,
          -0.636079522958394,
          -0.7690187225387971,
          -0.1285569524323624,
          0.42586814414867546,
          1.970619872164675,
          0.2687360684661637,
          -0.6535751187902171,
          -0.41052495675928347,
          0.38656321015609985,
          -0.0329975125153401,
          0.21986643801387779,
          -0.8862105560862736,
          -1.1472581491296907,
          1.6876120880730845,
          0.6739344840810829,
          0.7527058130176251,
          -0.04770321882381908,
          -0.5046901458645002,
          -0.9704135809546783,
          0.6192540593692433,
          -1.5970410896097227,
          1.7424207967184293,
          0.9417272380573213,
          -0.3421442085643456,
          1.3629727213807563,
          0.19608528683183574,
          0.6179829214720435,
          -0.6342908072086635,
          0.16485176829765466,
          0.11259865657129008,
          1.474878606696174,
          -0.6200093152528071,
          1.023883374307354,
          1.2312315215022325,
          0.6837691534450063,
          0.37710794268652054,
          -0.2674498995213668,
          0.7252941939647042,
          -0.7212671495065622,
          -0.6570103158468624,
          1.4713878944189351,
          0.7803245805628188,
          -1.5015408621607405,
          -2.530041751262662,
          2.913959469897591,
          1.1162770114184026
         ]
        },
        {
         "histfunc": "count",
         "histnorm": "",
         "marker": {
          "color": "rgba(128, 0, 128, 1.0)",
          "line": {
           "color": "#4D5663",
           "width": 1.3
          }
         },
         "name": "D",
         "opacity": 0.8,
         "orientation": "v",
         "type": "histogram",
         "x": [
          -1.2143142774051094,
          0.7341549688863328,
          -2.1878860019623114,
          1.523497432194452,
          -0.8790555211989877,
          -0.13506651057964153,
          -0.7681521734240057,
          1.9566987634853001,
          -0.5200154811389064,
          -1.5304730933671777,
          -0.49828564798699326,
          0.6555190761224613,
          2.154278261242067,
          -0.6121998740137635,
          -0.7998663651392912,
          -0.6592866329179047,
          -0.05618872584561294,
          0.21659171674869485,
          -0.7723385025920696,
          -0.7664120512191052,
          -0.04706943950371657,
          -0.4804600175743437,
          0.5477687172501202,
          0.11974272875042269,
          2.0478235234709428,
          0.015801574609873074,
          0.8911940632671225,
          0.14138456809723465,
          0.3751822146140036,
          0.6604816124276893,
          1.133297507272824,
          0.03105811424544611,
          -0.3939010668393583,
          -0.5289250695258874,
          -0.0030741456840287333,
          -0.942428136817906,
          0.7491177760914999,
          -0.7214531918806584,
          1.3257182761338224,
          0.43951512568561735,
          0.06119399446360383,
          1.5578142553938126,
          -1.7714458517215954,
          0.6176215419004208,
          0.8904488135986418,
          0.4319773298830599,
          -1.1975350025652733,
          0.10311510696201422,
          -0.45288522791520414,
          -1.3661216067944606,
          1.9115685665069386,
          -1.9059862517401787,
          -1.5732033902448326,
          0.9175075197051212,
          -0.1750872676091157,
          0.7069954284479054,
          1.6151957774432233,
          1.3123132791091583,
          -0.6070514781704491,
          -0.24024848311517136,
          2.020264416172281,
          0.5372984098235004,
          0.2872075418166681,
          1.0305317214040148,
          -0.031030337080439823,
          1.5736152240788512,
          0.7521392808876696,
          -1.6781286566903064,
          0.5056996327690947,
          -1.2002173110227408,
          -0.035267135484268027,
          2.5627525331980126,
          1.0299169286597165,
          -0.6417056912234721,
          -0.2022261648578561,
          -2.1438334840823114,
          0.714635768571562,
          -0.8747588880778938,
          -0.5215663836892511,
          1.344368978552044,
          -0.43947621697304984,
          0.3163194487806835,
          0.37871829012773384,
          1.2232752732144858,
          0.6203334619816994,
          1.2884684026888376,
          -1.524978471243551,
          -0.11514969237394722,
          0.8485650951801219,
          1.363267079181013,
          0.11956931273787397,
          0.3139763044387687,
          1.3100935940672593,
          0.16354448905637342,
          1.1544048734978776,
          0.167518011825185,
          -0.03485812012422281,
          0.20946433907831946,
          -0.8703639971561202,
          -1.6433341968767228
         ]
        }
       ],
       "layout": {
        "barmode": "overlay",
        "legend": {
         "bgcolor": "#F5F6F9",
         "font": {
          "color": "#4D5663"
         }
        },
        "paper_bgcolor": "#F5F6F9",
        "plot_bgcolor": "#F5F6F9",
        "template": {
         "data": {
          "bar": [
           {
            "error_x": {
             "color": "#2a3f5f"
            },
            "error_y": {
             "color": "#2a3f5f"
            },
            "marker": {
             "line": {
              "color": "#E5ECF6",
              "width": 0.5
             }
            },
            "type": "bar"
           }
          ],
          "barpolar": [
           {
            "marker": {
             "line": {
              "color": "#E5ECF6",
              "width": 0.5
             }
            },
            "type": "barpolar"
           }
          ],
          "carpet": [
           {
            "aaxis": {
             "endlinecolor": "#2a3f5f",
             "gridcolor": "white",
             "linecolor": "white",
             "minorgridcolor": "white",
             "startlinecolor": "#2a3f5f"
            },
            "baxis": {
             "endlinecolor": "#2a3f5f",
             "gridcolor": "white",
             "linecolor": "white",
             "minorgridcolor": "white",
             "startlinecolor": "#2a3f5f"
            },
            "type": "carpet"
           }
          ],
          "choropleth": [
           {
            "colorbar": {
             "outlinewidth": 0,
             "ticks": ""
            },
            "type": "choropleth"
           }
          ],
          "contour": [
           {
            "colorbar": {
             "outlinewidth": 0,
             "ticks": ""
            },
            "colorscale": [
             [
              0,
              "#0d0887"
             ],
             [
              0.1111111111111111,
              "#46039f"
             ],
             [
              0.2222222222222222,
              "#7201a8"
             ],
             [
              0.3333333333333333,
              "#9c179e"
             ],
             [
              0.4444444444444444,
              "#bd3786"
             ],
             [
              0.5555555555555556,
              "#d8576b"
             ],
             [
              0.6666666666666666,
              "#ed7953"
             ],
             [
              0.7777777777777778,
              "#fb9f3a"
             ],
             [
              0.8888888888888888,
              "#fdca26"
             ],
             [
              1,
              "#f0f921"
             ]
            ],
            "type": "contour"
           }
          ],
          "contourcarpet": [
           {
            "colorbar": {
             "outlinewidth": 0,
             "ticks": ""
            },
            "type": "contourcarpet"
           }
          ],
          "heatmap": [
           {
            "colorbar": {
             "outlinewidth": 0,
             "ticks": ""
            },
            "colorscale": [
             [
              0,
              "#0d0887"
             ],
             [
              0.1111111111111111,
              "#46039f"
             ],
             [
              0.2222222222222222,
              "#7201a8"
             ],
             [
              0.3333333333333333,
              "#9c179e"
             ],
             [
              0.4444444444444444,
              "#bd3786"
             ],
             [
              0.5555555555555556,
              "#d8576b"
             ],
             [
              0.6666666666666666,
              "#ed7953"
             ],
             [
              0.7777777777777778,
              "#fb9f3a"
             ],
             [
              0.8888888888888888,
              "#fdca26"
             ],
             [
              1,
              "#f0f921"
             ]
            ],
            "type": "heatmap"
           }
          ],
          "heatmapgl": [
           {
            "colorbar": {
             "outlinewidth": 0,
             "ticks": ""
            },
            "colorscale": [
             [
              0,
              "#0d0887"
             ],
             [
              0.1111111111111111,
              "#46039f"
             ],
             [
              0.2222222222222222,
              "#7201a8"
             ],
             [
              0.3333333333333333,
              "#9c179e"
             ],
             [
              0.4444444444444444,
              "#bd3786"
             ],
             [
              0.5555555555555556,
              "#d8576b"
             ],
             [
              0.6666666666666666,
              "#ed7953"
             ],
             [
              0.7777777777777778,
              "#fb9f3a"
             ],
             [
              0.8888888888888888,
              "#fdca26"
             ],
             [
              1,
              "#f0f921"
             ]
            ],
            "type": "heatmapgl"
           }
          ],
          "histogram": [
           {
            "marker": {
             "colorbar": {
              "outlinewidth": 0,
              "ticks": ""
             }
            },
            "type": "histogram"
           }
          ],
          "histogram2d": [
           {
            "colorbar": {
             "outlinewidth": 0,
             "ticks": ""
            },
            "colorscale": [
             [
              0,
              "#0d0887"
             ],
             [
              0.1111111111111111,
              "#46039f"
             ],
             [
              0.2222222222222222,
              "#7201a8"
             ],
             [
              0.3333333333333333,
              "#9c179e"
             ],
             [
              0.4444444444444444,
              "#bd3786"
             ],
             [
              0.5555555555555556,
              "#d8576b"
             ],
             [
              0.6666666666666666,
              "#ed7953"
             ],
             [
              0.7777777777777778,
              "#fb9f3a"
             ],
             [
              0.8888888888888888,
              "#fdca26"
             ],
             [
              1,
              "#f0f921"
             ]
            ],
            "type": "histogram2d"
           }
          ],
          "histogram2dcontour": [
           {
            "colorbar": {
             "outlinewidth": 0,
             "ticks": ""
            },
            "colorscale": [
             [
              0,
              "#0d0887"
             ],
             [
              0.1111111111111111,
              "#46039f"
             ],
             [
              0.2222222222222222,
              "#7201a8"
             ],
             [
              0.3333333333333333,
              "#9c179e"
             ],
             [
              0.4444444444444444,
              "#bd3786"
             ],
             [
              0.5555555555555556,
              "#d8576b"
             ],
             [
              0.6666666666666666,
              "#ed7953"
             ],
             [
              0.7777777777777778,
              "#fb9f3a"
             ],
             [
              0.8888888888888888,
              "#fdca26"
             ],
             [
              1,
              "#f0f921"
             ]
            ],
            "type": "histogram2dcontour"
           }
          ],
          "mesh3d": [
           {
            "colorbar": {
             "outlinewidth": 0,
             "ticks": ""
            },
            "type": "mesh3d"
           }
          ],
          "parcoords": [
           {
            "line": {
             "colorbar": {
              "outlinewidth": 0,
              "ticks": ""
             }
            },
            "type": "parcoords"
           }
          ],
          "pie": [
           {
            "automargin": true,
            "type": "pie"
           }
          ],
          "scatter": [
           {
            "marker": {
             "colorbar": {
              "outlinewidth": 0,
              "ticks": ""
             }
            },
            "type": "scatter"
           }
          ],
          "scatter3d": [
           {
            "line": {
             "colorbar": {
              "outlinewidth": 0,
              "ticks": ""
             }
            },
            "marker": {
             "colorbar": {
              "outlinewidth": 0,
              "ticks": ""
             }
            },
            "type": "scatter3d"
           }
          ],
          "scattercarpet": [
           {
            "marker": {
             "colorbar": {
              "outlinewidth": 0,
              "ticks": ""
             }
            },
            "type": "scattercarpet"
           }
          ],
          "scattergeo": [
           {
            "marker": {
             "colorbar": {
              "outlinewidth": 0,
              "ticks": ""
             }
            },
            "type": "scattergeo"
           }
          ],
          "scattergl": [
           {
            "marker": {
             "colorbar": {
              "outlinewidth": 0,
              "ticks": ""
             }
            },
            "type": "scattergl"
           }
          ],
          "scattermapbox": [
           {
            "marker": {
             "colorbar": {
              "outlinewidth": 0,
              "ticks": ""
             }
            },
            "type": "scattermapbox"
           }
          ],
          "scatterpolar": [
           {
            "marker": {
             "colorbar": {
              "outlinewidth": 0,
              "ticks": ""
             }
            },
            "type": "scatterpolar"
           }
          ],
          "scatterpolargl": [
           {
            "marker": {
             "colorbar": {
              "outlinewidth": 0,
              "ticks": ""
             }
            },
            "type": "scatterpolargl"
           }
          ],
          "scatterternary": [
           {
            "marker": {
             "colorbar": {
              "outlinewidth": 0,
              "ticks": ""
             }
            },
            "type": "scatterternary"
           }
          ],
          "surface": [
           {
            "colorbar": {
             "outlinewidth": 0,
             "ticks": ""
            },
            "colorscale": [
             [
              0,
              "#0d0887"
             ],
             [
              0.1111111111111111,
              "#46039f"
             ],
             [
              0.2222222222222222,
              "#7201a8"
             ],
             [
              0.3333333333333333,
              "#9c179e"
             ],
             [
              0.4444444444444444,
              "#bd3786"
             ],
             [
              0.5555555555555556,
              "#d8576b"
             ],
             [
              0.6666666666666666,
              "#ed7953"
             ],
             [
              0.7777777777777778,
              "#fb9f3a"
             ],
             [
              0.8888888888888888,
              "#fdca26"
             ],
             [
              1,
              "#f0f921"
             ]
            ],
            "type": "surface"
           }
          ],
          "table": [
           {
            "cells": {
             "fill": {
              "color": "#EBF0F8"
             },
             "line": {
              "color": "white"
             }
            },
            "header": {
             "fill": {
              "color": "#C8D4E3"
             },
             "line": {
              "color": "white"
             }
            },
            "type": "table"
           }
          ]
         },
         "layout": {
          "annotationdefaults": {
           "arrowcolor": "#2a3f5f",
           "arrowhead": 0,
           "arrowwidth": 1
          },
          "coloraxis": {
           "colorbar": {
            "outlinewidth": 0,
            "ticks": ""
           }
          },
          "colorscale": {
           "diverging": [
            [
             0,
             "#8e0152"
            ],
            [
             0.1,
             "#c51b7d"
            ],
            [
             0.2,
             "#de77ae"
            ],
            [
             0.3,
             "#f1b6da"
            ],
            [
             0.4,
             "#fde0ef"
            ],
            [
             0.5,
             "#f7f7f7"
            ],
            [
             0.6,
             "#e6f5d0"
            ],
            [
             0.7,
             "#b8e186"
            ],
            [
             0.8,
             "#7fbc41"
            ],
            [
             0.9,
             "#4d9221"
            ],
            [
             1,
             "#276419"
            ]
           ],
           "sequential": [
            [
             0,
             "#0d0887"
            ],
            [
             0.1111111111111111,
             "#46039f"
            ],
            [
             0.2222222222222222,
             "#7201a8"
            ],
            [
             0.3333333333333333,
             "#9c179e"
            ],
            [
             0.4444444444444444,
             "#bd3786"
            ],
            [
             0.5555555555555556,
             "#d8576b"
            ],
            [
             0.6666666666666666,
             "#ed7953"
            ],
            [
             0.7777777777777778,
             "#fb9f3a"
            ],
            [
             0.8888888888888888,
             "#fdca26"
            ],
            [
             1,
             "#f0f921"
            ]
           ],
           "sequentialminus": [
            [
             0,
             "#0d0887"
            ],
            [
             0.1111111111111111,
             "#46039f"
            ],
            [
             0.2222222222222222,
             "#7201a8"
            ],
            [
             0.3333333333333333,
             "#9c179e"
            ],
            [
             0.4444444444444444,
             "#bd3786"
            ],
            [
             0.5555555555555556,
             "#d8576b"
            ],
            [
             0.6666666666666666,
             "#ed7953"
            ],
            [
             0.7777777777777778,
             "#fb9f3a"
            ],
            [
             0.8888888888888888,
             "#fdca26"
            ],
            [
             1,
             "#f0f921"
            ]
           ]
          },
          "colorway": [
           "#636efa",
           "#EF553B",
           "#00cc96",
           "#ab63fa",
           "#FFA15A",
           "#19d3f3",
           "#FF6692",
           "#B6E880",
           "#FF97FF",
           "#FECB52"
          ],
          "font": {
           "color": "#2a3f5f"
          },
          "geo": {
           "bgcolor": "white",
           "lakecolor": "white",
           "landcolor": "#E5ECF6",
           "showlakes": true,
           "showland": true,
           "subunitcolor": "white"
          },
          "hoverlabel": {
           "align": "left"
          },
          "hovermode": "closest",
          "mapbox": {
           "style": "light"
          },
          "paper_bgcolor": "white",
          "plot_bgcolor": "#E5ECF6",
          "polar": {
           "angularaxis": {
            "gridcolor": "white",
            "linecolor": "white",
            "ticks": ""
           },
           "bgcolor": "#E5ECF6",
           "radialaxis": {
            "gridcolor": "white",
            "linecolor": "white",
            "ticks": ""
           }
          },
          "scene": {
           "xaxis": {
            "backgroundcolor": "#E5ECF6",
            "gridcolor": "white",
            "gridwidth": 2,
            "linecolor": "white",
            "showbackground": true,
            "ticks": "",
            "zerolinecolor": "white"
           },
           "yaxis": {
            "backgroundcolor": "#E5ECF6",
            "gridcolor": "white",
            "gridwidth": 2,
            "linecolor": "white",
            "showbackground": true,
            "ticks": "",
            "zerolinecolor": "white"
           },
           "zaxis": {
            "backgroundcolor": "#E5ECF6",
            "gridcolor": "white",
            "gridwidth": 2,
            "linecolor": "white",
            "showbackground": true,
            "ticks": "",
            "zerolinecolor": "white"
           }
          },
          "shapedefaults": {
           "line": {
            "color": "#2a3f5f"
           }
          },
          "ternary": {
           "aaxis": {
            "gridcolor": "white",
            "linecolor": "white",
            "ticks": ""
           },
           "baxis": {
            "gridcolor": "white",
            "linecolor": "white",
            "ticks": ""
           },
           "bgcolor": "#E5ECF6",
           "caxis": {
            "gridcolor": "white",
            "linecolor": "white",
            "ticks": ""
           }
          },
          "title": {
           "x": 0.05
          },
          "xaxis": {
           "automargin": true,
           "gridcolor": "white",
           "linecolor": "white",
           "ticks": "",
           "title": {
            "standoff": 15
           },
           "zerolinecolor": "white",
           "zerolinewidth": 2
          },
          "yaxis": {
           "automargin": true,
           "gridcolor": "white",
           "linecolor": "white",
           "ticks": "",
           "title": {
            "standoff": 15
           },
           "zerolinecolor": "white",
           "zerolinewidth": 2
          }
         }
        },
        "title": {
         "font": {
          "color": "#4D5663"
         }
        },
        "xaxis": {
         "gridcolor": "#E1E5ED",
         "showgrid": true,
         "tickfont": {
          "color": "#4D5663"
         },
         "title": {
          "font": {
           "color": "#4D5663"
          },
          "text": ""
         },
         "zerolinecolor": "#E1E5ED"
        },
        "yaxis": {
         "gridcolor": "#E1E5ED",
         "showgrid": true,
         "tickfont": {
          "color": "#4D5663"
         },
         "title": {
          "font": {
           "color": "#4D5663"
          },
          "text": ""
         },
         "zerolinecolor": "#E1E5ED"
        }
       }
      },
      "text/html": [
       "<div>\n",
       "        \n",
       "        \n",
       "            <div id=\"9f696734-cd4b-4eb2-9bd4-1a7dfc884219\" class=\"plotly-graph-div\" style=\"height:525px; width:100%;\"></div>\n",
       "            <script type=\"text/javascript\">\n",
       "                require([\"plotly\"], function(Plotly) {\n",
       "                    window.PLOTLYENV=window.PLOTLYENV || {};\n",
       "                    window.PLOTLYENV.BASE_URL='https://plot.ly';\n",
       "                    \n",
       "                if (document.getElementById(\"9f696734-cd4b-4eb2-9bd4-1a7dfc884219\")) {\n",
       "                    Plotly.newPlot(\n",
       "                        '9f696734-cd4b-4eb2-9bd4-1a7dfc884219',\n",
       "                        [{\"histfunc\": \"count\", \"histnorm\": \"\", \"marker\": {\"color\": \"rgba(255, 153, 51, 1.0)\", \"line\": {\"color\": \"#4D5663\", \"width\": 1.3}}, \"name\": \"A\", \"opacity\": 0.8, \"orientation\": \"v\", \"type\": \"histogram\", \"x\": [0.6326127038985268, -0.14548579553446406, -0.34393948885963876, 0.3519190014943898, 0.7107141402638056, 0.054448005118226145, 0.31478965626513306, 1.9337649291692833, -2.4104902799178225, -1.2453604990808071, 1.098206494038972, -0.4728839209634316, 1.01350221056353, -1.2005069730171412, 2.2182955208107384, -0.5776216990016312, -1.4108161826851844, -0.7196052814859598, -0.8521024791986744, -2.395667214325212, 0.6135391862466687, -0.5459430342243888, -1.5060792667559042, 0.8667742499584937, -1.1701546987241738, -0.08603577043546688, -1.4225646891991002, 1.5097413246515126, -0.866990537216288, 0.36179214184957503, -0.045414828943426265, -1.1565623260261002, -0.3142975279995353, 0.27781931010361094, 0.13924531458794118, 0.5592464910210235, 1.4967131118300432, -1.2053072838699337, 0.9797694054889248, -0.8849615612000583, -0.3811985872358258, 1.2480856601545274, 0.21658187897293008, -0.6983120986704753, -0.4513805948645634, 0.5580842538719136, 1.7496795737545083, -0.9879645518593242, -0.06721474521065876, 0.5035528575835836, 0.6186851606665685, 0.0653038262993778, -2.3426270634798825, 0.647611947402595, 0.219685903854224, 0.9076116925247123, 0.27528312732947663, 0.8846370584865045, -0.4307631060841758, 1.6065913463104657, -0.3435107836865878, -1.2569208272167436, 1.1982153725983713, -0.5624178050751879, -1.7559287574848392, -0.774560168600139, 0.49075843422998716, 0.19013438750868822, -0.10736136841934604, -0.7563320343420211, -0.912488191626346, 0.47780470406373887, 0.46123054750740644, -1.170008389278726, 0.8208488063070032, 2.0708134558500015, 1.196023145719842, 1.0866936558250455, 2.174827703635172, 0.9464513781289309, -0.3847720587664325, 0.677896901070159, 0.3789629295966409, -0.40453211598778244, -1.4214106677209226, -2.000151170771465, 0.03448335811311445, -1.0288832751039005, -0.7060820996009419, -0.3984065438825475, 1.3183550006020213, 2.3746996644956346, 0.17237217908045094, -0.5356615988531053, -1.8134160233906358, 0.19096701764943314, -0.628185005053714, -1.8878773692036663, -0.4900468240812979, 0.48428326873581173]}, {\"histfunc\": \"count\", \"histnorm\": \"\", \"marker\": {\"color\": \"rgba(55, 128, 191, 1.0)\", \"line\": {\"color\": \"#4D5663\", \"width\": 1.3}}, \"name\": \"B\", \"opacity\": 0.8, \"orientation\": \"v\", \"type\": \"histogram\", \"x\": [0.47287525328590935, 1.4934017303137272, 1.3769689561121239, -1.082806198805133, 1.415383993887731, -0.3630025087659517, -1.2350824003044616, -0.9575111668958346, 2.231227192416702, -1.6084623988472704, 0.7913364725124696, 0.12465098765323646, 0.10894918249881126, 0.4188292865253416, -0.3759546225061773, 1.6154242647998716, 0.007024986301866887, 0.48872387432220804, -0.8369659719094297, -0.4903552585235138, 0.3177430027248012, -1.055949329045058, 0.7360791030638381, 0.44231956568828446, 1.379551114438425, -0.7040578920221393, -1.9764410307063434, -0.015693146946839435, -1.5263965880053936, -1.4117553120848472, -0.1577338525083378, -0.8517611323488851, -1.4980204859517279, -0.7702057758987122, 1.755599357290906, 1.5094512735227397, 1.533884269318763, -1.1810472462391852, 0.9382757897220223, -0.5151257903588647, -0.4392957343101481, -1.153578173417106, 2.4347154417229437, 0.6034691497870166, -0.7231130664783035, -0.8297448803780897, -1.1631465870895914, 1.5428997633806876, -1.0191242175698105, 0.8268133547092912, 0.8083868251389659, -0.3854591282744667, -0.14082691997477623, -0.22909359854768352, -1.2365501886677792, 0.4703021455822461, -0.5822269077491736, -0.6650515548694265, 2.1279524291773266, 0.6061821909283301, 1.494572989724752, 0.25232777878631363, -0.1231269099302736, 0.11394495935586213, -0.023669955254320904, -0.5176659477577575, -1.0857603251337256, 1.737308717738109, -1.0436899628847465, -0.6879722964306229, 1.0126343170065157, 1.2876047306599359, 0.21953780998443767, -1.2162680038144835, -1.0502292677821456, 0.29802020348819896, -0.08428480318130187, 1.1728931965510887, 0.09332553992905697, -1.5339657786541547, 0.5951725873193169, -1.0839064503073481, -0.15618747206624964, 2.670724273386493, 2.4178549773596645, -0.14076461292691836, -0.6143424139578396, -0.9776404663225262, 1.0063305123692763, -1.273882015570184, 0.37265711485326986, 0.37368948059456725, 0.3574924474090997, -0.14176054038778046, 0.04841555690054582, -0.11047329298795354, 1.346533423863622, 1.8677528397271093, -0.026572813425914166, 0.4409097288987755]}, {\"histfunc\": \"count\", \"histnorm\": \"\", \"marker\": {\"color\": \"rgba(50, 171, 96, 1.0)\", \"line\": {\"color\": \"#4D5663\", \"width\": 1.3}}, \"name\": \"C\", \"opacity\": 0.8, \"orientation\": \"v\", \"type\": \"histogram\", \"x\": [0.1336209897126937, -0.4992371267880662, -0.16512310908818667, -0.1295384702581782, -0.07874797887224155, 0.07875858094324113, 0.28811971423413435, -2.2079018232129743, -1.0146574398707233, -0.3814968238916311, 0.3414756460122754, 0.408650279460541, 0.8598922725047933, -0.20456262918962018, 0.4269611660152145, 0.06053627104709375, -0.17112284284919663, -0.03278813861822154, 0.2964757692789343, -1.209610713025771, 1.065900461743466, 0.48484112110928695, -0.16522346354835155, 0.8342104652569393, 0.7378533369870373, 0.7381985329826927, 0.46270552251841596, -0.1290553079442758, -1.135822076599649, 2.5684353595070957, -2.1363512996225693, 0.7803326723102629, 0.5884926871116007, 0.2937806281485098, -0.3098944958212543, 1.7843829555701411, -2.7607141977076526, -0.7830869659191346, -0.1122573811119825, 0.1635382375667902, 1.1997795798187878, -0.5391302273292823, 1.6138354162384465, 2.8471656578452813, -0.2682656551450211, 0.2648442673225874, -1.128823767002499, -0.4791039027939159, 0.567986191017442, -0.3796912825703141, 0.9249146766825751, 1.1239087088143331, 0.5999003321458324, -0.658380738103747, -0.636079522958394, -0.7690187225387971, -0.1285569524323624, 0.42586814414867546, 1.970619872164675, 0.2687360684661637, -0.6535751187902171, -0.41052495675928347, 0.38656321015609985, -0.0329975125153401, 0.21986643801387779, -0.8862105560862736, -1.1472581491296907, 1.6876120880730845, 0.6739344840810829, 0.7527058130176251, -0.04770321882381908, -0.5046901458645002, -0.9704135809546783, 0.6192540593692433, -1.5970410896097227, 1.7424207967184293, 0.9417272380573213, -0.3421442085643456, 1.3629727213807563, 0.19608528683183574, 0.6179829214720435, -0.6342908072086635, 0.16485176829765466, 0.11259865657129008, 1.474878606696174, -0.6200093152528071, 1.023883374307354, 1.2312315215022325, 0.6837691534450063, 0.37710794268652054, -0.2674498995213668, 0.7252941939647042, -0.7212671495065622, -0.6570103158468624, 1.4713878944189351, 0.7803245805628188, -1.5015408621607405, -2.530041751262662, 2.913959469897591, 1.1162770114184026]}, {\"histfunc\": \"count\", \"histnorm\": \"\", \"marker\": {\"color\": \"rgba(128, 0, 128, 1.0)\", \"line\": {\"color\": \"#4D5663\", \"width\": 1.3}}, \"name\": \"D\", \"opacity\": 0.8, \"orientation\": \"v\", \"type\": \"histogram\", \"x\": [-1.2143142774051094, 0.7341549688863328, -2.1878860019623114, 1.523497432194452, -0.8790555211989877, -0.13506651057964153, -0.7681521734240057, 1.9566987634853001, -0.5200154811389064, -1.5304730933671777, -0.49828564798699326, 0.6555190761224613, 2.154278261242067, -0.6121998740137635, -0.7998663651392912, -0.6592866329179047, -0.05618872584561294, 0.21659171674869485, -0.7723385025920696, -0.7664120512191052, -0.04706943950371657, -0.4804600175743437, 0.5477687172501202, 0.11974272875042269, 2.0478235234709428, 0.015801574609873074, 0.8911940632671225, 0.14138456809723465, 0.3751822146140036, 0.6604816124276893, 1.133297507272824, 0.03105811424544611, -0.3939010668393583, -0.5289250695258874, -0.0030741456840287333, -0.942428136817906, 0.7491177760914999, -0.7214531918806584, 1.3257182761338224, 0.43951512568561735, 0.06119399446360383, 1.5578142553938126, -1.7714458517215954, 0.6176215419004208, 0.8904488135986418, 0.4319773298830599, -1.1975350025652733, 0.10311510696201422, -0.45288522791520414, -1.3661216067944606, 1.9115685665069386, -1.9059862517401787, -1.5732033902448326, 0.9175075197051212, -0.1750872676091157, 0.7069954284479054, 1.6151957774432233, 1.3123132791091583, -0.6070514781704491, -0.24024848311517136, 2.020264416172281, 0.5372984098235004, 0.2872075418166681, 1.0305317214040148, -0.031030337080439823, 1.5736152240788512, 0.7521392808876696, -1.6781286566903064, 0.5056996327690947, -1.2002173110227408, -0.035267135484268027, 2.5627525331980126, 1.0299169286597165, -0.6417056912234721, -0.2022261648578561, -2.1438334840823114, 0.714635768571562, -0.8747588880778938, -0.5215663836892511, 1.344368978552044, -0.43947621697304984, 0.3163194487806835, 0.37871829012773384, 1.2232752732144858, 0.6203334619816994, 1.2884684026888376, -1.524978471243551, -0.11514969237394722, 0.8485650951801219, 1.363267079181013, 0.11956931273787397, 0.3139763044387687, 1.3100935940672593, 0.16354448905637342, 1.1544048734978776, 0.167518011825185, -0.03485812012422281, 0.20946433907831946, -0.8703639971561202, -1.6433341968767228]}],\n",
       "                        {\"barmode\": \"overlay\", \"legend\": {\"bgcolor\": \"#F5F6F9\", \"font\": {\"color\": \"#4D5663\"}}, \"paper_bgcolor\": \"#F5F6F9\", \"plot_bgcolor\": \"#F5F6F9\", \"template\": {\"data\": {\"bar\": [{\"error_x\": {\"color\": \"#2a3f5f\"}, \"error_y\": {\"color\": \"#2a3f5f\"}, \"marker\": {\"line\": {\"color\": \"#E5ECF6\", \"width\": 0.5}}, \"type\": \"bar\"}], \"barpolar\": [{\"marker\": {\"line\": {\"color\": \"#E5ECF6\", \"width\": 0.5}}, \"type\": \"barpolar\"}], \"carpet\": [{\"aaxis\": {\"endlinecolor\": \"#2a3f5f\", \"gridcolor\": \"white\", \"linecolor\": \"white\", \"minorgridcolor\": \"white\", \"startlinecolor\": \"#2a3f5f\"}, \"baxis\": {\"endlinecolor\": \"#2a3f5f\", \"gridcolor\": \"white\", \"linecolor\": \"white\", \"minorgridcolor\": \"white\", \"startlinecolor\": \"#2a3f5f\"}, \"type\": \"carpet\"}], \"choropleth\": [{\"colorbar\": {\"outlinewidth\": 0, \"ticks\": \"\"}, \"type\": \"choropleth\"}], \"contour\": [{\"colorbar\": {\"outlinewidth\": 0, \"ticks\": \"\"}, \"colorscale\": [[0.0, \"#0d0887\"], [0.1111111111111111, \"#46039f\"], [0.2222222222222222, \"#7201a8\"], [0.3333333333333333, \"#9c179e\"], [0.4444444444444444, \"#bd3786\"], [0.5555555555555556, \"#d8576b\"], [0.6666666666666666, \"#ed7953\"], [0.7777777777777778, \"#fb9f3a\"], [0.8888888888888888, \"#fdca26\"], [1.0, \"#f0f921\"]], \"type\": \"contour\"}], \"contourcarpet\": [{\"colorbar\": {\"outlinewidth\": 0, \"ticks\": \"\"}, \"type\": \"contourcarpet\"}], \"heatmap\": [{\"colorbar\": {\"outlinewidth\": 0, \"ticks\": \"\"}, \"colorscale\": [[0.0, \"#0d0887\"], [0.1111111111111111, \"#46039f\"], [0.2222222222222222, \"#7201a8\"], [0.3333333333333333, \"#9c179e\"], [0.4444444444444444, \"#bd3786\"], [0.5555555555555556, \"#d8576b\"], [0.6666666666666666, \"#ed7953\"], [0.7777777777777778, \"#fb9f3a\"], [0.8888888888888888, \"#fdca26\"], [1.0, \"#f0f921\"]], \"type\": \"heatmap\"}], \"heatmapgl\": [{\"colorbar\": {\"outlinewidth\": 0, \"ticks\": \"\"}, \"colorscale\": [[0.0, \"#0d0887\"], [0.1111111111111111, \"#46039f\"], [0.2222222222222222, \"#7201a8\"], [0.3333333333333333, \"#9c179e\"], [0.4444444444444444, \"#bd3786\"], [0.5555555555555556, \"#d8576b\"], [0.6666666666666666, \"#ed7953\"], [0.7777777777777778, \"#fb9f3a\"], [0.8888888888888888, \"#fdca26\"], [1.0, \"#f0f921\"]], \"type\": \"heatmapgl\"}], \"histogram\": [{\"marker\": {\"colorbar\": {\"outlinewidth\": 0, \"ticks\": \"\"}}, \"type\": \"histogram\"}], \"histogram2d\": [{\"colorbar\": {\"outlinewidth\": 0, \"ticks\": \"\"}, \"colorscale\": [[0.0, \"#0d0887\"], [0.1111111111111111, \"#46039f\"], [0.2222222222222222, \"#7201a8\"], [0.3333333333333333, \"#9c179e\"], [0.4444444444444444, \"#bd3786\"], [0.5555555555555556, \"#d8576b\"], [0.6666666666666666, \"#ed7953\"], [0.7777777777777778, \"#fb9f3a\"], [0.8888888888888888, \"#fdca26\"], [1.0, \"#f0f921\"]], \"type\": \"histogram2d\"}], \"histogram2dcontour\": [{\"colorbar\": {\"outlinewidth\": 0, \"ticks\": \"\"}, \"colorscale\": [[0.0, \"#0d0887\"], [0.1111111111111111, \"#46039f\"], [0.2222222222222222, \"#7201a8\"], [0.3333333333333333, \"#9c179e\"], [0.4444444444444444, \"#bd3786\"], [0.5555555555555556, \"#d8576b\"], [0.6666666666666666, \"#ed7953\"], [0.7777777777777778, \"#fb9f3a\"], [0.8888888888888888, \"#fdca26\"], [1.0, \"#f0f921\"]], \"type\": \"histogram2dcontour\"}], \"mesh3d\": [{\"colorbar\": {\"outlinewidth\": 0, \"ticks\": \"\"}, \"type\": \"mesh3d\"}], \"parcoords\": [{\"line\": {\"colorbar\": {\"outlinewidth\": 0, \"ticks\": \"\"}}, \"type\": \"parcoords\"}], \"pie\": [{\"automargin\": true, \"type\": \"pie\"}], \"scatter\": [{\"marker\": {\"colorbar\": {\"outlinewidth\": 0, \"ticks\": \"\"}}, \"type\": \"scatter\"}], \"scatter3d\": [{\"line\": {\"colorbar\": {\"outlinewidth\": 0, \"ticks\": \"\"}}, \"marker\": {\"colorbar\": {\"outlinewidth\": 0, \"ticks\": \"\"}}, \"type\": \"scatter3d\"}], \"scattercarpet\": [{\"marker\": {\"colorbar\": {\"outlinewidth\": 0, \"ticks\": \"\"}}, \"type\": \"scattercarpet\"}], \"scattergeo\": [{\"marker\": {\"colorbar\": {\"outlinewidth\": 0, \"ticks\": \"\"}}, \"type\": \"scattergeo\"}], \"scattergl\": [{\"marker\": {\"colorbar\": {\"outlinewidth\": 0, \"ticks\": \"\"}}, \"type\": \"scattergl\"}], \"scattermapbox\": [{\"marker\": {\"colorbar\": {\"outlinewidth\": 0, \"ticks\": \"\"}}, \"type\": \"scattermapbox\"}], \"scatterpolar\": [{\"marker\": {\"colorbar\": {\"outlinewidth\": 0, \"ticks\": \"\"}}, \"type\": \"scatterpolar\"}], \"scatterpolargl\": [{\"marker\": {\"colorbar\": {\"outlinewidth\": 0, \"ticks\": \"\"}}, \"type\": \"scatterpolargl\"}], \"scatterternary\": [{\"marker\": {\"colorbar\": {\"outlinewidth\": 0, \"ticks\": \"\"}}, \"type\": \"scatterternary\"}], \"surface\": [{\"colorbar\": {\"outlinewidth\": 0, \"ticks\": \"\"}, \"colorscale\": [[0.0, \"#0d0887\"], [0.1111111111111111, \"#46039f\"], [0.2222222222222222, \"#7201a8\"], [0.3333333333333333, \"#9c179e\"], [0.4444444444444444, \"#bd3786\"], [0.5555555555555556, \"#d8576b\"], [0.6666666666666666, \"#ed7953\"], [0.7777777777777778, \"#fb9f3a\"], [0.8888888888888888, \"#fdca26\"], [1.0, \"#f0f921\"]], \"type\": \"surface\"}], \"table\": [{\"cells\": {\"fill\": {\"color\": \"#EBF0F8\"}, \"line\": {\"color\": \"white\"}}, \"header\": {\"fill\": {\"color\": \"#C8D4E3\"}, \"line\": {\"color\": \"white\"}}, \"type\": \"table\"}]}, \"layout\": {\"annotationdefaults\": {\"arrowcolor\": \"#2a3f5f\", \"arrowhead\": 0, \"arrowwidth\": 1}, \"coloraxis\": {\"colorbar\": {\"outlinewidth\": 0, \"ticks\": \"\"}}, \"colorscale\": {\"diverging\": [[0, \"#8e0152\"], [0.1, \"#c51b7d\"], [0.2, \"#de77ae\"], [0.3, \"#f1b6da\"], [0.4, \"#fde0ef\"], [0.5, \"#f7f7f7\"], [0.6, \"#e6f5d0\"], [0.7, \"#b8e186\"], [0.8, \"#7fbc41\"], [0.9, \"#4d9221\"], [1, \"#276419\"]], \"sequential\": [[0.0, \"#0d0887\"], [0.1111111111111111, \"#46039f\"], [0.2222222222222222, \"#7201a8\"], [0.3333333333333333, \"#9c179e\"], [0.4444444444444444, \"#bd3786\"], [0.5555555555555556, \"#d8576b\"], [0.6666666666666666, \"#ed7953\"], [0.7777777777777778, \"#fb9f3a\"], [0.8888888888888888, \"#fdca26\"], [1.0, \"#f0f921\"]], \"sequentialminus\": [[0.0, \"#0d0887\"], [0.1111111111111111, \"#46039f\"], [0.2222222222222222, \"#7201a8\"], [0.3333333333333333, \"#9c179e\"], [0.4444444444444444, \"#bd3786\"], [0.5555555555555556, \"#d8576b\"], [0.6666666666666666, \"#ed7953\"], [0.7777777777777778, \"#fb9f3a\"], [0.8888888888888888, \"#fdca26\"], [1.0, \"#f0f921\"]]}, \"colorway\": [\"#636efa\", \"#EF553B\", \"#00cc96\", \"#ab63fa\", \"#FFA15A\", \"#19d3f3\", \"#FF6692\", \"#B6E880\", \"#FF97FF\", \"#FECB52\"], \"font\": {\"color\": \"#2a3f5f\"}, \"geo\": {\"bgcolor\": \"white\", \"lakecolor\": \"white\", \"landcolor\": \"#E5ECF6\", \"showlakes\": true, \"showland\": true, \"subunitcolor\": \"white\"}, \"hoverlabel\": {\"align\": \"left\"}, \"hovermode\": \"closest\", \"mapbox\": {\"style\": \"light\"}, \"paper_bgcolor\": \"white\", \"plot_bgcolor\": \"#E5ECF6\", \"polar\": {\"angularaxis\": {\"gridcolor\": \"white\", \"linecolor\": \"white\", \"ticks\": \"\"}, \"bgcolor\": \"#E5ECF6\", \"radialaxis\": {\"gridcolor\": \"white\", \"linecolor\": \"white\", \"ticks\": \"\"}}, \"scene\": {\"xaxis\": {\"backgroundcolor\": \"#E5ECF6\", \"gridcolor\": \"white\", \"gridwidth\": 2, \"linecolor\": \"white\", \"showbackground\": true, \"ticks\": \"\", \"zerolinecolor\": \"white\"}, \"yaxis\": {\"backgroundcolor\": \"#E5ECF6\", \"gridcolor\": \"white\", \"gridwidth\": 2, \"linecolor\": \"white\", \"showbackground\": true, \"ticks\": \"\", \"zerolinecolor\": \"white\"}, \"zaxis\": {\"backgroundcolor\": \"#E5ECF6\", \"gridcolor\": \"white\", \"gridwidth\": 2, \"linecolor\": \"white\", \"showbackground\": true, \"ticks\": \"\", \"zerolinecolor\": \"white\"}}, \"shapedefaults\": {\"line\": {\"color\": \"#2a3f5f\"}}, \"ternary\": {\"aaxis\": {\"gridcolor\": \"white\", \"linecolor\": \"white\", \"ticks\": \"\"}, \"baxis\": {\"gridcolor\": \"white\", \"linecolor\": \"white\", \"ticks\": \"\"}, \"bgcolor\": \"#E5ECF6\", \"caxis\": {\"gridcolor\": \"white\", \"linecolor\": \"white\", \"ticks\": \"\"}}, \"title\": {\"x\": 0.05}, \"xaxis\": {\"automargin\": true, \"gridcolor\": \"white\", \"linecolor\": \"white\", \"ticks\": \"\", \"title\": {\"standoff\": 15}, \"zerolinecolor\": \"white\", \"zerolinewidth\": 2}, \"yaxis\": {\"automargin\": true, \"gridcolor\": \"white\", \"linecolor\": \"white\", \"ticks\": \"\", \"title\": {\"standoff\": 15}, \"zerolinecolor\": \"white\", \"zerolinewidth\": 2}}}, \"title\": {\"font\": {\"color\": \"#4D5663\"}}, \"xaxis\": {\"gridcolor\": \"#E1E5ED\", \"showgrid\": true, \"tickfont\": {\"color\": \"#4D5663\"}, \"title\": {\"font\": {\"color\": \"#4D5663\"}, \"text\": \"\"}, \"zerolinecolor\": \"#E1E5ED\"}, \"yaxis\": {\"gridcolor\": \"#E1E5ED\", \"showgrid\": true, \"tickfont\": {\"color\": \"#4D5663\"}, \"title\": {\"font\": {\"color\": \"#4D5663\"}, \"text\": \"\"}, \"zerolinecolor\": \"#E1E5ED\"}},\n",
       "                        {\"showLink\": true, \"linkText\": \"Export to plot.ly\", \"plotlyServerURL\": \"https://plot.ly\", \"responsive\": true}\n",
       "                    ).then(function(){\n",
       "                            \n",
       "var gd = document.getElementById('9f696734-cd4b-4eb2-9bd4-1a7dfc884219');\n",
       "var x = new MutationObserver(function (mutations, observer) {{\n",
       "        var display = window.getComputedStyle(gd).display;\n",
       "        if (!display || display === 'none') {{\n",
       "            console.log([gd, 'removed!']);\n",
       "            Plotly.purge(gd);\n",
       "            observer.disconnect();\n",
       "        }}\n",
       "}});\n",
       "\n",
       "// Listen for the removal of the full notebook cells\n",
       "var notebookContainer = gd.closest('#notebook-container');\n",
       "if (notebookContainer) {{\n",
       "    x.observe(notebookContainer, {childList: true});\n",
       "}}\n",
       "\n",
       "// Listen for the clearing of the current output cell\n",
       "var outputEl = gd.closest('.output');\n",
       "if (outputEl) {{\n",
       "    x.observe(outputEl, {childList: true});\n",
       "}}\n",
       "\n",
       "                        })\n",
       "                };\n",
       "                });\n",
       "            </script>\n",
       "        </div>"
      ]
     },
     "metadata": {},
     "output_type": "display_data"
    }
   ],
   "source": [
    "df.iplot(kind = 'hist')\n",
    "#overlapping histogram for all columns. "
   ]
  },
  {
   "cell_type": "code",
   "execution_count": 32,
   "metadata": {},
   "outputs": [
    {
     "data": {
      "application/vnd.plotly.v1+json": {
       "config": {
        "linkText": "Export to plot.ly",
        "plotlyServerURL": "https://plot.ly",
        "showLink": true
       },
       "data": [
        {
         "line": {
          "color": "rgba(255, 153, 51, 1.0)",
          "dash": "solid",
          "shape": "linear",
          "width": 1.3
         },
         "mode": "lines",
         "name": "A",
         "text": "",
         "type": "scatter",
         "x": [
          0,
          1,
          2,
          3,
          4,
          5,
          6,
          7,
          8,
          9,
          10,
          11,
          12,
          13,
          14,
          15,
          16,
          17,
          18,
          19,
          20,
          21,
          22,
          23,
          24,
          25,
          26,
          27,
          28,
          29,
          30,
          31,
          32,
          33,
          34,
          35,
          36,
          37,
          38,
          39,
          40,
          41,
          42,
          43,
          44,
          45,
          46,
          47,
          48,
          49,
          50,
          51,
          52,
          53,
          54,
          55,
          56,
          57,
          58,
          59,
          60,
          61,
          62,
          63,
          64,
          65,
          66,
          67,
          68,
          69,
          70,
          71,
          72,
          73,
          74,
          75,
          76,
          77,
          78,
          79,
          80,
          81,
          82,
          83,
          84,
          85,
          86,
          87,
          88,
          89,
          90,
          91,
          92,
          93,
          94,
          95,
          96,
          97,
          98,
          99
         ],
         "y": [
          0.6326127038985268,
          -0.14548579553446406,
          -0.34393948885963876,
          0.3519190014943898,
          0.7107141402638056,
          0.054448005118226145,
          0.31478965626513306,
          1.9337649291692833,
          -2.4104902799178225,
          -1.2453604990808071,
          1.098206494038972,
          -0.4728839209634316,
          1.01350221056353,
          -1.2005069730171412,
          2.2182955208107384,
          -0.5776216990016312,
          -1.4108161826851844,
          -0.7196052814859598,
          -0.8521024791986744,
          -2.395667214325212,
          0.6135391862466687,
          -0.5459430342243888,
          -1.5060792667559042,
          0.8667742499584937,
          -1.1701546987241738,
          -0.08603577043546688,
          -1.4225646891991002,
          1.5097413246515126,
          -0.866990537216288,
          0.36179214184957503,
          -0.045414828943426265,
          -1.1565623260261002,
          -0.3142975279995353,
          0.27781931010361094,
          0.13924531458794118,
          0.5592464910210235,
          1.4967131118300432,
          -1.2053072838699337,
          0.9797694054889248,
          -0.8849615612000583,
          -0.3811985872358258,
          1.2480856601545274,
          0.21658187897293008,
          -0.6983120986704753,
          -0.4513805948645634,
          0.5580842538719136,
          1.7496795737545083,
          -0.9879645518593242,
          -0.06721474521065876,
          0.5035528575835836,
          0.6186851606665685,
          0.0653038262993778,
          -2.3426270634798825,
          0.647611947402595,
          0.219685903854224,
          0.9076116925247123,
          0.27528312732947663,
          0.8846370584865045,
          -0.4307631060841758,
          1.6065913463104657,
          -0.3435107836865878,
          -1.2569208272167436,
          1.1982153725983713,
          -0.5624178050751879,
          -1.7559287574848392,
          -0.774560168600139,
          0.49075843422998716,
          0.19013438750868822,
          -0.10736136841934604,
          -0.7563320343420211,
          -0.912488191626346,
          0.47780470406373887,
          0.46123054750740644,
          -1.170008389278726,
          0.8208488063070032,
          2.0708134558500015,
          1.196023145719842,
          1.0866936558250455,
          2.174827703635172,
          0.9464513781289309,
          -0.3847720587664325,
          0.677896901070159,
          0.3789629295966409,
          -0.40453211598778244,
          -1.4214106677209226,
          -2.000151170771465,
          0.03448335811311445,
          -1.0288832751039005,
          -0.7060820996009419,
          -0.3984065438825475,
          1.3183550006020213,
          2.3746996644956346,
          0.17237217908045094,
          -0.5356615988531053,
          -1.8134160233906358,
          0.19096701764943314,
          -0.628185005053714,
          -1.8878773692036663,
          -0.4900468240812979,
          0.48428326873581173
         ]
        },
        {
         "line": {
          "color": "rgba(55, 128, 191, 1.0)",
          "dash": "solid",
          "shape": "linear",
          "width": 1.3
         },
         "mode": "lines",
         "name": "B",
         "text": "",
         "type": "scatter",
         "x": [
          0,
          1,
          2,
          3,
          4,
          5,
          6,
          7,
          8,
          9,
          10,
          11,
          12,
          13,
          14,
          15,
          16,
          17,
          18,
          19,
          20,
          21,
          22,
          23,
          24,
          25,
          26,
          27,
          28,
          29,
          30,
          31,
          32,
          33,
          34,
          35,
          36,
          37,
          38,
          39,
          40,
          41,
          42,
          43,
          44,
          45,
          46,
          47,
          48,
          49,
          50,
          51,
          52,
          53,
          54,
          55,
          56,
          57,
          58,
          59,
          60,
          61,
          62,
          63,
          64,
          65,
          66,
          67,
          68,
          69,
          70,
          71,
          72,
          73,
          74,
          75,
          76,
          77,
          78,
          79,
          80,
          81,
          82,
          83,
          84,
          85,
          86,
          87,
          88,
          89,
          90,
          91,
          92,
          93,
          94,
          95,
          96,
          97,
          98,
          99
         ],
         "y": [
          0.47287525328590935,
          1.4934017303137272,
          1.3769689561121239,
          -1.082806198805133,
          1.415383993887731,
          -0.3630025087659517,
          -1.2350824003044616,
          -0.9575111668958346,
          2.231227192416702,
          -1.6084623988472704,
          0.7913364725124696,
          0.12465098765323646,
          0.10894918249881126,
          0.4188292865253416,
          -0.3759546225061773,
          1.6154242647998716,
          0.007024986301866887,
          0.48872387432220804,
          -0.8369659719094297,
          -0.4903552585235138,
          0.3177430027248012,
          -1.055949329045058,
          0.7360791030638381,
          0.44231956568828446,
          1.379551114438425,
          -0.7040578920221393,
          -1.9764410307063434,
          -0.015693146946839435,
          -1.5263965880053936,
          -1.4117553120848472,
          -0.1577338525083378,
          -0.8517611323488851,
          -1.4980204859517279,
          -0.7702057758987122,
          1.755599357290906,
          1.5094512735227397,
          1.533884269318763,
          -1.1810472462391852,
          0.9382757897220223,
          -0.5151257903588647,
          -0.4392957343101481,
          -1.153578173417106,
          2.4347154417229437,
          0.6034691497870166,
          -0.7231130664783035,
          -0.8297448803780897,
          -1.1631465870895914,
          1.5428997633806876,
          -1.0191242175698105,
          0.8268133547092912,
          0.8083868251389659,
          -0.3854591282744667,
          -0.14082691997477623,
          -0.22909359854768352,
          -1.2365501886677792,
          0.4703021455822461,
          -0.5822269077491736,
          -0.6650515548694265,
          2.1279524291773266,
          0.6061821909283301,
          1.494572989724752,
          0.25232777878631363,
          -0.1231269099302736,
          0.11394495935586213,
          -0.023669955254320904,
          -0.5176659477577575,
          -1.0857603251337256,
          1.737308717738109,
          -1.0436899628847465,
          -0.6879722964306229,
          1.0126343170065157,
          1.2876047306599359,
          0.21953780998443767,
          -1.2162680038144835,
          -1.0502292677821456,
          0.29802020348819896,
          -0.08428480318130187,
          1.1728931965510887,
          0.09332553992905697,
          -1.5339657786541547,
          0.5951725873193169,
          -1.0839064503073481,
          -0.15618747206624964,
          2.670724273386493,
          2.4178549773596645,
          -0.14076461292691836,
          -0.6143424139578396,
          -0.9776404663225262,
          1.0063305123692763,
          -1.273882015570184,
          0.37265711485326986,
          0.37368948059456725,
          0.3574924474090997,
          -0.14176054038778046,
          0.04841555690054582,
          -0.11047329298795354,
          1.346533423863622,
          1.8677528397271093,
          -0.026572813425914166,
          0.4409097288987755
         ]
        },
        {
         "connectgaps": false,
         "fill": "tozeroy",
         "line": {
          "color": "green",
          "dash": "solid",
          "shape": "linear",
          "width": 0.5
         },
         "mode": "lines",
         "name": "Spread",
         "showlegend": false,
         "type": "scatter",
         "x": [
          0,
          1,
          2,
          3,
          4,
          5,
          6,
          7,
          8,
          9,
          10,
          11,
          12,
          13,
          14,
          15,
          16,
          17,
          18,
          19,
          20,
          21,
          22,
          23,
          24,
          25,
          26,
          27,
          28,
          29,
          30,
          31,
          32,
          33,
          34,
          35,
          36,
          37,
          38,
          39,
          40,
          41,
          42,
          43,
          44,
          45,
          46,
          47,
          48,
          49,
          50,
          51,
          52,
          53,
          54,
          55,
          56,
          57,
          58,
          59,
          60,
          61,
          62,
          63,
          64,
          65,
          66,
          67,
          68,
          69,
          70,
          71,
          72,
          73,
          74,
          75,
          76,
          77,
          78,
          79,
          80,
          81,
          82,
          83,
          84,
          85,
          86,
          87,
          88,
          89,
          90,
          91,
          92,
          93,
          94,
          95,
          96,
          97,
          98,
          99
         ],
         "xaxis": "x2",
         "y": [
          0.1597374506126174,
          "",
          "",
          1.4347252002995228,
          "",
          0.41745051388417787,
          1.5498720565695947,
          2.891276096065118,
          "",
          0.36310189976646323,
          0.30687002152650233,
          "",
          0.9045530280647188,
          "",
          2.594250143316916,
          "",
          "",
          "",
          "",
          "",
          0.2957961835218675,
          0.5100062948206691,
          "",
          0.42445468427020927,
          "",
          0.6180221215866725,
          0.5538763415072432,
          1.525434471598352,
          0.6594060507891055,
          1.7735474539344223,
          0.11231902356491152,
          "",
          1.1837229579521926,
          1.048025086002323,
          "",
          "",
          "",
          "",
          0.04149361576690247,
          "",
          0.05809714707432234,
          2.401663833571633,
          "",
          "",
          0.27173247161374015,
          1.3878291342500033,
          2.9128261608440997,
          "",
          0.9519094723591518,
          "",
          "",
          0.4507629545738445,
          "",
          0.8767055459502785,
          1.4562360925220033,
          0.4373095469424662,
          0.8575100350786502,
          1.549688613355931,
          "",
          1.0004091553821355,
          "",
          "",
          1.321342282528645,
          "",
          "",
          "",
          1.5765187593637127,
          "",
          0.9363285944654004,
          "",
          "",
          "",
          0.24169273752296877,
          0.04625961453575744,
          1.8710780740891488,
          1.7727932523618026,
          1.280307948901144,
          "",
          2.081502163706115,
          2.4804171567830857,
          "",
          1.761803351377507,
          0.5351504016628905,
          "",
          "",
          "",
          0.648825772070954,
          "",
          "",
          0.8754754716876365,
          0.9456978857487515,
          2.001010183901067,
          "",
          "",
          "",
          0.3014403106373867,
          "",
          "",
          "",
          0.043373539837036235
         ],
         "yaxis": "y2"
        },
        {
         "connectgaps": false,
         "fill": "tozeroy",
         "line": {
          "color": "red",
          "dash": "solid",
          "shape": "linear",
          "width": 0.5
         },
         "mode": "lines",
         "name": "Spread",
         "showlegend": false,
         "type": "scatter",
         "x": [
          0,
          1,
          2,
          3,
          4,
          5,
          6,
          7,
          8,
          9,
          10,
          11,
          12,
          13,
          14,
          15,
          16,
          17,
          18,
          19,
          20,
          21,
          22,
          23,
          24,
          25,
          26,
          27,
          28,
          29,
          30,
          31,
          32,
          33,
          34,
          35,
          36,
          37,
          38,
          39,
          40,
          41,
          42,
          43,
          44,
          45,
          46,
          47,
          48,
          49,
          50,
          51,
          52,
          53,
          54,
          55,
          56,
          57,
          58,
          59,
          60,
          61,
          62,
          63,
          64,
          65,
          66,
          67,
          68,
          69,
          70,
          71,
          72,
          73,
          74,
          75,
          76,
          77,
          78,
          79,
          80,
          81,
          82,
          83,
          84,
          85,
          86,
          87,
          88,
          89,
          90,
          91,
          92,
          93,
          94,
          95,
          96,
          97,
          98,
          99
         ],
         "xaxis": "x2",
         "y": [
          "",
          -1.6388875258481912,
          -1.7209084449717627,
          "",
          -0.7046698536239254,
          "",
          "",
          "",
          -4.641717472334525,
          "",
          "",
          -0.5975349086166681,
          "",
          -1.6193362595424827,
          "",
          -2.1930459638015027,
          -1.4178411689870514,
          -1.208329155808168,
          -0.01513650728924476,
          -1.905311955801698,
          "",
          "",
          -2.2421583698197423,
          "",
          -2.549705813162599,
          "",
          "",
          "",
          "",
          "",
          "",
          -0.30480119367721514,
          "",
          "",
          -1.616354042702965,
          -0.9502047825017161,
          -0.03717115748871991,
          -0.024260037630748466,
          "",
          -0.36983577084119357,
          "",
          "",
          -2.2181335627500136,
          -1.301781248457492,
          "",
          "",
          "",
          -2.5308643152400117,
          "",
          -0.3232604971257076,
          -0.18970166447239734,
          "",
          -2.2018001435051064,
          "",
          "",
          "",
          "",
          "",
          -2.5587155352615025,
          "",
          -1.8380837734113398,
          -1.5092486060030572,
          "",
          -0.67636276443105,
          -1.7322588022305183,
          -0.25689422084238145,
          "",
          -1.5471743302294207,
          "",
          -0.06835973791139827,
          -1.9251225086328616,
          -0.809800026596197,
          "",
          "",
          "",
          "",
          "",
          -0.08619954072604319,
          "",
          "",
          -0.9799446460857494,
          "",
          "",
          -3.0752563893742755,
          -3.8392656450805873,
          -1.8593865578445468,
          "",
          -0.05124280878137433,
          -1.712412611970218,
          "",
          "",
          "",
          -0.18512026832864875,
          -0.3939010584653248,
          -1.8618315802911816,
          "",
          -1.974718428917336,
          -3.755630208930776,
          -0.46347401065538374,
          ""
         ],
         "yaxis": "y2"
        }
       ],
       "layout": {
        "hovermode": "x",
        "legend": {
         "bgcolor": "#F5F6F9",
         "font": {
          "color": "#4D5663"
         }
        },
        "paper_bgcolor": "#F5F6F9",
        "plot_bgcolor": "#F5F6F9",
        "template": {
         "data": {
          "bar": [
           {
            "error_x": {
             "color": "#2a3f5f"
            },
            "error_y": {
             "color": "#2a3f5f"
            },
            "marker": {
             "line": {
              "color": "#E5ECF6",
              "width": 0.5
             }
            },
            "type": "bar"
           }
          ],
          "barpolar": [
           {
            "marker": {
             "line": {
              "color": "#E5ECF6",
              "width": 0.5
             }
            },
            "type": "barpolar"
           }
          ],
          "carpet": [
           {
            "aaxis": {
             "endlinecolor": "#2a3f5f",
             "gridcolor": "white",
             "linecolor": "white",
             "minorgridcolor": "white",
             "startlinecolor": "#2a3f5f"
            },
            "baxis": {
             "endlinecolor": "#2a3f5f",
             "gridcolor": "white",
             "linecolor": "white",
             "minorgridcolor": "white",
             "startlinecolor": "#2a3f5f"
            },
            "type": "carpet"
           }
          ],
          "choropleth": [
           {
            "colorbar": {
             "outlinewidth": 0,
             "ticks": ""
            },
            "type": "choropleth"
           }
          ],
          "contour": [
           {
            "colorbar": {
             "outlinewidth": 0,
             "ticks": ""
            },
            "colorscale": [
             [
              0,
              "#0d0887"
             ],
             [
              0.1111111111111111,
              "#46039f"
             ],
             [
              0.2222222222222222,
              "#7201a8"
             ],
             [
              0.3333333333333333,
              "#9c179e"
             ],
             [
              0.4444444444444444,
              "#bd3786"
             ],
             [
              0.5555555555555556,
              "#d8576b"
             ],
             [
              0.6666666666666666,
              "#ed7953"
             ],
             [
              0.7777777777777778,
              "#fb9f3a"
             ],
             [
              0.8888888888888888,
              "#fdca26"
             ],
             [
              1,
              "#f0f921"
             ]
            ],
            "type": "contour"
           }
          ],
          "contourcarpet": [
           {
            "colorbar": {
             "outlinewidth": 0,
             "ticks": ""
            },
            "type": "contourcarpet"
           }
          ],
          "heatmap": [
           {
            "colorbar": {
             "outlinewidth": 0,
             "ticks": ""
            },
            "colorscale": [
             [
              0,
              "#0d0887"
             ],
             [
              0.1111111111111111,
              "#46039f"
             ],
             [
              0.2222222222222222,
              "#7201a8"
             ],
             [
              0.3333333333333333,
              "#9c179e"
             ],
             [
              0.4444444444444444,
              "#bd3786"
             ],
             [
              0.5555555555555556,
              "#d8576b"
             ],
             [
              0.6666666666666666,
              "#ed7953"
             ],
             [
              0.7777777777777778,
              "#fb9f3a"
             ],
             [
              0.8888888888888888,
              "#fdca26"
             ],
             [
              1,
              "#f0f921"
             ]
            ],
            "type": "heatmap"
           }
          ],
          "heatmapgl": [
           {
            "colorbar": {
             "outlinewidth": 0,
             "ticks": ""
            },
            "colorscale": [
             [
              0,
              "#0d0887"
             ],
             [
              0.1111111111111111,
              "#46039f"
             ],
             [
              0.2222222222222222,
              "#7201a8"
             ],
             [
              0.3333333333333333,
              "#9c179e"
             ],
             [
              0.4444444444444444,
              "#bd3786"
             ],
             [
              0.5555555555555556,
              "#d8576b"
             ],
             [
              0.6666666666666666,
              "#ed7953"
             ],
             [
              0.7777777777777778,
              "#fb9f3a"
             ],
             [
              0.8888888888888888,
              "#fdca26"
             ],
             [
              1,
              "#f0f921"
             ]
            ],
            "type": "heatmapgl"
           }
          ],
          "histogram": [
           {
            "marker": {
             "colorbar": {
              "outlinewidth": 0,
              "ticks": ""
             }
            },
            "type": "histogram"
           }
          ],
          "histogram2d": [
           {
            "colorbar": {
             "outlinewidth": 0,
             "ticks": ""
            },
            "colorscale": [
             [
              0,
              "#0d0887"
             ],
             [
              0.1111111111111111,
              "#46039f"
             ],
             [
              0.2222222222222222,
              "#7201a8"
             ],
             [
              0.3333333333333333,
              "#9c179e"
             ],
             [
              0.4444444444444444,
              "#bd3786"
             ],
             [
              0.5555555555555556,
              "#d8576b"
             ],
             [
              0.6666666666666666,
              "#ed7953"
             ],
             [
              0.7777777777777778,
              "#fb9f3a"
             ],
             [
              0.8888888888888888,
              "#fdca26"
             ],
             [
              1,
              "#f0f921"
             ]
            ],
            "type": "histogram2d"
           }
          ],
          "histogram2dcontour": [
           {
            "colorbar": {
             "outlinewidth": 0,
             "ticks": ""
            },
            "colorscale": [
             [
              0,
              "#0d0887"
             ],
             [
              0.1111111111111111,
              "#46039f"
             ],
             [
              0.2222222222222222,
              "#7201a8"
             ],
             [
              0.3333333333333333,
              "#9c179e"
             ],
             [
              0.4444444444444444,
              "#bd3786"
             ],
             [
              0.5555555555555556,
              "#d8576b"
             ],
             [
              0.6666666666666666,
              "#ed7953"
             ],
             [
              0.7777777777777778,
              "#fb9f3a"
             ],
             [
              0.8888888888888888,
              "#fdca26"
             ],
             [
              1,
              "#f0f921"
             ]
            ],
            "type": "histogram2dcontour"
           }
          ],
          "mesh3d": [
           {
            "colorbar": {
             "outlinewidth": 0,
             "ticks": ""
            },
            "type": "mesh3d"
           }
          ],
          "parcoords": [
           {
            "line": {
             "colorbar": {
              "outlinewidth": 0,
              "ticks": ""
             }
            },
            "type": "parcoords"
           }
          ],
          "pie": [
           {
            "automargin": true,
            "type": "pie"
           }
          ],
          "scatter": [
           {
            "marker": {
             "colorbar": {
              "outlinewidth": 0,
              "ticks": ""
             }
            },
            "type": "scatter"
           }
          ],
          "scatter3d": [
           {
            "line": {
             "colorbar": {
              "outlinewidth": 0,
              "ticks": ""
             }
            },
            "marker": {
             "colorbar": {
              "outlinewidth": 0,
              "ticks": ""
             }
            },
            "type": "scatter3d"
           }
          ],
          "scattercarpet": [
           {
            "marker": {
             "colorbar": {
              "outlinewidth": 0,
              "ticks": ""
             }
            },
            "type": "scattercarpet"
           }
          ],
          "scattergeo": [
           {
            "marker": {
             "colorbar": {
              "outlinewidth": 0,
              "ticks": ""
             }
            },
            "type": "scattergeo"
           }
          ],
          "scattergl": [
           {
            "marker": {
             "colorbar": {
              "outlinewidth": 0,
              "ticks": ""
             }
            },
            "type": "scattergl"
           }
          ],
          "scattermapbox": [
           {
            "marker": {
             "colorbar": {
              "outlinewidth": 0,
              "ticks": ""
             }
            },
            "type": "scattermapbox"
           }
          ],
          "scatterpolar": [
           {
            "marker": {
             "colorbar": {
              "outlinewidth": 0,
              "ticks": ""
             }
            },
            "type": "scatterpolar"
           }
          ],
          "scatterpolargl": [
           {
            "marker": {
             "colorbar": {
              "outlinewidth": 0,
              "ticks": ""
             }
            },
            "type": "scatterpolargl"
           }
          ],
          "scatterternary": [
           {
            "marker": {
             "colorbar": {
              "outlinewidth": 0,
              "ticks": ""
             }
            },
            "type": "scatterternary"
           }
          ],
          "surface": [
           {
            "colorbar": {
             "outlinewidth": 0,
             "ticks": ""
            },
            "colorscale": [
             [
              0,
              "#0d0887"
             ],
             [
              0.1111111111111111,
              "#46039f"
             ],
             [
              0.2222222222222222,
              "#7201a8"
             ],
             [
              0.3333333333333333,
              "#9c179e"
             ],
             [
              0.4444444444444444,
              "#bd3786"
             ],
             [
              0.5555555555555556,
              "#d8576b"
             ],
             [
              0.6666666666666666,
              "#ed7953"
             ],
             [
              0.7777777777777778,
              "#fb9f3a"
             ],
             [
              0.8888888888888888,
              "#fdca26"
             ],
             [
              1,
              "#f0f921"
             ]
            ],
            "type": "surface"
           }
          ],
          "table": [
           {
            "cells": {
             "fill": {
              "color": "#EBF0F8"
             },
             "line": {
              "color": "white"
             }
            },
            "header": {
             "fill": {
              "color": "#C8D4E3"
             },
             "line": {
              "color": "white"
             }
            },
            "type": "table"
           }
          ]
         },
         "layout": {
          "annotationdefaults": {
           "arrowcolor": "#2a3f5f",
           "arrowhead": 0,
           "arrowwidth": 1
          },
          "coloraxis": {
           "colorbar": {
            "outlinewidth": 0,
            "ticks": ""
           }
          },
          "colorscale": {
           "diverging": [
            [
             0,
             "#8e0152"
            ],
            [
             0.1,
             "#c51b7d"
            ],
            [
             0.2,
             "#de77ae"
            ],
            [
             0.3,
             "#f1b6da"
            ],
            [
             0.4,
             "#fde0ef"
            ],
            [
             0.5,
             "#f7f7f7"
            ],
            [
             0.6,
             "#e6f5d0"
            ],
            [
             0.7,
             "#b8e186"
            ],
            [
             0.8,
             "#7fbc41"
            ],
            [
             0.9,
             "#4d9221"
            ],
            [
             1,
             "#276419"
            ]
           ],
           "sequential": [
            [
             0,
             "#0d0887"
            ],
            [
             0.1111111111111111,
             "#46039f"
            ],
            [
             0.2222222222222222,
             "#7201a8"
            ],
            [
             0.3333333333333333,
             "#9c179e"
            ],
            [
             0.4444444444444444,
             "#bd3786"
            ],
            [
             0.5555555555555556,
             "#d8576b"
            ],
            [
             0.6666666666666666,
             "#ed7953"
            ],
            [
             0.7777777777777778,
             "#fb9f3a"
            ],
            [
             0.8888888888888888,
             "#fdca26"
            ],
            [
             1,
             "#f0f921"
            ]
           ],
           "sequentialminus": [
            [
             0,
             "#0d0887"
            ],
            [
             0.1111111111111111,
             "#46039f"
            ],
            [
             0.2222222222222222,
             "#7201a8"
            ],
            [
             0.3333333333333333,
             "#9c179e"
            ],
            [
             0.4444444444444444,
             "#bd3786"
            ],
            [
             0.5555555555555556,
             "#d8576b"
            ],
            [
             0.6666666666666666,
             "#ed7953"
            ],
            [
             0.7777777777777778,
             "#fb9f3a"
            ],
            [
             0.8888888888888888,
             "#fdca26"
            ],
            [
             1,
             "#f0f921"
            ]
           ]
          },
          "colorway": [
           "#636efa",
           "#EF553B",
           "#00cc96",
           "#ab63fa",
           "#FFA15A",
           "#19d3f3",
           "#FF6692",
           "#B6E880",
           "#FF97FF",
           "#FECB52"
          ],
          "font": {
           "color": "#2a3f5f"
          },
          "geo": {
           "bgcolor": "white",
           "lakecolor": "white",
           "landcolor": "#E5ECF6",
           "showlakes": true,
           "showland": true,
           "subunitcolor": "white"
          },
          "hoverlabel": {
           "align": "left"
          },
          "hovermode": "closest",
          "mapbox": {
           "style": "light"
          },
          "paper_bgcolor": "white",
          "plot_bgcolor": "#E5ECF6",
          "polar": {
           "angularaxis": {
            "gridcolor": "white",
            "linecolor": "white",
            "ticks": ""
           },
           "bgcolor": "#E5ECF6",
           "radialaxis": {
            "gridcolor": "white",
            "linecolor": "white",
            "ticks": ""
           }
          },
          "scene": {
           "xaxis": {
            "backgroundcolor": "#E5ECF6",
            "gridcolor": "white",
            "gridwidth": 2,
            "linecolor": "white",
            "showbackground": true,
            "ticks": "",
            "zerolinecolor": "white"
           },
           "yaxis": {
            "backgroundcolor": "#E5ECF6",
            "gridcolor": "white",
            "gridwidth": 2,
            "linecolor": "white",
            "showbackground": true,
            "ticks": "",
            "zerolinecolor": "white"
           },
           "zaxis": {
            "backgroundcolor": "#E5ECF6",
            "gridcolor": "white",
            "gridwidth": 2,
            "linecolor": "white",
            "showbackground": true,
            "ticks": "",
            "zerolinecolor": "white"
           }
          },
          "shapedefaults": {
           "line": {
            "color": "#2a3f5f"
           }
          },
          "ternary": {
           "aaxis": {
            "gridcolor": "white",
            "linecolor": "white",
            "ticks": ""
           },
           "baxis": {
            "gridcolor": "white",
            "linecolor": "white",
            "ticks": ""
           },
           "bgcolor": "#E5ECF6",
           "caxis": {
            "gridcolor": "white",
            "linecolor": "white",
            "ticks": ""
           }
          },
          "title": {
           "x": 0.05
          },
          "xaxis": {
           "automargin": true,
           "gridcolor": "white",
           "linecolor": "white",
           "ticks": "",
           "title": {
            "standoff": 15
           },
           "zerolinecolor": "white",
           "zerolinewidth": 2
          },
          "yaxis": {
           "automargin": true,
           "gridcolor": "white",
           "linecolor": "white",
           "ticks": "",
           "title": {
            "standoff": 15
           },
           "zerolinecolor": "white",
           "zerolinewidth": 2
          }
         }
        },
        "title": {
         "font": {
          "color": "#4D5663"
         }
        },
        "xaxis": {
         "gridcolor": "#E1E5ED",
         "showgrid": true,
         "tickfont": {
          "color": "#4D5663"
         },
         "title": {
          "font": {
           "color": "#4D5663"
          },
          "text": ""
         },
         "zerolinecolor": "#E1E5ED"
        },
        "xaxis2": {
         "anchor": "y2",
         "gridcolor": "#E1E5ED",
         "showgrid": true,
         "showticklabels": false,
         "tickfont": {
          "color": "#4D5663"
         },
         "title": {
          "font": {
           "color": "#4D5663"
          },
          "text": ""
         },
         "zerolinecolor": "#E1E5ED"
        },
        "yaxis": {
         "domain": [
          0.3,
          1
         ],
         "gridcolor": "#E1E5ED",
         "showgrid": true,
         "tickfont": {
          "color": "#4D5663"
         },
         "title": {
          "font": {
           "color": "#4D5663"
          },
          "text": ""
         },
         "zerolinecolor": "#E1E5ED"
        },
        "yaxis2": {
         "domain": [
          0,
          0.25
         ],
         "gridcolor": "#E1E5ED",
         "showgrid": true,
         "tickfont": {
          "color": "#4D5663"
         },
         "title": {
          "font": {
           "color": "#4D5663"
          },
          "text": "Spread"
         },
         "zerolinecolor": "#E1E5ED"
        }
       }
      },
      "text/html": [
       "<div>\n",
       "        \n",
       "        \n",
       "            <div id=\"b98b7534-fe1e-42e3-bd90-57adaad2f841\" class=\"plotly-graph-div\" style=\"height:525px; width:100%;\"></div>\n",
       "            <script type=\"text/javascript\">\n",
       "                require([\"plotly\"], function(Plotly) {\n",
       "                    window.PLOTLYENV=window.PLOTLYENV || {};\n",
       "                    window.PLOTLYENV.BASE_URL='https://plot.ly';\n",
       "                    \n",
       "                if (document.getElementById(\"b98b7534-fe1e-42e3-bd90-57adaad2f841\")) {\n",
       "                    Plotly.newPlot(\n",
       "                        'b98b7534-fe1e-42e3-bd90-57adaad2f841',\n",
       "                        [{\"line\": {\"color\": \"rgba(255, 153, 51, 1.0)\", \"dash\": \"solid\", \"shape\": \"linear\", \"width\": 1.3}, \"mode\": \"lines\", \"name\": \"A\", \"text\": \"\", \"type\": \"scatter\", \"x\": [0, 1, 2, 3, 4, 5, 6, 7, 8, 9, 10, 11, 12, 13, 14, 15, 16, 17, 18, 19, 20, 21, 22, 23, 24, 25, 26, 27, 28, 29, 30, 31, 32, 33, 34, 35, 36, 37, 38, 39, 40, 41, 42, 43, 44, 45, 46, 47, 48, 49, 50, 51, 52, 53, 54, 55, 56, 57, 58, 59, 60, 61, 62, 63, 64, 65, 66, 67, 68, 69, 70, 71, 72, 73, 74, 75, 76, 77, 78, 79, 80, 81, 82, 83, 84, 85, 86, 87, 88, 89, 90, 91, 92, 93, 94, 95, 96, 97, 98, 99], \"y\": [0.6326127038985268, -0.14548579553446406, -0.34393948885963876, 0.3519190014943898, 0.7107141402638056, 0.054448005118226145, 0.31478965626513306, 1.9337649291692833, -2.4104902799178225, -1.2453604990808071, 1.098206494038972, -0.4728839209634316, 1.01350221056353, -1.2005069730171412, 2.2182955208107384, -0.5776216990016312, -1.4108161826851844, -0.7196052814859598, -0.8521024791986744, -2.395667214325212, 0.6135391862466687, -0.5459430342243888, -1.5060792667559042, 0.8667742499584937, -1.1701546987241738, -0.08603577043546688, -1.4225646891991002, 1.5097413246515126, -0.866990537216288, 0.36179214184957503, -0.045414828943426265, -1.1565623260261002, -0.3142975279995353, 0.27781931010361094, 0.13924531458794118, 0.5592464910210235, 1.4967131118300432, -1.2053072838699337, 0.9797694054889248, -0.8849615612000583, -0.3811985872358258, 1.2480856601545274, 0.21658187897293008, -0.6983120986704753, -0.4513805948645634, 0.5580842538719136, 1.7496795737545083, -0.9879645518593242, -0.06721474521065876, 0.5035528575835836, 0.6186851606665685, 0.0653038262993778, -2.3426270634798825, 0.647611947402595, 0.219685903854224, 0.9076116925247123, 0.27528312732947663, 0.8846370584865045, -0.4307631060841758, 1.6065913463104657, -0.3435107836865878, -1.2569208272167436, 1.1982153725983713, -0.5624178050751879, -1.7559287574848392, -0.774560168600139, 0.49075843422998716, 0.19013438750868822, -0.10736136841934604, -0.7563320343420211, -0.912488191626346, 0.47780470406373887, 0.46123054750740644, -1.170008389278726, 0.8208488063070032, 2.0708134558500015, 1.196023145719842, 1.0866936558250455, 2.174827703635172, 0.9464513781289309, -0.3847720587664325, 0.677896901070159, 0.3789629295966409, -0.40453211598778244, -1.4214106677209226, -2.000151170771465, 0.03448335811311445, -1.0288832751039005, -0.7060820996009419, -0.3984065438825475, 1.3183550006020213, 2.3746996644956346, 0.17237217908045094, -0.5356615988531053, -1.8134160233906358, 0.19096701764943314, -0.628185005053714, -1.8878773692036663, -0.4900468240812979, 0.48428326873581173]}, {\"line\": {\"color\": \"rgba(55, 128, 191, 1.0)\", \"dash\": \"solid\", \"shape\": \"linear\", \"width\": 1.3}, \"mode\": \"lines\", \"name\": \"B\", \"text\": \"\", \"type\": \"scatter\", \"x\": [0, 1, 2, 3, 4, 5, 6, 7, 8, 9, 10, 11, 12, 13, 14, 15, 16, 17, 18, 19, 20, 21, 22, 23, 24, 25, 26, 27, 28, 29, 30, 31, 32, 33, 34, 35, 36, 37, 38, 39, 40, 41, 42, 43, 44, 45, 46, 47, 48, 49, 50, 51, 52, 53, 54, 55, 56, 57, 58, 59, 60, 61, 62, 63, 64, 65, 66, 67, 68, 69, 70, 71, 72, 73, 74, 75, 76, 77, 78, 79, 80, 81, 82, 83, 84, 85, 86, 87, 88, 89, 90, 91, 92, 93, 94, 95, 96, 97, 98, 99], \"y\": [0.47287525328590935, 1.4934017303137272, 1.3769689561121239, -1.082806198805133, 1.415383993887731, -0.3630025087659517, -1.2350824003044616, -0.9575111668958346, 2.231227192416702, -1.6084623988472704, 0.7913364725124696, 0.12465098765323646, 0.10894918249881126, 0.4188292865253416, -0.3759546225061773, 1.6154242647998716, 0.007024986301866887, 0.48872387432220804, -0.8369659719094297, -0.4903552585235138, 0.3177430027248012, -1.055949329045058, 0.7360791030638381, 0.44231956568828446, 1.379551114438425, -0.7040578920221393, -1.9764410307063434, -0.015693146946839435, -1.5263965880053936, -1.4117553120848472, -0.1577338525083378, -0.8517611323488851, -1.4980204859517279, -0.7702057758987122, 1.755599357290906, 1.5094512735227397, 1.533884269318763, -1.1810472462391852, 0.9382757897220223, -0.5151257903588647, -0.4392957343101481, -1.153578173417106, 2.4347154417229437, 0.6034691497870166, -0.7231130664783035, -0.8297448803780897, -1.1631465870895914, 1.5428997633806876, -1.0191242175698105, 0.8268133547092912, 0.8083868251389659, -0.3854591282744667, -0.14082691997477623, -0.22909359854768352, -1.2365501886677792, 0.4703021455822461, -0.5822269077491736, -0.6650515548694265, 2.1279524291773266, 0.6061821909283301, 1.494572989724752, 0.25232777878631363, -0.1231269099302736, 0.11394495935586213, -0.023669955254320904, -0.5176659477577575, -1.0857603251337256, 1.737308717738109, -1.0436899628847465, -0.6879722964306229, 1.0126343170065157, 1.2876047306599359, 0.21953780998443767, -1.2162680038144835, -1.0502292677821456, 0.29802020348819896, -0.08428480318130187, 1.1728931965510887, 0.09332553992905697, -1.5339657786541547, 0.5951725873193169, -1.0839064503073481, -0.15618747206624964, 2.670724273386493, 2.4178549773596645, -0.14076461292691836, -0.6143424139578396, -0.9776404663225262, 1.0063305123692763, -1.273882015570184, 0.37265711485326986, 0.37368948059456725, 0.3574924474090997, -0.14176054038778046, 0.04841555690054582, -0.11047329298795354, 1.346533423863622, 1.8677528397271093, -0.026572813425914166, 0.4409097288987755]}, {\"connectgaps\": false, \"fill\": \"tozeroy\", \"line\": {\"color\": \"green\", \"dash\": \"solid\", \"shape\": \"linear\", \"width\": 0.5}, \"mode\": \"lines\", \"name\": \"Spread\", \"showlegend\": false, \"type\": \"scatter\", \"x\": [0, 1, 2, 3, 4, 5, 6, 7, 8, 9, 10, 11, 12, 13, 14, 15, 16, 17, 18, 19, 20, 21, 22, 23, 24, 25, 26, 27, 28, 29, 30, 31, 32, 33, 34, 35, 36, 37, 38, 39, 40, 41, 42, 43, 44, 45, 46, 47, 48, 49, 50, 51, 52, 53, 54, 55, 56, 57, 58, 59, 60, 61, 62, 63, 64, 65, 66, 67, 68, 69, 70, 71, 72, 73, 74, 75, 76, 77, 78, 79, 80, 81, 82, 83, 84, 85, 86, 87, 88, 89, 90, 91, 92, 93, 94, 95, 96, 97, 98, 99], \"xaxis\": \"x2\", \"y\": [0.1597374506126174, \"\", \"\", 1.4347252002995228, \"\", 0.41745051388417787, 1.5498720565695947, 2.891276096065118, \"\", 0.36310189976646323, 0.30687002152650233, \"\", 0.9045530280647188, \"\", 2.594250143316916, \"\", \"\", \"\", \"\", \"\", 0.2957961835218675, 0.5100062948206691, \"\", 0.42445468427020927, \"\", 0.6180221215866725, 0.5538763415072432, 1.525434471598352, 0.6594060507891055, 1.7735474539344223, 0.11231902356491152, \"\", 1.1837229579521926, 1.048025086002323, \"\", \"\", \"\", \"\", 0.04149361576690247, \"\", 0.05809714707432234, 2.401663833571633, \"\", \"\", 0.27173247161374015, 1.3878291342500033, 2.9128261608440997, \"\", 0.9519094723591518, \"\", \"\", 0.4507629545738445, \"\", 0.8767055459502785, 1.4562360925220033, 0.4373095469424662, 0.8575100350786502, 1.549688613355931, \"\", 1.0004091553821355, \"\", \"\", 1.321342282528645, \"\", \"\", \"\", 1.5765187593637127, \"\", 0.9363285944654004, \"\", \"\", \"\", 0.24169273752296877, 0.04625961453575744, 1.8710780740891488, 1.7727932523618026, 1.280307948901144, \"\", 2.081502163706115, 2.4804171567830857, \"\", 1.761803351377507, 0.5351504016628905, \"\", \"\", \"\", 0.648825772070954, \"\", \"\", 0.8754754716876365, 0.9456978857487515, 2.001010183901067, \"\", \"\", \"\", 0.3014403106373867, \"\", \"\", \"\", 0.043373539837036235], \"yaxis\": \"y2\"}, {\"connectgaps\": false, \"fill\": \"tozeroy\", \"line\": {\"color\": \"red\", \"dash\": \"solid\", \"shape\": \"linear\", \"width\": 0.5}, \"mode\": \"lines\", \"name\": \"Spread\", \"showlegend\": false, \"type\": \"scatter\", \"x\": [0, 1, 2, 3, 4, 5, 6, 7, 8, 9, 10, 11, 12, 13, 14, 15, 16, 17, 18, 19, 20, 21, 22, 23, 24, 25, 26, 27, 28, 29, 30, 31, 32, 33, 34, 35, 36, 37, 38, 39, 40, 41, 42, 43, 44, 45, 46, 47, 48, 49, 50, 51, 52, 53, 54, 55, 56, 57, 58, 59, 60, 61, 62, 63, 64, 65, 66, 67, 68, 69, 70, 71, 72, 73, 74, 75, 76, 77, 78, 79, 80, 81, 82, 83, 84, 85, 86, 87, 88, 89, 90, 91, 92, 93, 94, 95, 96, 97, 98, 99], \"xaxis\": \"x2\", \"y\": [\"\", -1.6388875258481912, -1.7209084449717627, \"\", -0.7046698536239254, \"\", \"\", \"\", -4.641717472334525, \"\", \"\", -0.5975349086166681, \"\", -1.6193362595424827, \"\", -2.1930459638015027, -1.4178411689870514, -1.208329155808168, -0.01513650728924476, -1.905311955801698, \"\", \"\", -2.2421583698197423, \"\", -2.549705813162599, \"\", \"\", \"\", \"\", \"\", \"\", -0.30480119367721514, \"\", \"\", -1.616354042702965, -0.9502047825017161, -0.03717115748871991, -0.024260037630748466, \"\", -0.36983577084119357, \"\", \"\", -2.2181335627500136, -1.301781248457492, \"\", \"\", \"\", -2.5308643152400117, \"\", -0.3232604971257076, -0.18970166447239734, \"\", -2.2018001435051064, \"\", \"\", \"\", \"\", \"\", -2.5587155352615025, \"\", -1.8380837734113398, -1.5092486060030572, \"\", -0.67636276443105, -1.7322588022305183, -0.25689422084238145, \"\", -1.5471743302294207, \"\", -0.06835973791139827, -1.9251225086328616, -0.809800026596197, \"\", \"\", \"\", \"\", \"\", -0.08619954072604319, \"\", \"\", -0.9799446460857494, \"\", \"\", -3.0752563893742755, -3.8392656450805873, -1.8593865578445468, \"\", -0.05124280878137433, -1.712412611970218, \"\", \"\", \"\", -0.18512026832864875, -0.3939010584653248, -1.8618315802911816, \"\", -1.974718428917336, -3.755630208930776, -0.46347401065538374, \"\"], \"yaxis\": \"y2\"}],\n",
       "                        {\"hovermode\": \"x\", \"legend\": {\"bgcolor\": \"#F5F6F9\", \"font\": {\"color\": \"#4D5663\"}}, \"paper_bgcolor\": \"#F5F6F9\", \"plot_bgcolor\": \"#F5F6F9\", \"template\": {\"data\": {\"bar\": [{\"error_x\": {\"color\": \"#2a3f5f\"}, \"error_y\": {\"color\": \"#2a3f5f\"}, \"marker\": {\"line\": {\"color\": \"#E5ECF6\", \"width\": 0.5}}, \"type\": \"bar\"}], \"barpolar\": [{\"marker\": {\"line\": {\"color\": \"#E5ECF6\", \"width\": 0.5}}, \"type\": \"barpolar\"}], \"carpet\": [{\"aaxis\": {\"endlinecolor\": \"#2a3f5f\", \"gridcolor\": \"white\", \"linecolor\": \"white\", \"minorgridcolor\": \"white\", \"startlinecolor\": \"#2a3f5f\"}, \"baxis\": {\"endlinecolor\": \"#2a3f5f\", \"gridcolor\": \"white\", \"linecolor\": \"white\", \"minorgridcolor\": \"white\", \"startlinecolor\": \"#2a3f5f\"}, \"type\": \"carpet\"}], \"choropleth\": [{\"colorbar\": {\"outlinewidth\": 0, \"ticks\": \"\"}, \"type\": \"choropleth\"}], \"contour\": [{\"colorbar\": {\"outlinewidth\": 0, \"ticks\": \"\"}, \"colorscale\": [[0.0, \"#0d0887\"], [0.1111111111111111, \"#46039f\"], [0.2222222222222222, \"#7201a8\"], [0.3333333333333333, \"#9c179e\"], [0.4444444444444444, \"#bd3786\"], [0.5555555555555556, \"#d8576b\"], [0.6666666666666666, \"#ed7953\"], [0.7777777777777778, \"#fb9f3a\"], [0.8888888888888888, \"#fdca26\"], [1.0, \"#f0f921\"]], \"type\": \"contour\"}], \"contourcarpet\": [{\"colorbar\": {\"outlinewidth\": 0, \"ticks\": \"\"}, \"type\": \"contourcarpet\"}], \"heatmap\": [{\"colorbar\": {\"outlinewidth\": 0, \"ticks\": \"\"}, \"colorscale\": [[0.0, \"#0d0887\"], [0.1111111111111111, \"#46039f\"], [0.2222222222222222, \"#7201a8\"], [0.3333333333333333, \"#9c179e\"], [0.4444444444444444, \"#bd3786\"], [0.5555555555555556, \"#d8576b\"], [0.6666666666666666, \"#ed7953\"], [0.7777777777777778, \"#fb9f3a\"], [0.8888888888888888, \"#fdca26\"], [1.0, \"#f0f921\"]], \"type\": \"heatmap\"}], \"heatmapgl\": [{\"colorbar\": {\"outlinewidth\": 0, \"ticks\": \"\"}, \"colorscale\": [[0.0, \"#0d0887\"], [0.1111111111111111, \"#46039f\"], [0.2222222222222222, \"#7201a8\"], [0.3333333333333333, \"#9c179e\"], [0.4444444444444444, \"#bd3786\"], [0.5555555555555556, \"#d8576b\"], [0.6666666666666666, \"#ed7953\"], [0.7777777777777778, \"#fb9f3a\"], [0.8888888888888888, \"#fdca26\"], [1.0, \"#f0f921\"]], \"type\": \"heatmapgl\"}], \"histogram\": [{\"marker\": {\"colorbar\": {\"outlinewidth\": 0, \"ticks\": \"\"}}, \"type\": \"histogram\"}], \"histogram2d\": [{\"colorbar\": {\"outlinewidth\": 0, \"ticks\": \"\"}, \"colorscale\": [[0.0, \"#0d0887\"], [0.1111111111111111, \"#46039f\"], [0.2222222222222222, \"#7201a8\"], [0.3333333333333333, \"#9c179e\"], [0.4444444444444444, \"#bd3786\"], [0.5555555555555556, \"#d8576b\"], [0.6666666666666666, \"#ed7953\"], [0.7777777777777778, \"#fb9f3a\"], [0.8888888888888888, \"#fdca26\"], [1.0, \"#f0f921\"]], \"type\": \"histogram2d\"}], \"histogram2dcontour\": [{\"colorbar\": {\"outlinewidth\": 0, \"ticks\": \"\"}, \"colorscale\": [[0.0, \"#0d0887\"], [0.1111111111111111, \"#46039f\"], [0.2222222222222222, \"#7201a8\"], [0.3333333333333333, \"#9c179e\"], [0.4444444444444444, \"#bd3786\"], [0.5555555555555556, \"#d8576b\"], [0.6666666666666666, \"#ed7953\"], [0.7777777777777778, \"#fb9f3a\"], [0.8888888888888888, \"#fdca26\"], [1.0, \"#f0f921\"]], \"type\": \"histogram2dcontour\"}], \"mesh3d\": [{\"colorbar\": {\"outlinewidth\": 0, \"ticks\": \"\"}, \"type\": \"mesh3d\"}], \"parcoords\": [{\"line\": {\"colorbar\": {\"outlinewidth\": 0, \"ticks\": \"\"}}, \"type\": \"parcoords\"}], \"pie\": [{\"automargin\": true, \"type\": \"pie\"}], \"scatter\": [{\"marker\": {\"colorbar\": {\"outlinewidth\": 0, \"ticks\": \"\"}}, \"type\": \"scatter\"}], \"scatter3d\": [{\"line\": {\"colorbar\": {\"outlinewidth\": 0, \"ticks\": \"\"}}, \"marker\": {\"colorbar\": {\"outlinewidth\": 0, \"ticks\": \"\"}}, \"type\": \"scatter3d\"}], \"scattercarpet\": [{\"marker\": {\"colorbar\": {\"outlinewidth\": 0, \"ticks\": \"\"}}, \"type\": \"scattercarpet\"}], \"scattergeo\": [{\"marker\": {\"colorbar\": {\"outlinewidth\": 0, \"ticks\": \"\"}}, \"type\": \"scattergeo\"}], \"scattergl\": [{\"marker\": {\"colorbar\": {\"outlinewidth\": 0, \"ticks\": \"\"}}, \"type\": \"scattergl\"}], \"scattermapbox\": [{\"marker\": {\"colorbar\": {\"outlinewidth\": 0, \"ticks\": \"\"}}, \"type\": \"scattermapbox\"}], \"scatterpolar\": [{\"marker\": {\"colorbar\": {\"outlinewidth\": 0, \"ticks\": \"\"}}, \"type\": \"scatterpolar\"}], \"scatterpolargl\": [{\"marker\": {\"colorbar\": {\"outlinewidth\": 0, \"ticks\": \"\"}}, \"type\": \"scatterpolargl\"}], \"scatterternary\": [{\"marker\": {\"colorbar\": {\"outlinewidth\": 0, \"ticks\": \"\"}}, \"type\": \"scatterternary\"}], \"surface\": [{\"colorbar\": {\"outlinewidth\": 0, \"ticks\": \"\"}, \"colorscale\": [[0.0, \"#0d0887\"], [0.1111111111111111, \"#46039f\"], [0.2222222222222222, \"#7201a8\"], [0.3333333333333333, \"#9c179e\"], [0.4444444444444444, \"#bd3786\"], [0.5555555555555556, \"#d8576b\"], [0.6666666666666666, \"#ed7953\"], [0.7777777777777778, \"#fb9f3a\"], [0.8888888888888888, \"#fdca26\"], [1.0, \"#f0f921\"]], \"type\": \"surface\"}], \"table\": [{\"cells\": {\"fill\": {\"color\": \"#EBF0F8\"}, \"line\": {\"color\": \"white\"}}, \"header\": {\"fill\": {\"color\": \"#C8D4E3\"}, \"line\": {\"color\": \"white\"}}, \"type\": \"table\"}]}, \"layout\": {\"annotationdefaults\": {\"arrowcolor\": \"#2a3f5f\", \"arrowhead\": 0, \"arrowwidth\": 1}, \"coloraxis\": {\"colorbar\": {\"outlinewidth\": 0, \"ticks\": \"\"}}, \"colorscale\": {\"diverging\": [[0, \"#8e0152\"], [0.1, \"#c51b7d\"], [0.2, \"#de77ae\"], [0.3, \"#f1b6da\"], [0.4, \"#fde0ef\"], [0.5, \"#f7f7f7\"], [0.6, \"#e6f5d0\"], [0.7, \"#b8e186\"], [0.8, \"#7fbc41\"], [0.9, \"#4d9221\"], [1, \"#276419\"]], \"sequential\": [[0.0, \"#0d0887\"], [0.1111111111111111, \"#46039f\"], [0.2222222222222222, \"#7201a8\"], [0.3333333333333333, \"#9c179e\"], [0.4444444444444444, \"#bd3786\"], [0.5555555555555556, \"#d8576b\"], [0.6666666666666666, \"#ed7953\"], [0.7777777777777778, \"#fb9f3a\"], [0.8888888888888888, \"#fdca26\"], [1.0, \"#f0f921\"]], \"sequentialminus\": [[0.0, \"#0d0887\"], [0.1111111111111111, \"#46039f\"], [0.2222222222222222, \"#7201a8\"], [0.3333333333333333, \"#9c179e\"], [0.4444444444444444, \"#bd3786\"], [0.5555555555555556, \"#d8576b\"], [0.6666666666666666, \"#ed7953\"], [0.7777777777777778, \"#fb9f3a\"], [0.8888888888888888, \"#fdca26\"], [1.0, \"#f0f921\"]]}, \"colorway\": [\"#636efa\", \"#EF553B\", \"#00cc96\", \"#ab63fa\", \"#FFA15A\", \"#19d3f3\", \"#FF6692\", \"#B6E880\", \"#FF97FF\", \"#FECB52\"], \"font\": {\"color\": \"#2a3f5f\"}, \"geo\": {\"bgcolor\": \"white\", \"lakecolor\": \"white\", \"landcolor\": \"#E5ECF6\", \"showlakes\": true, \"showland\": true, \"subunitcolor\": \"white\"}, \"hoverlabel\": {\"align\": \"left\"}, \"hovermode\": \"closest\", \"mapbox\": {\"style\": \"light\"}, \"paper_bgcolor\": \"white\", \"plot_bgcolor\": \"#E5ECF6\", \"polar\": {\"angularaxis\": {\"gridcolor\": \"white\", \"linecolor\": \"white\", \"ticks\": \"\"}, \"bgcolor\": \"#E5ECF6\", \"radialaxis\": {\"gridcolor\": \"white\", \"linecolor\": \"white\", \"ticks\": \"\"}}, \"scene\": {\"xaxis\": {\"backgroundcolor\": \"#E5ECF6\", \"gridcolor\": \"white\", \"gridwidth\": 2, \"linecolor\": \"white\", \"showbackground\": true, \"ticks\": \"\", \"zerolinecolor\": \"white\"}, \"yaxis\": {\"backgroundcolor\": \"#E5ECF6\", \"gridcolor\": \"white\", \"gridwidth\": 2, \"linecolor\": \"white\", \"showbackground\": true, \"ticks\": \"\", \"zerolinecolor\": \"white\"}, \"zaxis\": {\"backgroundcolor\": \"#E5ECF6\", \"gridcolor\": \"white\", \"gridwidth\": 2, \"linecolor\": \"white\", \"showbackground\": true, \"ticks\": \"\", \"zerolinecolor\": \"white\"}}, \"shapedefaults\": {\"line\": {\"color\": \"#2a3f5f\"}}, \"ternary\": {\"aaxis\": {\"gridcolor\": \"white\", \"linecolor\": \"white\", \"ticks\": \"\"}, \"baxis\": {\"gridcolor\": \"white\", \"linecolor\": \"white\", \"ticks\": \"\"}, \"bgcolor\": \"#E5ECF6\", \"caxis\": {\"gridcolor\": \"white\", \"linecolor\": \"white\", \"ticks\": \"\"}}, \"title\": {\"x\": 0.05}, \"xaxis\": {\"automargin\": true, \"gridcolor\": \"white\", \"linecolor\": \"white\", \"ticks\": \"\", \"title\": {\"standoff\": 15}, \"zerolinecolor\": \"white\", \"zerolinewidth\": 2}, \"yaxis\": {\"automargin\": true, \"gridcolor\": \"white\", \"linecolor\": \"white\", \"ticks\": \"\", \"title\": {\"standoff\": 15}, \"zerolinecolor\": \"white\", \"zerolinewidth\": 2}}}, \"title\": {\"font\": {\"color\": \"#4D5663\"}}, \"xaxis\": {\"gridcolor\": \"#E1E5ED\", \"showgrid\": true, \"tickfont\": {\"color\": \"#4D5663\"}, \"title\": {\"font\": {\"color\": \"#4D5663\"}, \"text\": \"\"}, \"zerolinecolor\": \"#E1E5ED\"}, \"xaxis2\": {\"anchor\": \"y2\", \"gridcolor\": \"#E1E5ED\", \"showgrid\": true, \"showticklabels\": false, \"tickfont\": {\"color\": \"#4D5663\"}, \"title\": {\"font\": {\"color\": \"#4D5663\"}, \"text\": \"\"}, \"zerolinecolor\": \"#E1E5ED\"}, \"yaxis\": {\"domain\": [0.3, 1], \"gridcolor\": \"#E1E5ED\", \"showgrid\": true, \"tickfont\": {\"color\": \"#4D5663\"}, \"title\": {\"font\": {\"color\": \"#4D5663\"}, \"text\": \"\"}, \"zerolinecolor\": \"#E1E5ED\"}, \"yaxis2\": {\"domain\": [0, 0.25], \"gridcolor\": \"#E1E5ED\", \"showgrid\": true, \"tickfont\": {\"color\": \"#4D5663\"}, \"title\": {\"font\": {\"color\": \"#4D5663\"}, \"text\": \"Spread\"}, \"zerolinecolor\": \"#E1E5ED\"}},\n",
       "                        {\"showLink\": true, \"linkText\": \"Export to plot.ly\", \"plotlyServerURL\": \"https://plot.ly\", \"responsive\": true}\n",
       "                    ).then(function(){\n",
       "                            \n",
       "var gd = document.getElementById('b98b7534-fe1e-42e3-bd90-57adaad2f841');\n",
       "var x = new MutationObserver(function (mutations, observer) {{\n",
       "        var display = window.getComputedStyle(gd).display;\n",
       "        if (!display || display === 'none') {{\n",
       "            console.log([gd, 'removed!']);\n",
       "            Plotly.purge(gd);\n",
       "            observer.disconnect();\n",
       "        }}\n",
       "}});\n",
       "\n",
       "// Listen for the removal of the full notebook cells\n",
       "var notebookContainer = gd.closest('#notebook-container');\n",
       "if (notebookContainer) {{\n",
       "    x.observe(notebookContainer, {childList: true});\n",
       "}}\n",
       "\n",
       "// Listen for the clearing of the current output cell\n",
       "var outputEl = gd.closest('.output');\n",
       "if (outputEl) {{\n",
       "    x.observe(outputEl, {childList: true});\n",
       "}}\n",
       "\n",
       "                        })\n",
       "                };\n",
       "                });\n",
       "            </script>\n",
       "        </div>"
      ]
     },
     "metadata": {},
     "output_type": "display_data"
    }
   ],
   "source": [
    "df[['A','B']].iplot(kind = 'spread')\n",
    "#line plot for each column\n",
    "#and the spread the columns for each row."
   ]
  },
  {
   "cell_type": "code",
   "execution_count": 33,
   "metadata": {},
   "outputs": [
    {
     "data": {
      "application/vnd.plotly.v1+json": {
       "config": {
        "linkText": "Export to plot.ly",
        "plotlyServerURL": "https://plot.ly",
        "showLink": true
       },
       "data": [
        {
         "marker": {
          "color": [
           "rgb(255, 153, 51)",
           "rgb(55, 128, 191)",
           "rgb(50, 171, 96)",
           "rgb(128, 0, 128)",
           "rgb(219, 64, 82)",
           "rgb(0, 128, 128)",
           "rgb(255, 255, 51)",
           "rgb(128, 128, 0)",
           "rgb(251, 128, 114)",
           "rgb(128, 177, 211)"
          ],
          "line": {
           "width": 1.3
          },
          "size": [
           63,
           51,
           57,
           58,
           59,
           62,
           65,
           21,
           42,
           53,
           66,
           67,
           75,
           57,
           68,
           61,
           57,
           60,
           65,
           39,
           79,
           69,
           57,
           75,
           73,
           73,
           68,
           58,
           40,
           105,
           23,
           74,
           71,
           65,
           55,
           92,
           12,
           46,
           58,
           63,
           81,
           51,
           89,
           110,
           55,
           65,
           40,
           52,
           70,
           53,
           76,
           80,
           71,
           49,
           49,
           47,
           58,
           68,
           95,
           65,
           49,
           53,
           67,
           60,
           64,
           45,
           40,
           90,
           72,
           73,
           59,
           51,
           43,
           71,
           32,
           91,
           77,
           54,
           84,
           64,
           71,
           49,
           63,
           62,
           86,
           49,
           78,
           82,
           72,
           67,
           55,
           73,
           47,
           49,
           86,
           74,
           34,
           16,
           112,
           80
          ],
          "symbol": "circle"
         },
         "mode": "markers",
         "text": "",
         "type": "scatter",
         "x": [
          0.6326127038985268,
          -0.14548579553446406,
          -0.34393948885963876,
          0.3519190014943898,
          0.7107141402638056,
          0.054448005118226145,
          0.31478965626513306,
          1.9337649291692833,
          -2.4104902799178225,
          -1.2453604990808071,
          1.098206494038972,
          -0.4728839209634316,
          1.01350221056353,
          -1.2005069730171412,
          2.2182955208107384,
          -0.5776216990016312,
          -1.4108161826851844,
          -0.7196052814859598,
          -0.8521024791986744,
          -2.395667214325212,
          0.6135391862466687,
          -0.5459430342243888,
          -1.5060792667559042,
          0.8667742499584937,
          -1.1701546987241738,
          -0.08603577043546688,
          -1.4225646891991002,
          1.5097413246515126,
          -0.866990537216288,
          0.36179214184957503,
          -0.045414828943426265,
          -1.1565623260261002,
          -0.3142975279995353,
          0.27781931010361094,
          0.13924531458794118,
          0.5592464910210235,
          1.4967131118300432,
          -1.2053072838699337,
          0.9797694054889248,
          -0.8849615612000583,
          -0.3811985872358258,
          1.2480856601545274,
          0.21658187897293008,
          -0.6983120986704753,
          -0.4513805948645634,
          0.5580842538719136,
          1.7496795737545083,
          -0.9879645518593242,
          -0.06721474521065876,
          0.5035528575835836,
          0.6186851606665685,
          0.0653038262993778,
          -2.3426270634798825,
          0.647611947402595,
          0.219685903854224,
          0.9076116925247123,
          0.27528312732947663,
          0.8846370584865045,
          -0.4307631060841758,
          1.6065913463104657,
          -0.3435107836865878,
          -1.2569208272167436,
          1.1982153725983713,
          -0.5624178050751879,
          -1.7559287574848392,
          -0.774560168600139,
          0.49075843422998716,
          0.19013438750868822,
          -0.10736136841934604,
          -0.7563320343420211,
          -0.912488191626346,
          0.47780470406373887,
          0.46123054750740644,
          -1.170008389278726,
          0.8208488063070032,
          2.0708134558500015,
          1.196023145719842,
          1.0866936558250455,
          2.174827703635172,
          0.9464513781289309,
          -0.3847720587664325,
          0.677896901070159,
          0.3789629295966409,
          -0.40453211598778244,
          -1.4214106677209226,
          -2.000151170771465,
          0.03448335811311445,
          -1.0288832751039005,
          -0.7060820996009419,
          -0.3984065438825475,
          1.3183550006020213,
          2.3746996644956346,
          0.17237217908045094,
          -0.5356615988531053,
          -1.8134160233906358,
          0.19096701764943314,
          -0.628185005053714,
          -1.8878773692036663,
          -0.4900468240812979,
          0.48428326873581173
         ],
         "y": [
          0.47287525328590935,
          1.4934017303137272,
          1.3769689561121239,
          -1.082806198805133,
          1.415383993887731,
          -0.3630025087659517,
          -1.2350824003044616,
          -0.9575111668958346,
          2.231227192416702,
          -1.6084623988472704,
          0.7913364725124696,
          0.12465098765323646,
          0.10894918249881126,
          0.4188292865253416,
          -0.3759546225061773,
          1.6154242647998716,
          0.007024986301866887,
          0.48872387432220804,
          -0.8369659719094297,
          -0.4903552585235138,
          0.3177430027248012,
          -1.055949329045058,
          0.7360791030638381,
          0.44231956568828446,
          1.379551114438425,
          -0.7040578920221393,
          -1.9764410307063434,
          -0.015693146946839435,
          -1.5263965880053936,
          -1.4117553120848472,
          -0.1577338525083378,
          -0.8517611323488851,
          -1.4980204859517279,
          -0.7702057758987122,
          1.755599357290906,
          1.5094512735227397,
          1.533884269318763,
          -1.1810472462391852,
          0.9382757897220223,
          -0.5151257903588647,
          -0.4392957343101481,
          -1.153578173417106,
          2.4347154417229437,
          0.6034691497870166,
          -0.7231130664783035,
          -0.8297448803780897,
          -1.1631465870895914,
          1.5428997633806876,
          -1.0191242175698105,
          0.8268133547092912,
          0.8083868251389659,
          -0.3854591282744667,
          -0.14082691997477623,
          -0.22909359854768352,
          -1.2365501886677792,
          0.4703021455822461,
          -0.5822269077491736,
          -0.6650515548694265,
          2.1279524291773266,
          0.6061821909283301,
          1.494572989724752,
          0.25232777878631363,
          -0.1231269099302736,
          0.11394495935586213,
          -0.023669955254320904,
          -0.5176659477577575,
          -1.0857603251337256,
          1.737308717738109,
          -1.0436899628847465,
          -0.6879722964306229,
          1.0126343170065157,
          1.2876047306599359,
          0.21953780998443767,
          -1.2162680038144835,
          -1.0502292677821456,
          0.29802020348819896,
          -0.08428480318130187,
          1.1728931965510887,
          0.09332553992905697,
          -1.5339657786541547,
          0.5951725873193169,
          -1.0839064503073481,
          -0.15618747206624964,
          2.670724273386493,
          2.4178549773596645,
          -0.14076461292691836,
          -0.6143424139578396,
          -0.9776404663225262,
          1.0063305123692763,
          -1.273882015570184,
          0.37265711485326986,
          0.37368948059456725,
          0.3574924474090997,
          -0.14176054038778046,
          0.04841555690054582,
          -0.11047329298795354,
          1.346533423863622,
          1.8677528397271093,
          -0.026572813425914166,
          0.4409097288987755
         ]
        }
       ],
       "layout": {
        "legend": {
         "bgcolor": "#F5F6F9",
         "font": {
          "color": "#4D5663"
         }
        },
        "paper_bgcolor": "#F5F6F9",
        "plot_bgcolor": "#F5F6F9",
        "template": {
         "data": {
          "bar": [
           {
            "error_x": {
             "color": "#2a3f5f"
            },
            "error_y": {
             "color": "#2a3f5f"
            },
            "marker": {
             "line": {
              "color": "#E5ECF6",
              "width": 0.5
             }
            },
            "type": "bar"
           }
          ],
          "barpolar": [
           {
            "marker": {
             "line": {
              "color": "#E5ECF6",
              "width": 0.5
             }
            },
            "type": "barpolar"
           }
          ],
          "carpet": [
           {
            "aaxis": {
             "endlinecolor": "#2a3f5f",
             "gridcolor": "white",
             "linecolor": "white",
             "minorgridcolor": "white",
             "startlinecolor": "#2a3f5f"
            },
            "baxis": {
             "endlinecolor": "#2a3f5f",
             "gridcolor": "white",
             "linecolor": "white",
             "minorgridcolor": "white",
             "startlinecolor": "#2a3f5f"
            },
            "type": "carpet"
           }
          ],
          "choropleth": [
           {
            "colorbar": {
             "outlinewidth": 0,
             "ticks": ""
            },
            "type": "choropleth"
           }
          ],
          "contour": [
           {
            "colorbar": {
             "outlinewidth": 0,
             "ticks": ""
            },
            "colorscale": [
             [
              0,
              "#0d0887"
             ],
             [
              0.1111111111111111,
              "#46039f"
             ],
             [
              0.2222222222222222,
              "#7201a8"
             ],
             [
              0.3333333333333333,
              "#9c179e"
             ],
             [
              0.4444444444444444,
              "#bd3786"
             ],
             [
              0.5555555555555556,
              "#d8576b"
             ],
             [
              0.6666666666666666,
              "#ed7953"
             ],
             [
              0.7777777777777778,
              "#fb9f3a"
             ],
             [
              0.8888888888888888,
              "#fdca26"
             ],
             [
              1,
              "#f0f921"
             ]
            ],
            "type": "contour"
           }
          ],
          "contourcarpet": [
           {
            "colorbar": {
             "outlinewidth": 0,
             "ticks": ""
            },
            "type": "contourcarpet"
           }
          ],
          "heatmap": [
           {
            "colorbar": {
             "outlinewidth": 0,
             "ticks": ""
            },
            "colorscale": [
             [
              0,
              "#0d0887"
             ],
             [
              0.1111111111111111,
              "#46039f"
             ],
             [
              0.2222222222222222,
              "#7201a8"
             ],
             [
              0.3333333333333333,
              "#9c179e"
             ],
             [
              0.4444444444444444,
              "#bd3786"
             ],
             [
              0.5555555555555556,
              "#d8576b"
             ],
             [
              0.6666666666666666,
              "#ed7953"
             ],
             [
              0.7777777777777778,
              "#fb9f3a"
             ],
             [
              0.8888888888888888,
              "#fdca26"
             ],
             [
              1,
              "#f0f921"
             ]
            ],
            "type": "heatmap"
           }
          ],
          "heatmapgl": [
           {
            "colorbar": {
             "outlinewidth": 0,
             "ticks": ""
            },
            "colorscale": [
             [
              0,
              "#0d0887"
             ],
             [
              0.1111111111111111,
              "#46039f"
             ],
             [
              0.2222222222222222,
              "#7201a8"
             ],
             [
              0.3333333333333333,
              "#9c179e"
             ],
             [
              0.4444444444444444,
              "#bd3786"
             ],
             [
              0.5555555555555556,
              "#d8576b"
             ],
             [
              0.6666666666666666,
              "#ed7953"
             ],
             [
              0.7777777777777778,
              "#fb9f3a"
             ],
             [
              0.8888888888888888,
              "#fdca26"
             ],
             [
              1,
              "#f0f921"
             ]
            ],
            "type": "heatmapgl"
           }
          ],
          "histogram": [
           {
            "marker": {
             "colorbar": {
              "outlinewidth": 0,
              "ticks": ""
             }
            },
            "type": "histogram"
           }
          ],
          "histogram2d": [
           {
            "colorbar": {
             "outlinewidth": 0,
             "ticks": ""
            },
            "colorscale": [
             [
              0,
              "#0d0887"
             ],
             [
              0.1111111111111111,
              "#46039f"
             ],
             [
              0.2222222222222222,
              "#7201a8"
             ],
             [
              0.3333333333333333,
              "#9c179e"
             ],
             [
              0.4444444444444444,
              "#bd3786"
             ],
             [
              0.5555555555555556,
              "#d8576b"
             ],
             [
              0.6666666666666666,
              "#ed7953"
             ],
             [
              0.7777777777777778,
              "#fb9f3a"
             ],
             [
              0.8888888888888888,
              "#fdca26"
             ],
             [
              1,
              "#f0f921"
             ]
            ],
            "type": "histogram2d"
           }
          ],
          "histogram2dcontour": [
           {
            "colorbar": {
             "outlinewidth": 0,
             "ticks": ""
            },
            "colorscale": [
             [
              0,
              "#0d0887"
             ],
             [
              0.1111111111111111,
              "#46039f"
             ],
             [
              0.2222222222222222,
              "#7201a8"
             ],
             [
              0.3333333333333333,
              "#9c179e"
             ],
             [
              0.4444444444444444,
              "#bd3786"
             ],
             [
              0.5555555555555556,
              "#d8576b"
             ],
             [
              0.6666666666666666,
              "#ed7953"
             ],
             [
              0.7777777777777778,
              "#fb9f3a"
             ],
             [
              0.8888888888888888,
              "#fdca26"
             ],
             [
              1,
              "#f0f921"
             ]
            ],
            "type": "histogram2dcontour"
           }
          ],
          "mesh3d": [
           {
            "colorbar": {
             "outlinewidth": 0,
             "ticks": ""
            },
            "type": "mesh3d"
           }
          ],
          "parcoords": [
           {
            "line": {
             "colorbar": {
              "outlinewidth": 0,
              "ticks": ""
             }
            },
            "type": "parcoords"
           }
          ],
          "pie": [
           {
            "automargin": true,
            "type": "pie"
           }
          ],
          "scatter": [
           {
            "marker": {
             "colorbar": {
              "outlinewidth": 0,
              "ticks": ""
             }
            },
            "type": "scatter"
           }
          ],
          "scatter3d": [
           {
            "line": {
             "colorbar": {
              "outlinewidth": 0,
              "ticks": ""
             }
            },
            "marker": {
             "colorbar": {
              "outlinewidth": 0,
              "ticks": ""
             }
            },
            "type": "scatter3d"
           }
          ],
          "scattercarpet": [
           {
            "marker": {
             "colorbar": {
              "outlinewidth": 0,
              "ticks": ""
             }
            },
            "type": "scattercarpet"
           }
          ],
          "scattergeo": [
           {
            "marker": {
             "colorbar": {
              "outlinewidth": 0,
              "ticks": ""
             }
            },
            "type": "scattergeo"
           }
          ],
          "scattergl": [
           {
            "marker": {
             "colorbar": {
              "outlinewidth": 0,
              "ticks": ""
             }
            },
            "type": "scattergl"
           }
          ],
          "scattermapbox": [
           {
            "marker": {
             "colorbar": {
              "outlinewidth": 0,
              "ticks": ""
             }
            },
            "type": "scattermapbox"
           }
          ],
          "scatterpolar": [
           {
            "marker": {
             "colorbar": {
              "outlinewidth": 0,
              "ticks": ""
             }
            },
            "type": "scatterpolar"
           }
          ],
          "scatterpolargl": [
           {
            "marker": {
             "colorbar": {
              "outlinewidth": 0,
              "ticks": ""
             }
            },
            "type": "scatterpolargl"
           }
          ],
          "scatterternary": [
           {
            "marker": {
             "colorbar": {
              "outlinewidth": 0,
              "ticks": ""
             }
            },
            "type": "scatterternary"
           }
          ],
          "surface": [
           {
            "colorbar": {
             "outlinewidth": 0,
             "ticks": ""
            },
            "colorscale": [
             [
              0,
              "#0d0887"
             ],
             [
              0.1111111111111111,
              "#46039f"
             ],
             [
              0.2222222222222222,
              "#7201a8"
             ],
             [
              0.3333333333333333,
              "#9c179e"
             ],
             [
              0.4444444444444444,
              "#bd3786"
             ],
             [
              0.5555555555555556,
              "#d8576b"
             ],
             [
              0.6666666666666666,
              "#ed7953"
             ],
             [
              0.7777777777777778,
              "#fb9f3a"
             ],
             [
              0.8888888888888888,
              "#fdca26"
             ],
             [
              1,
              "#f0f921"
             ]
            ],
            "type": "surface"
           }
          ],
          "table": [
           {
            "cells": {
             "fill": {
              "color": "#EBF0F8"
             },
             "line": {
              "color": "white"
             }
            },
            "header": {
             "fill": {
              "color": "#C8D4E3"
             },
             "line": {
              "color": "white"
             }
            },
            "type": "table"
           }
          ]
         },
         "layout": {
          "annotationdefaults": {
           "arrowcolor": "#2a3f5f",
           "arrowhead": 0,
           "arrowwidth": 1
          },
          "coloraxis": {
           "colorbar": {
            "outlinewidth": 0,
            "ticks": ""
           }
          },
          "colorscale": {
           "diverging": [
            [
             0,
             "#8e0152"
            ],
            [
             0.1,
             "#c51b7d"
            ],
            [
             0.2,
             "#de77ae"
            ],
            [
             0.3,
             "#f1b6da"
            ],
            [
             0.4,
             "#fde0ef"
            ],
            [
             0.5,
             "#f7f7f7"
            ],
            [
             0.6,
             "#e6f5d0"
            ],
            [
             0.7,
             "#b8e186"
            ],
            [
             0.8,
             "#7fbc41"
            ],
            [
             0.9,
             "#4d9221"
            ],
            [
             1,
             "#276419"
            ]
           ],
           "sequential": [
            [
             0,
             "#0d0887"
            ],
            [
             0.1111111111111111,
             "#46039f"
            ],
            [
             0.2222222222222222,
             "#7201a8"
            ],
            [
             0.3333333333333333,
             "#9c179e"
            ],
            [
             0.4444444444444444,
             "#bd3786"
            ],
            [
             0.5555555555555556,
             "#d8576b"
            ],
            [
             0.6666666666666666,
             "#ed7953"
            ],
            [
             0.7777777777777778,
             "#fb9f3a"
            ],
            [
             0.8888888888888888,
             "#fdca26"
            ],
            [
             1,
             "#f0f921"
            ]
           ],
           "sequentialminus": [
            [
             0,
             "#0d0887"
            ],
            [
             0.1111111111111111,
             "#46039f"
            ],
            [
             0.2222222222222222,
             "#7201a8"
            ],
            [
             0.3333333333333333,
             "#9c179e"
            ],
            [
             0.4444444444444444,
             "#bd3786"
            ],
            [
             0.5555555555555556,
             "#d8576b"
            ],
            [
             0.6666666666666666,
             "#ed7953"
            ],
            [
             0.7777777777777778,
             "#fb9f3a"
            ],
            [
             0.8888888888888888,
             "#fdca26"
            ],
            [
             1,
             "#f0f921"
            ]
           ]
          },
          "colorway": [
           "#636efa",
           "#EF553B",
           "#00cc96",
           "#ab63fa",
           "#FFA15A",
           "#19d3f3",
           "#FF6692",
           "#B6E880",
           "#FF97FF",
           "#FECB52"
          ],
          "font": {
           "color": "#2a3f5f"
          },
          "geo": {
           "bgcolor": "white",
           "lakecolor": "white",
           "landcolor": "#E5ECF6",
           "showlakes": true,
           "showland": true,
           "subunitcolor": "white"
          },
          "hoverlabel": {
           "align": "left"
          },
          "hovermode": "closest",
          "mapbox": {
           "style": "light"
          },
          "paper_bgcolor": "white",
          "plot_bgcolor": "#E5ECF6",
          "polar": {
           "angularaxis": {
            "gridcolor": "white",
            "linecolor": "white",
            "ticks": ""
           },
           "bgcolor": "#E5ECF6",
           "radialaxis": {
            "gridcolor": "white",
            "linecolor": "white",
            "ticks": ""
           }
          },
          "scene": {
           "xaxis": {
            "backgroundcolor": "#E5ECF6",
            "gridcolor": "white",
            "gridwidth": 2,
            "linecolor": "white",
            "showbackground": true,
            "ticks": "",
            "zerolinecolor": "white"
           },
           "yaxis": {
            "backgroundcolor": "#E5ECF6",
            "gridcolor": "white",
            "gridwidth": 2,
            "linecolor": "white",
            "showbackground": true,
            "ticks": "",
            "zerolinecolor": "white"
           },
           "zaxis": {
            "backgroundcolor": "#E5ECF6",
            "gridcolor": "white",
            "gridwidth": 2,
            "linecolor": "white",
            "showbackground": true,
            "ticks": "",
            "zerolinecolor": "white"
           }
          },
          "shapedefaults": {
           "line": {
            "color": "#2a3f5f"
           }
          },
          "ternary": {
           "aaxis": {
            "gridcolor": "white",
            "linecolor": "white",
            "ticks": ""
           },
           "baxis": {
            "gridcolor": "white",
            "linecolor": "white",
            "ticks": ""
           },
           "bgcolor": "#E5ECF6",
           "caxis": {
            "gridcolor": "white",
            "linecolor": "white",
            "ticks": ""
           }
          },
          "title": {
           "x": 0.05
          },
          "xaxis": {
           "automargin": true,
           "gridcolor": "white",
           "linecolor": "white",
           "ticks": "",
           "title": {
            "standoff": 15
           },
           "zerolinecolor": "white",
           "zerolinewidth": 2
          },
          "yaxis": {
           "automargin": true,
           "gridcolor": "white",
           "linecolor": "white",
           "ticks": "",
           "title": {
            "standoff": 15
           },
           "zerolinecolor": "white",
           "zerolinewidth": 2
          }
         }
        },
        "title": {
         "font": {
          "color": "#4D5663"
         }
        },
        "xaxis": {
         "gridcolor": "#E1E5ED",
         "showgrid": true,
         "tickfont": {
          "color": "#4D5663"
         },
         "title": {
          "font": {
           "color": "#4D5663"
          },
          "text": ""
         },
         "zerolinecolor": "#E1E5ED"
        },
        "yaxis": {
         "gridcolor": "#E1E5ED",
         "showgrid": true,
         "tickfont": {
          "color": "#4D5663"
         },
         "title": {
          "font": {
           "color": "#4D5663"
          },
          "text": ""
         },
         "zerolinecolor": "#E1E5ED"
        }
       }
      },
      "text/html": [
       "<div>\n",
       "        \n",
       "        \n",
       "            <div id=\"2d0d3751-716f-42e8-bafb-20fd2824b261\" class=\"plotly-graph-div\" style=\"height:525px; width:100%;\"></div>\n",
       "            <script type=\"text/javascript\">\n",
       "                require([\"plotly\"], function(Plotly) {\n",
       "                    window.PLOTLYENV=window.PLOTLYENV || {};\n",
       "                    window.PLOTLYENV.BASE_URL='https://plot.ly';\n",
       "                    \n",
       "                if (document.getElementById(\"2d0d3751-716f-42e8-bafb-20fd2824b261\")) {\n",
       "                    Plotly.newPlot(\n",
       "                        '2d0d3751-716f-42e8-bafb-20fd2824b261',\n",
       "                        [{\"marker\": {\"color\": [\"rgb(255, 153, 51)\", \"rgb(55, 128, 191)\", \"rgb(50, 171, 96)\", \"rgb(128, 0, 128)\", \"rgb(219, 64, 82)\", \"rgb(0, 128, 128)\", \"rgb(255, 255, 51)\", \"rgb(128, 128, 0)\", \"rgb(251, 128, 114)\", \"rgb(128, 177, 211)\"], \"line\": {\"width\": 1.3}, \"size\": [63, 51, 57, 58, 59, 62, 65, 21, 42, 53, 66, 67, 75, 57, 68, 61, 57, 60, 65, 39, 79, 69, 57, 75, 73, 73, 68, 58, 40, 105, 23, 74, 71, 65, 55, 92, 12, 46, 58, 63, 81, 51, 89, 110, 55, 65, 40, 52, 70, 53, 76, 80, 71, 49, 49, 47, 58, 68, 95, 65, 49, 53, 67, 60, 64, 45, 40, 90, 72, 73, 59, 51, 43, 71, 32, 91, 77, 54, 84, 64, 71, 49, 63, 62, 86, 49, 78, 82, 72, 67, 55, 73, 47, 49, 86, 74, 34, 16, 112, 80], \"symbol\": \"circle\"}, \"mode\": \"markers\", \"text\": \"\", \"type\": \"scatter\", \"x\": [0.6326127038985268, -0.14548579553446406, -0.34393948885963876, 0.3519190014943898, 0.7107141402638056, 0.054448005118226145, 0.31478965626513306, 1.9337649291692833, -2.4104902799178225, -1.2453604990808071, 1.098206494038972, -0.4728839209634316, 1.01350221056353, -1.2005069730171412, 2.2182955208107384, -0.5776216990016312, -1.4108161826851844, -0.7196052814859598, -0.8521024791986744, -2.395667214325212, 0.6135391862466687, -0.5459430342243888, -1.5060792667559042, 0.8667742499584937, -1.1701546987241738, -0.08603577043546688, -1.4225646891991002, 1.5097413246515126, -0.866990537216288, 0.36179214184957503, -0.045414828943426265, -1.1565623260261002, -0.3142975279995353, 0.27781931010361094, 0.13924531458794118, 0.5592464910210235, 1.4967131118300432, -1.2053072838699337, 0.9797694054889248, -0.8849615612000583, -0.3811985872358258, 1.2480856601545274, 0.21658187897293008, -0.6983120986704753, -0.4513805948645634, 0.5580842538719136, 1.7496795737545083, -0.9879645518593242, -0.06721474521065876, 0.5035528575835836, 0.6186851606665685, 0.0653038262993778, -2.3426270634798825, 0.647611947402595, 0.219685903854224, 0.9076116925247123, 0.27528312732947663, 0.8846370584865045, -0.4307631060841758, 1.6065913463104657, -0.3435107836865878, -1.2569208272167436, 1.1982153725983713, -0.5624178050751879, -1.7559287574848392, -0.774560168600139, 0.49075843422998716, 0.19013438750868822, -0.10736136841934604, -0.7563320343420211, -0.912488191626346, 0.47780470406373887, 0.46123054750740644, -1.170008389278726, 0.8208488063070032, 2.0708134558500015, 1.196023145719842, 1.0866936558250455, 2.174827703635172, 0.9464513781289309, -0.3847720587664325, 0.677896901070159, 0.3789629295966409, -0.40453211598778244, -1.4214106677209226, -2.000151170771465, 0.03448335811311445, -1.0288832751039005, -0.7060820996009419, -0.3984065438825475, 1.3183550006020213, 2.3746996644956346, 0.17237217908045094, -0.5356615988531053, -1.8134160233906358, 0.19096701764943314, -0.628185005053714, -1.8878773692036663, -0.4900468240812979, 0.48428326873581173], \"y\": [0.47287525328590935, 1.4934017303137272, 1.3769689561121239, -1.082806198805133, 1.415383993887731, -0.3630025087659517, -1.2350824003044616, -0.9575111668958346, 2.231227192416702, -1.6084623988472704, 0.7913364725124696, 0.12465098765323646, 0.10894918249881126, 0.4188292865253416, -0.3759546225061773, 1.6154242647998716, 0.007024986301866887, 0.48872387432220804, -0.8369659719094297, -0.4903552585235138, 0.3177430027248012, -1.055949329045058, 0.7360791030638381, 0.44231956568828446, 1.379551114438425, -0.7040578920221393, -1.9764410307063434, -0.015693146946839435, -1.5263965880053936, -1.4117553120848472, -0.1577338525083378, -0.8517611323488851, -1.4980204859517279, -0.7702057758987122, 1.755599357290906, 1.5094512735227397, 1.533884269318763, -1.1810472462391852, 0.9382757897220223, -0.5151257903588647, -0.4392957343101481, -1.153578173417106, 2.4347154417229437, 0.6034691497870166, -0.7231130664783035, -0.8297448803780897, -1.1631465870895914, 1.5428997633806876, -1.0191242175698105, 0.8268133547092912, 0.8083868251389659, -0.3854591282744667, -0.14082691997477623, -0.22909359854768352, -1.2365501886677792, 0.4703021455822461, -0.5822269077491736, -0.6650515548694265, 2.1279524291773266, 0.6061821909283301, 1.494572989724752, 0.25232777878631363, -0.1231269099302736, 0.11394495935586213, -0.023669955254320904, -0.5176659477577575, -1.0857603251337256, 1.737308717738109, -1.0436899628847465, -0.6879722964306229, 1.0126343170065157, 1.2876047306599359, 0.21953780998443767, -1.2162680038144835, -1.0502292677821456, 0.29802020348819896, -0.08428480318130187, 1.1728931965510887, 0.09332553992905697, -1.5339657786541547, 0.5951725873193169, -1.0839064503073481, -0.15618747206624964, 2.670724273386493, 2.4178549773596645, -0.14076461292691836, -0.6143424139578396, -0.9776404663225262, 1.0063305123692763, -1.273882015570184, 0.37265711485326986, 0.37368948059456725, 0.3574924474090997, -0.14176054038778046, 0.04841555690054582, -0.11047329298795354, 1.346533423863622, 1.8677528397271093, -0.026572813425914166, 0.4409097288987755]}],\n",
       "                        {\"legend\": {\"bgcolor\": \"#F5F6F9\", \"font\": {\"color\": \"#4D5663\"}}, \"paper_bgcolor\": \"#F5F6F9\", \"plot_bgcolor\": \"#F5F6F9\", \"template\": {\"data\": {\"bar\": [{\"error_x\": {\"color\": \"#2a3f5f\"}, \"error_y\": {\"color\": \"#2a3f5f\"}, \"marker\": {\"line\": {\"color\": \"#E5ECF6\", \"width\": 0.5}}, \"type\": \"bar\"}], \"barpolar\": [{\"marker\": {\"line\": {\"color\": \"#E5ECF6\", \"width\": 0.5}}, \"type\": \"barpolar\"}], \"carpet\": [{\"aaxis\": {\"endlinecolor\": \"#2a3f5f\", \"gridcolor\": \"white\", \"linecolor\": \"white\", \"minorgridcolor\": \"white\", \"startlinecolor\": \"#2a3f5f\"}, \"baxis\": {\"endlinecolor\": \"#2a3f5f\", \"gridcolor\": \"white\", \"linecolor\": \"white\", \"minorgridcolor\": \"white\", \"startlinecolor\": \"#2a3f5f\"}, \"type\": \"carpet\"}], \"choropleth\": [{\"colorbar\": {\"outlinewidth\": 0, \"ticks\": \"\"}, \"type\": \"choropleth\"}], \"contour\": [{\"colorbar\": {\"outlinewidth\": 0, \"ticks\": \"\"}, \"colorscale\": [[0.0, \"#0d0887\"], [0.1111111111111111, \"#46039f\"], [0.2222222222222222, \"#7201a8\"], [0.3333333333333333, \"#9c179e\"], [0.4444444444444444, \"#bd3786\"], [0.5555555555555556, \"#d8576b\"], [0.6666666666666666, \"#ed7953\"], [0.7777777777777778, \"#fb9f3a\"], [0.8888888888888888, \"#fdca26\"], [1.0, \"#f0f921\"]], \"type\": \"contour\"}], \"contourcarpet\": [{\"colorbar\": {\"outlinewidth\": 0, \"ticks\": \"\"}, \"type\": \"contourcarpet\"}], \"heatmap\": [{\"colorbar\": {\"outlinewidth\": 0, \"ticks\": \"\"}, \"colorscale\": [[0.0, \"#0d0887\"], [0.1111111111111111, \"#46039f\"], [0.2222222222222222, \"#7201a8\"], [0.3333333333333333, \"#9c179e\"], [0.4444444444444444, \"#bd3786\"], [0.5555555555555556, \"#d8576b\"], [0.6666666666666666, \"#ed7953\"], [0.7777777777777778, \"#fb9f3a\"], [0.8888888888888888, \"#fdca26\"], [1.0, \"#f0f921\"]], \"type\": \"heatmap\"}], \"heatmapgl\": [{\"colorbar\": {\"outlinewidth\": 0, \"ticks\": \"\"}, \"colorscale\": [[0.0, \"#0d0887\"], [0.1111111111111111, \"#46039f\"], [0.2222222222222222, \"#7201a8\"], [0.3333333333333333, \"#9c179e\"], [0.4444444444444444, \"#bd3786\"], [0.5555555555555556, \"#d8576b\"], [0.6666666666666666, \"#ed7953\"], [0.7777777777777778, \"#fb9f3a\"], [0.8888888888888888, \"#fdca26\"], [1.0, \"#f0f921\"]], \"type\": \"heatmapgl\"}], \"histogram\": [{\"marker\": {\"colorbar\": {\"outlinewidth\": 0, \"ticks\": \"\"}}, \"type\": \"histogram\"}], \"histogram2d\": [{\"colorbar\": {\"outlinewidth\": 0, \"ticks\": \"\"}, \"colorscale\": [[0.0, \"#0d0887\"], [0.1111111111111111, \"#46039f\"], [0.2222222222222222, \"#7201a8\"], [0.3333333333333333, \"#9c179e\"], [0.4444444444444444, \"#bd3786\"], [0.5555555555555556, \"#d8576b\"], [0.6666666666666666, \"#ed7953\"], [0.7777777777777778, \"#fb9f3a\"], [0.8888888888888888, \"#fdca26\"], [1.0, \"#f0f921\"]], \"type\": \"histogram2d\"}], \"histogram2dcontour\": [{\"colorbar\": {\"outlinewidth\": 0, \"ticks\": \"\"}, \"colorscale\": [[0.0, \"#0d0887\"], [0.1111111111111111, \"#46039f\"], [0.2222222222222222, \"#7201a8\"], [0.3333333333333333, \"#9c179e\"], [0.4444444444444444, \"#bd3786\"], [0.5555555555555556, \"#d8576b\"], [0.6666666666666666, \"#ed7953\"], [0.7777777777777778, \"#fb9f3a\"], [0.8888888888888888, \"#fdca26\"], [1.0, \"#f0f921\"]], \"type\": \"histogram2dcontour\"}], \"mesh3d\": [{\"colorbar\": {\"outlinewidth\": 0, \"ticks\": \"\"}, \"type\": \"mesh3d\"}], \"parcoords\": [{\"line\": {\"colorbar\": {\"outlinewidth\": 0, \"ticks\": \"\"}}, \"type\": \"parcoords\"}], \"pie\": [{\"automargin\": true, \"type\": \"pie\"}], \"scatter\": [{\"marker\": {\"colorbar\": {\"outlinewidth\": 0, \"ticks\": \"\"}}, \"type\": \"scatter\"}], \"scatter3d\": [{\"line\": {\"colorbar\": {\"outlinewidth\": 0, \"ticks\": \"\"}}, \"marker\": {\"colorbar\": {\"outlinewidth\": 0, \"ticks\": \"\"}}, \"type\": \"scatter3d\"}], \"scattercarpet\": [{\"marker\": {\"colorbar\": {\"outlinewidth\": 0, \"ticks\": \"\"}}, \"type\": \"scattercarpet\"}], \"scattergeo\": [{\"marker\": {\"colorbar\": {\"outlinewidth\": 0, \"ticks\": \"\"}}, \"type\": \"scattergeo\"}], \"scattergl\": [{\"marker\": {\"colorbar\": {\"outlinewidth\": 0, \"ticks\": \"\"}}, \"type\": \"scattergl\"}], \"scattermapbox\": [{\"marker\": {\"colorbar\": {\"outlinewidth\": 0, \"ticks\": \"\"}}, \"type\": \"scattermapbox\"}], \"scatterpolar\": [{\"marker\": {\"colorbar\": {\"outlinewidth\": 0, \"ticks\": \"\"}}, \"type\": \"scatterpolar\"}], \"scatterpolargl\": [{\"marker\": {\"colorbar\": {\"outlinewidth\": 0, \"ticks\": \"\"}}, \"type\": \"scatterpolargl\"}], \"scatterternary\": [{\"marker\": {\"colorbar\": {\"outlinewidth\": 0, \"ticks\": \"\"}}, \"type\": \"scatterternary\"}], \"surface\": [{\"colorbar\": {\"outlinewidth\": 0, \"ticks\": \"\"}, \"colorscale\": [[0.0, \"#0d0887\"], [0.1111111111111111, \"#46039f\"], [0.2222222222222222, \"#7201a8\"], [0.3333333333333333, \"#9c179e\"], [0.4444444444444444, \"#bd3786\"], [0.5555555555555556, \"#d8576b\"], [0.6666666666666666, \"#ed7953\"], [0.7777777777777778, \"#fb9f3a\"], [0.8888888888888888, \"#fdca26\"], [1.0, \"#f0f921\"]], \"type\": \"surface\"}], \"table\": [{\"cells\": {\"fill\": {\"color\": \"#EBF0F8\"}, \"line\": {\"color\": \"white\"}}, \"header\": {\"fill\": {\"color\": \"#C8D4E3\"}, \"line\": {\"color\": \"white\"}}, \"type\": \"table\"}]}, \"layout\": {\"annotationdefaults\": {\"arrowcolor\": \"#2a3f5f\", \"arrowhead\": 0, \"arrowwidth\": 1}, \"coloraxis\": {\"colorbar\": {\"outlinewidth\": 0, \"ticks\": \"\"}}, \"colorscale\": {\"diverging\": [[0, \"#8e0152\"], [0.1, \"#c51b7d\"], [0.2, \"#de77ae\"], [0.3, \"#f1b6da\"], [0.4, \"#fde0ef\"], [0.5, \"#f7f7f7\"], [0.6, \"#e6f5d0\"], [0.7, \"#b8e186\"], [0.8, \"#7fbc41\"], [0.9, \"#4d9221\"], [1, \"#276419\"]], \"sequential\": [[0.0, \"#0d0887\"], [0.1111111111111111, \"#46039f\"], [0.2222222222222222, \"#7201a8\"], [0.3333333333333333, \"#9c179e\"], [0.4444444444444444, \"#bd3786\"], [0.5555555555555556, \"#d8576b\"], [0.6666666666666666, \"#ed7953\"], [0.7777777777777778, \"#fb9f3a\"], [0.8888888888888888, \"#fdca26\"], [1.0, \"#f0f921\"]], \"sequentialminus\": [[0.0, \"#0d0887\"], [0.1111111111111111, \"#46039f\"], [0.2222222222222222, \"#7201a8\"], [0.3333333333333333, \"#9c179e\"], [0.4444444444444444, \"#bd3786\"], [0.5555555555555556, \"#d8576b\"], [0.6666666666666666, \"#ed7953\"], [0.7777777777777778, \"#fb9f3a\"], [0.8888888888888888, \"#fdca26\"], [1.0, \"#f0f921\"]]}, \"colorway\": [\"#636efa\", \"#EF553B\", \"#00cc96\", \"#ab63fa\", \"#FFA15A\", \"#19d3f3\", \"#FF6692\", \"#B6E880\", \"#FF97FF\", \"#FECB52\"], \"font\": {\"color\": \"#2a3f5f\"}, \"geo\": {\"bgcolor\": \"white\", \"lakecolor\": \"white\", \"landcolor\": \"#E5ECF6\", \"showlakes\": true, \"showland\": true, \"subunitcolor\": \"white\"}, \"hoverlabel\": {\"align\": \"left\"}, \"hovermode\": \"closest\", \"mapbox\": {\"style\": \"light\"}, \"paper_bgcolor\": \"white\", \"plot_bgcolor\": \"#E5ECF6\", \"polar\": {\"angularaxis\": {\"gridcolor\": \"white\", \"linecolor\": \"white\", \"ticks\": \"\"}, \"bgcolor\": \"#E5ECF6\", \"radialaxis\": {\"gridcolor\": \"white\", \"linecolor\": \"white\", \"ticks\": \"\"}}, \"scene\": {\"xaxis\": {\"backgroundcolor\": \"#E5ECF6\", \"gridcolor\": \"white\", \"gridwidth\": 2, \"linecolor\": \"white\", \"showbackground\": true, \"ticks\": \"\", \"zerolinecolor\": \"white\"}, \"yaxis\": {\"backgroundcolor\": \"#E5ECF6\", \"gridcolor\": \"white\", \"gridwidth\": 2, \"linecolor\": \"white\", \"showbackground\": true, \"ticks\": \"\", \"zerolinecolor\": \"white\"}, \"zaxis\": {\"backgroundcolor\": \"#E5ECF6\", \"gridcolor\": \"white\", \"gridwidth\": 2, \"linecolor\": \"white\", \"showbackground\": true, \"ticks\": \"\", \"zerolinecolor\": \"white\"}}, \"shapedefaults\": {\"line\": {\"color\": \"#2a3f5f\"}}, \"ternary\": {\"aaxis\": {\"gridcolor\": \"white\", \"linecolor\": \"white\", \"ticks\": \"\"}, \"baxis\": {\"gridcolor\": \"white\", \"linecolor\": \"white\", \"ticks\": \"\"}, \"bgcolor\": \"#E5ECF6\", \"caxis\": {\"gridcolor\": \"white\", \"linecolor\": \"white\", \"ticks\": \"\"}}, \"title\": {\"x\": 0.05}, \"xaxis\": {\"automargin\": true, \"gridcolor\": \"white\", \"linecolor\": \"white\", \"ticks\": \"\", \"title\": {\"standoff\": 15}, \"zerolinecolor\": \"white\", \"zerolinewidth\": 2}, \"yaxis\": {\"automargin\": true, \"gridcolor\": \"white\", \"linecolor\": \"white\", \"ticks\": \"\", \"title\": {\"standoff\": 15}, \"zerolinecolor\": \"white\", \"zerolinewidth\": 2}}}, \"title\": {\"font\": {\"color\": \"#4D5663\"}}, \"xaxis\": {\"gridcolor\": \"#E1E5ED\", \"showgrid\": true, \"tickfont\": {\"color\": \"#4D5663\"}, \"title\": {\"font\": {\"color\": \"#4D5663\"}, \"text\": \"\"}, \"zerolinecolor\": \"#E1E5ED\"}, \"yaxis\": {\"gridcolor\": \"#E1E5ED\", \"showgrid\": true, \"tickfont\": {\"color\": \"#4D5663\"}, \"title\": {\"font\": {\"color\": \"#4D5663\"}, \"text\": \"\"}, \"zerolinecolor\": \"#E1E5ED\"}},\n",
       "                        {\"showLink\": true, \"linkText\": \"Export to plot.ly\", \"plotlyServerURL\": \"https://plot.ly\", \"responsive\": true}\n",
       "                    ).then(function(){\n",
       "                            \n",
       "var gd = document.getElementById('2d0d3751-716f-42e8-bafb-20fd2824b261');\n",
       "var x = new MutationObserver(function (mutations, observer) {{\n",
       "        var display = window.getComputedStyle(gd).display;\n",
       "        if (!display || display === 'none') {{\n",
       "            console.log([gd, 'removed!']);\n",
       "            Plotly.purge(gd);\n",
       "            observer.disconnect();\n",
       "        }}\n",
       "}});\n",
       "\n",
       "// Listen for the removal of the full notebook cells\n",
       "var notebookContainer = gd.closest('#notebook-container');\n",
       "if (notebookContainer) {{\n",
       "    x.observe(notebookContainer, {childList: true});\n",
       "}}\n",
       "\n",
       "// Listen for the clearing of the current output cell\n",
       "var outputEl = gd.closest('.output');\n",
       "if (outputEl) {{\n",
       "    x.observe(outputEl, {childList: true});\n",
       "}}\n",
       "\n",
       "                        })\n",
       "                };\n",
       "                });\n",
       "            </script>\n",
       "        </div>"
      ]
     },
     "metadata": {},
     "output_type": "display_data"
    }
   ],
   "source": [
    "df.iplot(kind = 'bubble', x = 'A', y = 'B', size = 'C')\n",
    "#scatter plot but size of the bubbles is based off the c column "
   ]
  },
  {
   "cell_type": "code",
   "execution_count": 34,
   "metadata": {},
   "outputs": [
    {
     "data": {
      "application/vnd.plotly.v1+json": {
       "config": {
        "linkText": "Export to plot.ly",
        "plotlyServerURL": "https://plot.ly",
        "showLink": true
       },
       "data": [
        {
         "histfunc": "count",
         "histnorm": "",
         "marker": {
          "color": "rgba(255, 153, 51, 1.0)",
          "line": {
           "color": "#4D5663",
           "width": 1.3
          }
         },
         "name": "A",
         "nbinsx": 10,
         "opacity": 0.8,
         "orientation": "v",
         "type": "histogram",
         "x": [
          0.6326127038985268,
          -0.14548579553446406,
          -0.34393948885963876,
          0.3519190014943898,
          0.7107141402638056,
          0.054448005118226145,
          0.31478965626513306,
          1.9337649291692833,
          -2.4104902799178225,
          -1.2453604990808071,
          1.098206494038972,
          -0.4728839209634316,
          1.01350221056353,
          -1.2005069730171412,
          2.2182955208107384,
          -0.5776216990016312,
          -1.4108161826851844,
          -0.7196052814859598,
          -0.8521024791986744,
          -2.395667214325212,
          0.6135391862466687,
          -0.5459430342243888,
          -1.5060792667559042,
          0.8667742499584937,
          -1.1701546987241738,
          -0.08603577043546688,
          -1.4225646891991002,
          1.5097413246515126,
          -0.866990537216288,
          0.36179214184957503,
          -0.045414828943426265,
          -1.1565623260261002,
          -0.3142975279995353,
          0.27781931010361094,
          0.13924531458794118,
          0.5592464910210235,
          1.4967131118300432,
          -1.2053072838699337,
          0.9797694054889248,
          -0.8849615612000583,
          -0.3811985872358258,
          1.2480856601545274,
          0.21658187897293008,
          -0.6983120986704753,
          -0.4513805948645634,
          0.5580842538719136,
          1.7496795737545083,
          -0.9879645518593242,
          -0.06721474521065876,
          0.5035528575835836,
          0.6186851606665685,
          0.0653038262993778,
          -2.3426270634798825,
          0.647611947402595,
          0.219685903854224,
          0.9076116925247123,
          0.27528312732947663,
          0.8846370584865045,
          -0.4307631060841758,
          1.6065913463104657,
          -0.3435107836865878,
          -1.2569208272167436,
          1.1982153725983713,
          -0.5624178050751879,
          -1.7559287574848392,
          -0.774560168600139,
          0.49075843422998716,
          0.19013438750868822,
          -0.10736136841934604,
          -0.7563320343420211,
          -0.912488191626346,
          0.47780470406373887,
          0.46123054750740644,
          -1.170008389278726,
          0.8208488063070032,
          2.0708134558500015,
          1.196023145719842,
          1.0866936558250455,
          2.174827703635172,
          0.9464513781289309,
          -0.3847720587664325,
          0.677896901070159,
          0.3789629295966409,
          -0.40453211598778244,
          -1.4214106677209226,
          -2.000151170771465,
          0.03448335811311445,
          -1.0288832751039005,
          -0.7060820996009419,
          -0.3984065438825475,
          1.3183550006020213,
          2.3746996644956346,
          0.17237217908045094,
          -0.5356615988531053,
          -1.8134160233906358,
          0.19096701764943314,
          -0.628185005053714,
          -1.8878773692036663,
          -0.4900468240812979,
          0.48428326873581173
         ],
         "xaxis": "x",
         "yaxis": "y"
        },
        {
         "line": {
          "color": "rgba(128, 128, 128, 1.0)",
          "dash": "solid",
          "shape": "linear",
          "width": 1.3
         },
         "marker": {
          "size": 2,
          "symbol": "circle"
         },
         "mode": "markers",
         "name": "A",
         "text": "",
         "type": "scatter",
         "x": [
          0.47287525328590935,
          1.4934017303137272,
          1.3769689561121239,
          -1.082806198805133,
          1.415383993887731,
          -0.3630025087659517,
          -1.2350824003044616,
          -0.9575111668958346,
          2.231227192416702,
          -1.6084623988472704,
          0.7913364725124696,
          0.12465098765323646,
          0.10894918249881126,
          0.4188292865253416,
          -0.3759546225061773,
          1.6154242647998716,
          0.007024986301866887,
          0.48872387432220804,
          -0.8369659719094297,
          -0.4903552585235138,
          0.3177430027248012,
          -1.055949329045058,
          0.7360791030638381,
          0.44231956568828446,
          1.379551114438425,
          -0.7040578920221393,
          -1.9764410307063434,
          -0.015693146946839435,
          -1.5263965880053936,
          -1.4117553120848472,
          -0.1577338525083378,
          -0.8517611323488851,
          -1.4980204859517279,
          -0.7702057758987122,
          1.755599357290906,
          1.5094512735227397,
          1.533884269318763,
          -1.1810472462391852,
          0.9382757897220223,
          -0.5151257903588647,
          -0.4392957343101481,
          -1.153578173417106,
          2.4347154417229437,
          0.6034691497870166,
          -0.7231130664783035,
          -0.8297448803780897,
          -1.1631465870895914,
          1.5428997633806876,
          -1.0191242175698105,
          0.8268133547092912,
          0.8083868251389659,
          -0.3854591282744667,
          -0.14082691997477623,
          -0.22909359854768352,
          -1.2365501886677792,
          0.4703021455822461,
          -0.5822269077491736,
          -0.6650515548694265,
          2.1279524291773266,
          0.6061821909283301,
          1.494572989724752,
          0.25232777878631363,
          -0.1231269099302736,
          0.11394495935586213,
          -0.023669955254320904,
          -0.5176659477577575,
          -1.0857603251337256,
          1.737308717738109,
          -1.0436899628847465,
          -0.6879722964306229,
          1.0126343170065157,
          1.2876047306599359,
          0.21953780998443767,
          -1.2162680038144835,
          -1.0502292677821456,
          0.29802020348819896,
          -0.08428480318130187,
          1.1728931965510887,
          0.09332553992905697,
          -1.5339657786541547,
          0.5951725873193169,
          -1.0839064503073481,
          -0.15618747206624964,
          2.670724273386493,
          2.4178549773596645,
          -0.14076461292691836,
          -0.6143424139578396,
          -0.9776404663225262,
          1.0063305123692763,
          -1.273882015570184,
          0.37265711485326986,
          0.37368948059456725,
          0.3574924474090997,
          -0.14176054038778046,
          0.04841555690054582,
          -0.11047329298795354,
          1.346533423863622,
          1.8677528397271093,
          -0.026572813425914166,
          0.4409097288987755
         ],
         "xaxis": "x2",
         "y": [
          0.6326127038985268,
          -0.14548579553446406,
          -0.34393948885963876,
          0.3519190014943898,
          0.7107141402638056,
          0.054448005118226145,
          0.31478965626513306,
          1.9337649291692833,
          -2.4104902799178225,
          -1.2453604990808071,
          1.098206494038972,
          -0.4728839209634316,
          1.01350221056353,
          -1.2005069730171412,
          2.2182955208107384,
          -0.5776216990016312,
          -1.4108161826851844,
          -0.7196052814859598,
          -0.8521024791986744,
          -2.395667214325212,
          0.6135391862466687,
          -0.5459430342243888,
          -1.5060792667559042,
          0.8667742499584937,
          -1.1701546987241738,
          -0.08603577043546688,
          -1.4225646891991002,
          1.5097413246515126,
          -0.866990537216288,
          0.36179214184957503,
          -0.045414828943426265,
          -1.1565623260261002,
          -0.3142975279995353,
          0.27781931010361094,
          0.13924531458794118,
          0.5592464910210235,
          1.4967131118300432,
          -1.2053072838699337,
          0.9797694054889248,
          -0.8849615612000583,
          -0.3811985872358258,
          1.2480856601545274,
          0.21658187897293008,
          -0.6983120986704753,
          -0.4513805948645634,
          0.5580842538719136,
          1.7496795737545083,
          -0.9879645518593242,
          -0.06721474521065876,
          0.5035528575835836,
          0.6186851606665685,
          0.0653038262993778,
          -2.3426270634798825,
          0.647611947402595,
          0.219685903854224,
          0.9076116925247123,
          0.27528312732947663,
          0.8846370584865045,
          -0.4307631060841758,
          1.6065913463104657,
          -0.3435107836865878,
          -1.2569208272167436,
          1.1982153725983713,
          -0.5624178050751879,
          -1.7559287574848392,
          -0.774560168600139,
          0.49075843422998716,
          0.19013438750868822,
          -0.10736136841934604,
          -0.7563320343420211,
          -0.912488191626346,
          0.47780470406373887,
          0.46123054750740644,
          -1.170008389278726,
          0.8208488063070032,
          2.0708134558500015,
          1.196023145719842,
          1.0866936558250455,
          2.174827703635172,
          0.9464513781289309,
          -0.3847720587664325,
          0.677896901070159,
          0.3789629295966409,
          -0.40453211598778244,
          -1.4214106677209226,
          -2.000151170771465,
          0.03448335811311445,
          -1.0288832751039005,
          -0.7060820996009419,
          -0.3984065438825475,
          1.3183550006020213,
          2.3746996644956346,
          0.17237217908045094,
          -0.5356615988531053,
          -1.8134160233906358,
          0.19096701764943314,
          -0.628185005053714,
          -1.8878773692036663,
          -0.4900468240812979,
          0.48428326873581173
         ],
         "yaxis": "y2"
        },
        {
         "line": {
          "color": "rgba(128, 128, 128, 1.0)",
          "dash": "solid",
          "shape": "linear",
          "width": 1.3
         },
         "marker": {
          "size": 2,
          "symbol": "circle"
         },
         "mode": "markers",
         "name": "A",
         "text": "",
         "type": "scatter",
         "x": [
          0.1336209897126937,
          -0.4992371267880662,
          -0.16512310908818667,
          -0.1295384702581782,
          -0.07874797887224155,
          0.07875858094324113,
          0.28811971423413435,
          -2.2079018232129743,
          -1.0146574398707233,
          -0.3814968238916311,
          0.3414756460122754,
          0.408650279460541,
          0.8598922725047933,
          -0.20456262918962018,
          0.4269611660152145,
          0.06053627104709375,
          -0.17112284284919663,
          -0.03278813861822154,
          0.2964757692789343,
          -1.209610713025771,
          1.065900461743466,
          0.48484112110928695,
          -0.16522346354835155,
          0.8342104652569393,
          0.7378533369870373,
          0.7381985329826927,
          0.46270552251841596,
          -0.1290553079442758,
          -1.135822076599649,
          2.5684353595070957,
          -2.1363512996225693,
          0.7803326723102629,
          0.5884926871116007,
          0.2937806281485098,
          -0.3098944958212543,
          1.7843829555701411,
          -2.7607141977076526,
          -0.7830869659191346,
          -0.1122573811119825,
          0.1635382375667902,
          1.1997795798187878,
          -0.5391302273292823,
          1.6138354162384465,
          2.8471656578452813,
          -0.2682656551450211,
          0.2648442673225874,
          -1.128823767002499,
          -0.4791039027939159,
          0.567986191017442,
          -0.3796912825703141,
          0.9249146766825751,
          1.1239087088143331,
          0.5999003321458324,
          -0.658380738103747,
          -0.636079522958394,
          -0.7690187225387971,
          -0.1285569524323624,
          0.42586814414867546,
          1.970619872164675,
          0.2687360684661637,
          -0.6535751187902171,
          -0.41052495675928347,
          0.38656321015609985,
          -0.0329975125153401,
          0.21986643801387779,
          -0.8862105560862736,
          -1.1472581491296907,
          1.6876120880730845,
          0.6739344840810829,
          0.7527058130176251,
          -0.04770321882381908,
          -0.5046901458645002,
          -0.9704135809546783,
          0.6192540593692433,
          -1.5970410896097227,
          1.7424207967184293,
          0.9417272380573213,
          -0.3421442085643456,
          1.3629727213807563,
          0.19608528683183574,
          0.6179829214720435,
          -0.6342908072086635,
          0.16485176829765466,
          0.11259865657129008,
          1.474878606696174,
          -0.6200093152528071,
          1.023883374307354,
          1.2312315215022325,
          0.6837691534450063,
          0.37710794268652054,
          -0.2674498995213668,
          0.7252941939647042,
          -0.7212671495065622,
          -0.6570103158468624,
          1.4713878944189351,
          0.7803245805628188,
          -1.5015408621607405,
          -2.530041751262662,
          2.913959469897591,
          1.1162770114184026
         ],
         "xaxis": "x3",
         "y": [
          0.6326127038985268,
          -0.14548579553446406,
          -0.34393948885963876,
          0.3519190014943898,
          0.7107141402638056,
          0.054448005118226145,
          0.31478965626513306,
          1.9337649291692833,
          -2.4104902799178225,
          -1.2453604990808071,
          1.098206494038972,
          -0.4728839209634316,
          1.01350221056353,
          -1.2005069730171412,
          2.2182955208107384,
          -0.5776216990016312,
          -1.4108161826851844,
          -0.7196052814859598,
          -0.8521024791986744,
          -2.395667214325212,
          0.6135391862466687,
          -0.5459430342243888,
          -1.5060792667559042,
          0.8667742499584937,
          -1.1701546987241738,
          -0.08603577043546688,
          -1.4225646891991002,
          1.5097413246515126,
          -0.866990537216288,
          0.36179214184957503,
          -0.045414828943426265,
          -1.1565623260261002,
          -0.3142975279995353,
          0.27781931010361094,
          0.13924531458794118,
          0.5592464910210235,
          1.4967131118300432,
          -1.2053072838699337,
          0.9797694054889248,
          -0.8849615612000583,
          -0.3811985872358258,
          1.2480856601545274,
          0.21658187897293008,
          -0.6983120986704753,
          -0.4513805948645634,
          0.5580842538719136,
          1.7496795737545083,
          -0.9879645518593242,
          -0.06721474521065876,
          0.5035528575835836,
          0.6186851606665685,
          0.0653038262993778,
          -2.3426270634798825,
          0.647611947402595,
          0.219685903854224,
          0.9076116925247123,
          0.27528312732947663,
          0.8846370584865045,
          -0.4307631060841758,
          1.6065913463104657,
          -0.3435107836865878,
          -1.2569208272167436,
          1.1982153725983713,
          -0.5624178050751879,
          -1.7559287574848392,
          -0.774560168600139,
          0.49075843422998716,
          0.19013438750868822,
          -0.10736136841934604,
          -0.7563320343420211,
          -0.912488191626346,
          0.47780470406373887,
          0.46123054750740644,
          -1.170008389278726,
          0.8208488063070032,
          2.0708134558500015,
          1.196023145719842,
          1.0866936558250455,
          2.174827703635172,
          0.9464513781289309,
          -0.3847720587664325,
          0.677896901070159,
          0.3789629295966409,
          -0.40453211598778244,
          -1.4214106677209226,
          -2.000151170771465,
          0.03448335811311445,
          -1.0288832751039005,
          -0.7060820996009419,
          -0.3984065438825475,
          1.3183550006020213,
          2.3746996644956346,
          0.17237217908045094,
          -0.5356615988531053,
          -1.8134160233906358,
          0.19096701764943314,
          -0.628185005053714,
          -1.8878773692036663,
          -0.4900468240812979,
          0.48428326873581173
         ],
         "yaxis": "y3"
        },
        {
         "line": {
          "color": "rgba(128, 128, 128, 1.0)",
          "dash": "solid",
          "shape": "linear",
          "width": 1.3
         },
         "marker": {
          "size": 2,
          "symbol": "circle"
         },
         "mode": "markers",
         "name": "A",
         "text": "",
         "type": "scatter",
         "x": [
          -1.2143142774051094,
          0.7341549688863328,
          -2.1878860019623114,
          1.523497432194452,
          -0.8790555211989877,
          -0.13506651057964153,
          -0.7681521734240057,
          1.9566987634853001,
          -0.5200154811389064,
          -1.5304730933671777,
          -0.49828564798699326,
          0.6555190761224613,
          2.154278261242067,
          -0.6121998740137635,
          -0.7998663651392912,
          -0.6592866329179047,
          -0.05618872584561294,
          0.21659171674869485,
          -0.7723385025920696,
          -0.7664120512191052,
          -0.04706943950371657,
          -0.4804600175743437,
          0.5477687172501202,
          0.11974272875042269,
          2.0478235234709428,
          0.015801574609873074,
          0.8911940632671225,
          0.14138456809723465,
          0.3751822146140036,
          0.6604816124276893,
          1.133297507272824,
          0.03105811424544611,
          -0.3939010668393583,
          -0.5289250695258874,
          -0.0030741456840287333,
          -0.942428136817906,
          0.7491177760914999,
          -0.7214531918806584,
          1.3257182761338224,
          0.43951512568561735,
          0.06119399446360383,
          1.5578142553938126,
          -1.7714458517215954,
          0.6176215419004208,
          0.8904488135986418,
          0.4319773298830599,
          -1.1975350025652733,
          0.10311510696201422,
          -0.45288522791520414,
          -1.3661216067944606,
          1.9115685665069386,
          -1.9059862517401787,
          -1.5732033902448326,
          0.9175075197051212,
          -0.1750872676091157,
          0.7069954284479054,
          1.6151957774432233,
          1.3123132791091583,
          -0.6070514781704491,
          -0.24024848311517136,
          2.020264416172281,
          0.5372984098235004,
          0.2872075418166681,
          1.0305317214040148,
          -0.031030337080439823,
          1.5736152240788512,
          0.7521392808876696,
          -1.6781286566903064,
          0.5056996327690947,
          -1.2002173110227408,
          -0.035267135484268027,
          2.5627525331980126,
          1.0299169286597165,
          -0.6417056912234721,
          -0.2022261648578561,
          -2.1438334840823114,
          0.714635768571562,
          -0.8747588880778938,
          -0.5215663836892511,
          1.344368978552044,
          -0.43947621697304984,
          0.3163194487806835,
          0.37871829012773384,
          1.2232752732144858,
          0.6203334619816994,
          1.2884684026888376,
          -1.524978471243551,
          -0.11514969237394722,
          0.8485650951801219,
          1.363267079181013,
          0.11956931273787397,
          0.3139763044387687,
          1.3100935940672593,
          0.16354448905637342,
          1.1544048734978776,
          0.167518011825185,
          -0.03485812012422281,
          0.20946433907831946,
          -0.8703639971561202,
          -1.6433341968767228
         ],
         "xaxis": "x4",
         "y": [
          0.6326127038985268,
          -0.14548579553446406,
          -0.34393948885963876,
          0.3519190014943898,
          0.7107141402638056,
          0.054448005118226145,
          0.31478965626513306,
          1.9337649291692833,
          -2.4104902799178225,
          -1.2453604990808071,
          1.098206494038972,
          -0.4728839209634316,
          1.01350221056353,
          -1.2005069730171412,
          2.2182955208107384,
          -0.5776216990016312,
          -1.4108161826851844,
          -0.7196052814859598,
          -0.8521024791986744,
          -2.395667214325212,
          0.6135391862466687,
          -0.5459430342243888,
          -1.5060792667559042,
          0.8667742499584937,
          -1.1701546987241738,
          -0.08603577043546688,
          -1.4225646891991002,
          1.5097413246515126,
          -0.866990537216288,
          0.36179214184957503,
          -0.045414828943426265,
          -1.1565623260261002,
          -0.3142975279995353,
          0.27781931010361094,
          0.13924531458794118,
          0.5592464910210235,
          1.4967131118300432,
          -1.2053072838699337,
          0.9797694054889248,
          -0.8849615612000583,
          -0.3811985872358258,
          1.2480856601545274,
          0.21658187897293008,
          -0.6983120986704753,
          -0.4513805948645634,
          0.5580842538719136,
          1.7496795737545083,
          -0.9879645518593242,
          -0.06721474521065876,
          0.5035528575835836,
          0.6186851606665685,
          0.0653038262993778,
          -2.3426270634798825,
          0.647611947402595,
          0.219685903854224,
          0.9076116925247123,
          0.27528312732947663,
          0.8846370584865045,
          -0.4307631060841758,
          1.6065913463104657,
          -0.3435107836865878,
          -1.2569208272167436,
          1.1982153725983713,
          -0.5624178050751879,
          -1.7559287574848392,
          -0.774560168600139,
          0.49075843422998716,
          0.19013438750868822,
          -0.10736136841934604,
          -0.7563320343420211,
          -0.912488191626346,
          0.47780470406373887,
          0.46123054750740644,
          -1.170008389278726,
          0.8208488063070032,
          2.0708134558500015,
          1.196023145719842,
          1.0866936558250455,
          2.174827703635172,
          0.9464513781289309,
          -0.3847720587664325,
          0.677896901070159,
          0.3789629295966409,
          -0.40453211598778244,
          -1.4214106677209226,
          -2.000151170771465,
          0.03448335811311445,
          -1.0288832751039005,
          -0.7060820996009419,
          -0.3984065438825475,
          1.3183550006020213,
          2.3746996644956346,
          0.17237217908045094,
          -0.5356615988531053,
          -1.8134160233906358,
          0.19096701764943314,
          -0.628185005053714,
          -1.8878773692036663,
          -0.4900468240812979,
          0.48428326873581173
         ],
         "yaxis": "y4"
        },
        {
         "line": {
          "color": "rgba(128, 128, 128, 1.0)",
          "dash": "solid",
          "shape": "linear",
          "width": 1.3
         },
         "marker": {
          "size": 2,
          "symbol": "circle"
         },
         "mode": "markers",
         "name": "B",
         "text": "",
         "type": "scatter",
         "x": [
          0.6326127038985268,
          -0.14548579553446406,
          -0.34393948885963876,
          0.3519190014943898,
          0.7107141402638056,
          0.054448005118226145,
          0.31478965626513306,
          1.9337649291692833,
          -2.4104902799178225,
          -1.2453604990808071,
          1.098206494038972,
          -0.4728839209634316,
          1.01350221056353,
          -1.2005069730171412,
          2.2182955208107384,
          -0.5776216990016312,
          -1.4108161826851844,
          -0.7196052814859598,
          -0.8521024791986744,
          -2.395667214325212,
          0.6135391862466687,
          -0.5459430342243888,
          -1.5060792667559042,
          0.8667742499584937,
          -1.1701546987241738,
          -0.08603577043546688,
          -1.4225646891991002,
          1.5097413246515126,
          -0.866990537216288,
          0.36179214184957503,
          -0.045414828943426265,
          -1.1565623260261002,
          -0.3142975279995353,
          0.27781931010361094,
          0.13924531458794118,
          0.5592464910210235,
          1.4967131118300432,
          -1.2053072838699337,
          0.9797694054889248,
          -0.8849615612000583,
          -0.3811985872358258,
          1.2480856601545274,
          0.21658187897293008,
          -0.6983120986704753,
          -0.4513805948645634,
          0.5580842538719136,
          1.7496795737545083,
          -0.9879645518593242,
          -0.06721474521065876,
          0.5035528575835836,
          0.6186851606665685,
          0.0653038262993778,
          -2.3426270634798825,
          0.647611947402595,
          0.219685903854224,
          0.9076116925247123,
          0.27528312732947663,
          0.8846370584865045,
          -0.4307631060841758,
          1.6065913463104657,
          -0.3435107836865878,
          -1.2569208272167436,
          1.1982153725983713,
          -0.5624178050751879,
          -1.7559287574848392,
          -0.774560168600139,
          0.49075843422998716,
          0.19013438750868822,
          -0.10736136841934604,
          -0.7563320343420211,
          -0.912488191626346,
          0.47780470406373887,
          0.46123054750740644,
          -1.170008389278726,
          0.8208488063070032,
          2.0708134558500015,
          1.196023145719842,
          1.0866936558250455,
          2.174827703635172,
          0.9464513781289309,
          -0.3847720587664325,
          0.677896901070159,
          0.3789629295966409,
          -0.40453211598778244,
          -1.4214106677209226,
          -2.000151170771465,
          0.03448335811311445,
          -1.0288832751039005,
          -0.7060820996009419,
          -0.3984065438825475,
          1.3183550006020213,
          2.3746996644956346,
          0.17237217908045094,
          -0.5356615988531053,
          -1.8134160233906358,
          0.19096701764943314,
          -0.628185005053714,
          -1.8878773692036663,
          -0.4900468240812979,
          0.48428326873581173
         ],
         "xaxis": "x5",
         "y": [
          0.47287525328590935,
          1.4934017303137272,
          1.3769689561121239,
          -1.082806198805133,
          1.415383993887731,
          -0.3630025087659517,
          -1.2350824003044616,
          -0.9575111668958346,
          2.231227192416702,
          -1.6084623988472704,
          0.7913364725124696,
          0.12465098765323646,
          0.10894918249881126,
          0.4188292865253416,
          -0.3759546225061773,
          1.6154242647998716,
          0.007024986301866887,
          0.48872387432220804,
          -0.8369659719094297,
          -0.4903552585235138,
          0.3177430027248012,
          -1.055949329045058,
          0.7360791030638381,
          0.44231956568828446,
          1.379551114438425,
          -0.7040578920221393,
          -1.9764410307063434,
          -0.015693146946839435,
          -1.5263965880053936,
          -1.4117553120848472,
          -0.1577338525083378,
          -0.8517611323488851,
          -1.4980204859517279,
          -0.7702057758987122,
          1.755599357290906,
          1.5094512735227397,
          1.533884269318763,
          -1.1810472462391852,
          0.9382757897220223,
          -0.5151257903588647,
          -0.4392957343101481,
          -1.153578173417106,
          2.4347154417229437,
          0.6034691497870166,
          -0.7231130664783035,
          -0.8297448803780897,
          -1.1631465870895914,
          1.5428997633806876,
          -1.0191242175698105,
          0.8268133547092912,
          0.8083868251389659,
          -0.3854591282744667,
          -0.14082691997477623,
          -0.22909359854768352,
          -1.2365501886677792,
          0.4703021455822461,
          -0.5822269077491736,
          -0.6650515548694265,
          2.1279524291773266,
          0.6061821909283301,
          1.494572989724752,
          0.25232777878631363,
          -0.1231269099302736,
          0.11394495935586213,
          -0.023669955254320904,
          -0.5176659477577575,
          -1.0857603251337256,
          1.737308717738109,
          -1.0436899628847465,
          -0.6879722964306229,
          1.0126343170065157,
          1.2876047306599359,
          0.21953780998443767,
          -1.2162680038144835,
          -1.0502292677821456,
          0.29802020348819896,
          -0.08428480318130187,
          1.1728931965510887,
          0.09332553992905697,
          -1.5339657786541547,
          0.5951725873193169,
          -1.0839064503073481,
          -0.15618747206624964,
          2.670724273386493,
          2.4178549773596645,
          -0.14076461292691836,
          -0.6143424139578396,
          -0.9776404663225262,
          1.0063305123692763,
          -1.273882015570184,
          0.37265711485326986,
          0.37368948059456725,
          0.3574924474090997,
          -0.14176054038778046,
          0.04841555690054582,
          -0.11047329298795354,
          1.346533423863622,
          1.8677528397271093,
          -0.026572813425914166,
          0.4409097288987755
         ],
         "yaxis": "y5"
        },
        {
         "histfunc": "count",
         "histnorm": "",
         "marker": {
          "color": "rgba(55, 128, 191, 1.0)",
          "line": {
           "color": "#4D5663",
           "width": 1.3
          }
         },
         "name": "B",
         "nbinsx": 10,
         "opacity": 0.8,
         "orientation": "v",
         "type": "histogram",
         "x": [
          0.47287525328590935,
          1.4934017303137272,
          1.3769689561121239,
          -1.082806198805133,
          1.415383993887731,
          -0.3630025087659517,
          -1.2350824003044616,
          -0.9575111668958346,
          2.231227192416702,
          -1.6084623988472704,
          0.7913364725124696,
          0.12465098765323646,
          0.10894918249881126,
          0.4188292865253416,
          -0.3759546225061773,
          1.6154242647998716,
          0.007024986301866887,
          0.48872387432220804,
          -0.8369659719094297,
          -0.4903552585235138,
          0.3177430027248012,
          -1.055949329045058,
          0.7360791030638381,
          0.44231956568828446,
          1.379551114438425,
          -0.7040578920221393,
          -1.9764410307063434,
          -0.015693146946839435,
          -1.5263965880053936,
          -1.4117553120848472,
          -0.1577338525083378,
          -0.8517611323488851,
          -1.4980204859517279,
          -0.7702057758987122,
          1.755599357290906,
          1.5094512735227397,
          1.533884269318763,
          -1.1810472462391852,
          0.9382757897220223,
          -0.5151257903588647,
          -0.4392957343101481,
          -1.153578173417106,
          2.4347154417229437,
          0.6034691497870166,
          -0.7231130664783035,
          -0.8297448803780897,
          -1.1631465870895914,
          1.5428997633806876,
          -1.0191242175698105,
          0.8268133547092912,
          0.8083868251389659,
          -0.3854591282744667,
          -0.14082691997477623,
          -0.22909359854768352,
          -1.2365501886677792,
          0.4703021455822461,
          -0.5822269077491736,
          -0.6650515548694265,
          2.1279524291773266,
          0.6061821909283301,
          1.494572989724752,
          0.25232777878631363,
          -0.1231269099302736,
          0.11394495935586213,
          -0.023669955254320904,
          -0.5176659477577575,
          -1.0857603251337256,
          1.737308717738109,
          -1.0436899628847465,
          -0.6879722964306229,
          1.0126343170065157,
          1.2876047306599359,
          0.21953780998443767,
          -1.2162680038144835,
          -1.0502292677821456,
          0.29802020348819896,
          -0.08428480318130187,
          1.1728931965510887,
          0.09332553992905697,
          -1.5339657786541547,
          0.5951725873193169,
          -1.0839064503073481,
          -0.15618747206624964,
          2.670724273386493,
          2.4178549773596645,
          -0.14076461292691836,
          -0.6143424139578396,
          -0.9776404663225262,
          1.0063305123692763,
          -1.273882015570184,
          0.37265711485326986,
          0.37368948059456725,
          0.3574924474090997,
          -0.14176054038778046,
          0.04841555690054582,
          -0.11047329298795354,
          1.346533423863622,
          1.8677528397271093,
          -0.026572813425914166,
          0.4409097288987755
         ],
         "xaxis": "x6",
         "yaxis": "y6"
        },
        {
         "line": {
          "color": "rgba(128, 128, 128, 1.0)",
          "dash": "solid",
          "shape": "linear",
          "width": 1.3
         },
         "marker": {
          "size": 2,
          "symbol": "circle"
         },
         "mode": "markers",
         "name": "B",
         "text": "",
         "type": "scatter",
         "x": [
          0.1336209897126937,
          -0.4992371267880662,
          -0.16512310908818667,
          -0.1295384702581782,
          -0.07874797887224155,
          0.07875858094324113,
          0.28811971423413435,
          -2.2079018232129743,
          -1.0146574398707233,
          -0.3814968238916311,
          0.3414756460122754,
          0.408650279460541,
          0.8598922725047933,
          -0.20456262918962018,
          0.4269611660152145,
          0.06053627104709375,
          -0.17112284284919663,
          -0.03278813861822154,
          0.2964757692789343,
          -1.209610713025771,
          1.065900461743466,
          0.48484112110928695,
          -0.16522346354835155,
          0.8342104652569393,
          0.7378533369870373,
          0.7381985329826927,
          0.46270552251841596,
          -0.1290553079442758,
          -1.135822076599649,
          2.5684353595070957,
          -2.1363512996225693,
          0.7803326723102629,
          0.5884926871116007,
          0.2937806281485098,
          -0.3098944958212543,
          1.7843829555701411,
          -2.7607141977076526,
          -0.7830869659191346,
          -0.1122573811119825,
          0.1635382375667902,
          1.1997795798187878,
          -0.5391302273292823,
          1.6138354162384465,
          2.8471656578452813,
          -0.2682656551450211,
          0.2648442673225874,
          -1.128823767002499,
          -0.4791039027939159,
          0.567986191017442,
          -0.3796912825703141,
          0.9249146766825751,
          1.1239087088143331,
          0.5999003321458324,
          -0.658380738103747,
          -0.636079522958394,
          -0.7690187225387971,
          -0.1285569524323624,
          0.42586814414867546,
          1.970619872164675,
          0.2687360684661637,
          -0.6535751187902171,
          -0.41052495675928347,
          0.38656321015609985,
          -0.0329975125153401,
          0.21986643801387779,
          -0.8862105560862736,
          -1.1472581491296907,
          1.6876120880730845,
          0.6739344840810829,
          0.7527058130176251,
          -0.04770321882381908,
          -0.5046901458645002,
          -0.9704135809546783,
          0.6192540593692433,
          -1.5970410896097227,
          1.7424207967184293,
          0.9417272380573213,
          -0.3421442085643456,
          1.3629727213807563,
          0.19608528683183574,
          0.6179829214720435,
          -0.6342908072086635,
          0.16485176829765466,
          0.11259865657129008,
          1.474878606696174,
          -0.6200093152528071,
          1.023883374307354,
          1.2312315215022325,
          0.6837691534450063,
          0.37710794268652054,
          -0.2674498995213668,
          0.7252941939647042,
          -0.7212671495065622,
          -0.6570103158468624,
          1.4713878944189351,
          0.7803245805628188,
          -1.5015408621607405,
          -2.530041751262662,
          2.913959469897591,
          1.1162770114184026
         ],
         "xaxis": "x7",
         "y": [
          0.47287525328590935,
          1.4934017303137272,
          1.3769689561121239,
          -1.082806198805133,
          1.415383993887731,
          -0.3630025087659517,
          -1.2350824003044616,
          -0.9575111668958346,
          2.231227192416702,
          -1.6084623988472704,
          0.7913364725124696,
          0.12465098765323646,
          0.10894918249881126,
          0.4188292865253416,
          -0.3759546225061773,
          1.6154242647998716,
          0.007024986301866887,
          0.48872387432220804,
          -0.8369659719094297,
          -0.4903552585235138,
          0.3177430027248012,
          -1.055949329045058,
          0.7360791030638381,
          0.44231956568828446,
          1.379551114438425,
          -0.7040578920221393,
          -1.9764410307063434,
          -0.015693146946839435,
          -1.5263965880053936,
          -1.4117553120848472,
          -0.1577338525083378,
          -0.8517611323488851,
          -1.4980204859517279,
          -0.7702057758987122,
          1.755599357290906,
          1.5094512735227397,
          1.533884269318763,
          -1.1810472462391852,
          0.9382757897220223,
          -0.5151257903588647,
          -0.4392957343101481,
          -1.153578173417106,
          2.4347154417229437,
          0.6034691497870166,
          -0.7231130664783035,
          -0.8297448803780897,
          -1.1631465870895914,
          1.5428997633806876,
          -1.0191242175698105,
          0.8268133547092912,
          0.8083868251389659,
          -0.3854591282744667,
          -0.14082691997477623,
          -0.22909359854768352,
          -1.2365501886677792,
          0.4703021455822461,
          -0.5822269077491736,
          -0.6650515548694265,
          2.1279524291773266,
          0.6061821909283301,
          1.494572989724752,
          0.25232777878631363,
          -0.1231269099302736,
          0.11394495935586213,
          -0.023669955254320904,
          -0.5176659477577575,
          -1.0857603251337256,
          1.737308717738109,
          -1.0436899628847465,
          -0.6879722964306229,
          1.0126343170065157,
          1.2876047306599359,
          0.21953780998443767,
          -1.2162680038144835,
          -1.0502292677821456,
          0.29802020348819896,
          -0.08428480318130187,
          1.1728931965510887,
          0.09332553992905697,
          -1.5339657786541547,
          0.5951725873193169,
          -1.0839064503073481,
          -0.15618747206624964,
          2.670724273386493,
          2.4178549773596645,
          -0.14076461292691836,
          -0.6143424139578396,
          -0.9776404663225262,
          1.0063305123692763,
          -1.273882015570184,
          0.37265711485326986,
          0.37368948059456725,
          0.3574924474090997,
          -0.14176054038778046,
          0.04841555690054582,
          -0.11047329298795354,
          1.346533423863622,
          1.8677528397271093,
          -0.026572813425914166,
          0.4409097288987755
         ],
         "yaxis": "y7"
        },
        {
         "line": {
          "color": "rgba(128, 128, 128, 1.0)",
          "dash": "solid",
          "shape": "linear",
          "width": 1.3
         },
         "marker": {
          "size": 2,
          "symbol": "circle"
         },
         "mode": "markers",
         "name": "B",
         "text": "",
         "type": "scatter",
         "x": [
          -1.2143142774051094,
          0.7341549688863328,
          -2.1878860019623114,
          1.523497432194452,
          -0.8790555211989877,
          -0.13506651057964153,
          -0.7681521734240057,
          1.9566987634853001,
          -0.5200154811389064,
          -1.5304730933671777,
          -0.49828564798699326,
          0.6555190761224613,
          2.154278261242067,
          -0.6121998740137635,
          -0.7998663651392912,
          -0.6592866329179047,
          -0.05618872584561294,
          0.21659171674869485,
          -0.7723385025920696,
          -0.7664120512191052,
          -0.04706943950371657,
          -0.4804600175743437,
          0.5477687172501202,
          0.11974272875042269,
          2.0478235234709428,
          0.015801574609873074,
          0.8911940632671225,
          0.14138456809723465,
          0.3751822146140036,
          0.6604816124276893,
          1.133297507272824,
          0.03105811424544611,
          -0.3939010668393583,
          -0.5289250695258874,
          -0.0030741456840287333,
          -0.942428136817906,
          0.7491177760914999,
          -0.7214531918806584,
          1.3257182761338224,
          0.43951512568561735,
          0.06119399446360383,
          1.5578142553938126,
          -1.7714458517215954,
          0.6176215419004208,
          0.8904488135986418,
          0.4319773298830599,
          -1.1975350025652733,
          0.10311510696201422,
          -0.45288522791520414,
          -1.3661216067944606,
          1.9115685665069386,
          -1.9059862517401787,
          -1.5732033902448326,
          0.9175075197051212,
          -0.1750872676091157,
          0.7069954284479054,
          1.6151957774432233,
          1.3123132791091583,
          -0.6070514781704491,
          -0.24024848311517136,
          2.020264416172281,
          0.5372984098235004,
          0.2872075418166681,
          1.0305317214040148,
          -0.031030337080439823,
          1.5736152240788512,
          0.7521392808876696,
          -1.6781286566903064,
          0.5056996327690947,
          -1.2002173110227408,
          -0.035267135484268027,
          2.5627525331980126,
          1.0299169286597165,
          -0.6417056912234721,
          -0.2022261648578561,
          -2.1438334840823114,
          0.714635768571562,
          -0.8747588880778938,
          -0.5215663836892511,
          1.344368978552044,
          -0.43947621697304984,
          0.3163194487806835,
          0.37871829012773384,
          1.2232752732144858,
          0.6203334619816994,
          1.2884684026888376,
          -1.524978471243551,
          -0.11514969237394722,
          0.8485650951801219,
          1.363267079181013,
          0.11956931273787397,
          0.3139763044387687,
          1.3100935940672593,
          0.16354448905637342,
          1.1544048734978776,
          0.167518011825185,
          -0.03485812012422281,
          0.20946433907831946,
          -0.8703639971561202,
          -1.6433341968767228
         ],
         "xaxis": "x8",
         "y": [
          0.47287525328590935,
          1.4934017303137272,
          1.3769689561121239,
          -1.082806198805133,
          1.415383993887731,
          -0.3630025087659517,
          -1.2350824003044616,
          -0.9575111668958346,
          2.231227192416702,
          -1.6084623988472704,
          0.7913364725124696,
          0.12465098765323646,
          0.10894918249881126,
          0.4188292865253416,
          -0.3759546225061773,
          1.6154242647998716,
          0.007024986301866887,
          0.48872387432220804,
          -0.8369659719094297,
          -0.4903552585235138,
          0.3177430027248012,
          -1.055949329045058,
          0.7360791030638381,
          0.44231956568828446,
          1.379551114438425,
          -0.7040578920221393,
          -1.9764410307063434,
          -0.015693146946839435,
          -1.5263965880053936,
          -1.4117553120848472,
          -0.1577338525083378,
          -0.8517611323488851,
          -1.4980204859517279,
          -0.7702057758987122,
          1.755599357290906,
          1.5094512735227397,
          1.533884269318763,
          -1.1810472462391852,
          0.9382757897220223,
          -0.5151257903588647,
          -0.4392957343101481,
          -1.153578173417106,
          2.4347154417229437,
          0.6034691497870166,
          -0.7231130664783035,
          -0.8297448803780897,
          -1.1631465870895914,
          1.5428997633806876,
          -1.0191242175698105,
          0.8268133547092912,
          0.8083868251389659,
          -0.3854591282744667,
          -0.14082691997477623,
          -0.22909359854768352,
          -1.2365501886677792,
          0.4703021455822461,
          -0.5822269077491736,
          -0.6650515548694265,
          2.1279524291773266,
          0.6061821909283301,
          1.494572989724752,
          0.25232777878631363,
          -0.1231269099302736,
          0.11394495935586213,
          -0.023669955254320904,
          -0.5176659477577575,
          -1.0857603251337256,
          1.737308717738109,
          -1.0436899628847465,
          -0.6879722964306229,
          1.0126343170065157,
          1.2876047306599359,
          0.21953780998443767,
          -1.2162680038144835,
          -1.0502292677821456,
          0.29802020348819896,
          -0.08428480318130187,
          1.1728931965510887,
          0.09332553992905697,
          -1.5339657786541547,
          0.5951725873193169,
          -1.0839064503073481,
          -0.15618747206624964,
          2.670724273386493,
          2.4178549773596645,
          -0.14076461292691836,
          -0.6143424139578396,
          -0.9776404663225262,
          1.0063305123692763,
          -1.273882015570184,
          0.37265711485326986,
          0.37368948059456725,
          0.3574924474090997,
          -0.14176054038778046,
          0.04841555690054582,
          -0.11047329298795354,
          1.346533423863622,
          1.8677528397271093,
          -0.026572813425914166,
          0.4409097288987755
         ],
         "yaxis": "y8"
        },
        {
         "line": {
          "color": "rgba(128, 128, 128, 1.0)",
          "dash": "solid",
          "shape": "linear",
          "width": 1.3
         },
         "marker": {
          "size": 2,
          "symbol": "circle"
         },
         "mode": "markers",
         "name": "C",
         "text": "",
         "type": "scatter",
         "x": [
          0.6326127038985268,
          -0.14548579553446406,
          -0.34393948885963876,
          0.3519190014943898,
          0.7107141402638056,
          0.054448005118226145,
          0.31478965626513306,
          1.9337649291692833,
          -2.4104902799178225,
          -1.2453604990808071,
          1.098206494038972,
          -0.4728839209634316,
          1.01350221056353,
          -1.2005069730171412,
          2.2182955208107384,
          -0.5776216990016312,
          -1.4108161826851844,
          -0.7196052814859598,
          -0.8521024791986744,
          -2.395667214325212,
          0.6135391862466687,
          -0.5459430342243888,
          -1.5060792667559042,
          0.8667742499584937,
          -1.1701546987241738,
          -0.08603577043546688,
          -1.4225646891991002,
          1.5097413246515126,
          -0.866990537216288,
          0.36179214184957503,
          -0.045414828943426265,
          -1.1565623260261002,
          -0.3142975279995353,
          0.27781931010361094,
          0.13924531458794118,
          0.5592464910210235,
          1.4967131118300432,
          -1.2053072838699337,
          0.9797694054889248,
          -0.8849615612000583,
          -0.3811985872358258,
          1.2480856601545274,
          0.21658187897293008,
          -0.6983120986704753,
          -0.4513805948645634,
          0.5580842538719136,
          1.7496795737545083,
          -0.9879645518593242,
          -0.06721474521065876,
          0.5035528575835836,
          0.6186851606665685,
          0.0653038262993778,
          -2.3426270634798825,
          0.647611947402595,
          0.219685903854224,
          0.9076116925247123,
          0.27528312732947663,
          0.8846370584865045,
          -0.4307631060841758,
          1.6065913463104657,
          -0.3435107836865878,
          -1.2569208272167436,
          1.1982153725983713,
          -0.5624178050751879,
          -1.7559287574848392,
          -0.774560168600139,
          0.49075843422998716,
          0.19013438750868822,
          -0.10736136841934604,
          -0.7563320343420211,
          -0.912488191626346,
          0.47780470406373887,
          0.46123054750740644,
          -1.170008389278726,
          0.8208488063070032,
          2.0708134558500015,
          1.196023145719842,
          1.0866936558250455,
          2.174827703635172,
          0.9464513781289309,
          -0.3847720587664325,
          0.677896901070159,
          0.3789629295966409,
          -0.40453211598778244,
          -1.4214106677209226,
          -2.000151170771465,
          0.03448335811311445,
          -1.0288832751039005,
          -0.7060820996009419,
          -0.3984065438825475,
          1.3183550006020213,
          2.3746996644956346,
          0.17237217908045094,
          -0.5356615988531053,
          -1.8134160233906358,
          0.19096701764943314,
          -0.628185005053714,
          -1.8878773692036663,
          -0.4900468240812979,
          0.48428326873581173
         ],
         "xaxis": "x9",
         "y": [
          0.1336209897126937,
          -0.4992371267880662,
          -0.16512310908818667,
          -0.1295384702581782,
          -0.07874797887224155,
          0.07875858094324113,
          0.28811971423413435,
          -2.2079018232129743,
          -1.0146574398707233,
          -0.3814968238916311,
          0.3414756460122754,
          0.408650279460541,
          0.8598922725047933,
          -0.20456262918962018,
          0.4269611660152145,
          0.06053627104709375,
          -0.17112284284919663,
          -0.03278813861822154,
          0.2964757692789343,
          -1.209610713025771,
          1.065900461743466,
          0.48484112110928695,
          -0.16522346354835155,
          0.8342104652569393,
          0.7378533369870373,
          0.7381985329826927,
          0.46270552251841596,
          -0.1290553079442758,
          -1.135822076599649,
          2.5684353595070957,
          -2.1363512996225693,
          0.7803326723102629,
          0.5884926871116007,
          0.2937806281485098,
          -0.3098944958212543,
          1.7843829555701411,
          -2.7607141977076526,
          -0.7830869659191346,
          -0.1122573811119825,
          0.1635382375667902,
          1.1997795798187878,
          -0.5391302273292823,
          1.6138354162384465,
          2.8471656578452813,
          -0.2682656551450211,
          0.2648442673225874,
          -1.128823767002499,
          -0.4791039027939159,
          0.567986191017442,
          -0.3796912825703141,
          0.9249146766825751,
          1.1239087088143331,
          0.5999003321458324,
          -0.658380738103747,
          -0.636079522958394,
          -0.7690187225387971,
          -0.1285569524323624,
          0.42586814414867546,
          1.970619872164675,
          0.2687360684661637,
          -0.6535751187902171,
          -0.41052495675928347,
          0.38656321015609985,
          -0.0329975125153401,
          0.21986643801387779,
          -0.8862105560862736,
          -1.1472581491296907,
          1.6876120880730845,
          0.6739344840810829,
          0.7527058130176251,
          -0.04770321882381908,
          -0.5046901458645002,
          -0.9704135809546783,
          0.6192540593692433,
          -1.5970410896097227,
          1.7424207967184293,
          0.9417272380573213,
          -0.3421442085643456,
          1.3629727213807563,
          0.19608528683183574,
          0.6179829214720435,
          -0.6342908072086635,
          0.16485176829765466,
          0.11259865657129008,
          1.474878606696174,
          -0.6200093152528071,
          1.023883374307354,
          1.2312315215022325,
          0.6837691534450063,
          0.37710794268652054,
          -0.2674498995213668,
          0.7252941939647042,
          -0.7212671495065622,
          -0.6570103158468624,
          1.4713878944189351,
          0.7803245805628188,
          -1.5015408621607405,
          -2.530041751262662,
          2.913959469897591,
          1.1162770114184026
         ],
         "yaxis": "y9"
        },
        {
         "line": {
          "color": "rgba(128, 128, 128, 1.0)",
          "dash": "solid",
          "shape": "linear",
          "width": 1.3
         },
         "marker": {
          "size": 2,
          "symbol": "circle"
         },
         "mode": "markers",
         "name": "C",
         "text": "",
         "type": "scatter",
         "x": [
          0.47287525328590935,
          1.4934017303137272,
          1.3769689561121239,
          -1.082806198805133,
          1.415383993887731,
          -0.3630025087659517,
          -1.2350824003044616,
          -0.9575111668958346,
          2.231227192416702,
          -1.6084623988472704,
          0.7913364725124696,
          0.12465098765323646,
          0.10894918249881126,
          0.4188292865253416,
          -0.3759546225061773,
          1.6154242647998716,
          0.007024986301866887,
          0.48872387432220804,
          -0.8369659719094297,
          -0.4903552585235138,
          0.3177430027248012,
          -1.055949329045058,
          0.7360791030638381,
          0.44231956568828446,
          1.379551114438425,
          -0.7040578920221393,
          -1.9764410307063434,
          -0.015693146946839435,
          -1.5263965880053936,
          -1.4117553120848472,
          -0.1577338525083378,
          -0.8517611323488851,
          -1.4980204859517279,
          -0.7702057758987122,
          1.755599357290906,
          1.5094512735227397,
          1.533884269318763,
          -1.1810472462391852,
          0.9382757897220223,
          -0.5151257903588647,
          -0.4392957343101481,
          -1.153578173417106,
          2.4347154417229437,
          0.6034691497870166,
          -0.7231130664783035,
          -0.8297448803780897,
          -1.1631465870895914,
          1.5428997633806876,
          -1.0191242175698105,
          0.8268133547092912,
          0.8083868251389659,
          -0.3854591282744667,
          -0.14082691997477623,
          -0.22909359854768352,
          -1.2365501886677792,
          0.4703021455822461,
          -0.5822269077491736,
          -0.6650515548694265,
          2.1279524291773266,
          0.6061821909283301,
          1.494572989724752,
          0.25232777878631363,
          -0.1231269099302736,
          0.11394495935586213,
          -0.023669955254320904,
          -0.5176659477577575,
          -1.0857603251337256,
          1.737308717738109,
          -1.0436899628847465,
          -0.6879722964306229,
          1.0126343170065157,
          1.2876047306599359,
          0.21953780998443767,
          -1.2162680038144835,
          -1.0502292677821456,
          0.29802020348819896,
          -0.08428480318130187,
          1.1728931965510887,
          0.09332553992905697,
          -1.5339657786541547,
          0.5951725873193169,
          -1.0839064503073481,
          -0.15618747206624964,
          2.670724273386493,
          2.4178549773596645,
          -0.14076461292691836,
          -0.6143424139578396,
          -0.9776404663225262,
          1.0063305123692763,
          -1.273882015570184,
          0.37265711485326986,
          0.37368948059456725,
          0.3574924474090997,
          -0.14176054038778046,
          0.04841555690054582,
          -0.11047329298795354,
          1.346533423863622,
          1.8677528397271093,
          -0.026572813425914166,
          0.4409097288987755
         ],
         "xaxis": "x10",
         "y": [
          0.1336209897126937,
          -0.4992371267880662,
          -0.16512310908818667,
          -0.1295384702581782,
          -0.07874797887224155,
          0.07875858094324113,
          0.28811971423413435,
          -2.2079018232129743,
          -1.0146574398707233,
          -0.3814968238916311,
          0.3414756460122754,
          0.408650279460541,
          0.8598922725047933,
          -0.20456262918962018,
          0.4269611660152145,
          0.06053627104709375,
          -0.17112284284919663,
          -0.03278813861822154,
          0.2964757692789343,
          -1.209610713025771,
          1.065900461743466,
          0.48484112110928695,
          -0.16522346354835155,
          0.8342104652569393,
          0.7378533369870373,
          0.7381985329826927,
          0.46270552251841596,
          -0.1290553079442758,
          -1.135822076599649,
          2.5684353595070957,
          -2.1363512996225693,
          0.7803326723102629,
          0.5884926871116007,
          0.2937806281485098,
          -0.3098944958212543,
          1.7843829555701411,
          -2.7607141977076526,
          -0.7830869659191346,
          -0.1122573811119825,
          0.1635382375667902,
          1.1997795798187878,
          -0.5391302273292823,
          1.6138354162384465,
          2.8471656578452813,
          -0.2682656551450211,
          0.2648442673225874,
          -1.128823767002499,
          -0.4791039027939159,
          0.567986191017442,
          -0.3796912825703141,
          0.9249146766825751,
          1.1239087088143331,
          0.5999003321458324,
          -0.658380738103747,
          -0.636079522958394,
          -0.7690187225387971,
          -0.1285569524323624,
          0.42586814414867546,
          1.970619872164675,
          0.2687360684661637,
          -0.6535751187902171,
          -0.41052495675928347,
          0.38656321015609985,
          -0.0329975125153401,
          0.21986643801387779,
          -0.8862105560862736,
          -1.1472581491296907,
          1.6876120880730845,
          0.6739344840810829,
          0.7527058130176251,
          -0.04770321882381908,
          -0.5046901458645002,
          -0.9704135809546783,
          0.6192540593692433,
          -1.5970410896097227,
          1.7424207967184293,
          0.9417272380573213,
          -0.3421442085643456,
          1.3629727213807563,
          0.19608528683183574,
          0.6179829214720435,
          -0.6342908072086635,
          0.16485176829765466,
          0.11259865657129008,
          1.474878606696174,
          -0.6200093152528071,
          1.023883374307354,
          1.2312315215022325,
          0.6837691534450063,
          0.37710794268652054,
          -0.2674498995213668,
          0.7252941939647042,
          -0.7212671495065622,
          -0.6570103158468624,
          1.4713878944189351,
          0.7803245805628188,
          -1.5015408621607405,
          -2.530041751262662,
          2.913959469897591,
          1.1162770114184026
         ],
         "yaxis": "y10"
        },
        {
         "histfunc": "count",
         "histnorm": "",
         "marker": {
          "color": "rgba(50, 171, 96, 1.0)",
          "line": {
           "color": "#4D5663",
           "width": 1.3
          }
         },
         "name": "C",
         "nbinsx": 10,
         "opacity": 0.8,
         "orientation": "v",
         "type": "histogram",
         "x": [
          0.1336209897126937,
          -0.4992371267880662,
          -0.16512310908818667,
          -0.1295384702581782,
          -0.07874797887224155,
          0.07875858094324113,
          0.28811971423413435,
          -2.2079018232129743,
          -1.0146574398707233,
          -0.3814968238916311,
          0.3414756460122754,
          0.408650279460541,
          0.8598922725047933,
          -0.20456262918962018,
          0.4269611660152145,
          0.06053627104709375,
          -0.17112284284919663,
          -0.03278813861822154,
          0.2964757692789343,
          -1.209610713025771,
          1.065900461743466,
          0.48484112110928695,
          -0.16522346354835155,
          0.8342104652569393,
          0.7378533369870373,
          0.7381985329826927,
          0.46270552251841596,
          -0.1290553079442758,
          -1.135822076599649,
          2.5684353595070957,
          -2.1363512996225693,
          0.7803326723102629,
          0.5884926871116007,
          0.2937806281485098,
          -0.3098944958212543,
          1.7843829555701411,
          -2.7607141977076526,
          -0.7830869659191346,
          -0.1122573811119825,
          0.1635382375667902,
          1.1997795798187878,
          -0.5391302273292823,
          1.6138354162384465,
          2.8471656578452813,
          -0.2682656551450211,
          0.2648442673225874,
          -1.128823767002499,
          -0.4791039027939159,
          0.567986191017442,
          -0.3796912825703141,
          0.9249146766825751,
          1.1239087088143331,
          0.5999003321458324,
          -0.658380738103747,
          -0.636079522958394,
          -0.7690187225387971,
          -0.1285569524323624,
          0.42586814414867546,
          1.970619872164675,
          0.2687360684661637,
          -0.6535751187902171,
          -0.41052495675928347,
          0.38656321015609985,
          -0.0329975125153401,
          0.21986643801387779,
          -0.8862105560862736,
          -1.1472581491296907,
          1.6876120880730845,
          0.6739344840810829,
          0.7527058130176251,
          -0.04770321882381908,
          -0.5046901458645002,
          -0.9704135809546783,
          0.6192540593692433,
          -1.5970410896097227,
          1.7424207967184293,
          0.9417272380573213,
          -0.3421442085643456,
          1.3629727213807563,
          0.19608528683183574,
          0.6179829214720435,
          -0.6342908072086635,
          0.16485176829765466,
          0.11259865657129008,
          1.474878606696174,
          -0.6200093152528071,
          1.023883374307354,
          1.2312315215022325,
          0.6837691534450063,
          0.37710794268652054,
          -0.2674498995213668,
          0.7252941939647042,
          -0.7212671495065622,
          -0.6570103158468624,
          1.4713878944189351,
          0.7803245805628188,
          -1.5015408621607405,
          -2.530041751262662,
          2.913959469897591,
          1.1162770114184026
         ],
         "xaxis": "x11",
         "yaxis": "y11"
        },
        {
         "line": {
          "color": "rgba(128, 128, 128, 1.0)",
          "dash": "solid",
          "shape": "linear",
          "width": 1.3
         },
         "marker": {
          "size": 2,
          "symbol": "circle"
         },
         "mode": "markers",
         "name": "C",
         "text": "",
         "type": "scatter",
         "x": [
          -1.2143142774051094,
          0.7341549688863328,
          -2.1878860019623114,
          1.523497432194452,
          -0.8790555211989877,
          -0.13506651057964153,
          -0.7681521734240057,
          1.9566987634853001,
          -0.5200154811389064,
          -1.5304730933671777,
          -0.49828564798699326,
          0.6555190761224613,
          2.154278261242067,
          -0.6121998740137635,
          -0.7998663651392912,
          -0.6592866329179047,
          -0.05618872584561294,
          0.21659171674869485,
          -0.7723385025920696,
          -0.7664120512191052,
          -0.04706943950371657,
          -0.4804600175743437,
          0.5477687172501202,
          0.11974272875042269,
          2.0478235234709428,
          0.015801574609873074,
          0.8911940632671225,
          0.14138456809723465,
          0.3751822146140036,
          0.6604816124276893,
          1.133297507272824,
          0.03105811424544611,
          -0.3939010668393583,
          -0.5289250695258874,
          -0.0030741456840287333,
          -0.942428136817906,
          0.7491177760914999,
          -0.7214531918806584,
          1.3257182761338224,
          0.43951512568561735,
          0.06119399446360383,
          1.5578142553938126,
          -1.7714458517215954,
          0.6176215419004208,
          0.8904488135986418,
          0.4319773298830599,
          -1.1975350025652733,
          0.10311510696201422,
          -0.45288522791520414,
          -1.3661216067944606,
          1.9115685665069386,
          -1.9059862517401787,
          -1.5732033902448326,
          0.9175075197051212,
          -0.1750872676091157,
          0.7069954284479054,
          1.6151957774432233,
          1.3123132791091583,
          -0.6070514781704491,
          -0.24024848311517136,
          2.020264416172281,
          0.5372984098235004,
          0.2872075418166681,
          1.0305317214040148,
          -0.031030337080439823,
          1.5736152240788512,
          0.7521392808876696,
          -1.6781286566903064,
          0.5056996327690947,
          -1.2002173110227408,
          -0.035267135484268027,
          2.5627525331980126,
          1.0299169286597165,
          -0.6417056912234721,
          -0.2022261648578561,
          -2.1438334840823114,
          0.714635768571562,
          -0.8747588880778938,
          -0.5215663836892511,
          1.344368978552044,
          -0.43947621697304984,
          0.3163194487806835,
          0.37871829012773384,
          1.2232752732144858,
          0.6203334619816994,
          1.2884684026888376,
          -1.524978471243551,
          -0.11514969237394722,
          0.8485650951801219,
          1.363267079181013,
          0.11956931273787397,
          0.3139763044387687,
          1.3100935940672593,
          0.16354448905637342,
          1.1544048734978776,
          0.167518011825185,
          -0.03485812012422281,
          0.20946433907831946,
          -0.8703639971561202,
          -1.6433341968767228
         ],
         "xaxis": "x12",
         "y": [
          0.1336209897126937,
          -0.4992371267880662,
          -0.16512310908818667,
          -0.1295384702581782,
          -0.07874797887224155,
          0.07875858094324113,
          0.28811971423413435,
          -2.2079018232129743,
          -1.0146574398707233,
          -0.3814968238916311,
          0.3414756460122754,
          0.408650279460541,
          0.8598922725047933,
          -0.20456262918962018,
          0.4269611660152145,
          0.06053627104709375,
          -0.17112284284919663,
          -0.03278813861822154,
          0.2964757692789343,
          -1.209610713025771,
          1.065900461743466,
          0.48484112110928695,
          -0.16522346354835155,
          0.8342104652569393,
          0.7378533369870373,
          0.7381985329826927,
          0.46270552251841596,
          -0.1290553079442758,
          -1.135822076599649,
          2.5684353595070957,
          -2.1363512996225693,
          0.7803326723102629,
          0.5884926871116007,
          0.2937806281485098,
          -0.3098944958212543,
          1.7843829555701411,
          -2.7607141977076526,
          -0.7830869659191346,
          -0.1122573811119825,
          0.1635382375667902,
          1.1997795798187878,
          -0.5391302273292823,
          1.6138354162384465,
          2.8471656578452813,
          -0.2682656551450211,
          0.2648442673225874,
          -1.128823767002499,
          -0.4791039027939159,
          0.567986191017442,
          -0.3796912825703141,
          0.9249146766825751,
          1.1239087088143331,
          0.5999003321458324,
          -0.658380738103747,
          -0.636079522958394,
          -0.7690187225387971,
          -0.1285569524323624,
          0.42586814414867546,
          1.970619872164675,
          0.2687360684661637,
          -0.6535751187902171,
          -0.41052495675928347,
          0.38656321015609985,
          -0.0329975125153401,
          0.21986643801387779,
          -0.8862105560862736,
          -1.1472581491296907,
          1.6876120880730845,
          0.6739344840810829,
          0.7527058130176251,
          -0.04770321882381908,
          -0.5046901458645002,
          -0.9704135809546783,
          0.6192540593692433,
          -1.5970410896097227,
          1.7424207967184293,
          0.9417272380573213,
          -0.3421442085643456,
          1.3629727213807563,
          0.19608528683183574,
          0.6179829214720435,
          -0.6342908072086635,
          0.16485176829765466,
          0.11259865657129008,
          1.474878606696174,
          -0.6200093152528071,
          1.023883374307354,
          1.2312315215022325,
          0.6837691534450063,
          0.37710794268652054,
          -0.2674498995213668,
          0.7252941939647042,
          -0.7212671495065622,
          -0.6570103158468624,
          1.4713878944189351,
          0.7803245805628188,
          -1.5015408621607405,
          -2.530041751262662,
          2.913959469897591,
          1.1162770114184026
         ],
         "yaxis": "y12"
        },
        {
         "line": {
          "color": "rgba(128, 128, 128, 1.0)",
          "dash": "solid",
          "shape": "linear",
          "width": 1.3
         },
         "marker": {
          "size": 2,
          "symbol": "circle"
         },
         "mode": "markers",
         "name": "D",
         "text": "",
         "type": "scatter",
         "x": [
          0.6326127038985268,
          -0.14548579553446406,
          -0.34393948885963876,
          0.3519190014943898,
          0.7107141402638056,
          0.054448005118226145,
          0.31478965626513306,
          1.9337649291692833,
          -2.4104902799178225,
          -1.2453604990808071,
          1.098206494038972,
          -0.4728839209634316,
          1.01350221056353,
          -1.2005069730171412,
          2.2182955208107384,
          -0.5776216990016312,
          -1.4108161826851844,
          -0.7196052814859598,
          -0.8521024791986744,
          -2.395667214325212,
          0.6135391862466687,
          -0.5459430342243888,
          -1.5060792667559042,
          0.8667742499584937,
          -1.1701546987241738,
          -0.08603577043546688,
          -1.4225646891991002,
          1.5097413246515126,
          -0.866990537216288,
          0.36179214184957503,
          -0.045414828943426265,
          -1.1565623260261002,
          -0.3142975279995353,
          0.27781931010361094,
          0.13924531458794118,
          0.5592464910210235,
          1.4967131118300432,
          -1.2053072838699337,
          0.9797694054889248,
          -0.8849615612000583,
          -0.3811985872358258,
          1.2480856601545274,
          0.21658187897293008,
          -0.6983120986704753,
          -0.4513805948645634,
          0.5580842538719136,
          1.7496795737545083,
          -0.9879645518593242,
          -0.06721474521065876,
          0.5035528575835836,
          0.6186851606665685,
          0.0653038262993778,
          -2.3426270634798825,
          0.647611947402595,
          0.219685903854224,
          0.9076116925247123,
          0.27528312732947663,
          0.8846370584865045,
          -0.4307631060841758,
          1.6065913463104657,
          -0.3435107836865878,
          -1.2569208272167436,
          1.1982153725983713,
          -0.5624178050751879,
          -1.7559287574848392,
          -0.774560168600139,
          0.49075843422998716,
          0.19013438750868822,
          -0.10736136841934604,
          -0.7563320343420211,
          -0.912488191626346,
          0.47780470406373887,
          0.46123054750740644,
          -1.170008389278726,
          0.8208488063070032,
          2.0708134558500015,
          1.196023145719842,
          1.0866936558250455,
          2.174827703635172,
          0.9464513781289309,
          -0.3847720587664325,
          0.677896901070159,
          0.3789629295966409,
          -0.40453211598778244,
          -1.4214106677209226,
          -2.000151170771465,
          0.03448335811311445,
          -1.0288832751039005,
          -0.7060820996009419,
          -0.3984065438825475,
          1.3183550006020213,
          2.3746996644956346,
          0.17237217908045094,
          -0.5356615988531053,
          -1.8134160233906358,
          0.19096701764943314,
          -0.628185005053714,
          -1.8878773692036663,
          -0.4900468240812979,
          0.48428326873581173
         ],
         "xaxis": "x13",
         "y": [
          -1.2143142774051094,
          0.7341549688863328,
          -2.1878860019623114,
          1.523497432194452,
          -0.8790555211989877,
          -0.13506651057964153,
          -0.7681521734240057,
          1.9566987634853001,
          -0.5200154811389064,
          -1.5304730933671777,
          -0.49828564798699326,
          0.6555190761224613,
          2.154278261242067,
          -0.6121998740137635,
          -0.7998663651392912,
          -0.6592866329179047,
          -0.05618872584561294,
          0.21659171674869485,
          -0.7723385025920696,
          -0.7664120512191052,
          -0.04706943950371657,
          -0.4804600175743437,
          0.5477687172501202,
          0.11974272875042269,
          2.0478235234709428,
          0.015801574609873074,
          0.8911940632671225,
          0.14138456809723465,
          0.3751822146140036,
          0.6604816124276893,
          1.133297507272824,
          0.03105811424544611,
          -0.3939010668393583,
          -0.5289250695258874,
          -0.0030741456840287333,
          -0.942428136817906,
          0.7491177760914999,
          -0.7214531918806584,
          1.3257182761338224,
          0.43951512568561735,
          0.06119399446360383,
          1.5578142553938126,
          -1.7714458517215954,
          0.6176215419004208,
          0.8904488135986418,
          0.4319773298830599,
          -1.1975350025652733,
          0.10311510696201422,
          -0.45288522791520414,
          -1.3661216067944606,
          1.9115685665069386,
          -1.9059862517401787,
          -1.5732033902448326,
          0.9175075197051212,
          -0.1750872676091157,
          0.7069954284479054,
          1.6151957774432233,
          1.3123132791091583,
          -0.6070514781704491,
          -0.24024848311517136,
          2.020264416172281,
          0.5372984098235004,
          0.2872075418166681,
          1.0305317214040148,
          -0.031030337080439823,
          1.5736152240788512,
          0.7521392808876696,
          -1.6781286566903064,
          0.5056996327690947,
          -1.2002173110227408,
          -0.035267135484268027,
          2.5627525331980126,
          1.0299169286597165,
          -0.6417056912234721,
          -0.2022261648578561,
          -2.1438334840823114,
          0.714635768571562,
          -0.8747588880778938,
          -0.5215663836892511,
          1.344368978552044,
          -0.43947621697304984,
          0.3163194487806835,
          0.37871829012773384,
          1.2232752732144858,
          0.6203334619816994,
          1.2884684026888376,
          -1.524978471243551,
          -0.11514969237394722,
          0.8485650951801219,
          1.363267079181013,
          0.11956931273787397,
          0.3139763044387687,
          1.3100935940672593,
          0.16354448905637342,
          1.1544048734978776,
          0.167518011825185,
          -0.03485812012422281,
          0.20946433907831946,
          -0.8703639971561202,
          -1.6433341968767228
         ],
         "yaxis": "y13"
        },
        {
         "line": {
          "color": "rgba(128, 128, 128, 1.0)",
          "dash": "solid",
          "shape": "linear",
          "width": 1.3
         },
         "marker": {
          "size": 2,
          "symbol": "circle"
         },
         "mode": "markers",
         "name": "D",
         "text": "",
         "type": "scatter",
         "x": [
          0.47287525328590935,
          1.4934017303137272,
          1.3769689561121239,
          -1.082806198805133,
          1.415383993887731,
          -0.3630025087659517,
          -1.2350824003044616,
          -0.9575111668958346,
          2.231227192416702,
          -1.6084623988472704,
          0.7913364725124696,
          0.12465098765323646,
          0.10894918249881126,
          0.4188292865253416,
          -0.3759546225061773,
          1.6154242647998716,
          0.007024986301866887,
          0.48872387432220804,
          -0.8369659719094297,
          -0.4903552585235138,
          0.3177430027248012,
          -1.055949329045058,
          0.7360791030638381,
          0.44231956568828446,
          1.379551114438425,
          -0.7040578920221393,
          -1.9764410307063434,
          -0.015693146946839435,
          -1.5263965880053936,
          -1.4117553120848472,
          -0.1577338525083378,
          -0.8517611323488851,
          -1.4980204859517279,
          -0.7702057758987122,
          1.755599357290906,
          1.5094512735227397,
          1.533884269318763,
          -1.1810472462391852,
          0.9382757897220223,
          -0.5151257903588647,
          -0.4392957343101481,
          -1.153578173417106,
          2.4347154417229437,
          0.6034691497870166,
          -0.7231130664783035,
          -0.8297448803780897,
          -1.1631465870895914,
          1.5428997633806876,
          -1.0191242175698105,
          0.8268133547092912,
          0.8083868251389659,
          -0.3854591282744667,
          -0.14082691997477623,
          -0.22909359854768352,
          -1.2365501886677792,
          0.4703021455822461,
          -0.5822269077491736,
          -0.6650515548694265,
          2.1279524291773266,
          0.6061821909283301,
          1.494572989724752,
          0.25232777878631363,
          -0.1231269099302736,
          0.11394495935586213,
          -0.023669955254320904,
          -0.5176659477577575,
          -1.0857603251337256,
          1.737308717738109,
          -1.0436899628847465,
          -0.6879722964306229,
          1.0126343170065157,
          1.2876047306599359,
          0.21953780998443767,
          -1.2162680038144835,
          -1.0502292677821456,
          0.29802020348819896,
          -0.08428480318130187,
          1.1728931965510887,
          0.09332553992905697,
          -1.5339657786541547,
          0.5951725873193169,
          -1.0839064503073481,
          -0.15618747206624964,
          2.670724273386493,
          2.4178549773596645,
          -0.14076461292691836,
          -0.6143424139578396,
          -0.9776404663225262,
          1.0063305123692763,
          -1.273882015570184,
          0.37265711485326986,
          0.37368948059456725,
          0.3574924474090997,
          -0.14176054038778046,
          0.04841555690054582,
          -0.11047329298795354,
          1.346533423863622,
          1.8677528397271093,
          -0.026572813425914166,
          0.4409097288987755
         ],
         "xaxis": "x14",
         "y": [
          -1.2143142774051094,
          0.7341549688863328,
          -2.1878860019623114,
          1.523497432194452,
          -0.8790555211989877,
          -0.13506651057964153,
          -0.7681521734240057,
          1.9566987634853001,
          -0.5200154811389064,
          -1.5304730933671777,
          -0.49828564798699326,
          0.6555190761224613,
          2.154278261242067,
          -0.6121998740137635,
          -0.7998663651392912,
          -0.6592866329179047,
          -0.05618872584561294,
          0.21659171674869485,
          -0.7723385025920696,
          -0.7664120512191052,
          -0.04706943950371657,
          -0.4804600175743437,
          0.5477687172501202,
          0.11974272875042269,
          2.0478235234709428,
          0.015801574609873074,
          0.8911940632671225,
          0.14138456809723465,
          0.3751822146140036,
          0.6604816124276893,
          1.133297507272824,
          0.03105811424544611,
          -0.3939010668393583,
          -0.5289250695258874,
          -0.0030741456840287333,
          -0.942428136817906,
          0.7491177760914999,
          -0.7214531918806584,
          1.3257182761338224,
          0.43951512568561735,
          0.06119399446360383,
          1.5578142553938126,
          -1.7714458517215954,
          0.6176215419004208,
          0.8904488135986418,
          0.4319773298830599,
          -1.1975350025652733,
          0.10311510696201422,
          -0.45288522791520414,
          -1.3661216067944606,
          1.9115685665069386,
          -1.9059862517401787,
          -1.5732033902448326,
          0.9175075197051212,
          -0.1750872676091157,
          0.7069954284479054,
          1.6151957774432233,
          1.3123132791091583,
          -0.6070514781704491,
          -0.24024848311517136,
          2.020264416172281,
          0.5372984098235004,
          0.2872075418166681,
          1.0305317214040148,
          -0.031030337080439823,
          1.5736152240788512,
          0.7521392808876696,
          -1.6781286566903064,
          0.5056996327690947,
          -1.2002173110227408,
          -0.035267135484268027,
          2.5627525331980126,
          1.0299169286597165,
          -0.6417056912234721,
          -0.2022261648578561,
          -2.1438334840823114,
          0.714635768571562,
          -0.8747588880778938,
          -0.5215663836892511,
          1.344368978552044,
          -0.43947621697304984,
          0.3163194487806835,
          0.37871829012773384,
          1.2232752732144858,
          0.6203334619816994,
          1.2884684026888376,
          -1.524978471243551,
          -0.11514969237394722,
          0.8485650951801219,
          1.363267079181013,
          0.11956931273787397,
          0.3139763044387687,
          1.3100935940672593,
          0.16354448905637342,
          1.1544048734978776,
          0.167518011825185,
          -0.03485812012422281,
          0.20946433907831946,
          -0.8703639971561202,
          -1.6433341968767228
         ],
         "yaxis": "y14"
        },
        {
         "line": {
          "color": "rgba(128, 128, 128, 1.0)",
          "dash": "solid",
          "shape": "linear",
          "width": 1.3
         },
         "marker": {
          "size": 2,
          "symbol": "circle"
         },
         "mode": "markers",
         "name": "D",
         "text": "",
         "type": "scatter",
         "x": [
          0.1336209897126937,
          -0.4992371267880662,
          -0.16512310908818667,
          -0.1295384702581782,
          -0.07874797887224155,
          0.07875858094324113,
          0.28811971423413435,
          -2.2079018232129743,
          -1.0146574398707233,
          -0.3814968238916311,
          0.3414756460122754,
          0.408650279460541,
          0.8598922725047933,
          -0.20456262918962018,
          0.4269611660152145,
          0.06053627104709375,
          -0.17112284284919663,
          -0.03278813861822154,
          0.2964757692789343,
          -1.209610713025771,
          1.065900461743466,
          0.48484112110928695,
          -0.16522346354835155,
          0.8342104652569393,
          0.7378533369870373,
          0.7381985329826927,
          0.46270552251841596,
          -0.1290553079442758,
          -1.135822076599649,
          2.5684353595070957,
          -2.1363512996225693,
          0.7803326723102629,
          0.5884926871116007,
          0.2937806281485098,
          -0.3098944958212543,
          1.7843829555701411,
          -2.7607141977076526,
          -0.7830869659191346,
          -0.1122573811119825,
          0.1635382375667902,
          1.1997795798187878,
          -0.5391302273292823,
          1.6138354162384465,
          2.8471656578452813,
          -0.2682656551450211,
          0.2648442673225874,
          -1.128823767002499,
          -0.4791039027939159,
          0.567986191017442,
          -0.3796912825703141,
          0.9249146766825751,
          1.1239087088143331,
          0.5999003321458324,
          -0.658380738103747,
          -0.636079522958394,
          -0.7690187225387971,
          -0.1285569524323624,
          0.42586814414867546,
          1.970619872164675,
          0.2687360684661637,
          -0.6535751187902171,
          -0.41052495675928347,
          0.38656321015609985,
          -0.0329975125153401,
          0.21986643801387779,
          -0.8862105560862736,
          -1.1472581491296907,
          1.6876120880730845,
          0.6739344840810829,
          0.7527058130176251,
          -0.04770321882381908,
          -0.5046901458645002,
          -0.9704135809546783,
          0.6192540593692433,
          -1.5970410896097227,
          1.7424207967184293,
          0.9417272380573213,
          -0.3421442085643456,
          1.3629727213807563,
          0.19608528683183574,
          0.6179829214720435,
          -0.6342908072086635,
          0.16485176829765466,
          0.11259865657129008,
          1.474878606696174,
          -0.6200093152528071,
          1.023883374307354,
          1.2312315215022325,
          0.6837691534450063,
          0.37710794268652054,
          -0.2674498995213668,
          0.7252941939647042,
          -0.7212671495065622,
          -0.6570103158468624,
          1.4713878944189351,
          0.7803245805628188,
          -1.5015408621607405,
          -2.530041751262662,
          2.913959469897591,
          1.1162770114184026
         ],
         "xaxis": "x15",
         "y": [
          -1.2143142774051094,
          0.7341549688863328,
          -2.1878860019623114,
          1.523497432194452,
          -0.8790555211989877,
          -0.13506651057964153,
          -0.7681521734240057,
          1.9566987634853001,
          -0.5200154811389064,
          -1.5304730933671777,
          -0.49828564798699326,
          0.6555190761224613,
          2.154278261242067,
          -0.6121998740137635,
          -0.7998663651392912,
          -0.6592866329179047,
          -0.05618872584561294,
          0.21659171674869485,
          -0.7723385025920696,
          -0.7664120512191052,
          -0.04706943950371657,
          -0.4804600175743437,
          0.5477687172501202,
          0.11974272875042269,
          2.0478235234709428,
          0.015801574609873074,
          0.8911940632671225,
          0.14138456809723465,
          0.3751822146140036,
          0.6604816124276893,
          1.133297507272824,
          0.03105811424544611,
          -0.3939010668393583,
          -0.5289250695258874,
          -0.0030741456840287333,
          -0.942428136817906,
          0.7491177760914999,
          -0.7214531918806584,
          1.3257182761338224,
          0.43951512568561735,
          0.06119399446360383,
          1.5578142553938126,
          -1.7714458517215954,
          0.6176215419004208,
          0.8904488135986418,
          0.4319773298830599,
          -1.1975350025652733,
          0.10311510696201422,
          -0.45288522791520414,
          -1.3661216067944606,
          1.9115685665069386,
          -1.9059862517401787,
          -1.5732033902448326,
          0.9175075197051212,
          -0.1750872676091157,
          0.7069954284479054,
          1.6151957774432233,
          1.3123132791091583,
          -0.6070514781704491,
          -0.24024848311517136,
          2.020264416172281,
          0.5372984098235004,
          0.2872075418166681,
          1.0305317214040148,
          -0.031030337080439823,
          1.5736152240788512,
          0.7521392808876696,
          -1.6781286566903064,
          0.5056996327690947,
          -1.2002173110227408,
          -0.035267135484268027,
          2.5627525331980126,
          1.0299169286597165,
          -0.6417056912234721,
          -0.2022261648578561,
          -2.1438334840823114,
          0.714635768571562,
          -0.8747588880778938,
          -0.5215663836892511,
          1.344368978552044,
          -0.43947621697304984,
          0.3163194487806835,
          0.37871829012773384,
          1.2232752732144858,
          0.6203334619816994,
          1.2884684026888376,
          -1.524978471243551,
          -0.11514969237394722,
          0.8485650951801219,
          1.363267079181013,
          0.11956931273787397,
          0.3139763044387687,
          1.3100935940672593,
          0.16354448905637342,
          1.1544048734978776,
          0.167518011825185,
          -0.03485812012422281,
          0.20946433907831946,
          -0.8703639971561202,
          -1.6433341968767228
         ],
         "yaxis": "y15"
        },
        {
         "histfunc": "count",
         "histnorm": "",
         "marker": {
          "color": "rgba(128, 0, 128, 1.0)",
          "line": {
           "color": "#4D5663",
           "width": 1.3
          }
         },
         "name": "D",
         "nbinsx": 10,
         "opacity": 0.8,
         "orientation": "v",
         "type": "histogram",
         "x": [
          -1.2143142774051094,
          0.7341549688863328,
          -2.1878860019623114,
          1.523497432194452,
          -0.8790555211989877,
          -0.13506651057964153,
          -0.7681521734240057,
          1.9566987634853001,
          -0.5200154811389064,
          -1.5304730933671777,
          -0.49828564798699326,
          0.6555190761224613,
          2.154278261242067,
          -0.6121998740137635,
          -0.7998663651392912,
          -0.6592866329179047,
          -0.05618872584561294,
          0.21659171674869485,
          -0.7723385025920696,
          -0.7664120512191052,
          -0.04706943950371657,
          -0.4804600175743437,
          0.5477687172501202,
          0.11974272875042269,
          2.0478235234709428,
          0.015801574609873074,
          0.8911940632671225,
          0.14138456809723465,
          0.3751822146140036,
          0.6604816124276893,
          1.133297507272824,
          0.03105811424544611,
          -0.3939010668393583,
          -0.5289250695258874,
          -0.0030741456840287333,
          -0.942428136817906,
          0.7491177760914999,
          -0.7214531918806584,
          1.3257182761338224,
          0.43951512568561735,
          0.06119399446360383,
          1.5578142553938126,
          -1.7714458517215954,
          0.6176215419004208,
          0.8904488135986418,
          0.4319773298830599,
          -1.1975350025652733,
          0.10311510696201422,
          -0.45288522791520414,
          -1.3661216067944606,
          1.9115685665069386,
          -1.9059862517401787,
          -1.5732033902448326,
          0.9175075197051212,
          -0.1750872676091157,
          0.7069954284479054,
          1.6151957774432233,
          1.3123132791091583,
          -0.6070514781704491,
          -0.24024848311517136,
          2.020264416172281,
          0.5372984098235004,
          0.2872075418166681,
          1.0305317214040148,
          -0.031030337080439823,
          1.5736152240788512,
          0.7521392808876696,
          -1.6781286566903064,
          0.5056996327690947,
          -1.2002173110227408,
          -0.035267135484268027,
          2.5627525331980126,
          1.0299169286597165,
          -0.6417056912234721,
          -0.2022261648578561,
          -2.1438334840823114,
          0.714635768571562,
          -0.8747588880778938,
          -0.5215663836892511,
          1.344368978552044,
          -0.43947621697304984,
          0.3163194487806835,
          0.37871829012773384,
          1.2232752732144858,
          0.6203334619816994,
          1.2884684026888376,
          -1.524978471243551,
          -0.11514969237394722,
          0.8485650951801219,
          1.363267079181013,
          0.11956931273787397,
          0.3139763044387687,
          1.3100935940672593,
          0.16354448905637342,
          1.1544048734978776,
          0.167518011825185,
          -0.03485812012422281,
          0.20946433907831946,
          -0.8703639971561202,
          -1.6433341968767228
         ],
         "xaxis": "x16",
         "yaxis": "y16"
        }
       ],
       "layout": {
        "bargap": 0.02,
        "legend": {
         "bgcolor": "#F5F6F9",
         "font": {
          "color": "#4D5663"
         }
        },
        "paper_bgcolor": "#F5F6F9",
        "plot_bgcolor": "#F5F6F9",
        "showlegend": false,
        "template": {
         "data": {
          "bar": [
           {
            "error_x": {
             "color": "#2a3f5f"
            },
            "error_y": {
             "color": "#2a3f5f"
            },
            "marker": {
             "line": {
              "color": "#E5ECF6",
              "width": 0.5
             }
            },
            "type": "bar"
           }
          ],
          "barpolar": [
           {
            "marker": {
             "line": {
              "color": "#E5ECF6",
              "width": 0.5
             }
            },
            "type": "barpolar"
           }
          ],
          "carpet": [
           {
            "aaxis": {
             "endlinecolor": "#2a3f5f",
             "gridcolor": "white",
             "linecolor": "white",
             "minorgridcolor": "white",
             "startlinecolor": "#2a3f5f"
            },
            "baxis": {
             "endlinecolor": "#2a3f5f",
             "gridcolor": "white",
             "linecolor": "white",
             "minorgridcolor": "white",
             "startlinecolor": "#2a3f5f"
            },
            "type": "carpet"
           }
          ],
          "choropleth": [
           {
            "colorbar": {
             "outlinewidth": 0,
             "ticks": ""
            },
            "type": "choropleth"
           }
          ],
          "contour": [
           {
            "colorbar": {
             "outlinewidth": 0,
             "ticks": ""
            },
            "colorscale": [
             [
              0,
              "#0d0887"
             ],
             [
              0.1111111111111111,
              "#46039f"
             ],
             [
              0.2222222222222222,
              "#7201a8"
             ],
             [
              0.3333333333333333,
              "#9c179e"
             ],
             [
              0.4444444444444444,
              "#bd3786"
             ],
             [
              0.5555555555555556,
              "#d8576b"
             ],
             [
              0.6666666666666666,
              "#ed7953"
             ],
             [
              0.7777777777777778,
              "#fb9f3a"
             ],
             [
              0.8888888888888888,
              "#fdca26"
             ],
             [
              1,
              "#f0f921"
             ]
            ],
            "type": "contour"
           }
          ],
          "contourcarpet": [
           {
            "colorbar": {
             "outlinewidth": 0,
             "ticks": ""
            },
            "type": "contourcarpet"
           }
          ],
          "heatmap": [
           {
            "colorbar": {
             "outlinewidth": 0,
             "ticks": ""
            },
            "colorscale": [
             [
              0,
              "#0d0887"
             ],
             [
              0.1111111111111111,
              "#46039f"
             ],
             [
              0.2222222222222222,
              "#7201a8"
             ],
             [
              0.3333333333333333,
              "#9c179e"
             ],
             [
              0.4444444444444444,
              "#bd3786"
             ],
             [
              0.5555555555555556,
              "#d8576b"
             ],
             [
              0.6666666666666666,
              "#ed7953"
             ],
             [
              0.7777777777777778,
              "#fb9f3a"
             ],
             [
              0.8888888888888888,
              "#fdca26"
             ],
             [
              1,
              "#f0f921"
             ]
            ],
            "type": "heatmap"
           }
          ],
          "heatmapgl": [
           {
            "colorbar": {
             "outlinewidth": 0,
             "ticks": ""
            },
            "colorscale": [
             [
              0,
              "#0d0887"
             ],
             [
              0.1111111111111111,
              "#46039f"
             ],
             [
              0.2222222222222222,
              "#7201a8"
             ],
             [
              0.3333333333333333,
              "#9c179e"
             ],
             [
              0.4444444444444444,
              "#bd3786"
             ],
             [
              0.5555555555555556,
              "#d8576b"
             ],
             [
              0.6666666666666666,
              "#ed7953"
             ],
             [
              0.7777777777777778,
              "#fb9f3a"
             ],
             [
              0.8888888888888888,
              "#fdca26"
             ],
             [
              1,
              "#f0f921"
             ]
            ],
            "type": "heatmapgl"
           }
          ],
          "histogram": [
           {
            "marker": {
             "colorbar": {
              "outlinewidth": 0,
              "ticks": ""
             }
            },
            "type": "histogram"
           }
          ],
          "histogram2d": [
           {
            "colorbar": {
             "outlinewidth": 0,
             "ticks": ""
            },
            "colorscale": [
             [
              0,
              "#0d0887"
             ],
             [
              0.1111111111111111,
              "#46039f"
             ],
             [
              0.2222222222222222,
              "#7201a8"
             ],
             [
              0.3333333333333333,
              "#9c179e"
             ],
             [
              0.4444444444444444,
              "#bd3786"
             ],
             [
              0.5555555555555556,
              "#d8576b"
             ],
             [
              0.6666666666666666,
              "#ed7953"
             ],
             [
              0.7777777777777778,
              "#fb9f3a"
             ],
             [
              0.8888888888888888,
              "#fdca26"
             ],
             [
              1,
              "#f0f921"
             ]
            ],
            "type": "histogram2d"
           }
          ],
          "histogram2dcontour": [
           {
            "colorbar": {
             "outlinewidth": 0,
             "ticks": ""
            },
            "colorscale": [
             [
              0,
              "#0d0887"
             ],
             [
              0.1111111111111111,
              "#46039f"
             ],
             [
              0.2222222222222222,
              "#7201a8"
             ],
             [
              0.3333333333333333,
              "#9c179e"
             ],
             [
              0.4444444444444444,
              "#bd3786"
             ],
             [
              0.5555555555555556,
              "#d8576b"
             ],
             [
              0.6666666666666666,
              "#ed7953"
             ],
             [
              0.7777777777777778,
              "#fb9f3a"
             ],
             [
              0.8888888888888888,
              "#fdca26"
             ],
             [
              1,
              "#f0f921"
             ]
            ],
            "type": "histogram2dcontour"
           }
          ],
          "mesh3d": [
           {
            "colorbar": {
             "outlinewidth": 0,
             "ticks": ""
            },
            "type": "mesh3d"
           }
          ],
          "parcoords": [
           {
            "line": {
             "colorbar": {
              "outlinewidth": 0,
              "ticks": ""
             }
            },
            "type": "parcoords"
           }
          ],
          "pie": [
           {
            "automargin": true,
            "type": "pie"
           }
          ],
          "scatter": [
           {
            "marker": {
             "colorbar": {
              "outlinewidth": 0,
              "ticks": ""
             }
            },
            "type": "scatter"
           }
          ],
          "scatter3d": [
           {
            "line": {
             "colorbar": {
              "outlinewidth": 0,
              "ticks": ""
             }
            },
            "marker": {
             "colorbar": {
              "outlinewidth": 0,
              "ticks": ""
             }
            },
            "type": "scatter3d"
           }
          ],
          "scattercarpet": [
           {
            "marker": {
             "colorbar": {
              "outlinewidth": 0,
              "ticks": ""
             }
            },
            "type": "scattercarpet"
           }
          ],
          "scattergeo": [
           {
            "marker": {
             "colorbar": {
              "outlinewidth": 0,
              "ticks": ""
             }
            },
            "type": "scattergeo"
           }
          ],
          "scattergl": [
           {
            "marker": {
             "colorbar": {
              "outlinewidth": 0,
              "ticks": ""
             }
            },
            "type": "scattergl"
           }
          ],
          "scattermapbox": [
           {
            "marker": {
             "colorbar": {
              "outlinewidth": 0,
              "ticks": ""
             }
            },
            "type": "scattermapbox"
           }
          ],
          "scatterpolar": [
           {
            "marker": {
             "colorbar": {
              "outlinewidth": 0,
              "ticks": ""
             }
            },
            "type": "scatterpolar"
           }
          ],
          "scatterpolargl": [
           {
            "marker": {
             "colorbar": {
              "outlinewidth": 0,
              "ticks": ""
             }
            },
            "type": "scatterpolargl"
           }
          ],
          "scatterternary": [
           {
            "marker": {
             "colorbar": {
              "outlinewidth": 0,
              "ticks": ""
             }
            },
            "type": "scatterternary"
           }
          ],
          "surface": [
           {
            "colorbar": {
             "outlinewidth": 0,
             "ticks": ""
            },
            "colorscale": [
             [
              0,
              "#0d0887"
             ],
             [
              0.1111111111111111,
              "#46039f"
             ],
             [
              0.2222222222222222,
              "#7201a8"
             ],
             [
              0.3333333333333333,
              "#9c179e"
             ],
             [
              0.4444444444444444,
              "#bd3786"
             ],
             [
              0.5555555555555556,
              "#d8576b"
             ],
             [
              0.6666666666666666,
              "#ed7953"
             ],
             [
              0.7777777777777778,
              "#fb9f3a"
             ],
             [
              0.8888888888888888,
              "#fdca26"
             ],
             [
              1,
              "#f0f921"
             ]
            ],
            "type": "surface"
           }
          ],
          "table": [
           {
            "cells": {
             "fill": {
              "color": "#EBF0F8"
             },
             "line": {
              "color": "white"
             }
            },
            "header": {
             "fill": {
              "color": "#C8D4E3"
             },
             "line": {
              "color": "white"
             }
            },
            "type": "table"
           }
          ]
         },
         "layout": {
          "annotationdefaults": {
           "arrowcolor": "#2a3f5f",
           "arrowhead": 0,
           "arrowwidth": 1
          },
          "coloraxis": {
           "colorbar": {
            "outlinewidth": 0,
            "ticks": ""
           }
          },
          "colorscale": {
           "diverging": [
            [
             0,
             "#8e0152"
            ],
            [
             0.1,
             "#c51b7d"
            ],
            [
             0.2,
             "#de77ae"
            ],
            [
             0.3,
             "#f1b6da"
            ],
            [
             0.4,
             "#fde0ef"
            ],
            [
             0.5,
             "#f7f7f7"
            ],
            [
             0.6,
             "#e6f5d0"
            ],
            [
             0.7,
             "#b8e186"
            ],
            [
             0.8,
             "#7fbc41"
            ],
            [
             0.9,
             "#4d9221"
            ],
            [
             1,
             "#276419"
            ]
           ],
           "sequential": [
            [
             0,
             "#0d0887"
            ],
            [
             0.1111111111111111,
             "#46039f"
            ],
            [
             0.2222222222222222,
             "#7201a8"
            ],
            [
             0.3333333333333333,
             "#9c179e"
            ],
            [
             0.4444444444444444,
             "#bd3786"
            ],
            [
             0.5555555555555556,
             "#d8576b"
            ],
            [
             0.6666666666666666,
             "#ed7953"
            ],
            [
             0.7777777777777778,
             "#fb9f3a"
            ],
            [
             0.8888888888888888,
             "#fdca26"
            ],
            [
             1,
             "#f0f921"
            ]
           ],
           "sequentialminus": [
            [
             0,
             "#0d0887"
            ],
            [
             0.1111111111111111,
             "#46039f"
            ],
            [
             0.2222222222222222,
             "#7201a8"
            ],
            [
             0.3333333333333333,
             "#9c179e"
            ],
            [
             0.4444444444444444,
             "#bd3786"
            ],
            [
             0.5555555555555556,
             "#d8576b"
            ],
            [
             0.6666666666666666,
             "#ed7953"
            ],
            [
             0.7777777777777778,
             "#fb9f3a"
            ],
            [
             0.8888888888888888,
             "#fdca26"
            ],
            [
             1,
             "#f0f921"
            ]
           ]
          },
          "colorway": [
           "#636efa",
           "#EF553B",
           "#00cc96",
           "#ab63fa",
           "#FFA15A",
           "#19d3f3",
           "#FF6692",
           "#B6E880",
           "#FF97FF",
           "#FECB52"
          ],
          "font": {
           "color": "#2a3f5f"
          },
          "geo": {
           "bgcolor": "white",
           "lakecolor": "white",
           "landcolor": "#E5ECF6",
           "showlakes": true,
           "showland": true,
           "subunitcolor": "white"
          },
          "hoverlabel": {
           "align": "left"
          },
          "hovermode": "closest",
          "mapbox": {
           "style": "light"
          },
          "paper_bgcolor": "white",
          "plot_bgcolor": "#E5ECF6",
          "polar": {
           "angularaxis": {
            "gridcolor": "white",
            "linecolor": "white",
            "ticks": ""
           },
           "bgcolor": "#E5ECF6",
           "radialaxis": {
            "gridcolor": "white",
            "linecolor": "white",
            "ticks": ""
           }
          },
          "scene": {
           "xaxis": {
            "backgroundcolor": "#E5ECF6",
            "gridcolor": "white",
            "gridwidth": 2,
            "linecolor": "white",
            "showbackground": true,
            "ticks": "",
            "zerolinecolor": "white"
           },
           "yaxis": {
            "backgroundcolor": "#E5ECF6",
            "gridcolor": "white",
            "gridwidth": 2,
            "linecolor": "white",
            "showbackground": true,
            "ticks": "",
            "zerolinecolor": "white"
           },
           "zaxis": {
            "backgroundcolor": "#E5ECF6",
            "gridcolor": "white",
            "gridwidth": 2,
            "linecolor": "white",
            "showbackground": true,
            "ticks": "",
            "zerolinecolor": "white"
           }
          },
          "shapedefaults": {
           "line": {
            "color": "#2a3f5f"
           }
          },
          "ternary": {
           "aaxis": {
            "gridcolor": "white",
            "linecolor": "white",
            "ticks": ""
           },
           "baxis": {
            "gridcolor": "white",
            "linecolor": "white",
            "ticks": ""
           },
           "bgcolor": "#E5ECF6",
           "caxis": {
            "gridcolor": "white",
            "linecolor": "white",
            "ticks": ""
           }
          },
          "title": {
           "x": 0.05
          },
          "xaxis": {
           "automargin": true,
           "gridcolor": "white",
           "linecolor": "white",
           "ticks": "",
           "title": {
            "standoff": 15
           },
           "zerolinecolor": "white",
           "zerolinewidth": 2
          },
          "yaxis": {
           "automargin": true,
           "gridcolor": "white",
           "linecolor": "white",
           "ticks": "",
           "title": {
            "standoff": 15
           },
           "zerolinecolor": "white",
           "zerolinewidth": 2
          }
         }
        },
        "title": {
         "font": {
          "color": "#4D5663"
         }
        },
        "xaxis": {
         "anchor": "y",
         "domain": [
          0,
          0.2125
         ],
         "gridcolor": "#E1E5ED",
         "showgrid": false,
         "tickfont": {
          "color": "#4D5663"
         },
         "title": {
          "font": {
           "color": "#4D5663"
          },
          "text": ""
         },
         "zerolinecolor": "#E1E5ED"
        },
        "xaxis10": {
         "anchor": "y10",
         "domain": [
          0.2625,
          0.475
         ],
         "gridcolor": "#E1E5ED",
         "showgrid": false,
         "tickfont": {
          "color": "#4D5663"
         },
         "title": {
          "font": {
           "color": "#4D5663"
          },
          "text": ""
         },
         "zerolinecolor": "#E1E5ED"
        },
        "xaxis11": {
         "anchor": "y11",
         "domain": [
          0.525,
          0.7375
         ],
         "gridcolor": "#E1E5ED",
         "showgrid": false,
         "tickfont": {
          "color": "#4D5663"
         },
         "title": {
          "font": {
           "color": "#4D5663"
          },
          "text": ""
         },
         "zerolinecolor": "#E1E5ED"
        },
        "xaxis12": {
         "anchor": "y12",
         "domain": [
          0.7875,
          1
         ],
         "gridcolor": "#E1E5ED",
         "showgrid": false,
         "tickfont": {
          "color": "#4D5663"
         },
         "title": {
          "font": {
           "color": "#4D5663"
          },
          "text": ""
         },
         "zerolinecolor": "#E1E5ED"
        },
        "xaxis13": {
         "anchor": "y13",
         "domain": [
          0,
          0.2125
         ],
         "gridcolor": "#E1E5ED",
         "showgrid": false,
         "tickfont": {
          "color": "#4D5663"
         },
         "title": {
          "font": {
           "color": "#4D5663"
          },
          "text": ""
         },
         "zerolinecolor": "#E1E5ED"
        },
        "xaxis14": {
         "anchor": "y14",
         "domain": [
          0.2625,
          0.475
         ],
         "gridcolor": "#E1E5ED",
         "showgrid": false,
         "tickfont": {
          "color": "#4D5663"
         },
         "title": {
          "font": {
           "color": "#4D5663"
          },
          "text": ""
         },
         "zerolinecolor": "#E1E5ED"
        },
        "xaxis15": {
         "anchor": "y15",
         "domain": [
          0.525,
          0.7375
         ],
         "gridcolor": "#E1E5ED",
         "showgrid": false,
         "tickfont": {
          "color": "#4D5663"
         },
         "title": {
          "font": {
           "color": "#4D5663"
          },
          "text": ""
         },
         "zerolinecolor": "#E1E5ED"
        },
        "xaxis16": {
         "anchor": "y16",
         "domain": [
          0.7875,
          1
         ],
         "gridcolor": "#E1E5ED",
         "showgrid": false,
         "tickfont": {
          "color": "#4D5663"
         },
         "title": {
          "font": {
           "color": "#4D5663"
          },
          "text": ""
         },
         "zerolinecolor": "#E1E5ED"
        },
        "xaxis2": {
         "anchor": "y2",
         "domain": [
          0.2625,
          0.475
         ],
         "gridcolor": "#E1E5ED",
         "showgrid": false,
         "tickfont": {
          "color": "#4D5663"
         },
         "title": {
          "font": {
           "color": "#4D5663"
          },
          "text": ""
         },
         "zerolinecolor": "#E1E5ED"
        },
        "xaxis3": {
         "anchor": "y3",
         "domain": [
          0.525,
          0.7375
         ],
         "gridcolor": "#E1E5ED",
         "showgrid": false,
         "tickfont": {
          "color": "#4D5663"
         },
         "title": {
          "font": {
           "color": "#4D5663"
          },
          "text": ""
         },
         "zerolinecolor": "#E1E5ED"
        },
        "xaxis4": {
         "anchor": "y4",
         "domain": [
          0.7875,
          1
         ],
         "gridcolor": "#E1E5ED",
         "showgrid": false,
         "tickfont": {
          "color": "#4D5663"
         },
         "title": {
          "font": {
           "color": "#4D5663"
          },
          "text": ""
         },
         "zerolinecolor": "#E1E5ED"
        },
        "xaxis5": {
         "anchor": "y5",
         "domain": [
          0,
          0.2125
         ],
         "gridcolor": "#E1E5ED",
         "showgrid": false,
         "tickfont": {
          "color": "#4D5663"
         },
         "title": {
          "font": {
           "color": "#4D5663"
          },
          "text": ""
         },
         "zerolinecolor": "#E1E5ED"
        },
        "xaxis6": {
         "anchor": "y6",
         "domain": [
          0.2625,
          0.475
         ],
         "gridcolor": "#E1E5ED",
         "showgrid": false,
         "tickfont": {
          "color": "#4D5663"
         },
         "title": {
          "font": {
           "color": "#4D5663"
          },
          "text": ""
         },
         "zerolinecolor": "#E1E5ED"
        },
        "xaxis7": {
         "anchor": "y7",
         "domain": [
          0.525,
          0.7375
         ],
         "gridcolor": "#E1E5ED",
         "showgrid": false,
         "tickfont": {
          "color": "#4D5663"
         },
         "title": {
          "font": {
           "color": "#4D5663"
          },
          "text": ""
         },
         "zerolinecolor": "#E1E5ED"
        },
        "xaxis8": {
         "anchor": "y8",
         "domain": [
          0.7875,
          1
         ],
         "gridcolor": "#E1E5ED",
         "showgrid": false,
         "tickfont": {
          "color": "#4D5663"
         },
         "title": {
          "font": {
           "color": "#4D5663"
          },
          "text": ""
         },
         "zerolinecolor": "#E1E5ED"
        },
        "xaxis9": {
         "anchor": "y9",
         "domain": [
          0,
          0.2125
         ],
         "gridcolor": "#E1E5ED",
         "showgrid": false,
         "tickfont": {
          "color": "#4D5663"
         },
         "title": {
          "font": {
           "color": "#4D5663"
          },
          "text": ""
         },
         "zerolinecolor": "#E1E5ED"
        },
        "yaxis": {
         "anchor": "x",
         "domain": [
          0.8025,
          1
         ],
         "gridcolor": "#E1E5ED",
         "showgrid": false,
         "tickfont": {
          "color": "#4D5663"
         },
         "title": {
          "font": {
           "color": "#4D5663"
          },
          "text": ""
         },
         "zerolinecolor": "#E1E5ED"
        },
        "yaxis10": {
         "anchor": "x10",
         "domain": [
          0.2675,
          0.465
         ],
         "gridcolor": "#E1E5ED",
         "showgrid": false,
         "tickfont": {
          "color": "#4D5663"
         },
         "title": {
          "font": {
           "color": "#4D5663"
          },
          "text": ""
         },
         "zerolinecolor": "#E1E5ED"
        },
        "yaxis11": {
         "anchor": "x11",
         "domain": [
          0.2675,
          0.465
         ],
         "gridcolor": "#E1E5ED",
         "showgrid": false,
         "tickfont": {
          "color": "#4D5663"
         },
         "title": {
          "font": {
           "color": "#4D5663"
          },
          "text": ""
         },
         "zerolinecolor": "#E1E5ED"
        },
        "yaxis12": {
         "anchor": "x12",
         "domain": [
          0.2675,
          0.465
         ],
         "gridcolor": "#E1E5ED",
         "showgrid": false,
         "tickfont": {
          "color": "#4D5663"
         },
         "title": {
          "font": {
           "color": "#4D5663"
          },
          "text": ""
         },
         "zerolinecolor": "#E1E5ED"
        },
        "yaxis13": {
         "anchor": "x13",
         "domain": [
          0,
          0.1975
         ],
         "gridcolor": "#E1E5ED",
         "showgrid": false,
         "tickfont": {
          "color": "#4D5663"
         },
         "title": {
          "font": {
           "color": "#4D5663"
          },
          "text": ""
         },
         "zerolinecolor": "#E1E5ED"
        },
        "yaxis14": {
         "anchor": "x14",
         "domain": [
          0,
          0.1975
         ],
         "gridcolor": "#E1E5ED",
         "showgrid": false,
         "tickfont": {
          "color": "#4D5663"
         },
         "title": {
          "font": {
           "color": "#4D5663"
          },
          "text": ""
         },
         "zerolinecolor": "#E1E5ED"
        },
        "yaxis15": {
         "anchor": "x15",
         "domain": [
          0,
          0.1975
         ],
         "gridcolor": "#E1E5ED",
         "showgrid": false,
         "tickfont": {
          "color": "#4D5663"
         },
         "title": {
          "font": {
           "color": "#4D5663"
          },
          "text": ""
         },
         "zerolinecolor": "#E1E5ED"
        },
        "yaxis16": {
         "anchor": "x16",
         "domain": [
          0,
          0.1975
         ],
         "gridcolor": "#E1E5ED",
         "showgrid": false,
         "tickfont": {
          "color": "#4D5663"
         },
         "title": {
          "font": {
           "color": "#4D5663"
          },
          "text": ""
         },
         "zerolinecolor": "#E1E5ED"
        },
        "yaxis2": {
         "anchor": "x2",
         "domain": [
          0.8025,
          1
         ],
         "gridcolor": "#E1E5ED",
         "showgrid": false,
         "tickfont": {
          "color": "#4D5663"
         },
         "title": {
          "font": {
           "color": "#4D5663"
          },
          "text": ""
         },
         "zerolinecolor": "#E1E5ED"
        },
        "yaxis3": {
         "anchor": "x3",
         "domain": [
          0.8025,
          1
         ],
         "gridcolor": "#E1E5ED",
         "showgrid": false,
         "tickfont": {
          "color": "#4D5663"
         },
         "title": {
          "font": {
           "color": "#4D5663"
          },
          "text": ""
         },
         "zerolinecolor": "#E1E5ED"
        },
        "yaxis4": {
         "anchor": "x4",
         "domain": [
          0.8025,
          1
         ],
         "gridcolor": "#E1E5ED",
         "showgrid": false,
         "tickfont": {
          "color": "#4D5663"
         },
         "title": {
          "font": {
           "color": "#4D5663"
          },
          "text": ""
         },
         "zerolinecolor": "#E1E5ED"
        },
        "yaxis5": {
         "anchor": "x5",
         "domain": [
          0.535,
          0.7325
         ],
         "gridcolor": "#E1E5ED",
         "showgrid": false,
         "tickfont": {
          "color": "#4D5663"
         },
         "title": {
          "font": {
           "color": "#4D5663"
          },
          "text": ""
         },
         "zerolinecolor": "#E1E5ED"
        },
        "yaxis6": {
         "anchor": "x6",
         "domain": [
          0.535,
          0.7325
         ],
         "gridcolor": "#E1E5ED",
         "showgrid": false,
         "tickfont": {
          "color": "#4D5663"
         },
         "title": {
          "font": {
           "color": "#4D5663"
          },
          "text": ""
         },
         "zerolinecolor": "#E1E5ED"
        },
        "yaxis7": {
         "anchor": "x7",
         "domain": [
          0.535,
          0.7325
         ],
         "gridcolor": "#E1E5ED",
         "showgrid": false,
         "tickfont": {
          "color": "#4D5663"
         },
         "title": {
          "font": {
           "color": "#4D5663"
          },
          "text": ""
         },
         "zerolinecolor": "#E1E5ED"
        },
        "yaxis8": {
         "anchor": "x8",
         "domain": [
          0.535,
          0.7325
         ],
         "gridcolor": "#E1E5ED",
         "showgrid": false,
         "tickfont": {
          "color": "#4D5663"
         },
         "title": {
          "font": {
           "color": "#4D5663"
          },
          "text": ""
         },
         "zerolinecolor": "#E1E5ED"
        },
        "yaxis9": {
         "anchor": "x9",
         "domain": [
          0.2675,
          0.465
         ],
         "gridcolor": "#E1E5ED",
         "showgrid": false,
         "tickfont": {
          "color": "#4D5663"
         },
         "title": {
          "font": {
           "color": "#4D5663"
          },
          "text": ""
         },
         "zerolinecolor": "#E1E5ED"
        }
       }
      },
      "text/html": [
       "<div>\n",
       "        \n",
       "        \n",
       "            <div id=\"bc940bea-217c-4cf0-9aec-1bcf28719979\" class=\"plotly-graph-div\" style=\"height:525px; width:100%;\"></div>\n",
       "            <script type=\"text/javascript\">\n",
       "                require([\"plotly\"], function(Plotly) {\n",
       "                    window.PLOTLYENV=window.PLOTLYENV || {};\n",
       "                    window.PLOTLYENV.BASE_URL='https://plot.ly';\n",
       "                    \n",
       "                if (document.getElementById(\"bc940bea-217c-4cf0-9aec-1bcf28719979\")) {\n",
       "                    Plotly.newPlot(\n",
       "                        'bc940bea-217c-4cf0-9aec-1bcf28719979',\n",
       "                        [{\"histfunc\": \"count\", \"histnorm\": \"\", \"marker\": {\"color\": \"rgba(255, 153, 51, 1.0)\", \"line\": {\"color\": \"#4D5663\", \"width\": 1.3}}, \"name\": \"A\", \"nbinsx\": 10, \"opacity\": 0.8, \"orientation\": \"v\", \"type\": \"histogram\", \"x\": [0.6326127038985268, -0.14548579553446406, -0.34393948885963876, 0.3519190014943898, 0.7107141402638056, 0.054448005118226145, 0.31478965626513306, 1.9337649291692833, -2.4104902799178225, -1.2453604990808071, 1.098206494038972, -0.4728839209634316, 1.01350221056353, -1.2005069730171412, 2.2182955208107384, -0.5776216990016312, -1.4108161826851844, -0.7196052814859598, -0.8521024791986744, -2.395667214325212, 0.6135391862466687, -0.5459430342243888, -1.5060792667559042, 0.8667742499584937, -1.1701546987241738, -0.08603577043546688, -1.4225646891991002, 1.5097413246515126, -0.866990537216288, 0.36179214184957503, -0.045414828943426265, -1.1565623260261002, -0.3142975279995353, 0.27781931010361094, 0.13924531458794118, 0.5592464910210235, 1.4967131118300432, -1.2053072838699337, 0.9797694054889248, -0.8849615612000583, -0.3811985872358258, 1.2480856601545274, 0.21658187897293008, -0.6983120986704753, -0.4513805948645634, 0.5580842538719136, 1.7496795737545083, -0.9879645518593242, -0.06721474521065876, 0.5035528575835836, 0.6186851606665685, 0.0653038262993778, -2.3426270634798825, 0.647611947402595, 0.219685903854224, 0.9076116925247123, 0.27528312732947663, 0.8846370584865045, -0.4307631060841758, 1.6065913463104657, -0.3435107836865878, -1.2569208272167436, 1.1982153725983713, -0.5624178050751879, -1.7559287574848392, -0.774560168600139, 0.49075843422998716, 0.19013438750868822, -0.10736136841934604, -0.7563320343420211, -0.912488191626346, 0.47780470406373887, 0.46123054750740644, -1.170008389278726, 0.8208488063070032, 2.0708134558500015, 1.196023145719842, 1.0866936558250455, 2.174827703635172, 0.9464513781289309, -0.3847720587664325, 0.677896901070159, 0.3789629295966409, -0.40453211598778244, -1.4214106677209226, -2.000151170771465, 0.03448335811311445, -1.0288832751039005, -0.7060820996009419, -0.3984065438825475, 1.3183550006020213, 2.3746996644956346, 0.17237217908045094, -0.5356615988531053, -1.8134160233906358, 0.19096701764943314, -0.628185005053714, -1.8878773692036663, -0.4900468240812979, 0.48428326873581173], \"xaxis\": \"x\", \"yaxis\": \"y\"}, {\"line\": {\"color\": \"rgba(128, 128, 128, 1.0)\", \"dash\": \"solid\", \"shape\": \"linear\", \"width\": 1.3}, \"marker\": {\"size\": 2, \"symbol\": \"circle\"}, \"mode\": \"markers\", \"name\": \"A\", \"text\": \"\", \"type\": \"scatter\", \"x\": [0.47287525328590935, 1.4934017303137272, 1.3769689561121239, -1.082806198805133, 1.415383993887731, -0.3630025087659517, -1.2350824003044616, -0.9575111668958346, 2.231227192416702, -1.6084623988472704, 0.7913364725124696, 0.12465098765323646, 0.10894918249881126, 0.4188292865253416, -0.3759546225061773, 1.6154242647998716, 0.007024986301866887, 0.48872387432220804, -0.8369659719094297, -0.4903552585235138, 0.3177430027248012, -1.055949329045058, 0.7360791030638381, 0.44231956568828446, 1.379551114438425, -0.7040578920221393, -1.9764410307063434, -0.015693146946839435, -1.5263965880053936, -1.4117553120848472, -0.1577338525083378, -0.8517611323488851, -1.4980204859517279, -0.7702057758987122, 1.755599357290906, 1.5094512735227397, 1.533884269318763, -1.1810472462391852, 0.9382757897220223, -0.5151257903588647, -0.4392957343101481, -1.153578173417106, 2.4347154417229437, 0.6034691497870166, -0.7231130664783035, -0.8297448803780897, -1.1631465870895914, 1.5428997633806876, -1.0191242175698105, 0.8268133547092912, 0.8083868251389659, -0.3854591282744667, -0.14082691997477623, -0.22909359854768352, -1.2365501886677792, 0.4703021455822461, -0.5822269077491736, -0.6650515548694265, 2.1279524291773266, 0.6061821909283301, 1.494572989724752, 0.25232777878631363, -0.1231269099302736, 0.11394495935586213, -0.023669955254320904, -0.5176659477577575, -1.0857603251337256, 1.737308717738109, -1.0436899628847465, -0.6879722964306229, 1.0126343170065157, 1.2876047306599359, 0.21953780998443767, -1.2162680038144835, -1.0502292677821456, 0.29802020348819896, -0.08428480318130187, 1.1728931965510887, 0.09332553992905697, -1.5339657786541547, 0.5951725873193169, -1.0839064503073481, -0.15618747206624964, 2.670724273386493, 2.4178549773596645, -0.14076461292691836, -0.6143424139578396, -0.9776404663225262, 1.0063305123692763, -1.273882015570184, 0.37265711485326986, 0.37368948059456725, 0.3574924474090997, -0.14176054038778046, 0.04841555690054582, -0.11047329298795354, 1.346533423863622, 1.8677528397271093, -0.026572813425914166, 0.4409097288987755], \"xaxis\": \"x2\", \"y\": [0.6326127038985268, -0.14548579553446406, -0.34393948885963876, 0.3519190014943898, 0.7107141402638056, 0.054448005118226145, 0.31478965626513306, 1.9337649291692833, -2.4104902799178225, -1.2453604990808071, 1.098206494038972, -0.4728839209634316, 1.01350221056353, -1.2005069730171412, 2.2182955208107384, -0.5776216990016312, -1.4108161826851844, -0.7196052814859598, -0.8521024791986744, -2.395667214325212, 0.6135391862466687, -0.5459430342243888, -1.5060792667559042, 0.8667742499584937, -1.1701546987241738, -0.08603577043546688, -1.4225646891991002, 1.5097413246515126, -0.866990537216288, 0.36179214184957503, -0.045414828943426265, -1.1565623260261002, -0.3142975279995353, 0.27781931010361094, 0.13924531458794118, 0.5592464910210235, 1.4967131118300432, -1.2053072838699337, 0.9797694054889248, -0.8849615612000583, -0.3811985872358258, 1.2480856601545274, 0.21658187897293008, -0.6983120986704753, -0.4513805948645634, 0.5580842538719136, 1.7496795737545083, -0.9879645518593242, -0.06721474521065876, 0.5035528575835836, 0.6186851606665685, 0.0653038262993778, -2.3426270634798825, 0.647611947402595, 0.219685903854224, 0.9076116925247123, 0.27528312732947663, 0.8846370584865045, -0.4307631060841758, 1.6065913463104657, -0.3435107836865878, -1.2569208272167436, 1.1982153725983713, -0.5624178050751879, -1.7559287574848392, -0.774560168600139, 0.49075843422998716, 0.19013438750868822, -0.10736136841934604, -0.7563320343420211, -0.912488191626346, 0.47780470406373887, 0.46123054750740644, -1.170008389278726, 0.8208488063070032, 2.0708134558500015, 1.196023145719842, 1.0866936558250455, 2.174827703635172, 0.9464513781289309, -0.3847720587664325, 0.677896901070159, 0.3789629295966409, -0.40453211598778244, -1.4214106677209226, -2.000151170771465, 0.03448335811311445, -1.0288832751039005, -0.7060820996009419, -0.3984065438825475, 1.3183550006020213, 2.3746996644956346, 0.17237217908045094, -0.5356615988531053, -1.8134160233906358, 0.19096701764943314, -0.628185005053714, -1.8878773692036663, -0.4900468240812979, 0.48428326873581173], \"yaxis\": \"y2\"}, {\"line\": {\"color\": \"rgba(128, 128, 128, 1.0)\", \"dash\": \"solid\", \"shape\": \"linear\", \"width\": 1.3}, \"marker\": {\"size\": 2, \"symbol\": \"circle\"}, \"mode\": \"markers\", \"name\": \"A\", \"text\": \"\", \"type\": \"scatter\", \"x\": [0.1336209897126937, -0.4992371267880662, -0.16512310908818667, -0.1295384702581782, -0.07874797887224155, 0.07875858094324113, 0.28811971423413435, -2.2079018232129743, -1.0146574398707233, -0.3814968238916311, 0.3414756460122754, 0.408650279460541, 0.8598922725047933, -0.20456262918962018, 0.4269611660152145, 0.06053627104709375, -0.17112284284919663, -0.03278813861822154, 0.2964757692789343, -1.209610713025771, 1.065900461743466, 0.48484112110928695, -0.16522346354835155, 0.8342104652569393, 0.7378533369870373, 0.7381985329826927, 0.46270552251841596, -0.1290553079442758, -1.135822076599649, 2.5684353595070957, -2.1363512996225693, 0.7803326723102629, 0.5884926871116007, 0.2937806281485098, -0.3098944958212543, 1.7843829555701411, -2.7607141977076526, -0.7830869659191346, -0.1122573811119825, 0.1635382375667902, 1.1997795798187878, -0.5391302273292823, 1.6138354162384465, 2.8471656578452813, -0.2682656551450211, 0.2648442673225874, -1.128823767002499, -0.4791039027939159, 0.567986191017442, -0.3796912825703141, 0.9249146766825751, 1.1239087088143331, 0.5999003321458324, -0.658380738103747, -0.636079522958394, -0.7690187225387971, -0.1285569524323624, 0.42586814414867546, 1.970619872164675, 0.2687360684661637, -0.6535751187902171, -0.41052495675928347, 0.38656321015609985, -0.0329975125153401, 0.21986643801387779, -0.8862105560862736, -1.1472581491296907, 1.6876120880730845, 0.6739344840810829, 0.7527058130176251, -0.04770321882381908, -0.5046901458645002, -0.9704135809546783, 0.6192540593692433, -1.5970410896097227, 1.7424207967184293, 0.9417272380573213, -0.3421442085643456, 1.3629727213807563, 0.19608528683183574, 0.6179829214720435, -0.6342908072086635, 0.16485176829765466, 0.11259865657129008, 1.474878606696174, -0.6200093152528071, 1.023883374307354, 1.2312315215022325, 0.6837691534450063, 0.37710794268652054, -0.2674498995213668, 0.7252941939647042, -0.7212671495065622, -0.6570103158468624, 1.4713878944189351, 0.7803245805628188, -1.5015408621607405, -2.530041751262662, 2.913959469897591, 1.1162770114184026], \"xaxis\": \"x3\", \"y\": [0.6326127038985268, -0.14548579553446406, -0.34393948885963876, 0.3519190014943898, 0.7107141402638056, 0.054448005118226145, 0.31478965626513306, 1.9337649291692833, -2.4104902799178225, -1.2453604990808071, 1.098206494038972, -0.4728839209634316, 1.01350221056353, -1.2005069730171412, 2.2182955208107384, -0.5776216990016312, -1.4108161826851844, -0.7196052814859598, -0.8521024791986744, -2.395667214325212, 0.6135391862466687, -0.5459430342243888, -1.5060792667559042, 0.8667742499584937, -1.1701546987241738, -0.08603577043546688, -1.4225646891991002, 1.5097413246515126, -0.866990537216288, 0.36179214184957503, -0.045414828943426265, -1.1565623260261002, -0.3142975279995353, 0.27781931010361094, 0.13924531458794118, 0.5592464910210235, 1.4967131118300432, -1.2053072838699337, 0.9797694054889248, -0.8849615612000583, -0.3811985872358258, 1.2480856601545274, 0.21658187897293008, -0.6983120986704753, -0.4513805948645634, 0.5580842538719136, 1.7496795737545083, -0.9879645518593242, -0.06721474521065876, 0.5035528575835836, 0.6186851606665685, 0.0653038262993778, -2.3426270634798825, 0.647611947402595, 0.219685903854224, 0.9076116925247123, 0.27528312732947663, 0.8846370584865045, -0.4307631060841758, 1.6065913463104657, -0.3435107836865878, -1.2569208272167436, 1.1982153725983713, -0.5624178050751879, -1.7559287574848392, -0.774560168600139, 0.49075843422998716, 0.19013438750868822, -0.10736136841934604, -0.7563320343420211, -0.912488191626346, 0.47780470406373887, 0.46123054750740644, -1.170008389278726, 0.8208488063070032, 2.0708134558500015, 1.196023145719842, 1.0866936558250455, 2.174827703635172, 0.9464513781289309, -0.3847720587664325, 0.677896901070159, 0.3789629295966409, -0.40453211598778244, -1.4214106677209226, -2.000151170771465, 0.03448335811311445, -1.0288832751039005, -0.7060820996009419, -0.3984065438825475, 1.3183550006020213, 2.3746996644956346, 0.17237217908045094, -0.5356615988531053, -1.8134160233906358, 0.19096701764943314, -0.628185005053714, -1.8878773692036663, -0.4900468240812979, 0.48428326873581173], \"yaxis\": \"y3\"}, {\"line\": {\"color\": \"rgba(128, 128, 128, 1.0)\", \"dash\": \"solid\", \"shape\": \"linear\", \"width\": 1.3}, \"marker\": {\"size\": 2, \"symbol\": \"circle\"}, \"mode\": \"markers\", \"name\": \"A\", \"text\": \"\", \"type\": \"scatter\", \"x\": [-1.2143142774051094, 0.7341549688863328, -2.1878860019623114, 1.523497432194452, -0.8790555211989877, -0.13506651057964153, -0.7681521734240057, 1.9566987634853001, -0.5200154811389064, -1.5304730933671777, -0.49828564798699326, 0.6555190761224613, 2.154278261242067, -0.6121998740137635, -0.7998663651392912, -0.6592866329179047, -0.05618872584561294, 0.21659171674869485, -0.7723385025920696, -0.7664120512191052, -0.04706943950371657, -0.4804600175743437, 0.5477687172501202, 0.11974272875042269, 2.0478235234709428, 0.015801574609873074, 0.8911940632671225, 0.14138456809723465, 0.3751822146140036, 0.6604816124276893, 1.133297507272824, 0.03105811424544611, -0.3939010668393583, -0.5289250695258874, -0.0030741456840287333, -0.942428136817906, 0.7491177760914999, -0.7214531918806584, 1.3257182761338224, 0.43951512568561735, 0.06119399446360383, 1.5578142553938126, -1.7714458517215954, 0.6176215419004208, 0.8904488135986418, 0.4319773298830599, -1.1975350025652733, 0.10311510696201422, -0.45288522791520414, -1.3661216067944606, 1.9115685665069386, -1.9059862517401787, -1.5732033902448326, 0.9175075197051212, -0.1750872676091157, 0.7069954284479054, 1.6151957774432233, 1.3123132791091583, -0.6070514781704491, -0.24024848311517136, 2.020264416172281, 0.5372984098235004, 0.2872075418166681, 1.0305317214040148, -0.031030337080439823, 1.5736152240788512, 0.7521392808876696, -1.6781286566903064, 0.5056996327690947, -1.2002173110227408, -0.035267135484268027, 2.5627525331980126, 1.0299169286597165, -0.6417056912234721, -0.2022261648578561, -2.1438334840823114, 0.714635768571562, -0.8747588880778938, -0.5215663836892511, 1.344368978552044, -0.43947621697304984, 0.3163194487806835, 0.37871829012773384, 1.2232752732144858, 0.6203334619816994, 1.2884684026888376, -1.524978471243551, -0.11514969237394722, 0.8485650951801219, 1.363267079181013, 0.11956931273787397, 0.3139763044387687, 1.3100935940672593, 0.16354448905637342, 1.1544048734978776, 0.167518011825185, -0.03485812012422281, 0.20946433907831946, -0.8703639971561202, -1.6433341968767228], \"xaxis\": \"x4\", \"y\": [0.6326127038985268, -0.14548579553446406, -0.34393948885963876, 0.3519190014943898, 0.7107141402638056, 0.054448005118226145, 0.31478965626513306, 1.9337649291692833, -2.4104902799178225, -1.2453604990808071, 1.098206494038972, -0.4728839209634316, 1.01350221056353, -1.2005069730171412, 2.2182955208107384, -0.5776216990016312, -1.4108161826851844, -0.7196052814859598, -0.8521024791986744, -2.395667214325212, 0.6135391862466687, -0.5459430342243888, -1.5060792667559042, 0.8667742499584937, -1.1701546987241738, -0.08603577043546688, -1.4225646891991002, 1.5097413246515126, -0.866990537216288, 0.36179214184957503, -0.045414828943426265, -1.1565623260261002, -0.3142975279995353, 0.27781931010361094, 0.13924531458794118, 0.5592464910210235, 1.4967131118300432, -1.2053072838699337, 0.9797694054889248, -0.8849615612000583, -0.3811985872358258, 1.2480856601545274, 0.21658187897293008, -0.6983120986704753, -0.4513805948645634, 0.5580842538719136, 1.7496795737545083, -0.9879645518593242, -0.06721474521065876, 0.5035528575835836, 0.6186851606665685, 0.0653038262993778, -2.3426270634798825, 0.647611947402595, 0.219685903854224, 0.9076116925247123, 0.27528312732947663, 0.8846370584865045, -0.4307631060841758, 1.6065913463104657, -0.3435107836865878, -1.2569208272167436, 1.1982153725983713, -0.5624178050751879, -1.7559287574848392, -0.774560168600139, 0.49075843422998716, 0.19013438750868822, -0.10736136841934604, -0.7563320343420211, -0.912488191626346, 0.47780470406373887, 0.46123054750740644, -1.170008389278726, 0.8208488063070032, 2.0708134558500015, 1.196023145719842, 1.0866936558250455, 2.174827703635172, 0.9464513781289309, -0.3847720587664325, 0.677896901070159, 0.3789629295966409, -0.40453211598778244, -1.4214106677209226, -2.000151170771465, 0.03448335811311445, -1.0288832751039005, -0.7060820996009419, -0.3984065438825475, 1.3183550006020213, 2.3746996644956346, 0.17237217908045094, -0.5356615988531053, -1.8134160233906358, 0.19096701764943314, -0.628185005053714, -1.8878773692036663, -0.4900468240812979, 0.48428326873581173], \"yaxis\": \"y4\"}, {\"line\": {\"color\": \"rgba(128, 128, 128, 1.0)\", \"dash\": \"solid\", \"shape\": \"linear\", \"width\": 1.3}, \"marker\": {\"size\": 2, \"symbol\": \"circle\"}, \"mode\": \"markers\", \"name\": \"B\", \"text\": \"\", \"type\": \"scatter\", \"x\": [0.6326127038985268, -0.14548579553446406, -0.34393948885963876, 0.3519190014943898, 0.7107141402638056, 0.054448005118226145, 0.31478965626513306, 1.9337649291692833, -2.4104902799178225, -1.2453604990808071, 1.098206494038972, -0.4728839209634316, 1.01350221056353, -1.2005069730171412, 2.2182955208107384, -0.5776216990016312, -1.4108161826851844, -0.7196052814859598, -0.8521024791986744, -2.395667214325212, 0.6135391862466687, -0.5459430342243888, -1.5060792667559042, 0.8667742499584937, -1.1701546987241738, -0.08603577043546688, -1.4225646891991002, 1.5097413246515126, -0.866990537216288, 0.36179214184957503, -0.045414828943426265, -1.1565623260261002, -0.3142975279995353, 0.27781931010361094, 0.13924531458794118, 0.5592464910210235, 1.4967131118300432, -1.2053072838699337, 0.9797694054889248, -0.8849615612000583, -0.3811985872358258, 1.2480856601545274, 0.21658187897293008, -0.6983120986704753, -0.4513805948645634, 0.5580842538719136, 1.7496795737545083, -0.9879645518593242, -0.06721474521065876, 0.5035528575835836, 0.6186851606665685, 0.0653038262993778, -2.3426270634798825, 0.647611947402595, 0.219685903854224, 0.9076116925247123, 0.27528312732947663, 0.8846370584865045, -0.4307631060841758, 1.6065913463104657, -0.3435107836865878, -1.2569208272167436, 1.1982153725983713, -0.5624178050751879, -1.7559287574848392, -0.774560168600139, 0.49075843422998716, 0.19013438750868822, -0.10736136841934604, -0.7563320343420211, -0.912488191626346, 0.47780470406373887, 0.46123054750740644, -1.170008389278726, 0.8208488063070032, 2.0708134558500015, 1.196023145719842, 1.0866936558250455, 2.174827703635172, 0.9464513781289309, -0.3847720587664325, 0.677896901070159, 0.3789629295966409, -0.40453211598778244, -1.4214106677209226, -2.000151170771465, 0.03448335811311445, -1.0288832751039005, -0.7060820996009419, -0.3984065438825475, 1.3183550006020213, 2.3746996644956346, 0.17237217908045094, -0.5356615988531053, -1.8134160233906358, 0.19096701764943314, -0.628185005053714, -1.8878773692036663, -0.4900468240812979, 0.48428326873581173], \"xaxis\": \"x5\", \"y\": [0.47287525328590935, 1.4934017303137272, 1.3769689561121239, -1.082806198805133, 1.415383993887731, -0.3630025087659517, -1.2350824003044616, -0.9575111668958346, 2.231227192416702, -1.6084623988472704, 0.7913364725124696, 0.12465098765323646, 0.10894918249881126, 0.4188292865253416, -0.3759546225061773, 1.6154242647998716, 0.007024986301866887, 0.48872387432220804, -0.8369659719094297, -0.4903552585235138, 0.3177430027248012, -1.055949329045058, 0.7360791030638381, 0.44231956568828446, 1.379551114438425, -0.7040578920221393, -1.9764410307063434, -0.015693146946839435, -1.5263965880053936, -1.4117553120848472, -0.1577338525083378, -0.8517611323488851, -1.4980204859517279, -0.7702057758987122, 1.755599357290906, 1.5094512735227397, 1.533884269318763, -1.1810472462391852, 0.9382757897220223, -0.5151257903588647, -0.4392957343101481, -1.153578173417106, 2.4347154417229437, 0.6034691497870166, -0.7231130664783035, -0.8297448803780897, -1.1631465870895914, 1.5428997633806876, -1.0191242175698105, 0.8268133547092912, 0.8083868251389659, -0.3854591282744667, -0.14082691997477623, -0.22909359854768352, -1.2365501886677792, 0.4703021455822461, -0.5822269077491736, -0.6650515548694265, 2.1279524291773266, 0.6061821909283301, 1.494572989724752, 0.25232777878631363, -0.1231269099302736, 0.11394495935586213, -0.023669955254320904, -0.5176659477577575, -1.0857603251337256, 1.737308717738109, -1.0436899628847465, -0.6879722964306229, 1.0126343170065157, 1.2876047306599359, 0.21953780998443767, -1.2162680038144835, -1.0502292677821456, 0.29802020348819896, -0.08428480318130187, 1.1728931965510887, 0.09332553992905697, -1.5339657786541547, 0.5951725873193169, -1.0839064503073481, -0.15618747206624964, 2.670724273386493, 2.4178549773596645, -0.14076461292691836, -0.6143424139578396, -0.9776404663225262, 1.0063305123692763, -1.273882015570184, 0.37265711485326986, 0.37368948059456725, 0.3574924474090997, -0.14176054038778046, 0.04841555690054582, -0.11047329298795354, 1.346533423863622, 1.8677528397271093, -0.026572813425914166, 0.4409097288987755], \"yaxis\": \"y5\"}, {\"histfunc\": \"count\", \"histnorm\": \"\", \"marker\": {\"color\": \"rgba(55, 128, 191, 1.0)\", \"line\": {\"color\": \"#4D5663\", \"width\": 1.3}}, \"name\": \"B\", \"nbinsx\": 10, \"opacity\": 0.8, \"orientation\": \"v\", \"type\": \"histogram\", \"x\": [0.47287525328590935, 1.4934017303137272, 1.3769689561121239, -1.082806198805133, 1.415383993887731, -0.3630025087659517, -1.2350824003044616, -0.9575111668958346, 2.231227192416702, -1.6084623988472704, 0.7913364725124696, 0.12465098765323646, 0.10894918249881126, 0.4188292865253416, -0.3759546225061773, 1.6154242647998716, 0.007024986301866887, 0.48872387432220804, -0.8369659719094297, -0.4903552585235138, 0.3177430027248012, -1.055949329045058, 0.7360791030638381, 0.44231956568828446, 1.379551114438425, -0.7040578920221393, -1.9764410307063434, -0.015693146946839435, -1.5263965880053936, -1.4117553120848472, -0.1577338525083378, -0.8517611323488851, -1.4980204859517279, -0.7702057758987122, 1.755599357290906, 1.5094512735227397, 1.533884269318763, -1.1810472462391852, 0.9382757897220223, -0.5151257903588647, -0.4392957343101481, -1.153578173417106, 2.4347154417229437, 0.6034691497870166, -0.7231130664783035, -0.8297448803780897, -1.1631465870895914, 1.5428997633806876, -1.0191242175698105, 0.8268133547092912, 0.8083868251389659, -0.3854591282744667, -0.14082691997477623, -0.22909359854768352, -1.2365501886677792, 0.4703021455822461, -0.5822269077491736, -0.6650515548694265, 2.1279524291773266, 0.6061821909283301, 1.494572989724752, 0.25232777878631363, -0.1231269099302736, 0.11394495935586213, -0.023669955254320904, -0.5176659477577575, -1.0857603251337256, 1.737308717738109, -1.0436899628847465, -0.6879722964306229, 1.0126343170065157, 1.2876047306599359, 0.21953780998443767, -1.2162680038144835, -1.0502292677821456, 0.29802020348819896, -0.08428480318130187, 1.1728931965510887, 0.09332553992905697, -1.5339657786541547, 0.5951725873193169, -1.0839064503073481, -0.15618747206624964, 2.670724273386493, 2.4178549773596645, -0.14076461292691836, -0.6143424139578396, -0.9776404663225262, 1.0063305123692763, -1.273882015570184, 0.37265711485326986, 0.37368948059456725, 0.3574924474090997, -0.14176054038778046, 0.04841555690054582, -0.11047329298795354, 1.346533423863622, 1.8677528397271093, -0.026572813425914166, 0.4409097288987755], \"xaxis\": \"x6\", \"yaxis\": \"y6\"}, {\"line\": {\"color\": \"rgba(128, 128, 128, 1.0)\", \"dash\": \"solid\", \"shape\": \"linear\", \"width\": 1.3}, \"marker\": {\"size\": 2, \"symbol\": \"circle\"}, \"mode\": \"markers\", \"name\": \"B\", \"text\": \"\", \"type\": \"scatter\", \"x\": [0.1336209897126937, -0.4992371267880662, -0.16512310908818667, -0.1295384702581782, -0.07874797887224155, 0.07875858094324113, 0.28811971423413435, -2.2079018232129743, -1.0146574398707233, -0.3814968238916311, 0.3414756460122754, 0.408650279460541, 0.8598922725047933, -0.20456262918962018, 0.4269611660152145, 0.06053627104709375, -0.17112284284919663, -0.03278813861822154, 0.2964757692789343, -1.209610713025771, 1.065900461743466, 0.48484112110928695, -0.16522346354835155, 0.8342104652569393, 0.7378533369870373, 0.7381985329826927, 0.46270552251841596, -0.1290553079442758, -1.135822076599649, 2.5684353595070957, -2.1363512996225693, 0.7803326723102629, 0.5884926871116007, 0.2937806281485098, -0.3098944958212543, 1.7843829555701411, -2.7607141977076526, -0.7830869659191346, -0.1122573811119825, 0.1635382375667902, 1.1997795798187878, -0.5391302273292823, 1.6138354162384465, 2.8471656578452813, -0.2682656551450211, 0.2648442673225874, -1.128823767002499, -0.4791039027939159, 0.567986191017442, -0.3796912825703141, 0.9249146766825751, 1.1239087088143331, 0.5999003321458324, -0.658380738103747, -0.636079522958394, -0.7690187225387971, -0.1285569524323624, 0.42586814414867546, 1.970619872164675, 0.2687360684661637, -0.6535751187902171, -0.41052495675928347, 0.38656321015609985, -0.0329975125153401, 0.21986643801387779, -0.8862105560862736, -1.1472581491296907, 1.6876120880730845, 0.6739344840810829, 0.7527058130176251, -0.04770321882381908, -0.5046901458645002, -0.9704135809546783, 0.6192540593692433, -1.5970410896097227, 1.7424207967184293, 0.9417272380573213, -0.3421442085643456, 1.3629727213807563, 0.19608528683183574, 0.6179829214720435, -0.6342908072086635, 0.16485176829765466, 0.11259865657129008, 1.474878606696174, -0.6200093152528071, 1.023883374307354, 1.2312315215022325, 0.6837691534450063, 0.37710794268652054, -0.2674498995213668, 0.7252941939647042, -0.7212671495065622, -0.6570103158468624, 1.4713878944189351, 0.7803245805628188, -1.5015408621607405, -2.530041751262662, 2.913959469897591, 1.1162770114184026], \"xaxis\": \"x7\", \"y\": [0.47287525328590935, 1.4934017303137272, 1.3769689561121239, -1.082806198805133, 1.415383993887731, -0.3630025087659517, -1.2350824003044616, -0.9575111668958346, 2.231227192416702, -1.6084623988472704, 0.7913364725124696, 0.12465098765323646, 0.10894918249881126, 0.4188292865253416, -0.3759546225061773, 1.6154242647998716, 0.007024986301866887, 0.48872387432220804, -0.8369659719094297, -0.4903552585235138, 0.3177430027248012, -1.055949329045058, 0.7360791030638381, 0.44231956568828446, 1.379551114438425, -0.7040578920221393, -1.9764410307063434, -0.015693146946839435, -1.5263965880053936, -1.4117553120848472, -0.1577338525083378, -0.8517611323488851, -1.4980204859517279, -0.7702057758987122, 1.755599357290906, 1.5094512735227397, 1.533884269318763, -1.1810472462391852, 0.9382757897220223, -0.5151257903588647, -0.4392957343101481, -1.153578173417106, 2.4347154417229437, 0.6034691497870166, -0.7231130664783035, -0.8297448803780897, -1.1631465870895914, 1.5428997633806876, -1.0191242175698105, 0.8268133547092912, 0.8083868251389659, -0.3854591282744667, -0.14082691997477623, -0.22909359854768352, -1.2365501886677792, 0.4703021455822461, -0.5822269077491736, -0.6650515548694265, 2.1279524291773266, 0.6061821909283301, 1.494572989724752, 0.25232777878631363, -0.1231269099302736, 0.11394495935586213, -0.023669955254320904, -0.5176659477577575, -1.0857603251337256, 1.737308717738109, -1.0436899628847465, -0.6879722964306229, 1.0126343170065157, 1.2876047306599359, 0.21953780998443767, -1.2162680038144835, -1.0502292677821456, 0.29802020348819896, -0.08428480318130187, 1.1728931965510887, 0.09332553992905697, -1.5339657786541547, 0.5951725873193169, -1.0839064503073481, -0.15618747206624964, 2.670724273386493, 2.4178549773596645, -0.14076461292691836, -0.6143424139578396, -0.9776404663225262, 1.0063305123692763, -1.273882015570184, 0.37265711485326986, 0.37368948059456725, 0.3574924474090997, -0.14176054038778046, 0.04841555690054582, -0.11047329298795354, 1.346533423863622, 1.8677528397271093, -0.026572813425914166, 0.4409097288987755], \"yaxis\": \"y7\"}, {\"line\": {\"color\": \"rgba(128, 128, 128, 1.0)\", \"dash\": \"solid\", \"shape\": \"linear\", \"width\": 1.3}, \"marker\": {\"size\": 2, \"symbol\": \"circle\"}, \"mode\": \"markers\", \"name\": \"B\", \"text\": \"\", \"type\": \"scatter\", \"x\": [-1.2143142774051094, 0.7341549688863328, -2.1878860019623114, 1.523497432194452, -0.8790555211989877, -0.13506651057964153, -0.7681521734240057, 1.9566987634853001, -0.5200154811389064, -1.5304730933671777, -0.49828564798699326, 0.6555190761224613, 2.154278261242067, -0.6121998740137635, -0.7998663651392912, -0.6592866329179047, -0.05618872584561294, 0.21659171674869485, -0.7723385025920696, -0.7664120512191052, -0.04706943950371657, -0.4804600175743437, 0.5477687172501202, 0.11974272875042269, 2.0478235234709428, 0.015801574609873074, 0.8911940632671225, 0.14138456809723465, 0.3751822146140036, 0.6604816124276893, 1.133297507272824, 0.03105811424544611, -0.3939010668393583, -0.5289250695258874, -0.0030741456840287333, -0.942428136817906, 0.7491177760914999, -0.7214531918806584, 1.3257182761338224, 0.43951512568561735, 0.06119399446360383, 1.5578142553938126, -1.7714458517215954, 0.6176215419004208, 0.8904488135986418, 0.4319773298830599, -1.1975350025652733, 0.10311510696201422, -0.45288522791520414, -1.3661216067944606, 1.9115685665069386, -1.9059862517401787, -1.5732033902448326, 0.9175075197051212, -0.1750872676091157, 0.7069954284479054, 1.6151957774432233, 1.3123132791091583, -0.6070514781704491, -0.24024848311517136, 2.020264416172281, 0.5372984098235004, 0.2872075418166681, 1.0305317214040148, -0.031030337080439823, 1.5736152240788512, 0.7521392808876696, -1.6781286566903064, 0.5056996327690947, -1.2002173110227408, -0.035267135484268027, 2.5627525331980126, 1.0299169286597165, -0.6417056912234721, -0.2022261648578561, -2.1438334840823114, 0.714635768571562, -0.8747588880778938, -0.5215663836892511, 1.344368978552044, -0.43947621697304984, 0.3163194487806835, 0.37871829012773384, 1.2232752732144858, 0.6203334619816994, 1.2884684026888376, -1.524978471243551, -0.11514969237394722, 0.8485650951801219, 1.363267079181013, 0.11956931273787397, 0.3139763044387687, 1.3100935940672593, 0.16354448905637342, 1.1544048734978776, 0.167518011825185, -0.03485812012422281, 0.20946433907831946, -0.8703639971561202, -1.6433341968767228], \"xaxis\": \"x8\", \"y\": [0.47287525328590935, 1.4934017303137272, 1.3769689561121239, -1.082806198805133, 1.415383993887731, -0.3630025087659517, -1.2350824003044616, -0.9575111668958346, 2.231227192416702, -1.6084623988472704, 0.7913364725124696, 0.12465098765323646, 0.10894918249881126, 0.4188292865253416, -0.3759546225061773, 1.6154242647998716, 0.007024986301866887, 0.48872387432220804, -0.8369659719094297, -0.4903552585235138, 0.3177430027248012, -1.055949329045058, 0.7360791030638381, 0.44231956568828446, 1.379551114438425, -0.7040578920221393, -1.9764410307063434, -0.015693146946839435, -1.5263965880053936, -1.4117553120848472, -0.1577338525083378, -0.8517611323488851, -1.4980204859517279, -0.7702057758987122, 1.755599357290906, 1.5094512735227397, 1.533884269318763, -1.1810472462391852, 0.9382757897220223, -0.5151257903588647, -0.4392957343101481, -1.153578173417106, 2.4347154417229437, 0.6034691497870166, -0.7231130664783035, -0.8297448803780897, -1.1631465870895914, 1.5428997633806876, -1.0191242175698105, 0.8268133547092912, 0.8083868251389659, -0.3854591282744667, -0.14082691997477623, -0.22909359854768352, -1.2365501886677792, 0.4703021455822461, -0.5822269077491736, -0.6650515548694265, 2.1279524291773266, 0.6061821909283301, 1.494572989724752, 0.25232777878631363, -0.1231269099302736, 0.11394495935586213, -0.023669955254320904, -0.5176659477577575, -1.0857603251337256, 1.737308717738109, -1.0436899628847465, -0.6879722964306229, 1.0126343170065157, 1.2876047306599359, 0.21953780998443767, -1.2162680038144835, -1.0502292677821456, 0.29802020348819896, -0.08428480318130187, 1.1728931965510887, 0.09332553992905697, -1.5339657786541547, 0.5951725873193169, -1.0839064503073481, -0.15618747206624964, 2.670724273386493, 2.4178549773596645, -0.14076461292691836, -0.6143424139578396, -0.9776404663225262, 1.0063305123692763, -1.273882015570184, 0.37265711485326986, 0.37368948059456725, 0.3574924474090997, -0.14176054038778046, 0.04841555690054582, -0.11047329298795354, 1.346533423863622, 1.8677528397271093, -0.026572813425914166, 0.4409097288987755], \"yaxis\": \"y8\"}, {\"line\": {\"color\": \"rgba(128, 128, 128, 1.0)\", \"dash\": \"solid\", \"shape\": \"linear\", \"width\": 1.3}, \"marker\": {\"size\": 2, \"symbol\": \"circle\"}, \"mode\": \"markers\", \"name\": \"C\", \"text\": \"\", \"type\": \"scatter\", \"x\": [0.6326127038985268, -0.14548579553446406, -0.34393948885963876, 0.3519190014943898, 0.7107141402638056, 0.054448005118226145, 0.31478965626513306, 1.9337649291692833, -2.4104902799178225, -1.2453604990808071, 1.098206494038972, -0.4728839209634316, 1.01350221056353, -1.2005069730171412, 2.2182955208107384, -0.5776216990016312, -1.4108161826851844, -0.7196052814859598, -0.8521024791986744, -2.395667214325212, 0.6135391862466687, -0.5459430342243888, -1.5060792667559042, 0.8667742499584937, -1.1701546987241738, -0.08603577043546688, -1.4225646891991002, 1.5097413246515126, -0.866990537216288, 0.36179214184957503, -0.045414828943426265, -1.1565623260261002, -0.3142975279995353, 0.27781931010361094, 0.13924531458794118, 0.5592464910210235, 1.4967131118300432, -1.2053072838699337, 0.9797694054889248, -0.8849615612000583, -0.3811985872358258, 1.2480856601545274, 0.21658187897293008, -0.6983120986704753, -0.4513805948645634, 0.5580842538719136, 1.7496795737545083, -0.9879645518593242, -0.06721474521065876, 0.5035528575835836, 0.6186851606665685, 0.0653038262993778, -2.3426270634798825, 0.647611947402595, 0.219685903854224, 0.9076116925247123, 0.27528312732947663, 0.8846370584865045, -0.4307631060841758, 1.6065913463104657, -0.3435107836865878, -1.2569208272167436, 1.1982153725983713, -0.5624178050751879, -1.7559287574848392, -0.774560168600139, 0.49075843422998716, 0.19013438750868822, -0.10736136841934604, -0.7563320343420211, -0.912488191626346, 0.47780470406373887, 0.46123054750740644, -1.170008389278726, 0.8208488063070032, 2.0708134558500015, 1.196023145719842, 1.0866936558250455, 2.174827703635172, 0.9464513781289309, -0.3847720587664325, 0.677896901070159, 0.3789629295966409, -0.40453211598778244, -1.4214106677209226, -2.000151170771465, 0.03448335811311445, -1.0288832751039005, -0.7060820996009419, -0.3984065438825475, 1.3183550006020213, 2.3746996644956346, 0.17237217908045094, -0.5356615988531053, -1.8134160233906358, 0.19096701764943314, -0.628185005053714, -1.8878773692036663, -0.4900468240812979, 0.48428326873581173], \"xaxis\": \"x9\", \"y\": [0.1336209897126937, -0.4992371267880662, -0.16512310908818667, -0.1295384702581782, -0.07874797887224155, 0.07875858094324113, 0.28811971423413435, -2.2079018232129743, -1.0146574398707233, -0.3814968238916311, 0.3414756460122754, 0.408650279460541, 0.8598922725047933, -0.20456262918962018, 0.4269611660152145, 0.06053627104709375, -0.17112284284919663, -0.03278813861822154, 0.2964757692789343, -1.209610713025771, 1.065900461743466, 0.48484112110928695, -0.16522346354835155, 0.8342104652569393, 0.7378533369870373, 0.7381985329826927, 0.46270552251841596, -0.1290553079442758, -1.135822076599649, 2.5684353595070957, -2.1363512996225693, 0.7803326723102629, 0.5884926871116007, 0.2937806281485098, -0.3098944958212543, 1.7843829555701411, -2.7607141977076526, -0.7830869659191346, -0.1122573811119825, 0.1635382375667902, 1.1997795798187878, -0.5391302273292823, 1.6138354162384465, 2.8471656578452813, -0.2682656551450211, 0.2648442673225874, -1.128823767002499, -0.4791039027939159, 0.567986191017442, -0.3796912825703141, 0.9249146766825751, 1.1239087088143331, 0.5999003321458324, -0.658380738103747, -0.636079522958394, -0.7690187225387971, -0.1285569524323624, 0.42586814414867546, 1.970619872164675, 0.2687360684661637, -0.6535751187902171, -0.41052495675928347, 0.38656321015609985, -0.0329975125153401, 0.21986643801387779, -0.8862105560862736, -1.1472581491296907, 1.6876120880730845, 0.6739344840810829, 0.7527058130176251, -0.04770321882381908, -0.5046901458645002, -0.9704135809546783, 0.6192540593692433, -1.5970410896097227, 1.7424207967184293, 0.9417272380573213, -0.3421442085643456, 1.3629727213807563, 0.19608528683183574, 0.6179829214720435, -0.6342908072086635, 0.16485176829765466, 0.11259865657129008, 1.474878606696174, -0.6200093152528071, 1.023883374307354, 1.2312315215022325, 0.6837691534450063, 0.37710794268652054, -0.2674498995213668, 0.7252941939647042, -0.7212671495065622, -0.6570103158468624, 1.4713878944189351, 0.7803245805628188, -1.5015408621607405, -2.530041751262662, 2.913959469897591, 1.1162770114184026], \"yaxis\": \"y9\"}, {\"line\": {\"color\": \"rgba(128, 128, 128, 1.0)\", \"dash\": \"solid\", \"shape\": \"linear\", \"width\": 1.3}, \"marker\": {\"size\": 2, \"symbol\": \"circle\"}, \"mode\": \"markers\", \"name\": \"C\", \"text\": \"\", \"type\": \"scatter\", \"x\": [0.47287525328590935, 1.4934017303137272, 1.3769689561121239, -1.082806198805133, 1.415383993887731, -0.3630025087659517, -1.2350824003044616, -0.9575111668958346, 2.231227192416702, -1.6084623988472704, 0.7913364725124696, 0.12465098765323646, 0.10894918249881126, 0.4188292865253416, -0.3759546225061773, 1.6154242647998716, 0.007024986301866887, 0.48872387432220804, -0.8369659719094297, -0.4903552585235138, 0.3177430027248012, -1.055949329045058, 0.7360791030638381, 0.44231956568828446, 1.379551114438425, -0.7040578920221393, -1.9764410307063434, -0.015693146946839435, -1.5263965880053936, -1.4117553120848472, -0.1577338525083378, -0.8517611323488851, -1.4980204859517279, -0.7702057758987122, 1.755599357290906, 1.5094512735227397, 1.533884269318763, -1.1810472462391852, 0.9382757897220223, -0.5151257903588647, -0.4392957343101481, -1.153578173417106, 2.4347154417229437, 0.6034691497870166, -0.7231130664783035, -0.8297448803780897, -1.1631465870895914, 1.5428997633806876, -1.0191242175698105, 0.8268133547092912, 0.8083868251389659, -0.3854591282744667, -0.14082691997477623, -0.22909359854768352, -1.2365501886677792, 0.4703021455822461, -0.5822269077491736, -0.6650515548694265, 2.1279524291773266, 0.6061821909283301, 1.494572989724752, 0.25232777878631363, -0.1231269099302736, 0.11394495935586213, -0.023669955254320904, -0.5176659477577575, -1.0857603251337256, 1.737308717738109, -1.0436899628847465, -0.6879722964306229, 1.0126343170065157, 1.2876047306599359, 0.21953780998443767, -1.2162680038144835, -1.0502292677821456, 0.29802020348819896, -0.08428480318130187, 1.1728931965510887, 0.09332553992905697, -1.5339657786541547, 0.5951725873193169, -1.0839064503073481, -0.15618747206624964, 2.670724273386493, 2.4178549773596645, -0.14076461292691836, -0.6143424139578396, -0.9776404663225262, 1.0063305123692763, -1.273882015570184, 0.37265711485326986, 0.37368948059456725, 0.3574924474090997, -0.14176054038778046, 0.04841555690054582, -0.11047329298795354, 1.346533423863622, 1.8677528397271093, -0.026572813425914166, 0.4409097288987755], \"xaxis\": \"x10\", \"y\": [0.1336209897126937, -0.4992371267880662, -0.16512310908818667, -0.1295384702581782, -0.07874797887224155, 0.07875858094324113, 0.28811971423413435, -2.2079018232129743, -1.0146574398707233, -0.3814968238916311, 0.3414756460122754, 0.408650279460541, 0.8598922725047933, -0.20456262918962018, 0.4269611660152145, 0.06053627104709375, -0.17112284284919663, -0.03278813861822154, 0.2964757692789343, -1.209610713025771, 1.065900461743466, 0.48484112110928695, -0.16522346354835155, 0.8342104652569393, 0.7378533369870373, 0.7381985329826927, 0.46270552251841596, -0.1290553079442758, -1.135822076599649, 2.5684353595070957, -2.1363512996225693, 0.7803326723102629, 0.5884926871116007, 0.2937806281485098, -0.3098944958212543, 1.7843829555701411, -2.7607141977076526, -0.7830869659191346, -0.1122573811119825, 0.1635382375667902, 1.1997795798187878, -0.5391302273292823, 1.6138354162384465, 2.8471656578452813, -0.2682656551450211, 0.2648442673225874, -1.128823767002499, -0.4791039027939159, 0.567986191017442, -0.3796912825703141, 0.9249146766825751, 1.1239087088143331, 0.5999003321458324, -0.658380738103747, -0.636079522958394, -0.7690187225387971, -0.1285569524323624, 0.42586814414867546, 1.970619872164675, 0.2687360684661637, -0.6535751187902171, -0.41052495675928347, 0.38656321015609985, -0.0329975125153401, 0.21986643801387779, -0.8862105560862736, -1.1472581491296907, 1.6876120880730845, 0.6739344840810829, 0.7527058130176251, -0.04770321882381908, -0.5046901458645002, -0.9704135809546783, 0.6192540593692433, -1.5970410896097227, 1.7424207967184293, 0.9417272380573213, -0.3421442085643456, 1.3629727213807563, 0.19608528683183574, 0.6179829214720435, -0.6342908072086635, 0.16485176829765466, 0.11259865657129008, 1.474878606696174, -0.6200093152528071, 1.023883374307354, 1.2312315215022325, 0.6837691534450063, 0.37710794268652054, -0.2674498995213668, 0.7252941939647042, -0.7212671495065622, -0.6570103158468624, 1.4713878944189351, 0.7803245805628188, -1.5015408621607405, -2.530041751262662, 2.913959469897591, 1.1162770114184026], \"yaxis\": \"y10\"}, {\"histfunc\": \"count\", \"histnorm\": \"\", \"marker\": {\"color\": \"rgba(50, 171, 96, 1.0)\", \"line\": {\"color\": \"#4D5663\", \"width\": 1.3}}, \"name\": \"C\", \"nbinsx\": 10, \"opacity\": 0.8, \"orientation\": \"v\", \"type\": \"histogram\", \"x\": [0.1336209897126937, -0.4992371267880662, -0.16512310908818667, -0.1295384702581782, -0.07874797887224155, 0.07875858094324113, 0.28811971423413435, -2.2079018232129743, -1.0146574398707233, -0.3814968238916311, 0.3414756460122754, 0.408650279460541, 0.8598922725047933, -0.20456262918962018, 0.4269611660152145, 0.06053627104709375, -0.17112284284919663, -0.03278813861822154, 0.2964757692789343, -1.209610713025771, 1.065900461743466, 0.48484112110928695, -0.16522346354835155, 0.8342104652569393, 0.7378533369870373, 0.7381985329826927, 0.46270552251841596, -0.1290553079442758, -1.135822076599649, 2.5684353595070957, -2.1363512996225693, 0.7803326723102629, 0.5884926871116007, 0.2937806281485098, -0.3098944958212543, 1.7843829555701411, -2.7607141977076526, -0.7830869659191346, -0.1122573811119825, 0.1635382375667902, 1.1997795798187878, -0.5391302273292823, 1.6138354162384465, 2.8471656578452813, -0.2682656551450211, 0.2648442673225874, -1.128823767002499, -0.4791039027939159, 0.567986191017442, -0.3796912825703141, 0.9249146766825751, 1.1239087088143331, 0.5999003321458324, -0.658380738103747, -0.636079522958394, -0.7690187225387971, -0.1285569524323624, 0.42586814414867546, 1.970619872164675, 0.2687360684661637, -0.6535751187902171, -0.41052495675928347, 0.38656321015609985, -0.0329975125153401, 0.21986643801387779, -0.8862105560862736, -1.1472581491296907, 1.6876120880730845, 0.6739344840810829, 0.7527058130176251, -0.04770321882381908, -0.5046901458645002, -0.9704135809546783, 0.6192540593692433, -1.5970410896097227, 1.7424207967184293, 0.9417272380573213, -0.3421442085643456, 1.3629727213807563, 0.19608528683183574, 0.6179829214720435, -0.6342908072086635, 0.16485176829765466, 0.11259865657129008, 1.474878606696174, -0.6200093152528071, 1.023883374307354, 1.2312315215022325, 0.6837691534450063, 0.37710794268652054, -0.2674498995213668, 0.7252941939647042, -0.7212671495065622, -0.6570103158468624, 1.4713878944189351, 0.7803245805628188, -1.5015408621607405, -2.530041751262662, 2.913959469897591, 1.1162770114184026], \"xaxis\": \"x11\", \"yaxis\": \"y11\"}, {\"line\": {\"color\": \"rgba(128, 128, 128, 1.0)\", \"dash\": \"solid\", \"shape\": \"linear\", \"width\": 1.3}, \"marker\": {\"size\": 2, \"symbol\": \"circle\"}, \"mode\": \"markers\", \"name\": \"C\", \"text\": \"\", \"type\": \"scatter\", \"x\": [-1.2143142774051094, 0.7341549688863328, -2.1878860019623114, 1.523497432194452, -0.8790555211989877, -0.13506651057964153, -0.7681521734240057, 1.9566987634853001, -0.5200154811389064, -1.5304730933671777, -0.49828564798699326, 0.6555190761224613, 2.154278261242067, -0.6121998740137635, -0.7998663651392912, -0.6592866329179047, -0.05618872584561294, 0.21659171674869485, -0.7723385025920696, -0.7664120512191052, -0.04706943950371657, -0.4804600175743437, 0.5477687172501202, 0.11974272875042269, 2.0478235234709428, 0.015801574609873074, 0.8911940632671225, 0.14138456809723465, 0.3751822146140036, 0.6604816124276893, 1.133297507272824, 0.03105811424544611, -0.3939010668393583, -0.5289250695258874, -0.0030741456840287333, -0.942428136817906, 0.7491177760914999, -0.7214531918806584, 1.3257182761338224, 0.43951512568561735, 0.06119399446360383, 1.5578142553938126, -1.7714458517215954, 0.6176215419004208, 0.8904488135986418, 0.4319773298830599, -1.1975350025652733, 0.10311510696201422, -0.45288522791520414, -1.3661216067944606, 1.9115685665069386, -1.9059862517401787, -1.5732033902448326, 0.9175075197051212, -0.1750872676091157, 0.7069954284479054, 1.6151957774432233, 1.3123132791091583, -0.6070514781704491, -0.24024848311517136, 2.020264416172281, 0.5372984098235004, 0.2872075418166681, 1.0305317214040148, -0.031030337080439823, 1.5736152240788512, 0.7521392808876696, -1.6781286566903064, 0.5056996327690947, -1.2002173110227408, -0.035267135484268027, 2.5627525331980126, 1.0299169286597165, -0.6417056912234721, -0.2022261648578561, -2.1438334840823114, 0.714635768571562, -0.8747588880778938, -0.5215663836892511, 1.344368978552044, -0.43947621697304984, 0.3163194487806835, 0.37871829012773384, 1.2232752732144858, 0.6203334619816994, 1.2884684026888376, -1.524978471243551, -0.11514969237394722, 0.8485650951801219, 1.363267079181013, 0.11956931273787397, 0.3139763044387687, 1.3100935940672593, 0.16354448905637342, 1.1544048734978776, 0.167518011825185, -0.03485812012422281, 0.20946433907831946, -0.8703639971561202, -1.6433341968767228], \"xaxis\": \"x12\", \"y\": [0.1336209897126937, -0.4992371267880662, -0.16512310908818667, -0.1295384702581782, -0.07874797887224155, 0.07875858094324113, 0.28811971423413435, -2.2079018232129743, -1.0146574398707233, -0.3814968238916311, 0.3414756460122754, 0.408650279460541, 0.8598922725047933, -0.20456262918962018, 0.4269611660152145, 0.06053627104709375, -0.17112284284919663, -0.03278813861822154, 0.2964757692789343, -1.209610713025771, 1.065900461743466, 0.48484112110928695, -0.16522346354835155, 0.8342104652569393, 0.7378533369870373, 0.7381985329826927, 0.46270552251841596, -0.1290553079442758, -1.135822076599649, 2.5684353595070957, -2.1363512996225693, 0.7803326723102629, 0.5884926871116007, 0.2937806281485098, -0.3098944958212543, 1.7843829555701411, -2.7607141977076526, -0.7830869659191346, -0.1122573811119825, 0.1635382375667902, 1.1997795798187878, -0.5391302273292823, 1.6138354162384465, 2.8471656578452813, -0.2682656551450211, 0.2648442673225874, -1.128823767002499, -0.4791039027939159, 0.567986191017442, -0.3796912825703141, 0.9249146766825751, 1.1239087088143331, 0.5999003321458324, -0.658380738103747, -0.636079522958394, -0.7690187225387971, -0.1285569524323624, 0.42586814414867546, 1.970619872164675, 0.2687360684661637, -0.6535751187902171, -0.41052495675928347, 0.38656321015609985, -0.0329975125153401, 0.21986643801387779, -0.8862105560862736, -1.1472581491296907, 1.6876120880730845, 0.6739344840810829, 0.7527058130176251, -0.04770321882381908, -0.5046901458645002, -0.9704135809546783, 0.6192540593692433, -1.5970410896097227, 1.7424207967184293, 0.9417272380573213, -0.3421442085643456, 1.3629727213807563, 0.19608528683183574, 0.6179829214720435, -0.6342908072086635, 0.16485176829765466, 0.11259865657129008, 1.474878606696174, -0.6200093152528071, 1.023883374307354, 1.2312315215022325, 0.6837691534450063, 0.37710794268652054, -0.2674498995213668, 0.7252941939647042, -0.7212671495065622, -0.6570103158468624, 1.4713878944189351, 0.7803245805628188, -1.5015408621607405, -2.530041751262662, 2.913959469897591, 1.1162770114184026], \"yaxis\": \"y12\"}, {\"line\": {\"color\": \"rgba(128, 128, 128, 1.0)\", \"dash\": \"solid\", \"shape\": \"linear\", \"width\": 1.3}, \"marker\": {\"size\": 2, \"symbol\": \"circle\"}, \"mode\": \"markers\", \"name\": \"D\", \"text\": \"\", \"type\": \"scatter\", \"x\": [0.6326127038985268, -0.14548579553446406, -0.34393948885963876, 0.3519190014943898, 0.7107141402638056, 0.054448005118226145, 0.31478965626513306, 1.9337649291692833, -2.4104902799178225, -1.2453604990808071, 1.098206494038972, -0.4728839209634316, 1.01350221056353, -1.2005069730171412, 2.2182955208107384, -0.5776216990016312, -1.4108161826851844, -0.7196052814859598, -0.8521024791986744, -2.395667214325212, 0.6135391862466687, -0.5459430342243888, -1.5060792667559042, 0.8667742499584937, -1.1701546987241738, -0.08603577043546688, -1.4225646891991002, 1.5097413246515126, -0.866990537216288, 0.36179214184957503, -0.045414828943426265, -1.1565623260261002, -0.3142975279995353, 0.27781931010361094, 0.13924531458794118, 0.5592464910210235, 1.4967131118300432, -1.2053072838699337, 0.9797694054889248, -0.8849615612000583, -0.3811985872358258, 1.2480856601545274, 0.21658187897293008, -0.6983120986704753, -0.4513805948645634, 0.5580842538719136, 1.7496795737545083, -0.9879645518593242, -0.06721474521065876, 0.5035528575835836, 0.6186851606665685, 0.0653038262993778, -2.3426270634798825, 0.647611947402595, 0.219685903854224, 0.9076116925247123, 0.27528312732947663, 0.8846370584865045, -0.4307631060841758, 1.6065913463104657, -0.3435107836865878, -1.2569208272167436, 1.1982153725983713, -0.5624178050751879, -1.7559287574848392, -0.774560168600139, 0.49075843422998716, 0.19013438750868822, -0.10736136841934604, -0.7563320343420211, -0.912488191626346, 0.47780470406373887, 0.46123054750740644, -1.170008389278726, 0.8208488063070032, 2.0708134558500015, 1.196023145719842, 1.0866936558250455, 2.174827703635172, 0.9464513781289309, -0.3847720587664325, 0.677896901070159, 0.3789629295966409, -0.40453211598778244, -1.4214106677209226, -2.000151170771465, 0.03448335811311445, -1.0288832751039005, -0.7060820996009419, -0.3984065438825475, 1.3183550006020213, 2.3746996644956346, 0.17237217908045094, -0.5356615988531053, -1.8134160233906358, 0.19096701764943314, -0.628185005053714, -1.8878773692036663, -0.4900468240812979, 0.48428326873581173], \"xaxis\": \"x13\", \"y\": [-1.2143142774051094, 0.7341549688863328, -2.1878860019623114, 1.523497432194452, -0.8790555211989877, -0.13506651057964153, -0.7681521734240057, 1.9566987634853001, -0.5200154811389064, -1.5304730933671777, -0.49828564798699326, 0.6555190761224613, 2.154278261242067, -0.6121998740137635, -0.7998663651392912, -0.6592866329179047, -0.05618872584561294, 0.21659171674869485, -0.7723385025920696, -0.7664120512191052, -0.04706943950371657, -0.4804600175743437, 0.5477687172501202, 0.11974272875042269, 2.0478235234709428, 0.015801574609873074, 0.8911940632671225, 0.14138456809723465, 0.3751822146140036, 0.6604816124276893, 1.133297507272824, 0.03105811424544611, -0.3939010668393583, -0.5289250695258874, -0.0030741456840287333, -0.942428136817906, 0.7491177760914999, -0.7214531918806584, 1.3257182761338224, 0.43951512568561735, 0.06119399446360383, 1.5578142553938126, -1.7714458517215954, 0.6176215419004208, 0.8904488135986418, 0.4319773298830599, -1.1975350025652733, 0.10311510696201422, -0.45288522791520414, -1.3661216067944606, 1.9115685665069386, -1.9059862517401787, -1.5732033902448326, 0.9175075197051212, -0.1750872676091157, 0.7069954284479054, 1.6151957774432233, 1.3123132791091583, -0.6070514781704491, -0.24024848311517136, 2.020264416172281, 0.5372984098235004, 0.2872075418166681, 1.0305317214040148, -0.031030337080439823, 1.5736152240788512, 0.7521392808876696, -1.6781286566903064, 0.5056996327690947, -1.2002173110227408, -0.035267135484268027, 2.5627525331980126, 1.0299169286597165, -0.6417056912234721, -0.2022261648578561, -2.1438334840823114, 0.714635768571562, -0.8747588880778938, -0.5215663836892511, 1.344368978552044, -0.43947621697304984, 0.3163194487806835, 0.37871829012773384, 1.2232752732144858, 0.6203334619816994, 1.2884684026888376, -1.524978471243551, -0.11514969237394722, 0.8485650951801219, 1.363267079181013, 0.11956931273787397, 0.3139763044387687, 1.3100935940672593, 0.16354448905637342, 1.1544048734978776, 0.167518011825185, -0.03485812012422281, 0.20946433907831946, -0.8703639971561202, -1.6433341968767228], \"yaxis\": \"y13\"}, {\"line\": {\"color\": \"rgba(128, 128, 128, 1.0)\", \"dash\": \"solid\", \"shape\": \"linear\", \"width\": 1.3}, \"marker\": {\"size\": 2, \"symbol\": \"circle\"}, \"mode\": \"markers\", \"name\": \"D\", \"text\": \"\", \"type\": \"scatter\", \"x\": [0.47287525328590935, 1.4934017303137272, 1.3769689561121239, -1.082806198805133, 1.415383993887731, -0.3630025087659517, -1.2350824003044616, -0.9575111668958346, 2.231227192416702, -1.6084623988472704, 0.7913364725124696, 0.12465098765323646, 0.10894918249881126, 0.4188292865253416, -0.3759546225061773, 1.6154242647998716, 0.007024986301866887, 0.48872387432220804, -0.8369659719094297, -0.4903552585235138, 0.3177430027248012, -1.055949329045058, 0.7360791030638381, 0.44231956568828446, 1.379551114438425, -0.7040578920221393, -1.9764410307063434, -0.015693146946839435, -1.5263965880053936, -1.4117553120848472, -0.1577338525083378, -0.8517611323488851, -1.4980204859517279, -0.7702057758987122, 1.755599357290906, 1.5094512735227397, 1.533884269318763, -1.1810472462391852, 0.9382757897220223, -0.5151257903588647, -0.4392957343101481, -1.153578173417106, 2.4347154417229437, 0.6034691497870166, -0.7231130664783035, -0.8297448803780897, -1.1631465870895914, 1.5428997633806876, -1.0191242175698105, 0.8268133547092912, 0.8083868251389659, -0.3854591282744667, -0.14082691997477623, -0.22909359854768352, -1.2365501886677792, 0.4703021455822461, -0.5822269077491736, -0.6650515548694265, 2.1279524291773266, 0.6061821909283301, 1.494572989724752, 0.25232777878631363, -0.1231269099302736, 0.11394495935586213, -0.023669955254320904, -0.5176659477577575, -1.0857603251337256, 1.737308717738109, -1.0436899628847465, -0.6879722964306229, 1.0126343170065157, 1.2876047306599359, 0.21953780998443767, -1.2162680038144835, -1.0502292677821456, 0.29802020348819896, -0.08428480318130187, 1.1728931965510887, 0.09332553992905697, -1.5339657786541547, 0.5951725873193169, -1.0839064503073481, -0.15618747206624964, 2.670724273386493, 2.4178549773596645, -0.14076461292691836, -0.6143424139578396, -0.9776404663225262, 1.0063305123692763, -1.273882015570184, 0.37265711485326986, 0.37368948059456725, 0.3574924474090997, -0.14176054038778046, 0.04841555690054582, -0.11047329298795354, 1.346533423863622, 1.8677528397271093, -0.026572813425914166, 0.4409097288987755], \"xaxis\": \"x14\", \"y\": [-1.2143142774051094, 0.7341549688863328, -2.1878860019623114, 1.523497432194452, -0.8790555211989877, -0.13506651057964153, -0.7681521734240057, 1.9566987634853001, -0.5200154811389064, -1.5304730933671777, -0.49828564798699326, 0.6555190761224613, 2.154278261242067, -0.6121998740137635, -0.7998663651392912, -0.6592866329179047, -0.05618872584561294, 0.21659171674869485, -0.7723385025920696, -0.7664120512191052, -0.04706943950371657, -0.4804600175743437, 0.5477687172501202, 0.11974272875042269, 2.0478235234709428, 0.015801574609873074, 0.8911940632671225, 0.14138456809723465, 0.3751822146140036, 0.6604816124276893, 1.133297507272824, 0.03105811424544611, -0.3939010668393583, -0.5289250695258874, -0.0030741456840287333, -0.942428136817906, 0.7491177760914999, -0.7214531918806584, 1.3257182761338224, 0.43951512568561735, 0.06119399446360383, 1.5578142553938126, -1.7714458517215954, 0.6176215419004208, 0.8904488135986418, 0.4319773298830599, -1.1975350025652733, 0.10311510696201422, -0.45288522791520414, -1.3661216067944606, 1.9115685665069386, -1.9059862517401787, -1.5732033902448326, 0.9175075197051212, -0.1750872676091157, 0.7069954284479054, 1.6151957774432233, 1.3123132791091583, -0.6070514781704491, -0.24024848311517136, 2.020264416172281, 0.5372984098235004, 0.2872075418166681, 1.0305317214040148, -0.031030337080439823, 1.5736152240788512, 0.7521392808876696, -1.6781286566903064, 0.5056996327690947, -1.2002173110227408, -0.035267135484268027, 2.5627525331980126, 1.0299169286597165, -0.6417056912234721, -0.2022261648578561, -2.1438334840823114, 0.714635768571562, -0.8747588880778938, -0.5215663836892511, 1.344368978552044, -0.43947621697304984, 0.3163194487806835, 0.37871829012773384, 1.2232752732144858, 0.6203334619816994, 1.2884684026888376, -1.524978471243551, -0.11514969237394722, 0.8485650951801219, 1.363267079181013, 0.11956931273787397, 0.3139763044387687, 1.3100935940672593, 0.16354448905637342, 1.1544048734978776, 0.167518011825185, -0.03485812012422281, 0.20946433907831946, -0.8703639971561202, -1.6433341968767228], \"yaxis\": \"y14\"}, {\"line\": {\"color\": \"rgba(128, 128, 128, 1.0)\", \"dash\": \"solid\", \"shape\": \"linear\", \"width\": 1.3}, \"marker\": {\"size\": 2, \"symbol\": \"circle\"}, \"mode\": \"markers\", \"name\": \"D\", \"text\": \"\", \"type\": \"scatter\", \"x\": [0.1336209897126937, -0.4992371267880662, -0.16512310908818667, -0.1295384702581782, -0.07874797887224155, 0.07875858094324113, 0.28811971423413435, -2.2079018232129743, -1.0146574398707233, -0.3814968238916311, 0.3414756460122754, 0.408650279460541, 0.8598922725047933, -0.20456262918962018, 0.4269611660152145, 0.06053627104709375, -0.17112284284919663, -0.03278813861822154, 0.2964757692789343, -1.209610713025771, 1.065900461743466, 0.48484112110928695, -0.16522346354835155, 0.8342104652569393, 0.7378533369870373, 0.7381985329826927, 0.46270552251841596, -0.1290553079442758, -1.135822076599649, 2.5684353595070957, -2.1363512996225693, 0.7803326723102629, 0.5884926871116007, 0.2937806281485098, -0.3098944958212543, 1.7843829555701411, -2.7607141977076526, -0.7830869659191346, -0.1122573811119825, 0.1635382375667902, 1.1997795798187878, -0.5391302273292823, 1.6138354162384465, 2.8471656578452813, -0.2682656551450211, 0.2648442673225874, -1.128823767002499, -0.4791039027939159, 0.567986191017442, -0.3796912825703141, 0.9249146766825751, 1.1239087088143331, 0.5999003321458324, -0.658380738103747, -0.636079522958394, -0.7690187225387971, -0.1285569524323624, 0.42586814414867546, 1.970619872164675, 0.2687360684661637, -0.6535751187902171, -0.41052495675928347, 0.38656321015609985, -0.0329975125153401, 0.21986643801387779, -0.8862105560862736, -1.1472581491296907, 1.6876120880730845, 0.6739344840810829, 0.7527058130176251, -0.04770321882381908, -0.5046901458645002, -0.9704135809546783, 0.6192540593692433, -1.5970410896097227, 1.7424207967184293, 0.9417272380573213, -0.3421442085643456, 1.3629727213807563, 0.19608528683183574, 0.6179829214720435, -0.6342908072086635, 0.16485176829765466, 0.11259865657129008, 1.474878606696174, -0.6200093152528071, 1.023883374307354, 1.2312315215022325, 0.6837691534450063, 0.37710794268652054, -0.2674498995213668, 0.7252941939647042, -0.7212671495065622, -0.6570103158468624, 1.4713878944189351, 0.7803245805628188, -1.5015408621607405, -2.530041751262662, 2.913959469897591, 1.1162770114184026], \"xaxis\": \"x15\", \"y\": [-1.2143142774051094, 0.7341549688863328, -2.1878860019623114, 1.523497432194452, -0.8790555211989877, -0.13506651057964153, -0.7681521734240057, 1.9566987634853001, -0.5200154811389064, -1.5304730933671777, -0.49828564798699326, 0.6555190761224613, 2.154278261242067, -0.6121998740137635, -0.7998663651392912, -0.6592866329179047, -0.05618872584561294, 0.21659171674869485, -0.7723385025920696, -0.7664120512191052, -0.04706943950371657, -0.4804600175743437, 0.5477687172501202, 0.11974272875042269, 2.0478235234709428, 0.015801574609873074, 0.8911940632671225, 0.14138456809723465, 0.3751822146140036, 0.6604816124276893, 1.133297507272824, 0.03105811424544611, -0.3939010668393583, -0.5289250695258874, -0.0030741456840287333, -0.942428136817906, 0.7491177760914999, -0.7214531918806584, 1.3257182761338224, 0.43951512568561735, 0.06119399446360383, 1.5578142553938126, -1.7714458517215954, 0.6176215419004208, 0.8904488135986418, 0.4319773298830599, -1.1975350025652733, 0.10311510696201422, -0.45288522791520414, -1.3661216067944606, 1.9115685665069386, -1.9059862517401787, -1.5732033902448326, 0.9175075197051212, -0.1750872676091157, 0.7069954284479054, 1.6151957774432233, 1.3123132791091583, -0.6070514781704491, -0.24024848311517136, 2.020264416172281, 0.5372984098235004, 0.2872075418166681, 1.0305317214040148, -0.031030337080439823, 1.5736152240788512, 0.7521392808876696, -1.6781286566903064, 0.5056996327690947, -1.2002173110227408, -0.035267135484268027, 2.5627525331980126, 1.0299169286597165, -0.6417056912234721, -0.2022261648578561, -2.1438334840823114, 0.714635768571562, -0.8747588880778938, -0.5215663836892511, 1.344368978552044, -0.43947621697304984, 0.3163194487806835, 0.37871829012773384, 1.2232752732144858, 0.6203334619816994, 1.2884684026888376, -1.524978471243551, -0.11514969237394722, 0.8485650951801219, 1.363267079181013, 0.11956931273787397, 0.3139763044387687, 1.3100935940672593, 0.16354448905637342, 1.1544048734978776, 0.167518011825185, -0.03485812012422281, 0.20946433907831946, -0.8703639971561202, -1.6433341968767228], \"yaxis\": \"y15\"}, {\"histfunc\": \"count\", \"histnorm\": \"\", \"marker\": {\"color\": \"rgba(128, 0, 128, 1.0)\", \"line\": {\"color\": \"#4D5663\", \"width\": 1.3}}, \"name\": \"D\", \"nbinsx\": 10, \"opacity\": 0.8, \"orientation\": \"v\", \"type\": \"histogram\", \"x\": [-1.2143142774051094, 0.7341549688863328, -2.1878860019623114, 1.523497432194452, -0.8790555211989877, -0.13506651057964153, -0.7681521734240057, 1.9566987634853001, -0.5200154811389064, -1.5304730933671777, -0.49828564798699326, 0.6555190761224613, 2.154278261242067, -0.6121998740137635, -0.7998663651392912, -0.6592866329179047, -0.05618872584561294, 0.21659171674869485, -0.7723385025920696, -0.7664120512191052, -0.04706943950371657, -0.4804600175743437, 0.5477687172501202, 0.11974272875042269, 2.0478235234709428, 0.015801574609873074, 0.8911940632671225, 0.14138456809723465, 0.3751822146140036, 0.6604816124276893, 1.133297507272824, 0.03105811424544611, -0.3939010668393583, -0.5289250695258874, -0.0030741456840287333, -0.942428136817906, 0.7491177760914999, -0.7214531918806584, 1.3257182761338224, 0.43951512568561735, 0.06119399446360383, 1.5578142553938126, -1.7714458517215954, 0.6176215419004208, 0.8904488135986418, 0.4319773298830599, -1.1975350025652733, 0.10311510696201422, -0.45288522791520414, -1.3661216067944606, 1.9115685665069386, -1.9059862517401787, -1.5732033902448326, 0.9175075197051212, -0.1750872676091157, 0.7069954284479054, 1.6151957774432233, 1.3123132791091583, -0.6070514781704491, -0.24024848311517136, 2.020264416172281, 0.5372984098235004, 0.2872075418166681, 1.0305317214040148, -0.031030337080439823, 1.5736152240788512, 0.7521392808876696, -1.6781286566903064, 0.5056996327690947, -1.2002173110227408, -0.035267135484268027, 2.5627525331980126, 1.0299169286597165, -0.6417056912234721, -0.2022261648578561, -2.1438334840823114, 0.714635768571562, -0.8747588880778938, -0.5215663836892511, 1.344368978552044, -0.43947621697304984, 0.3163194487806835, 0.37871829012773384, 1.2232752732144858, 0.6203334619816994, 1.2884684026888376, -1.524978471243551, -0.11514969237394722, 0.8485650951801219, 1.363267079181013, 0.11956931273787397, 0.3139763044387687, 1.3100935940672593, 0.16354448905637342, 1.1544048734978776, 0.167518011825185, -0.03485812012422281, 0.20946433907831946, -0.8703639971561202, -1.6433341968767228], \"xaxis\": \"x16\", \"yaxis\": \"y16\"}],\n",
       "                        {\"bargap\": 0.02, \"legend\": {\"bgcolor\": \"#F5F6F9\", \"font\": {\"color\": \"#4D5663\"}}, \"paper_bgcolor\": \"#F5F6F9\", \"plot_bgcolor\": \"#F5F6F9\", \"showlegend\": false, \"template\": {\"data\": {\"bar\": [{\"error_x\": {\"color\": \"#2a3f5f\"}, \"error_y\": {\"color\": \"#2a3f5f\"}, \"marker\": {\"line\": {\"color\": \"#E5ECF6\", \"width\": 0.5}}, \"type\": \"bar\"}], \"barpolar\": [{\"marker\": {\"line\": {\"color\": \"#E5ECF6\", \"width\": 0.5}}, \"type\": \"barpolar\"}], \"carpet\": [{\"aaxis\": {\"endlinecolor\": \"#2a3f5f\", \"gridcolor\": \"white\", \"linecolor\": \"white\", \"minorgridcolor\": \"white\", \"startlinecolor\": \"#2a3f5f\"}, \"baxis\": {\"endlinecolor\": \"#2a3f5f\", \"gridcolor\": \"white\", \"linecolor\": \"white\", \"minorgridcolor\": \"white\", \"startlinecolor\": \"#2a3f5f\"}, \"type\": \"carpet\"}], \"choropleth\": [{\"colorbar\": {\"outlinewidth\": 0, \"ticks\": \"\"}, \"type\": \"choropleth\"}], \"contour\": [{\"colorbar\": {\"outlinewidth\": 0, \"ticks\": \"\"}, \"colorscale\": [[0.0, \"#0d0887\"], [0.1111111111111111, \"#46039f\"], [0.2222222222222222, \"#7201a8\"], [0.3333333333333333, \"#9c179e\"], [0.4444444444444444, \"#bd3786\"], [0.5555555555555556, \"#d8576b\"], [0.6666666666666666, \"#ed7953\"], [0.7777777777777778, \"#fb9f3a\"], [0.8888888888888888, \"#fdca26\"], [1.0, \"#f0f921\"]], \"type\": \"contour\"}], \"contourcarpet\": [{\"colorbar\": {\"outlinewidth\": 0, \"ticks\": \"\"}, \"type\": \"contourcarpet\"}], \"heatmap\": [{\"colorbar\": {\"outlinewidth\": 0, \"ticks\": \"\"}, \"colorscale\": [[0.0, \"#0d0887\"], [0.1111111111111111, \"#46039f\"], [0.2222222222222222, \"#7201a8\"], [0.3333333333333333, \"#9c179e\"], [0.4444444444444444, \"#bd3786\"], [0.5555555555555556, \"#d8576b\"], [0.6666666666666666, \"#ed7953\"], [0.7777777777777778, \"#fb9f3a\"], [0.8888888888888888, \"#fdca26\"], [1.0, \"#f0f921\"]], \"type\": \"heatmap\"}], \"heatmapgl\": [{\"colorbar\": {\"outlinewidth\": 0, \"ticks\": \"\"}, \"colorscale\": [[0.0, \"#0d0887\"], [0.1111111111111111, \"#46039f\"], [0.2222222222222222, \"#7201a8\"], [0.3333333333333333, \"#9c179e\"], [0.4444444444444444, \"#bd3786\"], [0.5555555555555556, \"#d8576b\"], [0.6666666666666666, \"#ed7953\"], [0.7777777777777778, \"#fb9f3a\"], [0.8888888888888888, \"#fdca26\"], [1.0, \"#f0f921\"]], \"type\": \"heatmapgl\"}], \"histogram\": [{\"marker\": {\"colorbar\": {\"outlinewidth\": 0, \"ticks\": \"\"}}, \"type\": \"histogram\"}], \"histogram2d\": [{\"colorbar\": {\"outlinewidth\": 0, \"ticks\": \"\"}, \"colorscale\": [[0.0, \"#0d0887\"], [0.1111111111111111, \"#46039f\"], [0.2222222222222222, \"#7201a8\"], [0.3333333333333333, \"#9c179e\"], [0.4444444444444444, \"#bd3786\"], [0.5555555555555556, \"#d8576b\"], [0.6666666666666666, \"#ed7953\"], [0.7777777777777778, \"#fb9f3a\"], [0.8888888888888888, \"#fdca26\"], [1.0, \"#f0f921\"]], \"type\": \"histogram2d\"}], \"histogram2dcontour\": [{\"colorbar\": {\"outlinewidth\": 0, \"ticks\": \"\"}, \"colorscale\": [[0.0, \"#0d0887\"], [0.1111111111111111, \"#46039f\"], [0.2222222222222222, \"#7201a8\"], [0.3333333333333333, \"#9c179e\"], [0.4444444444444444, \"#bd3786\"], [0.5555555555555556, \"#d8576b\"], [0.6666666666666666, \"#ed7953\"], [0.7777777777777778, \"#fb9f3a\"], [0.8888888888888888, \"#fdca26\"], [1.0, \"#f0f921\"]], \"type\": \"histogram2dcontour\"}], \"mesh3d\": [{\"colorbar\": {\"outlinewidth\": 0, \"ticks\": \"\"}, \"type\": \"mesh3d\"}], \"parcoords\": [{\"line\": {\"colorbar\": {\"outlinewidth\": 0, \"ticks\": \"\"}}, \"type\": \"parcoords\"}], \"pie\": [{\"automargin\": true, \"type\": \"pie\"}], \"scatter\": [{\"marker\": {\"colorbar\": {\"outlinewidth\": 0, \"ticks\": \"\"}}, \"type\": \"scatter\"}], \"scatter3d\": [{\"line\": {\"colorbar\": {\"outlinewidth\": 0, \"ticks\": \"\"}}, \"marker\": {\"colorbar\": {\"outlinewidth\": 0, \"ticks\": \"\"}}, \"type\": \"scatter3d\"}], \"scattercarpet\": [{\"marker\": {\"colorbar\": {\"outlinewidth\": 0, \"ticks\": \"\"}}, \"type\": \"scattercarpet\"}], \"scattergeo\": [{\"marker\": {\"colorbar\": {\"outlinewidth\": 0, \"ticks\": \"\"}}, \"type\": \"scattergeo\"}], \"scattergl\": [{\"marker\": {\"colorbar\": {\"outlinewidth\": 0, \"ticks\": \"\"}}, \"type\": \"scattergl\"}], \"scattermapbox\": [{\"marker\": {\"colorbar\": {\"outlinewidth\": 0, \"ticks\": \"\"}}, \"type\": \"scattermapbox\"}], \"scatterpolar\": [{\"marker\": {\"colorbar\": {\"outlinewidth\": 0, \"ticks\": \"\"}}, \"type\": \"scatterpolar\"}], \"scatterpolargl\": [{\"marker\": {\"colorbar\": {\"outlinewidth\": 0, \"ticks\": \"\"}}, \"type\": \"scatterpolargl\"}], \"scatterternary\": [{\"marker\": {\"colorbar\": {\"outlinewidth\": 0, \"ticks\": \"\"}}, \"type\": \"scatterternary\"}], \"surface\": [{\"colorbar\": {\"outlinewidth\": 0, \"ticks\": \"\"}, \"colorscale\": [[0.0, \"#0d0887\"], [0.1111111111111111, \"#46039f\"], [0.2222222222222222, \"#7201a8\"], [0.3333333333333333, \"#9c179e\"], [0.4444444444444444, \"#bd3786\"], [0.5555555555555556, \"#d8576b\"], [0.6666666666666666, \"#ed7953\"], [0.7777777777777778, \"#fb9f3a\"], [0.8888888888888888, \"#fdca26\"], [1.0, \"#f0f921\"]], \"type\": \"surface\"}], \"table\": [{\"cells\": {\"fill\": {\"color\": \"#EBF0F8\"}, \"line\": {\"color\": \"white\"}}, \"header\": {\"fill\": {\"color\": \"#C8D4E3\"}, \"line\": {\"color\": \"white\"}}, \"type\": \"table\"}]}, \"layout\": {\"annotationdefaults\": {\"arrowcolor\": \"#2a3f5f\", \"arrowhead\": 0, \"arrowwidth\": 1}, \"coloraxis\": {\"colorbar\": {\"outlinewidth\": 0, \"ticks\": \"\"}}, \"colorscale\": {\"diverging\": [[0, \"#8e0152\"], [0.1, \"#c51b7d\"], [0.2, \"#de77ae\"], [0.3, \"#f1b6da\"], [0.4, \"#fde0ef\"], [0.5, \"#f7f7f7\"], [0.6, \"#e6f5d0\"], [0.7, \"#b8e186\"], [0.8, \"#7fbc41\"], [0.9, \"#4d9221\"], [1, \"#276419\"]], \"sequential\": [[0.0, \"#0d0887\"], [0.1111111111111111, \"#46039f\"], [0.2222222222222222, \"#7201a8\"], [0.3333333333333333, \"#9c179e\"], [0.4444444444444444, \"#bd3786\"], [0.5555555555555556, \"#d8576b\"], [0.6666666666666666, \"#ed7953\"], [0.7777777777777778, \"#fb9f3a\"], [0.8888888888888888, \"#fdca26\"], [1.0, \"#f0f921\"]], \"sequentialminus\": [[0.0, \"#0d0887\"], [0.1111111111111111, \"#46039f\"], [0.2222222222222222, \"#7201a8\"], [0.3333333333333333, \"#9c179e\"], [0.4444444444444444, \"#bd3786\"], [0.5555555555555556, \"#d8576b\"], [0.6666666666666666, \"#ed7953\"], [0.7777777777777778, \"#fb9f3a\"], [0.8888888888888888, \"#fdca26\"], [1.0, \"#f0f921\"]]}, \"colorway\": [\"#636efa\", \"#EF553B\", \"#00cc96\", \"#ab63fa\", \"#FFA15A\", \"#19d3f3\", \"#FF6692\", \"#B6E880\", \"#FF97FF\", \"#FECB52\"], \"font\": {\"color\": \"#2a3f5f\"}, \"geo\": {\"bgcolor\": \"white\", \"lakecolor\": \"white\", \"landcolor\": \"#E5ECF6\", \"showlakes\": true, \"showland\": true, \"subunitcolor\": \"white\"}, \"hoverlabel\": {\"align\": \"left\"}, \"hovermode\": \"closest\", \"mapbox\": {\"style\": \"light\"}, \"paper_bgcolor\": \"white\", \"plot_bgcolor\": \"#E5ECF6\", \"polar\": {\"angularaxis\": {\"gridcolor\": \"white\", \"linecolor\": \"white\", \"ticks\": \"\"}, \"bgcolor\": \"#E5ECF6\", \"radialaxis\": {\"gridcolor\": \"white\", \"linecolor\": \"white\", \"ticks\": \"\"}}, \"scene\": {\"xaxis\": {\"backgroundcolor\": \"#E5ECF6\", \"gridcolor\": \"white\", \"gridwidth\": 2, \"linecolor\": \"white\", \"showbackground\": true, \"ticks\": \"\", \"zerolinecolor\": \"white\"}, \"yaxis\": {\"backgroundcolor\": \"#E5ECF6\", \"gridcolor\": \"white\", \"gridwidth\": 2, \"linecolor\": \"white\", \"showbackground\": true, \"ticks\": \"\", \"zerolinecolor\": \"white\"}, \"zaxis\": {\"backgroundcolor\": \"#E5ECF6\", \"gridcolor\": \"white\", \"gridwidth\": 2, \"linecolor\": \"white\", \"showbackground\": true, \"ticks\": \"\", \"zerolinecolor\": \"white\"}}, \"shapedefaults\": {\"line\": {\"color\": \"#2a3f5f\"}}, \"ternary\": {\"aaxis\": {\"gridcolor\": \"white\", \"linecolor\": \"white\", \"ticks\": \"\"}, \"baxis\": {\"gridcolor\": \"white\", \"linecolor\": \"white\", \"ticks\": \"\"}, \"bgcolor\": \"#E5ECF6\", \"caxis\": {\"gridcolor\": \"white\", \"linecolor\": \"white\", \"ticks\": \"\"}}, \"title\": {\"x\": 0.05}, \"xaxis\": {\"automargin\": true, \"gridcolor\": \"white\", \"linecolor\": \"white\", \"ticks\": \"\", \"title\": {\"standoff\": 15}, \"zerolinecolor\": \"white\", \"zerolinewidth\": 2}, \"yaxis\": {\"automargin\": true, \"gridcolor\": \"white\", \"linecolor\": \"white\", \"ticks\": \"\", \"title\": {\"standoff\": 15}, \"zerolinecolor\": \"white\", \"zerolinewidth\": 2}}}, \"title\": {\"font\": {\"color\": \"#4D5663\"}}, \"xaxis\": {\"anchor\": \"y\", \"domain\": [0.0, 0.2125], \"gridcolor\": \"#E1E5ED\", \"showgrid\": false, \"tickfont\": {\"color\": \"#4D5663\"}, \"title\": {\"font\": {\"color\": \"#4D5663\"}, \"text\": \"\"}, \"zerolinecolor\": \"#E1E5ED\"}, \"xaxis10\": {\"anchor\": \"y10\", \"domain\": [0.2625, 0.475], \"gridcolor\": \"#E1E5ED\", \"showgrid\": false, \"tickfont\": {\"color\": \"#4D5663\"}, \"title\": {\"font\": {\"color\": \"#4D5663\"}, \"text\": \"\"}, \"zerolinecolor\": \"#E1E5ED\"}, \"xaxis11\": {\"anchor\": \"y11\", \"domain\": [0.525, 0.7375], \"gridcolor\": \"#E1E5ED\", \"showgrid\": false, \"tickfont\": {\"color\": \"#4D5663\"}, \"title\": {\"font\": {\"color\": \"#4D5663\"}, \"text\": \"\"}, \"zerolinecolor\": \"#E1E5ED\"}, \"xaxis12\": {\"anchor\": \"y12\", \"domain\": [0.7875, 1.0], \"gridcolor\": \"#E1E5ED\", \"showgrid\": false, \"tickfont\": {\"color\": \"#4D5663\"}, \"title\": {\"font\": {\"color\": \"#4D5663\"}, \"text\": \"\"}, \"zerolinecolor\": \"#E1E5ED\"}, \"xaxis13\": {\"anchor\": \"y13\", \"domain\": [0.0, 0.2125], \"gridcolor\": \"#E1E5ED\", \"showgrid\": false, \"tickfont\": {\"color\": \"#4D5663\"}, \"title\": {\"font\": {\"color\": \"#4D5663\"}, \"text\": \"\"}, \"zerolinecolor\": \"#E1E5ED\"}, \"xaxis14\": {\"anchor\": \"y14\", \"domain\": [0.2625, 0.475], \"gridcolor\": \"#E1E5ED\", \"showgrid\": false, \"tickfont\": {\"color\": \"#4D5663\"}, \"title\": {\"font\": {\"color\": \"#4D5663\"}, \"text\": \"\"}, \"zerolinecolor\": \"#E1E5ED\"}, \"xaxis15\": {\"anchor\": \"y15\", \"domain\": [0.525, 0.7375], \"gridcolor\": \"#E1E5ED\", \"showgrid\": false, \"tickfont\": {\"color\": \"#4D5663\"}, \"title\": {\"font\": {\"color\": \"#4D5663\"}, \"text\": \"\"}, \"zerolinecolor\": \"#E1E5ED\"}, \"xaxis16\": {\"anchor\": \"y16\", \"domain\": [0.7875, 1.0], \"gridcolor\": \"#E1E5ED\", \"showgrid\": false, \"tickfont\": {\"color\": \"#4D5663\"}, \"title\": {\"font\": {\"color\": \"#4D5663\"}, \"text\": \"\"}, \"zerolinecolor\": \"#E1E5ED\"}, \"xaxis2\": {\"anchor\": \"y2\", \"domain\": [0.2625, 0.475], \"gridcolor\": \"#E1E5ED\", \"showgrid\": false, \"tickfont\": {\"color\": \"#4D5663\"}, \"title\": {\"font\": {\"color\": \"#4D5663\"}, \"text\": \"\"}, \"zerolinecolor\": \"#E1E5ED\"}, \"xaxis3\": {\"anchor\": \"y3\", \"domain\": [0.525, 0.7375], \"gridcolor\": \"#E1E5ED\", \"showgrid\": false, \"tickfont\": {\"color\": \"#4D5663\"}, \"title\": {\"font\": {\"color\": \"#4D5663\"}, \"text\": \"\"}, \"zerolinecolor\": \"#E1E5ED\"}, \"xaxis4\": {\"anchor\": \"y4\", \"domain\": [0.7875, 1.0], \"gridcolor\": \"#E1E5ED\", \"showgrid\": false, \"tickfont\": {\"color\": \"#4D5663\"}, \"title\": {\"font\": {\"color\": \"#4D5663\"}, \"text\": \"\"}, \"zerolinecolor\": \"#E1E5ED\"}, \"xaxis5\": {\"anchor\": \"y5\", \"domain\": [0.0, 0.2125], \"gridcolor\": \"#E1E5ED\", \"showgrid\": false, \"tickfont\": {\"color\": \"#4D5663\"}, \"title\": {\"font\": {\"color\": \"#4D5663\"}, \"text\": \"\"}, \"zerolinecolor\": \"#E1E5ED\"}, \"xaxis6\": {\"anchor\": \"y6\", \"domain\": [0.2625, 0.475], \"gridcolor\": \"#E1E5ED\", \"showgrid\": false, \"tickfont\": {\"color\": \"#4D5663\"}, \"title\": {\"font\": {\"color\": \"#4D5663\"}, \"text\": \"\"}, \"zerolinecolor\": \"#E1E5ED\"}, \"xaxis7\": {\"anchor\": \"y7\", \"domain\": [0.525, 0.7375], \"gridcolor\": \"#E1E5ED\", \"showgrid\": false, \"tickfont\": {\"color\": \"#4D5663\"}, \"title\": {\"font\": {\"color\": \"#4D5663\"}, \"text\": \"\"}, \"zerolinecolor\": \"#E1E5ED\"}, \"xaxis8\": {\"anchor\": \"y8\", \"domain\": [0.7875, 1.0], \"gridcolor\": \"#E1E5ED\", \"showgrid\": false, \"tickfont\": {\"color\": \"#4D5663\"}, \"title\": {\"font\": {\"color\": \"#4D5663\"}, \"text\": \"\"}, \"zerolinecolor\": \"#E1E5ED\"}, \"xaxis9\": {\"anchor\": \"y9\", \"domain\": [0.0, 0.2125], \"gridcolor\": \"#E1E5ED\", \"showgrid\": false, \"tickfont\": {\"color\": \"#4D5663\"}, \"title\": {\"font\": {\"color\": \"#4D5663\"}, \"text\": \"\"}, \"zerolinecolor\": \"#E1E5ED\"}, \"yaxis\": {\"anchor\": \"x\", \"domain\": [0.8025, 1.0], \"gridcolor\": \"#E1E5ED\", \"showgrid\": false, \"tickfont\": {\"color\": \"#4D5663\"}, \"title\": {\"font\": {\"color\": \"#4D5663\"}, \"text\": \"\"}, \"zerolinecolor\": \"#E1E5ED\"}, \"yaxis10\": {\"anchor\": \"x10\", \"domain\": [0.2675, 0.465], \"gridcolor\": \"#E1E5ED\", \"showgrid\": false, \"tickfont\": {\"color\": \"#4D5663\"}, \"title\": {\"font\": {\"color\": \"#4D5663\"}, \"text\": \"\"}, \"zerolinecolor\": \"#E1E5ED\"}, \"yaxis11\": {\"anchor\": \"x11\", \"domain\": [0.2675, 0.465], \"gridcolor\": \"#E1E5ED\", \"showgrid\": false, \"tickfont\": {\"color\": \"#4D5663\"}, \"title\": {\"font\": {\"color\": \"#4D5663\"}, \"text\": \"\"}, \"zerolinecolor\": \"#E1E5ED\"}, \"yaxis12\": {\"anchor\": \"x12\", \"domain\": [0.2675, 0.465], \"gridcolor\": \"#E1E5ED\", \"showgrid\": false, \"tickfont\": {\"color\": \"#4D5663\"}, \"title\": {\"font\": {\"color\": \"#4D5663\"}, \"text\": \"\"}, \"zerolinecolor\": \"#E1E5ED\"}, \"yaxis13\": {\"anchor\": \"x13\", \"domain\": [0.0, 0.1975], \"gridcolor\": \"#E1E5ED\", \"showgrid\": false, \"tickfont\": {\"color\": \"#4D5663\"}, \"title\": {\"font\": {\"color\": \"#4D5663\"}, \"text\": \"\"}, \"zerolinecolor\": \"#E1E5ED\"}, \"yaxis14\": {\"anchor\": \"x14\", \"domain\": [0.0, 0.1975], \"gridcolor\": \"#E1E5ED\", \"showgrid\": false, \"tickfont\": {\"color\": \"#4D5663\"}, \"title\": {\"font\": {\"color\": \"#4D5663\"}, \"text\": \"\"}, \"zerolinecolor\": \"#E1E5ED\"}, \"yaxis15\": {\"anchor\": \"x15\", \"domain\": [0.0, 0.1975], \"gridcolor\": \"#E1E5ED\", \"showgrid\": false, \"tickfont\": {\"color\": \"#4D5663\"}, \"title\": {\"font\": {\"color\": \"#4D5663\"}, \"text\": \"\"}, \"zerolinecolor\": \"#E1E5ED\"}, \"yaxis16\": {\"anchor\": \"x16\", \"domain\": [0.0, 0.1975], \"gridcolor\": \"#E1E5ED\", \"showgrid\": false, \"tickfont\": {\"color\": \"#4D5663\"}, \"title\": {\"font\": {\"color\": \"#4D5663\"}, \"text\": \"\"}, \"zerolinecolor\": \"#E1E5ED\"}, \"yaxis2\": {\"anchor\": \"x2\", \"domain\": [0.8025, 1.0], \"gridcolor\": \"#E1E5ED\", \"showgrid\": false, \"tickfont\": {\"color\": \"#4D5663\"}, \"title\": {\"font\": {\"color\": \"#4D5663\"}, \"text\": \"\"}, \"zerolinecolor\": \"#E1E5ED\"}, \"yaxis3\": {\"anchor\": \"x3\", \"domain\": [0.8025, 1.0], \"gridcolor\": \"#E1E5ED\", \"showgrid\": false, \"tickfont\": {\"color\": \"#4D5663\"}, \"title\": {\"font\": {\"color\": \"#4D5663\"}, \"text\": \"\"}, \"zerolinecolor\": \"#E1E5ED\"}, \"yaxis4\": {\"anchor\": \"x4\", \"domain\": [0.8025, 1.0], \"gridcolor\": \"#E1E5ED\", \"showgrid\": false, \"tickfont\": {\"color\": \"#4D5663\"}, \"title\": {\"font\": {\"color\": \"#4D5663\"}, \"text\": \"\"}, \"zerolinecolor\": \"#E1E5ED\"}, \"yaxis5\": {\"anchor\": \"x5\", \"domain\": [0.535, 0.7325], \"gridcolor\": \"#E1E5ED\", \"showgrid\": false, \"tickfont\": {\"color\": \"#4D5663\"}, \"title\": {\"font\": {\"color\": \"#4D5663\"}, \"text\": \"\"}, \"zerolinecolor\": \"#E1E5ED\"}, \"yaxis6\": {\"anchor\": \"x6\", \"domain\": [0.535, 0.7325], \"gridcolor\": \"#E1E5ED\", \"showgrid\": false, \"tickfont\": {\"color\": \"#4D5663\"}, \"title\": {\"font\": {\"color\": \"#4D5663\"}, \"text\": \"\"}, \"zerolinecolor\": \"#E1E5ED\"}, \"yaxis7\": {\"anchor\": \"x7\", \"domain\": [0.535, 0.7325], \"gridcolor\": \"#E1E5ED\", \"showgrid\": false, \"tickfont\": {\"color\": \"#4D5663\"}, \"title\": {\"font\": {\"color\": \"#4D5663\"}, \"text\": \"\"}, \"zerolinecolor\": \"#E1E5ED\"}, \"yaxis8\": {\"anchor\": \"x8\", \"domain\": [0.535, 0.7325], \"gridcolor\": \"#E1E5ED\", \"showgrid\": false, \"tickfont\": {\"color\": \"#4D5663\"}, \"title\": {\"font\": {\"color\": \"#4D5663\"}, \"text\": \"\"}, \"zerolinecolor\": \"#E1E5ED\"}, \"yaxis9\": {\"anchor\": \"x9\", \"domain\": [0.2675, 0.465], \"gridcolor\": \"#E1E5ED\", \"showgrid\": false, \"tickfont\": {\"color\": \"#4D5663\"}, \"title\": {\"font\": {\"color\": \"#4D5663\"}, \"text\": \"\"}, \"zerolinecolor\": \"#E1E5ED\"}},\n",
       "                        {\"showLink\": true, \"linkText\": \"Export to plot.ly\", \"plotlyServerURL\": \"https://plot.ly\", \"responsive\": true}\n",
       "                    ).then(function(){\n",
       "                            \n",
       "var gd = document.getElementById('bc940bea-217c-4cf0-9aec-1bcf28719979');\n",
       "var x = new MutationObserver(function (mutations, observer) {{\n",
       "        var display = window.getComputedStyle(gd).display;\n",
       "        if (!display || display === 'none') {{\n",
       "            console.log([gd, 'removed!']);\n",
       "            Plotly.purge(gd);\n",
       "            observer.disconnect();\n",
       "        }}\n",
       "}});\n",
       "\n",
       "// Listen for the removal of the full notebook cells\n",
       "var notebookContainer = gd.closest('#notebook-container');\n",
       "if (notebookContainer) {{\n",
       "    x.observe(notebookContainer, {childList: true});\n",
       "}}\n",
       "\n",
       "// Listen for the clearing of the current output cell\n",
       "var outputEl = gd.closest('.output');\n",
       "if (outputEl) {{\n",
       "    x.observe(outputEl, {childList: true});\n",
       "}}\n",
       "\n",
       "                        })\n",
       "                };\n",
       "                });\n",
       "            </script>\n",
       "        </div>"
      ]
     },
     "metadata": {},
     "output_type": "display_data"
    }
   ],
   "source": [
    "df.scatter_matrix()\n",
    "#very simliar to seaborn pairplot"
   ]
  },
  {
   "cell_type": "code",
   "execution_count": null,
   "metadata": {},
   "outputs": [],
   "source": []
  }
 ],
 "metadata": {
  "kernelspec": {
   "display_name": "Python 3",
   "language": "python",
   "name": "python3"
  },
  "language_info": {
   "codemirror_mode": {
    "name": "ipython",
    "version": 3
   },
   "file_extension": ".py",
   "mimetype": "text/x-python",
   "name": "python",
   "nbconvert_exporter": "python",
   "pygments_lexer": "ipython3",
   "version": "3.6.10"
  }
 },
 "nbformat": 4,
 "nbformat_minor": 4
}
