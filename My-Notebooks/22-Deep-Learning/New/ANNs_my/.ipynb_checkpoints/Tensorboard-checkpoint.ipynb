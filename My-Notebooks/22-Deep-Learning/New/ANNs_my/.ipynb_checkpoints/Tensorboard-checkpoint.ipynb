{
 "cells": [
  {
   "cell_type": "markdown",
   "metadata": {},
   "source": [
    "<a href=\"https://www.pieriandata.com\"><img src=\"../Pierian_Data_Logo.PNG\"></a>\n",
    "<strong><center>Copyright by Pierian Data Inc.</center></strong> \n",
    "<strong><center>Created by Jose Marcial Portilla.</center></strong>"
   ]
  },
  {
   "cell_type": "markdown",
   "metadata": {},
   "source": [
    "# Tensorboard\n",
    "\n",
    "---\n",
    "---\n",
    "\n",
    "**NOTE: You must watch the corresponding video to understand this lecture. This notebook can't serve as a full guide. Please watch the video BEFORE posting questions to the QA forum.**\n",
    "\n",
    "---\n",
    "---\n",
    "\n",
    "Let's explore the built in data visualization capabilities that come with Tensorboard.\n",
    "\n",
    "Full official tutorial available here: https://www.tensorflow.org/tensorboard/get_started\n",
    "\n",
    "## Data"
   ]
  },
  {
   "cell_type": "code",
   "execution_count": 1,
   "metadata": {},
   "outputs": [],
   "source": [
    "import pandas as pd\n",
    "import numpy as np"
   ]
  },
  {
   "cell_type": "code",
   "execution_count": 2,
   "metadata": {},
   "outputs": [],
   "source": [
    "df = pd.read_csv('../DATA/cancer_classification.csv')"
   ]
  },
  {
   "cell_type": "markdown",
   "metadata": {},
   "source": [
    "### Train Test Split"
   ]
  },
  {
   "cell_type": "code",
   "execution_count": 3,
   "metadata": {},
   "outputs": [],
   "source": [
    "X = df.drop('benign_0__mal_1',axis=1).values\n",
    "y = df['benign_0__mal_1'].values"
   ]
  },
  {
   "cell_type": "code",
   "execution_count": 4,
   "metadata": {},
   "outputs": [],
   "source": [
    "from sklearn.model_selection import train_test_split"
   ]
  },
  {
   "cell_type": "code",
   "execution_count": 5,
   "metadata": {},
   "outputs": [],
   "source": [
    "X_train, X_test, y_train, y_test = train_test_split(X,y,test_size=0.25,random_state=101)"
   ]
  },
  {
   "cell_type": "markdown",
   "metadata": {},
   "source": [
    "\n",
    "### Scaling Data"
   ]
  },
  {
   "cell_type": "code",
   "execution_count": 6,
   "metadata": {},
   "outputs": [],
   "source": [
    "from sklearn.preprocessing import MinMaxScaler"
   ]
  },
  {
   "cell_type": "code",
   "execution_count": 7,
   "metadata": {},
   "outputs": [],
   "source": [
    "scaler = MinMaxScaler()"
   ]
  },
  {
   "cell_type": "code",
   "execution_count": 8,
   "metadata": {},
   "outputs": [
    {
     "data": {
      "text/plain": [
       "MinMaxScaler()"
      ]
     },
     "execution_count": 8,
     "metadata": {},
     "output_type": "execute_result"
    }
   ],
   "source": [
    "scaler.fit(X_train)"
   ]
  },
  {
   "cell_type": "code",
   "execution_count": 9,
   "metadata": {},
   "outputs": [],
   "source": [
    "X_train = scaler.transform(X_train)\n",
    "X_test = scaler.transform(X_test)"
   ]
  },
  {
   "cell_type": "markdown",
   "metadata": {},
   "source": [
    "## Creating the Model"
   ]
  },
  {
   "cell_type": "code",
   "execution_count": 10,
   "metadata": {},
   "outputs": [],
   "source": [
    "import tensorflow as tf\n",
    "from tensorflow.keras.models import Sequential\n",
    "from tensorflow.keras.layers import Dense, Activation,Dropout"
   ]
  },
  {
   "cell_type": "code",
   "execution_count": 11,
   "metadata": {},
   "outputs": [],
   "source": [
    "from tensorflow.keras.callbacks import EarlyStopping,TensorBoard"
   ]
  },
  {
   "cell_type": "code",
   "execution_count": 12,
   "metadata": {},
   "outputs": [],
   "source": [
    "early_stop = EarlyStopping(monitor='val_loss', mode='min', verbose=1, patience=25)"
   ]
  },
  {
   "cell_type": "code",
   "execution_count": 13,
   "metadata": {},
   "outputs": [
    {
     "data": {
      "text/plain": [
       "'C:\\\\Users\\\\joelw\\\\Python3_DSML_Bootcamp\\\\My-Notebooks\\\\22-Deep-Learning\\\\New\\\\ANNs_my'"
      ]
     },
     "execution_count": 13,
     "metadata": {},
     "output_type": "execute_result"
    }
   ],
   "source": [
    "pwd"
   ]
  },
  {
   "cell_type": "markdown",
   "metadata": {},
   "source": [
    "## Creating the Tensorboard Callback\n",
    "\n",
    "TensorBoard is a visualization tool provided with TensorFlow.\n",
    "\n",
    "This callback logs events for TensorBoard, including:\n",
    "* Metrics summary plots\n",
    "* Training graph visualization\n",
    "* Activation histograms\n",
    "* Sampled profiling\n",
    "\n",
    "If you have installed TensorFlow with pip, you should be able\n",
    "to launch TensorBoard from the command line:\n",
    "\n",
    "```sh\n",
    "tensorboard --logdir=path_to_your_logs\n",
    "```\n",
    "\n",
    "You can find more information about TensorBoard\n",
    "[here](https://www.tensorflow.org/tensorboard/).\n",
    "\n",
    "    Arguments:\n",
    "        log_dir: the path of the directory where to save the log files to be\n",
    "          parsed by TensorBoard.\n",
    "        histogram_freq: frequency (in epochs) at which to compute activation and\n",
    "          weight histograms for the layers of the model. If set to 0, histograms\n",
    "          won't be computed. Validation data (or split) must be specified for\n",
    "          histogram visualizations.\n",
    "        write_graph: whether to visualize the graph in TensorBoard. The log file\n",
    "          can become quite large when write_graph is set to True.\n",
    "        write_images: whether to write model weights to visualize as image in\n",
    "          TensorBoard.\n",
    "        update_freq: `'batch'` or `'epoch'` or integer. When using `'batch'`,\n",
    "          writes the losses and metrics to TensorBoard after each batch. The same\n",
    "          applies for `'epoch'`. If using an integer, let's say `1000`, the\n",
    "          callback will write the metrics and losses to TensorBoard every 1000\n",
    "          samples. Note that writing too frequently to TensorBoard can slow down\n",
    "          your training.\n",
    "        profile_batch: Profile the batch to sample compute characteristics. By\n",
    "          default, it will profile the second batch. Set profile_batch=0 to\n",
    "          disable profiling. Must run in TensorFlow eager mode.\n",
    "        embeddings_freq: frequency (in epochs) at which embedding layers will\n",
    "          be visualized. If set to 0, embeddings won't be visualized.\n",
    "       "
   ]
  },
  {
   "cell_type": "code",
   "execution_count": 14,
   "metadata": {},
   "outputs": [],
   "source": [
    "from datetime import datetime"
   ]
  },
  {
   "cell_type": "code",
   "execution_count": 17,
   "metadata": {},
   "outputs": [
    {
     "data": {
      "text/plain": [
       "'2020-10-28--1805'"
      ]
     },
     "execution_count": 17,
     "metadata": {},
     "output_type": "execute_result"
    }
   ],
   "source": [
    "datetime.now().strftime(\"%Y-%m-%d--%H%M\")"
   ]
  },
  {
   "cell_type": "code",
   "execution_count": 18,
   "metadata": {},
   "outputs": [],
   "source": [
    "# WINDOWS: Use \"logs\\\\fit\"\n",
    "# MACOS/LINUX: Use \"logs\\fit\"\n",
    "\n",
    "log_directory = 'logs\\\\fit'\n",
    "\n",
    "# OPTIONAL: ADD A TIMESTAMP FOR UNIQUE FOLDER\n",
    "timestamp = datetime.now().strftime(\"%Y-%m-%d--%H%M\")\n",
    "log_directory = log_directory + '\\\\' + timestamp\n",
    "\n",
    "\n",
    "board = TensorBoard(log_dir=log_directory,histogram_freq=1,\n",
    "    write_graph=True,\n",
    "    write_images=True,\n",
    "    update_freq='epoch',\n",
    "    profile_batch=2,\n",
    "    embeddings_freq=1)"
   ]
  },
  {
   "cell_type": "markdown",
   "metadata": {},
   "source": [
    "Now create the model layers:"
   ]
  },
  {
   "cell_type": "code",
   "execution_count": 19,
   "metadata": {},
   "outputs": [],
   "source": [
    "model = Sequential()\n",
    "model.add(Dense(units=30,activation='relu'))\n",
    "model.add(Dropout(0.5))\n",
    "model.add(Dense(units=15,activation='relu'))\n",
    "model.add(Dropout(0.5))\n",
    "model.add(Dense(units=1,activation='sigmoid'))\n",
    "model.compile(loss='binary_crossentropy', optimizer='adam')"
   ]
  },
  {
   "cell_type": "markdown",
   "metadata": {},
   "source": [
    "## Train the Model"
   ]
  },
  {
   "cell_type": "code",
   "execution_count": 20,
   "metadata": {},
   "outputs": [
    {
     "name": "stdout",
     "output_type": "stream",
     "text": [
      "Train on 426 samples, validate on 143 samples\n",
      "Epoch 1/600\n",
      "426/426 [==============================] - 1s 3ms/sample - loss: 0.7234 - val_loss: 0.6828\n",
      "Epoch 2/600\n",
      "426/426 [==============================] - 0s 153us/sample - loss: 0.6821 - val_loss: 0.6748\n",
      "Epoch 3/600\n",
      "426/426 [==============================] - 0s 160us/sample - loss: 0.6826 - val_loss: 0.6674\n",
      "Epoch 4/600\n",
      "426/426 [==============================] - 0s 160us/sample - loss: 0.6613 - val_loss: 0.6579\n",
      "Epoch 5/600\n",
      "426/426 [==============================] - 0s 148us/sample - loss: 0.6458 - val_loss: 0.6392\n",
      "Epoch 6/600\n",
      "426/426 [==============================] - 0s 146us/sample - loss: 0.6337 - val_loss: 0.6124\n",
      "Epoch 7/600\n",
      "426/426 [==============================] - 0s 141us/sample - loss: 0.6075 - val_loss: 0.5858\n",
      "Epoch 8/600\n",
      "426/426 [==============================] - 0s 143us/sample - loss: 0.5923 - val_loss: 0.5574\n",
      "Epoch 9/600\n",
      "426/426 [==============================] - 0s 178us/sample - loss: 0.5733 - val_loss: 0.5206\n",
      "Epoch 10/600\n",
      "426/426 [==============================] - 0s 176us/sample - loss: 0.5565 - val_loss: 0.4942\n",
      "Epoch 11/600\n",
      "426/426 [==============================] - 0s 150us/sample - loss: 0.5397 - val_loss: 0.4651\n",
      "Epoch 12/600\n",
      "426/426 [==============================] - 0s 150us/sample - loss: 0.4986 - val_loss: 0.4346\n",
      "Epoch 13/600\n",
      "426/426 [==============================] - 0s 148us/sample - loss: 0.4994 - val_loss: 0.4083\n",
      "Epoch 14/600\n",
      "426/426 [==============================] - 0s 148us/sample - loss: 0.4898 - val_loss: 0.3927\n",
      "Epoch 15/600\n",
      "426/426 [==============================] - 0s 150us/sample - loss: 0.4754 - val_loss: 0.3794\n",
      "Epoch 16/600\n",
      "426/426 [==============================] - 0s 143us/sample - loss: 0.4252 - val_loss: 0.3509\n",
      "Epoch 17/600\n",
      "426/426 [==============================] - 0s 162us/sample - loss: 0.4446 - val_loss: 0.3244\n",
      "Epoch 18/600\n",
      "426/426 [==============================] - 0s 160us/sample - loss: 0.4108 - val_loss: 0.3128\n",
      "Epoch 19/600\n",
      "426/426 [==============================] - 0s 153us/sample - loss: 0.4163 - val_loss: 0.2985\n",
      "Epoch 20/600\n",
      "426/426 [==============================] - 0s 155us/sample - loss: 0.3881 - val_loss: 0.2845\n",
      "Epoch 21/600\n",
      "426/426 [==============================] - 0s 162us/sample - loss: 0.3773 - val_loss: 0.2685\n",
      "Epoch 22/600\n",
      "426/426 [==============================] - 0s 157us/sample - loss: 0.3356 - val_loss: 0.2520\n",
      "Epoch 23/600\n",
      "426/426 [==============================] - 0s 148us/sample - loss: 0.3649 - val_loss: 0.2454\n",
      "Epoch 24/600\n",
      "426/426 [==============================] - 0s 148us/sample - loss: 0.3920 - val_loss: 0.2302\n",
      "Epoch 25/600\n",
      "426/426 [==============================] - 0s 160us/sample - loss: 0.3531 - val_loss: 0.2248\n",
      "Epoch 26/600\n",
      "426/426 [==============================] - 0s 157us/sample - loss: 0.3252 - val_loss: 0.2123\n",
      "Epoch 27/600\n",
      "426/426 [==============================] - 0s 146us/sample - loss: 0.3270 - val_loss: 0.2056\n",
      "Epoch 28/600\n",
      "426/426 [==============================] - 0s 181us/sample - loss: 0.3249 - val_loss: 0.2029\n",
      "Epoch 29/600\n",
      "426/426 [==============================] - 0s 150us/sample - loss: 0.3091 - val_loss: 0.1908\n",
      "Epoch 30/600\n",
      "426/426 [==============================] - 0s 150us/sample - loss: 0.2820 - val_loss: 0.1839\n",
      "Epoch 31/600\n",
      "426/426 [==============================] - 0s 143us/sample - loss: 0.2788 - val_loss: 0.1770\n",
      "Epoch 32/600\n",
      "426/426 [==============================] - 0s 150us/sample - loss: 0.3026 - val_loss: 0.1747\n",
      "Epoch 33/600\n",
      "426/426 [==============================] - 0s 160us/sample - loss: 0.2622 - val_loss: 0.1687\n",
      "Epoch 34/600\n",
      "426/426 [==============================] - 0s 153us/sample - loss: 0.2802 - val_loss: 0.1587\n",
      "Epoch 35/600\n",
      "426/426 [==============================] - 0s 139us/sample - loss: 0.2612 - val_loss: 0.1630\n",
      "Epoch 36/600\n",
      "426/426 [==============================] - 0s 141us/sample - loss: 0.2450 - val_loss: 0.1540\n",
      "Epoch 37/600\n",
      "426/426 [==============================] - 0s 143us/sample - loss: 0.2313 - val_loss: 0.1460\n",
      "Epoch 38/600\n",
      "426/426 [==============================] - 0s 143us/sample - loss: 0.2401 - val_loss: 0.1422\n",
      "Epoch 39/600\n",
      "426/426 [==============================] - 0s 143us/sample - loss: 0.2271 - val_loss: 0.1371\n",
      "Epoch 40/600\n",
      "426/426 [==============================] - 0s 148us/sample - loss: 0.2305 - val_loss: 0.1359\n",
      "Epoch 41/600\n",
      "426/426 [==============================] - 0s 153us/sample - loss: 0.2448 - val_loss: 0.1294\n",
      "Epoch 42/600\n",
      "426/426 [==============================] - 0s 148us/sample - loss: 0.2277 - val_loss: 0.1320\n",
      "Epoch 43/600\n",
      "426/426 [==============================] - 0s 162us/sample - loss: 0.2150 - val_loss: 0.1421\n",
      "Epoch 44/600\n",
      "426/426 [==============================] - 0s 160us/sample - loss: 0.2338 - val_loss: 0.1300\n",
      "Epoch 45/600\n",
      "426/426 [==============================] - 0s 153us/sample - loss: 0.2211 - val_loss: 0.1209\n",
      "Epoch 46/600\n",
      "426/426 [==============================] - 0s 160us/sample - loss: 0.2129 - val_loss: 0.1202\n",
      "Epoch 47/600\n",
      "426/426 [==============================] - 0s 146us/sample - loss: 0.2116 - val_loss: 0.1236\n",
      "Epoch 48/600\n",
      "426/426 [==============================] - 0s 169us/sample - loss: 0.2080 - val_loss: 0.1193\n",
      "Epoch 49/600\n",
      "426/426 [==============================] - 0s 150us/sample - loss: 0.1759 - val_loss: 0.1132\n",
      "Epoch 50/600\n",
      "426/426 [==============================] - 0s 148us/sample - loss: 0.2162 - val_loss: 0.1109\n",
      "Epoch 51/600\n",
      "426/426 [==============================] - 0s 146us/sample - loss: 0.1905 - val_loss: 0.1209\n",
      "Epoch 52/600\n",
      "426/426 [==============================] - 0s 141us/sample - loss: 0.1844 - val_loss: 0.1079\n",
      "Epoch 53/600\n",
      "426/426 [==============================] - 0s 143us/sample - loss: 0.1910 - val_loss: 0.1005\n",
      "Epoch 54/600\n",
      "426/426 [==============================] - 0s 146us/sample - loss: 0.1759 - val_loss: 0.1036\n",
      "Epoch 55/600\n",
      "426/426 [==============================] - 0s 148us/sample - loss: 0.1693 - val_loss: 0.1038\n",
      "Epoch 56/600\n",
      "426/426 [==============================] - 0s 162us/sample - loss: 0.2059 - val_loss: 0.0976\n",
      "Epoch 57/600\n",
      "426/426 [==============================] - 0s 154us/sample - loss: 0.1915 - val_loss: 0.1017\n",
      "Epoch 58/600\n",
      "426/426 [==============================] - 0s 148us/sample - loss: 0.1654 - val_loss: 0.1014\n",
      "Epoch 59/600\n",
      "426/426 [==============================] - 0s 157us/sample - loss: 0.1724 - val_loss: 0.1041\n",
      "Epoch 60/600\n",
      "426/426 [==============================] - 0s 155us/sample - loss: 0.1759 - val_loss: 0.0945\n",
      "Epoch 61/600\n",
      "426/426 [==============================] - 0s 164us/sample - loss: 0.1530 - val_loss: 0.0989\n",
      "Epoch 62/600\n",
      "426/426 [==============================] - 0s 181us/sample - loss: 0.1477 - val_loss: 0.1173\n",
      "Epoch 63/600\n",
      "426/426 [==============================] - 0s 155us/sample - loss: 0.1670 - val_loss: 0.0907\n",
      "Epoch 64/600\n",
      "426/426 [==============================] - 0s 146us/sample - loss: 0.1682 - val_loss: 0.0960\n",
      "Epoch 65/600\n",
      "426/426 [==============================] - 0s 153us/sample - loss: 0.1399 - val_loss: 0.0973\n",
      "Epoch 66/600\n",
      "426/426 [==============================] - 0s 148us/sample - loss: 0.1605 - val_loss: 0.0924\n",
      "Epoch 67/600\n",
      "426/426 [==============================] - 0s 136us/sample - loss: 0.1529 - val_loss: 0.0904\n",
      "Epoch 68/600\n",
      "426/426 [==============================] - 0s 139us/sample - loss: 0.1634 - val_loss: 0.0989\n",
      "Epoch 69/600\n",
      "426/426 [==============================] - 0s 143us/sample - loss: 0.1627 - val_loss: 0.0890\n",
      "Epoch 70/600\n",
      "426/426 [==============================] - 0s 146us/sample - loss: 0.1519 - val_loss: 0.0927\n",
      "Epoch 71/600\n",
      "426/426 [==============================] - 0s 155us/sample - loss: 0.1598 - val_loss: 0.0888\n",
      "Epoch 72/600\n",
      "426/426 [==============================] - 0s 162us/sample - loss: 0.1223 - val_loss: 0.0835\n",
      "Epoch 73/600\n",
      "426/426 [==============================] - 0s 169us/sample - loss: 0.1626 - val_loss: 0.0889\n",
      "Epoch 74/600\n",
      "426/426 [==============================] - 0s 148us/sample - loss: 0.1437 - val_loss: 0.0848\n",
      "Epoch 75/600\n",
      "426/426 [==============================] - 0s 150us/sample - loss: 0.1395 - val_loss: 0.0940\n",
      "Epoch 76/600\n",
      "426/426 [==============================] - 0s 155us/sample - loss: 0.1264 - val_loss: 0.0932\n",
      "Epoch 77/600\n",
      "426/426 [==============================] - 0s 153us/sample - loss: 0.1409 - val_loss: 0.0848\n"
     ]
    },
    {
     "name": "stdout",
     "output_type": "stream",
     "text": [
      "Epoch 78/600\n",
      "426/426 [==============================] - 0s 153us/sample - loss: 0.1491 - val_loss: 0.0839\n",
      "Epoch 79/600\n",
      "426/426 [==============================] - 0s 157us/sample - loss: 0.1493 - val_loss: 0.0904\n",
      "Epoch 80/600\n",
      "426/426 [==============================] - 0s 150us/sample - loss: 0.1480 - val_loss: 0.0875\n",
      "Epoch 81/600\n",
      "426/426 [==============================] - 0s 148us/sample - loss: 0.1503 - val_loss: 0.0822\n",
      "Epoch 82/600\n",
      "426/426 [==============================] - 0s 148us/sample - loss: 0.1280 - val_loss: 0.0844\n",
      "Epoch 83/600\n",
      "426/426 [==============================] - 0s 155us/sample - loss: 0.1297 - val_loss: 0.0899\n",
      "Epoch 84/600\n",
      "426/426 [==============================] - 0s 153us/sample - loss: 0.1348 - val_loss: 0.0855\n",
      "Epoch 85/600\n",
      "426/426 [==============================] - 0s 167us/sample - loss: 0.1254 - val_loss: 0.0835\n",
      "Epoch 86/600\n",
      "426/426 [==============================] - 0s 150us/sample - loss: 0.1282 - val_loss: 0.0986\n",
      "Epoch 87/600\n",
      "426/426 [==============================] - 0s 148us/sample - loss: 0.1090 - val_loss: 0.0828\n",
      "Epoch 88/600\n",
      "426/426 [==============================] - 0s 141us/sample - loss: 0.1262 - val_loss: 0.0803\n",
      "Epoch 89/600\n",
      "426/426 [==============================] - 0s 153us/sample - loss: 0.1463 - val_loss: 0.0888\n",
      "Epoch 90/600\n",
      "426/426 [==============================] - 0s 155us/sample - loss: 0.1226 - val_loss: 0.0981\n",
      "Epoch 91/600\n",
      "426/426 [==============================] - 0s 150us/sample - loss: 0.1109 - val_loss: 0.0867\n",
      "Epoch 92/600\n",
      "426/426 [==============================] - 0s 155us/sample - loss: 0.1388 - val_loss: 0.0818\n",
      "Epoch 93/600\n",
      "426/426 [==============================] - 0s 148us/sample - loss: 0.1182 - val_loss: 0.0753\n",
      "Epoch 94/600\n",
      "426/426 [==============================] - 0s 183us/sample - loss: 0.1122 - val_loss: 0.0763\n",
      "Epoch 95/600\n",
      "426/426 [==============================] - 0s 171us/sample - loss: 0.1231 - val_loss: 0.0844\n",
      "Epoch 96/600\n",
      "426/426 [==============================] - 0s 171us/sample - loss: 0.1362 - val_loss: 0.0802\n",
      "Epoch 97/600\n",
      "426/426 [==============================] - 0s 143us/sample - loss: 0.1377 - val_loss: 0.0797\n",
      "Epoch 98/600\n",
      "426/426 [==============================] - 0s 139us/sample - loss: 0.1270 - val_loss: 0.0825\n",
      "Epoch 99/600\n",
      "426/426 [==============================] - 0s 136us/sample - loss: 0.1121 - val_loss: 0.0792\n",
      "Epoch 100/600\n",
      "426/426 [==============================] - 0s 143us/sample - loss: 0.1215 - val_loss: 0.0757\n",
      "Epoch 101/600\n",
      "426/426 [==============================] - 0s 150us/sample - loss: 0.1218 - val_loss: 0.0764\n",
      "Epoch 102/600\n",
      "426/426 [==============================] - 0s 141us/sample - loss: 0.1103 - val_loss: 0.0833\n",
      "Epoch 103/600\n",
      "426/426 [==============================] - 0s 146us/sample - loss: 0.1022 - val_loss: 0.0763\n",
      "Epoch 104/600\n",
      "426/426 [==============================] - 0s 150us/sample - loss: 0.1080 - val_loss: 0.0755\n",
      "Epoch 105/600\n",
      "426/426 [==============================] - 0s 160us/sample - loss: 0.1296 - val_loss: 0.0815\n",
      "Epoch 106/600\n",
      "426/426 [==============================] - 0s 155us/sample - loss: 0.1227 - val_loss: 0.0798\n",
      "Epoch 107/600\n",
      "426/426 [==============================] - 0s 164us/sample - loss: 0.1013 - val_loss: 0.0753\n",
      "Epoch 108/600\n",
      "426/426 [==============================] - 0s 150us/sample - loss: 0.1034 - val_loss: 0.0928\n",
      "Epoch 109/600\n",
      "426/426 [==============================] - 0s 150us/sample - loss: 0.1241 - val_loss: 0.0796\n",
      "Epoch 110/600\n",
      "426/426 [==============================] - 0s 160us/sample - loss: 0.1296 - val_loss: 0.0781\n",
      "Epoch 111/600\n",
      "426/426 [==============================] - 0s 148us/sample - loss: 0.0914 - val_loss: 0.0844\n",
      "Epoch 112/600\n",
      "426/426 [==============================] - 0s 148us/sample - loss: 0.1048 - val_loss: 0.0755\n",
      "Epoch 113/600\n",
      "426/426 [==============================] - 0s 146us/sample - loss: 0.1149 - val_loss: 0.0831\n",
      "Epoch 114/600\n",
      "426/426 [==============================] - 0s 155us/sample - loss: 0.1246 - val_loss: 0.0943\n",
      "Epoch 115/600\n",
      "426/426 [==============================] - 0s 153us/sample - loss: 0.1039 - val_loss: 0.0747\n",
      "Epoch 116/600\n",
      "426/426 [==============================] - 0s 150us/sample - loss: 0.0971 - val_loss: 0.0745\n",
      "Epoch 117/600\n",
      "426/426 [==============================] - 0s 148us/sample - loss: 0.0907 - val_loss: 0.0808\n",
      "Epoch 118/600\n",
      "426/426 [==============================] - 0s 157us/sample - loss: 0.0920 - val_loss: 0.0751\n",
      "Epoch 119/600\n",
      "426/426 [==============================] - 0s 174us/sample - loss: 0.0947 - val_loss: 0.0788\n",
      "Epoch 120/600\n",
      "426/426 [==============================] - 0s 162us/sample - loss: 0.1165 - val_loss: 0.0785\n",
      "Epoch 121/600\n",
      "426/426 [==============================] - 0s 148us/sample - loss: 0.1075 - val_loss: 0.0799\n",
      "Epoch 122/600\n",
      "426/426 [==============================] - 0s 148us/sample - loss: 0.1067 - val_loss: 0.0894\n",
      "Epoch 123/600\n",
      "426/426 [==============================] - 0s 157us/sample - loss: 0.1233 - val_loss: 0.0717\n",
      "Epoch 124/600\n",
      "426/426 [==============================] - 0s 153us/sample - loss: 0.0729 - val_loss: 0.1030\n",
      "Epoch 125/600\n",
      "426/426 [==============================] - 0s 146us/sample - loss: 0.1227 - val_loss: 0.0762\n",
      "Epoch 126/600\n",
      "426/426 [==============================] - 0s 176us/sample - loss: 0.0997 - val_loss: 0.0744\n",
      "Epoch 127/600\n",
      "426/426 [==============================] - 0s 155us/sample - loss: 0.0966 - val_loss: 0.0741\n",
      "Epoch 128/600\n",
      "426/426 [==============================] - 0s 146us/sample - loss: 0.0922 - val_loss: 0.0780\n",
      "Epoch 129/600\n",
      "426/426 [==============================] - 0s 141us/sample - loss: 0.1129 - val_loss: 0.0771\n",
      "Epoch 130/600\n",
      "426/426 [==============================] - 0s 143us/sample - loss: 0.0894 - val_loss: 0.0767\n",
      "Epoch 131/600\n",
      "426/426 [==============================] - 0s 150us/sample - loss: 0.1041 - val_loss: 0.0792\n",
      "Epoch 132/600\n",
      "426/426 [==============================] - 0s 153us/sample - loss: 0.0871 - val_loss: 0.0762\n",
      "Epoch 133/600\n",
      "426/426 [==============================] - 0s 148us/sample - loss: 0.0992 - val_loss: 0.0949\n",
      "Epoch 134/600\n",
      "426/426 [==============================] - 0s 143us/sample - loss: 0.1042 - val_loss: 0.0722\n",
      "Epoch 135/600\n",
      "426/426 [==============================] - 0s 148us/sample - loss: 0.1210 - val_loss: 0.0842\n",
      "Epoch 136/600\n",
      "426/426 [==============================] - 0s 164us/sample - loss: 0.0876 - val_loss: 0.0798\n",
      "Epoch 137/600\n",
      "426/426 [==============================] - 0s 145us/sample - loss: 0.0984 - val_loss: 0.0746\n",
      "Epoch 138/600\n",
      "426/426 [==============================] - 0s 146us/sample - loss: 0.1012 - val_loss: 0.0812\n",
      "Epoch 139/600\n",
      "426/426 [==============================] - 0s 150us/sample - loss: 0.1046 - val_loss: 0.0816\n",
      "Epoch 140/600\n",
      "426/426 [==============================] - 0s 162us/sample - loss: 0.0889 - val_loss: 0.0802\n",
      "Epoch 141/600\n",
      "426/426 [==============================] - 0s 189us/sample - loss: 0.1086 - val_loss: 0.0742\n",
      "Epoch 142/600\n",
      "426/426 [==============================] - 0s 167us/sample - loss: 0.0790 - val_loss: 0.0739\n",
      "Epoch 143/600\n",
      "426/426 [==============================] - 0s 169us/sample - loss: 0.0895 - val_loss: 0.0843\n",
      "Epoch 144/600\n",
      "426/426 [==============================] - 0s 190us/sample - loss: 0.1112 - val_loss: 0.0837\n",
      "Epoch 145/600\n",
      "426/426 [==============================] - 0s 164us/sample - loss: 0.1010 - val_loss: 0.0891\n",
      "Epoch 146/600\n",
      "426/426 [==============================] - 0s 171us/sample - loss: 0.1096 - val_loss: 0.0699\n",
      "Epoch 147/600\n",
      "426/426 [==============================] - 0s 148us/sample - loss: 0.0908 - val_loss: 0.0769\n",
      "Epoch 148/600\n",
      "426/426 [==============================] - 0s 139us/sample - loss: 0.1015 - val_loss: 0.0788\n",
      "Epoch 149/600\n",
      "426/426 [==============================] - 0s 178us/sample - loss: 0.0966 - val_loss: 0.0674\n",
      "Epoch 150/600\n",
      "426/426 [==============================] - 0s 170us/sample - loss: 0.0895 - val_loss: 0.0896\n",
      "Epoch 151/600\n",
      "426/426 [==============================] - 0s 141us/sample - loss: 0.1001 - val_loss: 0.0796\n",
      "Epoch 152/600\n",
      "426/426 [==============================] - 0s 143us/sample - loss: 0.0810 - val_loss: 0.0718\n",
      "Epoch 153/600\n",
      "426/426 [==============================] - 0s 160us/sample - loss: 0.1001 - val_loss: 0.0780\n",
      "Epoch 154/600\n",
      "426/426 [==============================] - 0s 155us/sample - loss: 0.0861 - val_loss: 0.0763\n"
     ]
    },
    {
     "name": "stdout",
     "output_type": "stream",
     "text": [
      "Epoch 155/600\n",
      "426/426 [==============================] - 0s 144us/sample - loss: 0.1017 - val_loss: 0.0762\n",
      "Epoch 156/600\n",
      "426/426 [==============================] - 0s 143us/sample - loss: 0.0917 - val_loss: 0.0730\n",
      "Epoch 157/600\n",
      "426/426 [==============================] - 0s 190us/sample - loss: 0.0831 - val_loss: 0.0858\n",
      "Epoch 158/600\n",
      "426/426 [==============================] - 0s 160us/sample - loss: 0.0874 - val_loss: 0.1039\n",
      "Epoch 159/600\n",
      "426/426 [==============================] - 0s 155us/sample - loss: 0.0821 - val_loss: 0.0768\n",
      "Epoch 160/600\n",
      "426/426 [==============================] - 0s 168us/sample - loss: 0.1042 - val_loss: 0.0755\n",
      "Epoch 161/600\n",
      "426/426 [==============================] - 0s 161us/sample - loss: 0.0959 - val_loss: 0.0729\n",
      "Epoch 162/600\n",
      "426/426 [==============================] - 0s 155us/sample - loss: 0.0793 - val_loss: 0.0689\n",
      "Epoch 163/600\n",
      "426/426 [==============================] - 0s 153us/sample - loss: 0.0919 - val_loss: 0.0690\n",
      "Epoch 164/600\n",
      "426/426 [==============================] - 0s 213us/sample - loss: 0.0705 - val_loss: 0.0756\n",
      "Epoch 165/600\n",
      "426/426 [==============================] - 0s 154us/sample - loss: 0.0773 - val_loss: 0.0886\n",
      "Epoch 166/600\n",
      "426/426 [==============================] - 0s 146us/sample - loss: 0.0856 - val_loss: 0.0792\n",
      "Epoch 167/600\n",
      "426/426 [==============================] - 0s 153us/sample - loss: 0.0807 - val_loss: 0.0718\n",
      "Epoch 168/600\n",
      "426/426 [==============================] - 0s 153us/sample - loss: 0.0751 - val_loss: 0.0733\n",
      "Epoch 169/600\n",
      "426/426 [==============================] - 0s 170us/sample - loss: 0.0868 - val_loss: 0.1014\n",
      "Epoch 170/600\n",
      "426/426 [==============================] - 0s 149us/sample - loss: 0.0966 - val_loss: 0.0949\n",
      "Epoch 171/600\n",
      "426/426 [==============================] - 0s 153us/sample - loss: 0.0943 - val_loss: 0.0701\n",
      "Epoch 172/600\n",
      "426/426 [==============================] - 0s 155us/sample - loss: 0.0887 - val_loss: 0.0782\n",
      "Epoch 173/600\n",
      "426/426 [==============================] - 0s 153us/sample - loss: 0.0772 - val_loss: 0.0792\n",
      "Epoch 174/600\n",
      "426/426 [==============================] - 0s 178us/sample - loss: 0.0784 - val_loss: 0.0822\n",
      "Epoch 00174: early stopping\n"
     ]
    },
    {
     "data": {
      "text/plain": [
       "<tensorflow.python.keras.callbacks.History at 0x27fc088d3c8>"
      ]
     },
     "execution_count": 20,
     "metadata": {},
     "output_type": "execute_result"
    }
   ],
   "source": [
    "model.fit(x=X_train, \n",
    "          y=y_train, \n",
    "          epochs=600,\n",
    "          validation_data=(X_test, y_test), verbose=1,\n",
    "          callbacks=[early_stop,board]\n",
    "          )"
   ]
  },
  {
   "cell_type": "markdown",
   "metadata": {},
   "source": [
    "# Running Tensorboard\n"
   ]
  },
  {
   "cell_type": "markdown",
   "metadata": {},
   "source": [
    "## Running through the Command Line\n",
    "\n",
    "**Watch video to see how to run Tensorboard through a command line call.**"
   ]
  },
  {
   "cell_type": "markdown",
   "metadata": {},
   "source": [
    "Tensorboard will run locally in your browser at [http://localhost:6006/](http://localhost:6006/)\n"
   ]
  },
  {
   "cell_type": "code",
   "execution_count": 19,
   "metadata": {},
   "outputs": [
    {
     "name": "stdout",
     "output_type": "stream",
     "text": [
      "logs\\fit\n"
     ]
    }
   ],
   "source": [
    "print(log_directory)"
   ]
  },
  {
   "cell_type": "code",
   "execution_count": 20,
   "metadata": {},
   "outputs": [
    {
     "data": {
      "text/plain": [
       "'C:\\\\Users\\\\Marcial\\\\Pierian-Data-Courses\\\\TensorFlow-Two-Bootcamp\\\\03-ANNs'"
      ]
     },
     "execution_count": 20,
     "metadata": {},
     "output_type": "execute_result"
    }
   ],
   "source": [
    "pwd"
   ]
  },
  {
   "cell_type": "markdown",
   "metadata": {},
   "source": [
    "### Use cd at your command line to change directory to the file path reported back by pwd or your current .py file location.\n",
    "### Then run this code at your command line or terminal"
   ]
  },
  {
   "cell_type": "code",
   "execution_count": null,
   "metadata": {},
   "outputs": [],
   "source": [
    "tensorboard --logdir logs\\fit "
   ]
  }
 ],
 "metadata": {
  "kernelspec": {
   "display_name": "Python 3",
   "language": "python",
   "name": "python3"
  },
  "language_info": {
   "codemirror_mode": {
    "name": "ipython",
    "version": 3
   },
   "file_extension": ".py",
   "mimetype": "text/x-python",
   "name": "python",
   "nbconvert_exporter": "python",
   "pygments_lexer": "ipython3",
   "version": "3.6.10"
  }
 },
 "nbformat": 4,
 "nbformat_minor": 2
}
